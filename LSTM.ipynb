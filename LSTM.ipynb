{
  "nbformat": 4,
  "nbformat_minor": 0,
  "metadata": {
    "colab": {
      "name": "LSTM.ipynb",
      "provenance": [],
      "collapsed_sections": [],
      "authorship_tag": "ABX9TyO50NIVyC2D7O3/uc0Ojx6Q"
    },
    "kernelspec": {
      "name": "python3",
      "display_name": "Python 3"
    },
    "widgets": {
      "application/vnd.jupyter.widget-state+json": {
        "92fcfb280aeb4b3bbd0aac5221c26a8e": {
          "model_module": "@jupyter-widgets/controls",
          "model_name": "HBoxModel",
          "state": {
            "_view_name": "HBoxView",
            "_dom_classes": [],
            "_model_name": "HBoxModel",
            "_view_module": "@jupyter-widgets/controls",
            "_model_module_version": "1.5.0",
            "_view_count": null,
            "_view_module_version": "1.5.0",
            "box_style": "",
            "layout": "IPY_MODEL_9aced09e3aee42babd96a3e2f3cb4d6d",
            "_model_module": "@jupyter-widgets/controls",
            "children": [
              "IPY_MODEL_c0ed9247b7b44a9da4b49b02c4cf50f9",
              "IPY_MODEL_d044f2637fa74674a0855a7376a11bf8"
            ]
          }
        },
        "9aced09e3aee42babd96a3e2f3cb4d6d": {
          "model_module": "@jupyter-widgets/base",
          "model_name": "LayoutModel",
          "state": {
            "_view_name": "LayoutView",
            "grid_template_rows": null,
            "right": null,
            "justify_content": null,
            "_view_module": "@jupyter-widgets/base",
            "overflow": null,
            "_model_module_version": "1.2.0",
            "_view_count": null,
            "flex_flow": null,
            "width": null,
            "min_width": null,
            "border": null,
            "align_items": null,
            "bottom": null,
            "_model_module": "@jupyter-widgets/base",
            "top": null,
            "grid_column": null,
            "overflow_y": null,
            "overflow_x": null,
            "grid_auto_flow": null,
            "grid_area": null,
            "grid_template_columns": null,
            "flex": null,
            "_model_name": "LayoutModel",
            "justify_items": null,
            "grid_row": null,
            "max_height": null,
            "align_content": null,
            "visibility": null,
            "align_self": null,
            "height": null,
            "min_height": null,
            "padding": null,
            "grid_auto_rows": null,
            "grid_gap": null,
            "max_width": null,
            "order": null,
            "_view_module_version": "1.2.0",
            "grid_template_areas": null,
            "object_position": null,
            "object_fit": null,
            "grid_auto_columns": null,
            "margin": null,
            "display": null,
            "left": null
          }
        },
        "c0ed9247b7b44a9da4b49b02c4cf50f9": {
          "model_module": "@jupyter-widgets/controls",
          "model_name": "IntProgressModel",
          "state": {
            "_view_name": "ProgressView",
            "style": "IPY_MODEL_b1c9034d54e84891af2c54125da2e6b7",
            "_dom_classes": [],
            "description": "100%",
            "_model_name": "IntProgressModel",
            "bar_style": "success",
            "max": 962,
            "_view_module": "@jupyter-widgets/controls",
            "_model_module_version": "1.5.0",
            "value": 962,
            "_view_count": null,
            "_view_module_version": "1.5.0",
            "orientation": "horizontal",
            "min": 0,
            "description_tooltip": null,
            "_model_module": "@jupyter-widgets/controls",
            "layout": "IPY_MODEL_eb4cf02147204785af8d3d5aa6510543"
          }
        },
        "d044f2637fa74674a0855a7376a11bf8": {
          "model_module": "@jupyter-widgets/controls",
          "model_name": "HTMLModel",
          "state": {
            "_view_name": "HTMLView",
            "style": "IPY_MODEL_aaf75488ae95401d9c823373a6d934d4",
            "_dom_classes": [],
            "description": "",
            "_model_name": "HTMLModel",
            "placeholder": "​",
            "_view_module": "@jupyter-widgets/controls",
            "_model_module_version": "1.5.0",
            "value": " 962/962 [00:00&lt;00:00, 19003.42it/s]",
            "_view_count": null,
            "_view_module_version": "1.5.0",
            "description_tooltip": null,
            "_model_module": "@jupyter-widgets/controls",
            "layout": "IPY_MODEL_4c3e9af8501c4e41b2aae946e879d968"
          }
        },
        "b1c9034d54e84891af2c54125da2e6b7": {
          "model_module": "@jupyter-widgets/controls",
          "model_name": "ProgressStyleModel",
          "state": {
            "_view_name": "StyleView",
            "_model_name": "ProgressStyleModel",
            "description_width": "initial",
            "_view_module": "@jupyter-widgets/base",
            "_model_module_version": "1.5.0",
            "_view_count": null,
            "_view_module_version": "1.2.0",
            "bar_color": null,
            "_model_module": "@jupyter-widgets/controls"
          }
        },
        "eb4cf02147204785af8d3d5aa6510543": {
          "model_module": "@jupyter-widgets/base",
          "model_name": "LayoutModel",
          "state": {
            "_view_name": "LayoutView",
            "grid_template_rows": null,
            "right": null,
            "justify_content": null,
            "_view_module": "@jupyter-widgets/base",
            "overflow": null,
            "_model_module_version": "1.2.0",
            "_view_count": null,
            "flex_flow": null,
            "width": null,
            "min_width": null,
            "border": null,
            "align_items": null,
            "bottom": null,
            "_model_module": "@jupyter-widgets/base",
            "top": null,
            "grid_column": null,
            "overflow_y": null,
            "overflow_x": null,
            "grid_auto_flow": null,
            "grid_area": null,
            "grid_template_columns": null,
            "flex": null,
            "_model_name": "LayoutModel",
            "justify_items": null,
            "grid_row": null,
            "max_height": null,
            "align_content": null,
            "visibility": null,
            "align_self": null,
            "height": null,
            "min_height": null,
            "padding": null,
            "grid_auto_rows": null,
            "grid_gap": null,
            "max_width": null,
            "order": null,
            "_view_module_version": "1.2.0",
            "grid_template_areas": null,
            "object_position": null,
            "object_fit": null,
            "grid_auto_columns": null,
            "margin": null,
            "display": null,
            "left": null
          }
        },
        "aaf75488ae95401d9c823373a6d934d4": {
          "model_module": "@jupyter-widgets/controls",
          "model_name": "DescriptionStyleModel",
          "state": {
            "_view_name": "StyleView",
            "_model_name": "DescriptionStyleModel",
            "description_width": "",
            "_view_module": "@jupyter-widgets/base",
            "_model_module_version": "1.5.0",
            "_view_count": null,
            "_view_module_version": "1.2.0",
            "_model_module": "@jupyter-widgets/controls"
          }
        },
        "4c3e9af8501c4e41b2aae946e879d968": {
          "model_module": "@jupyter-widgets/base",
          "model_name": "LayoutModel",
          "state": {
            "_view_name": "LayoutView",
            "grid_template_rows": null,
            "right": null,
            "justify_content": null,
            "_view_module": "@jupyter-widgets/base",
            "overflow": null,
            "_model_module_version": "1.2.0",
            "_view_count": null,
            "flex_flow": null,
            "width": null,
            "min_width": null,
            "border": null,
            "align_items": null,
            "bottom": null,
            "_model_module": "@jupyter-widgets/base",
            "top": null,
            "grid_column": null,
            "overflow_y": null,
            "overflow_x": null,
            "grid_auto_flow": null,
            "grid_area": null,
            "grid_template_columns": null,
            "flex": null,
            "_model_name": "LayoutModel",
            "justify_items": null,
            "grid_row": null,
            "max_height": null,
            "align_content": null,
            "visibility": null,
            "align_self": null,
            "height": null,
            "min_height": null,
            "padding": null,
            "grid_auto_rows": null,
            "grid_gap": null,
            "max_width": null,
            "order": null,
            "_view_module_version": "1.2.0",
            "grid_template_areas": null,
            "object_position": null,
            "object_fit": null,
            "grid_auto_columns": null,
            "margin": null,
            "display": null,
            "left": null
          }
        },
        "ca095083e29246429f1619d3a21f8ef5": {
          "model_module": "@jupyter-widgets/controls",
          "model_name": "HBoxModel",
          "state": {
            "_view_name": "HBoxView",
            "_dom_classes": [],
            "_model_name": "HBoxModel",
            "_view_module": "@jupyter-widgets/controls",
            "_model_module_version": "1.5.0",
            "_view_count": null,
            "_view_module_version": "1.5.0",
            "box_style": "",
            "layout": "IPY_MODEL_06651e06fed749389388268bcefc196b",
            "_model_module": "@jupyter-widgets/controls",
            "children": [
              "IPY_MODEL_f3bfc350427f427aba2cc4bbd4fcbbfc",
              "IPY_MODEL_a253a78b700847a9ad57874e211f78c3"
            ]
          }
        },
        "06651e06fed749389388268bcefc196b": {
          "model_module": "@jupyter-widgets/base",
          "model_name": "LayoutModel",
          "state": {
            "_view_name": "LayoutView",
            "grid_template_rows": null,
            "right": null,
            "justify_content": null,
            "_view_module": "@jupyter-widgets/base",
            "overflow": null,
            "_model_module_version": "1.2.0",
            "_view_count": null,
            "flex_flow": null,
            "width": null,
            "min_width": null,
            "border": null,
            "align_items": null,
            "bottom": null,
            "_model_module": "@jupyter-widgets/base",
            "top": null,
            "grid_column": null,
            "overflow_y": null,
            "overflow_x": null,
            "grid_auto_flow": null,
            "grid_area": null,
            "grid_template_columns": null,
            "flex": null,
            "_model_name": "LayoutModel",
            "justify_items": null,
            "grid_row": null,
            "max_height": null,
            "align_content": null,
            "visibility": null,
            "align_self": null,
            "height": null,
            "min_height": null,
            "padding": null,
            "grid_auto_rows": null,
            "grid_gap": null,
            "max_width": null,
            "order": null,
            "_view_module_version": "1.2.0",
            "grid_template_areas": null,
            "object_position": null,
            "object_fit": null,
            "grid_auto_columns": null,
            "margin": null,
            "display": null,
            "left": null
          }
        },
        "f3bfc350427f427aba2cc4bbd4fcbbfc": {
          "model_module": "@jupyter-widgets/controls",
          "model_name": "IntProgressModel",
          "state": {
            "_view_name": "ProgressView",
            "style": "IPY_MODEL_186443af046845f1a8777a121790ef14",
            "_dom_classes": [],
            "description": "100%",
            "_model_name": "IntProgressModel",
            "bar_style": "success",
            "max": 196,
            "_view_module": "@jupyter-widgets/controls",
            "_model_module_version": "1.5.0",
            "value": 196,
            "_view_count": null,
            "_view_module_version": "1.5.0",
            "orientation": "horizontal",
            "min": 0,
            "description_tooltip": null,
            "_model_module": "@jupyter-widgets/controls",
            "layout": "IPY_MODEL_4934df8c343a43f4b67e7ec091b88f30"
          }
        },
        "a253a78b700847a9ad57874e211f78c3": {
          "model_module": "@jupyter-widgets/controls",
          "model_name": "HTMLModel",
          "state": {
            "_view_name": "HTMLView",
            "style": "IPY_MODEL_56e884cea633409da1559af2a9ed88d9",
            "_dom_classes": [],
            "description": "",
            "_model_name": "HTMLModel",
            "placeholder": "​",
            "_view_module": "@jupyter-widgets/controls",
            "_model_module_version": "1.5.0",
            "value": " 196/196 [00:20&lt;00:00,  9.77it/s]",
            "_view_count": null,
            "_view_module_version": "1.5.0",
            "description_tooltip": null,
            "_model_module": "@jupyter-widgets/controls",
            "layout": "IPY_MODEL_daa8088754a64da6a31fa62389db75f4"
          }
        },
        "186443af046845f1a8777a121790ef14": {
          "model_module": "@jupyter-widgets/controls",
          "model_name": "ProgressStyleModel",
          "state": {
            "_view_name": "StyleView",
            "_model_name": "ProgressStyleModel",
            "description_width": "initial",
            "_view_module": "@jupyter-widgets/base",
            "_model_module_version": "1.5.0",
            "_view_count": null,
            "_view_module_version": "1.2.0",
            "bar_color": null,
            "_model_module": "@jupyter-widgets/controls"
          }
        },
        "4934df8c343a43f4b67e7ec091b88f30": {
          "model_module": "@jupyter-widgets/base",
          "model_name": "LayoutModel",
          "state": {
            "_view_name": "LayoutView",
            "grid_template_rows": null,
            "right": null,
            "justify_content": null,
            "_view_module": "@jupyter-widgets/base",
            "overflow": null,
            "_model_module_version": "1.2.0",
            "_view_count": null,
            "flex_flow": null,
            "width": null,
            "min_width": null,
            "border": null,
            "align_items": null,
            "bottom": null,
            "_model_module": "@jupyter-widgets/base",
            "top": null,
            "grid_column": null,
            "overflow_y": null,
            "overflow_x": null,
            "grid_auto_flow": null,
            "grid_area": null,
            "grid_template_columns": null,
            "flex": null,
            "_model_name": "LayoutModel",
            "justify_items": null,
            "grid_row": null,
            "max_height": null,
            "align_content": null,
            "visibility": null,
            "align_self": null,
            "height": null,
            "min_height": null,
            "padding": null,
            "grid_auto_rows": null,
            "grid_gap": null,
            "max_width": null,
            "order": null,
            "_view_module_version": "1.2.0",
            "grid_template_areas": null,
            "object_position": null,
            "object_fit": null,
            "grid_auto_columns": null,
            "margin": null,
            "display": null,
            "left": null
          }
        },
        "56e884cea633409da1559af2a9ed88d9": {
          "model_module": "@jupyter-widgets/controls",
          "model_name": "DescriptionStyleModel",
          "state": {
            "_view_name": "StyleView",
            "_model_name": "DescriptionStyleModel",
            "description_width": "",
            "_view_module": "@jupyter-widgets/base",
            "_model_module_version": "1.5.0",
            "_view_count": null,
            "_view_module_version": "1.2.0",
            "_model_module": "@jupyter-widgets/controls"
          }
        },
        "daa8088754a64da6a31fa62389db75f4": {
          "model_module": "@jupyter-widgets/base",
          "model_name": "LayoutModel",
          "state": {
            "_view_name": "LayoutView",
            "grid_template_rows": null,
            "right": null,
            "justify_content": null,
            "_view_module": "@jupyter-widgets/base",
            "overflow": null,
            "_model_module_version": "1.2.0",
            "_view_count": null,
            "flex_flow": null,
            "width": null,
            "min_width": null,
            "border": null,
            "align_items": null,
            "bottom": null,
            "_model_module": "@jupyter-widgets/base",
            "top": null,
            "grid_column": null,
            "overflow_y": null,
            "overflow_x": null,
            "grid_auto_flow": null,
            "grid_area": null,
            "grid_template_columns": null,
            "flex": null,
            "_model_name": "LayoutModel",
            "justify_items": null,
            "grid_row": null,
            "max_height": null,
            "align_content": null,
            "visibility": null,
            "align_self": null,
            "height": null,
            "min_height": null,
            "padding": null,
            "grid_auto_rows": null,
            "grid_gap": null,
            "max_width": null,
            "order": null,
            "_view_module_version": "1.2.0",
            "grid_template_areas": null,
            "object_position": null,
            "object_fit": null,
            "grid_auto_columns": null,
            "margin": null,
            "display": null,
            "left": null
          }
        },
        "e4ac2dd4073e46eeb67d3033cbbf01d5": {
          "model_module": "@jupyter-widgets/controls",
          "model_name": "HBoxModel",
          "state": {
            "_view_name": "HBoxView",
            "_dom_classes": [],
            "_model_name": "HBoxModel",
            "_view_module": "@jupyter-widgets/controls",
            "_model_module_version": "1.5.0",
            "_view_count": null,
            "_view_module_version": "1.5.0",
            "box_style": "",
            "layout": "IPY_MODEL_808569775fca4e60b38363eab2ab4547",
            "_model_module": "@jupyter-widgets/controls",
            "children": [
              "IPY_MODEL_dd975c4b836249a58dd0e8f860fee34f",
              "IPY_MODEL_ba55b8a5216247f998fc36ed0ba8b48a"
            ]
          }
        },
        "808569775fca4e60b38363eab2ab4547": {
          "model_module": "@jupyter-widgets/base",
          "model_name": "LayoutModel",
          "state": {
            "_view_name": "LayoutView",
            "grid_template_rows": null,
            "right": null,
            "justify_content": null,
            "_view_module": "@jupyter-widgets/base",
            "overflow": null,
            "_model_module_version": "1.2.0",
            "_view_count": null,
            "flex_flow": null,
            "width": null,
            "min_width": null,
            "border": null,
            "align_items": null,
            "bottom": null,
            "_model_module": "@jupyter-widgets/base",
            "top": null,
            "grid_column": null,
            "overflow_y": null,
            "overflow_x": null,
            "grid_auto_flow": null,
            "grid_area": null,
            "grid_template_columns": null,
            "flex": null,
            "_model_name": "LayoutModel",
            "justify_items": null,
            "grid_row": null,
            "max_height": null,
            "align_content": null,
            "visibility": null,
            "align_self": null,
            "height": null,
            "min_height": null,
            "padding": null,
            "grid_auto_rows": null,
            "grid_gap": null,
            "max_width": null,
            "order": null,
            "_view_module_version": "1.2.0",
            "grid_template_areas": null,
            "object_position": null,
            "object_fit": null,
            "grid_auto_columns": null,
            "margin": null,
            "display": null,
            "left": null
          }
        },
        "dd975c4b836249a58dd0e8f860fee34f": {
          "model_module": "@jupyter-widgets/controls",
          "model_name": "IntProgressModel",
          "state": {
            "_view_name": "ProgressView",
            "style": "IPY_MODEL_841933a40c514950886c9943e7cc9ed0",
            "_dom_classes": [],
            "description": "100%",
            "_model_name": "IntProgressModel",
            "bar_style": "success",
            "max": 1200,
            "_view_module": "@jupyter-widgets/controls",
            "_model_module_version": "1.5.0",
            "value": 1200,
            "_view_count": null,
            "_view_module_version": "1.5.0",
            "orientation": "horizontal",
            "min": 0,
            "description_tooltip": null,
            "_model_module": "@jupyter-widgets/controls",
            "layout": "IPY_MODEL_b7646a8ad2ea4564af98c4687c756cca"
          }
        },
        "ba55b8a5216247f998fc36ed0ba8b48a": {
          "model_module": "@jupyter-widgets/controls",
          "model_name": "HTMLModel",
          "state": {
            "_view_name": "HTMLView",
            "style": "IPY_MODEL_940d55e73b02479ca99ea5197b87dec3",
            "_dom_classes": [],
            "description": "",
            "_model_name": "HTMLModel",
            "placeholder": "​",
            "_view_module": "@jupyter-widgets/controls",
            "_model_module_version": "1.5.0",
            "value": " 1200/1200 [00:20&lt;00:00, 59.95it/s]",
            "_view_count": null,
            "_view_module_version": "1.5.0",
            "description_tooltip": null,
            "_model_module": "@jupyter-widgets/controls",
            "layout": "IPY_MODEL_91c77134b4ba4796aec833b454a4c61c"
          }
        },
        "841933a40c514950886c9943e7cc9ed0": {
          "model_module": "@jupyter-widgets/controls",
          "model_name": "ProgressStyleModel",
          "state": {
            "_view_name": "StyleView",
            "_model_name": "ProgressStyleModel",
            "description_width": "initial",
            "_view_module": "@jupyter-widgets/base",
            "_model_module_version": "1.5.0",
            "_view_count": null,
            "_view_module_version": "1.2.0",
            "bar_color": null,
            "_model_module": "@jupyter-widgets/controls"
          }
        },
        "b7646a8ad2ea4564af98c4687c756cca": {
          "model_module": "@jupyter-widgets/base",
          "model_name": "LayoutModel",
          "state": {
            "_view_name": "LayoutView",
            "grid_template_rows": null,
            "right": null,
            "justify_content": null,
            "_view_module": "@jupyter-widgets/base",
            "overflow": null,
            "_model_module_version": "1.2.0",
            "_view_count": null,
            "flex_flow": null,
            "width": null,
            "min_width": null,
            "border": null,
            "align_items": null,
            "bottom": null,
            "_model_module": "@jupyter-widgets/base",
            "top": null,
            "grid_column": null,
            "overflow_y": null,
            "overflow_x": null,
            "grid_auto_flow": null,
            "grid_area": null,
            "grid_template_columns": null,
            "flex": null,
            "_model_name": "LayoutModel",
            "justify_items": null,
            "grid_row": null,
            "max_height": null,
            "align_content": null,
            "visibility": null,
            "align_self": null,
            "height": null,
            "min_height": null,
            "padding": null,
            "grid_auto_rows": null,
            "grid_gap": null,
            "max_width": null,
            "order": null,
            "_view_module_version": "1.2.0",
            "grid_template_areas": null,
            "object_position": null,
            "object_fit": null,
            "grid_auto_columns": null,
            "margin": null,
            "display": null,
            "left": null
          }
        },
        "940d55e73b02479ca99ea5197b87dec3": {
          "model_module": "@jupyter-widgets/controls",
          "model_name": "DescriptionStyleModel",
          "state": {
            "_view_name": "StyleView",
            "_model_name": "DescriptionStyleModel",
            "description_width": "",
            "_view_module": "@jupyter-widgets/base",
            "_model_module_version": "1.5.0",
            "_view_count": null,
            "_view_module_version": "1.2.0",
            "_model_module": "@jupyter-widgets/controls"
          }
        },
        "91c77134b4ba4796aec833b454a4c61c": {
          "model_module": "@jupyter-widgets/base",
          "model_name": "LayoutModel",
          "state": {
            "_view_name": "LayoutView",
            "grid_template_rows": null,
            "right": null,
            "justify_content": null,
            "_view_module": "@jupyter-widgets/base",
            "overflow": null,
            "_model_module_version": "1.2.0",
            "_view_count": null,
            "flex_flow": null,
            "width": null,
            "min_width": null,
            "border": null,
            "align_items": null,
            "bottom": null,
            "_model_module": "@jupyter-widgets/base",
            "top": null,
            "grid_column": null,
            "overflow_y": null,
            "overflow_x": null,
            "grid_auto_flow": null,
            "grid_area": null,
            "grid_template_columns": null,
            "flex": null,
            "_model_name": "LayoutModel",
            "justify_items": null,
            "grid_row": null,
            "max_height": null,
            "align_content": null,
            "visibility": null,
            "align_self": null,
            "height": null,
            "min_height": null,
            "padding": null,
            "grid_auto_rows": null,
            "grid_gap": null,
            "max_width": null,
            "order": null,
            "_view_module_version": "1.2.0",
            "grid_template_areas": null,
            "object_position": null,
            "object_fit": null,
            "grid_auto_columns": null,
            "margin": null,
            "display": null,
            "left": null
          }
        }
      }
    }
  },
  "cells": [
    {
      "cell_type": "markdown",
      "metadata": {
        "id": "cwUCo4d4pWg3",
        "colab_type": "text"
      },
      "source": [
        "https://github.com/DarkKnight1991/Stock-Price-Prediction"
      ]
    },
    {
      "cell_type": "code",
      "metadata": {
        "id": "NI1ahYqthzn-",
        "colab_type": "code",
        "outputId": "5b8309aa-18d1-4680-e519-b3627dbdc2da",
        "colab": {
          "base_uri": "https://localhost:8080/",
          "height": 124
        }
      },
      "source": [
        "from google.colab import drive\n",
        "drive.mount('/content/drive')"
      ],
      "execution_count": 0,
      "outputs": [
        {
          "output_type": "stream",
          "text": [
            "Go to this URL in a browser: https://accounts.google.com/o/oauth2/auth?client_id=947318989803-6bn6qk8qdgf4n4g3pfee6491hc0brc4i.apps.googleusercontent.com&redirect_uri=urn%3aietf%3awg%3aoauth%3a2.0%3aoob&response_type=code&scope=email%20https%3a%2f%2fwww.googleapis.com%2fauth%2fdocs.test%20https%3a%2f%2fwww.googleapis.com%2fauth%2fdrive%20https%3a%2f%2fwww.googleapis.com%2fauth%2fdrive.photos.readonly%20https%3a%2f%2fwww.googleapis.com%2fauth%2fpeopleapi.readonly\n",
            "\n",
            "Enter your authorization code:\n",
            "··········\n",
            "Mounted at /content/drive\n"
          ],
          "name": "stdout"
        }
      ]
    },
    {
      "cell_type": "code",
      "metadata": {
        "id": "hPZ_6Uo0h4NQ",
        "colab_type": "code",
        "outputId": "a9b9b34e-9e29-45f6-dd8f-92169f101a57",
        "colab": {
          "base_uri": "https://localhost:8080/",
          "height": 86
        }
      },
      "source": [
        "import numpy as np\n",
        "import os\n",
        "import sys\n",
        "import time\n",
        "import pandas as pd \n",
        "from tqdm._tqdm_notebook import tqdm_notebook\n",
        "import pickle\n",
        "from keras.models import Sequential, load_model\n",
        "from keras.layers import Dense, Dropout\n",
        "from keras.layers import LSTM\n",
        "from keras.callbacks import ModelCheckpoint, EarlyStopping, ReduceLROnPlateau, CSVLogger\n",
        "from keras import optimizers\n",
        "from sklearn.preprocessing import MinMaxScaler\n",
        "from sklearn.model_selection import train_test_split\n",
        "from sklearn.metrics import mean_squared_error\n",
        "import logging"
      ],
      "execution_count": 0,
      "outputs": [
        {
          "output_type": "stream",
          "text": [
            "/usr/local/lib/python3.6/dist-packages/ipykernel_launcher.py:6: TqdmDeprecationWarning: This function will be removed in tqdm==5.0.0\n",
            "Please use `tqdm.notebook.*` instead of `tqdm._tqdm_notebook.*`\n",
            "  \n",
            "Using TensorFlow backend.\n"
          ],
          "name": "stderr"
        }
      ]
    },
    {
      "cell_type": "code",
      "metadata": {
        "id": "n_pjhJ1vnyQj",
        "colab_type": "code",
        "colab": {}
      },
      "source": [
        "INPUT_PATH = '/content/drive/My Drive/stock'\n",
        "OUTPUT_PATH = '/content/drive/My Drive/stock/model/lstm_0'\n",
        "LSTM_model = '/content/drive/My Drive/stock/model/lstm_0/none'\n",
        "TIME_STEPS = 60\n",
        "BATCH_SIZE = 20"
      ],
      "execution_count": 0,
      "outputs": []
    },
    {
      "cell_type": "code",
      "metadata": {
        "id": "H_kWVFmQo-m9",
        "colab_type": "code",
        "colab": {}
      },
      "source": [
        "df_train = pd.read_csv(os.path.join(INPUT_PATH, \"Google_Stock_Price_Train.csv\"))"
      ],
      "execution_count": 0,
      "outputs": []
    },
    {
      "cell_type": "code",
      "metadata": {
        "id": "WAN9vPVZ5k7D",
        "colab_type": "code",
        "colab": {}
      },
      "source": [
        "df_test = pd.read_csv(os.path.join(INPUT_PATH, \"Google_Stock_Price_Test.csv\"))"
      ],
      "execution_count": 0,
      "outputs": []
    },
    {
      "cell_type": "code",
      "metadata": {
        "id": "zzmNKc-0s981",
        "colab_type": "code",
        "outputId": "4c7ac023-3f9a-4b1f-bcc2-7cb3298e8dce",
        "colab": {
          "base_uri": "https://localhost:8080/",
          "height": 138
        }
      },
      "source": [
        "print (df_train.dtypes)"
      ],
      "execution_count": 0,
      "outputs": [
        {
          "output_type": "stream",
          "text": [
            "Date       object\n",
            "Open      float64\n",
            "High      float64\n",
            "Low       float64\n",
            "Close     float64\n",
            "Volume    float64\n",
            "dtype: object\n"
          ],
          "name": "stdout"
        }
      ]
    },
    {
      "cell_type": "code",
      "metadata": {
        "id": "ALaSX2GR5zG-",
        "colab_type": "code",
        "outputId": "e2f3e741-4e3d-4df5-e048-29a4f75e51c9",
        "colab": {
          "base_uri": "https://localhost:8080/",
          "height": 138
        }
      },
      "source": [
        "print (df_test.dtypes)"
      ],
      "execution_count": 0,
      "outputs": [
        {
          "output_type": "stream",
          "text": [
            "Date       object\n",
            "Open      float64\n",
            "High      float64\n",
            "Low       float64\n",
            "Close     float64\n",
            "Volume    float64\n",
            "dtype: object\n"
          ],
          "name": "stdout"
        }
      ]
    },
    {
      "cell_type": "code",
      "metadata": {
        "id": "FQwSbtcfqAkX",
        "colab_type": "code",
        "outputId": "495aa52e-35de-42c8-8c89-5b2108df6fb7",
        "colab": {
          "base_uri": "https://localhost:8080/",
          "height": 198
        }
      },
      "source": [
        "df_train.tail()"
      ],
      "execution_count": 0,
      "outputs": [
        {
          "output_type": "execute_result",
          "data": {
            "text/html": [
              "<div>\n",
              "<style scoped>\n",
              "    .dataframe tbody tr th:only-of-type {\n",
              "        vertical-align: middle;\n",
              "    }\n",
              "\n",
              "    .dataframe tbody tr th {\n",
              "        vertical-align: top;\n",
              "    }\n",
              "\n",
              "    .dataframe thead th {\n",
              "        text-align: right;\n",
              "    }\n",
              "</style>\n",
              "<table border=\"1\" class=\"dataframe\">\n",
              "  <thead>\n",
              "    <tr style=\"text-align: right;\">\n",
              "      <th></th>\n",
              "      <th>Date</th>\n",
              "      <th>Open</th>\n",
              "      <th>High</th>\n",
              "      <th>Low</th>\n",
              "      <th>Close</th>\n",
              "      <th>Volume</th>\n",
              "    </tr>\n",
              "  </thead>\n",
              "  <tbody>\n",
              "    <tr>\n",
              "      <th>1253</th>\n",
              "      <td>12/23/16</td>\n",
              "      <td>790.90</td>\n",
              "      <td>792.74</td>\n",
              "      <td>787.28</td>\n",
              "      <td>789.91</td>\n",
              "      <td>623400.0</td>\n",
              "    </tr>\n",
              "    <tr>\n",
              "      <th>1254</th>\n",
              "      <td>12/27/16</td>\n",
              "      <td>790.68</td>\n",
              "      <td>797.86</td>\n",
              "      <td>787.66</td>\n",
              "      <td>791.55</td>\n",
              "      <td>789100.0</td>\n",
              "    </tr>\n",
              "    <tr>\n",
              "      <th>1255</th>\n",
              "      <td>12/28/16</td>\n",
              "      <td>793.70</td>\n",
              "      <td>794.23</td>\n",
              "      <td>783.20</td>\n",
              "      <td>785.05</td>\n",
              "      <td>1153800.0</td>\n",
              "    </tr>\n",
              "    <tr>\n",
              "      <th>1256</th>\n",
              "      <td>12/29/16</td>\n",
              "      <td>783.33</td>\n",
              "      <td>785.93</td>\n",
              "      <td>778.92</td>\n",
              "      <td>782.79</td>\n",
              "      <td>744300.0</td>\n",
              "    </tr>\n",
              "    <tr>\n",
              "      <th>1257</th>\n",
              "      <td>12/30/16</td>\n",
              "      <td>782.75</td>\n",
              "      <td>782.78</td>\n",
              "      <td>770.41</td>\n",
              "      <td>771.82</td>\n",
              "      <td>1770000.0</td>\n",
              "    </tr>\n",
              "  </tbody>\n",
              "</table>\n",
              "</div>"
            ],
            "text/plain": [
              "          Date    Open    High     Low   Close     Volume\n",
              "1253  12/23/16  790.90  792.74  787.28  789.91   623400.0\n",
              "1254  12/27/16  790.68  797.86  787.66  791.55   789100.0\n",
              "1255  12/28/16  793.70  794.23  783.20  785.05  1153800.0\n",
              "1256  12/29/16  783.33  785.93  778.92  782.79   744300.0\n",
              "1257  12/30/16  782.75  782.78  770.41  771.82  1770000.0"
            ]
          },
          "metadata": {
            "tags": []
          },
          "execution_count": 12
        }
      ]
    },
    {
      "cell_type": "code",
      "metadata": {
        "id": "ffmO3mAvzcLO",
        "colab_type": "code",
        "outputId": "47d99086-3da0-4631-c591-f2c56014403e",
        "colab": {
          "base_uri": "https://localhost:8080/",
          "height": 198
        }
      },
      "source": [
        "df_test.head()"
      ],
      "execution_count": 0,
      "outputs": [
        {
          "output_type": "execute_result",
          "data": {
            "text/html": [
              "<div>\n",
              "<style scoped>\n",
              "    .dataframe tbody tr th:only-of-type {\n",
              "        vertical-align: middle;\n",
              "    }\n",
              "\n",
              "    .dataframe tbody tr th {\n",
              "        vertical-align: top;\n",
              "    }\n",
              "\n",
              "    .dataframe thead th {\n",
              "        text-align: right;\n",
              "    }\n",
              "</style>\n",
              "<table border=\"1\" class=\"dataframe\">\n",
              "  <thead>\n",
              "    <tr style=\"text-align: right;\">\n",
              "      <th></th>\n",
              "      <th>Date</th>\n",
              "      <th>Open</th>\n",
              "      <th>High</th>\n",
              "      <th>Low</th>\n",
              "      <th>Close</th>\n",
              "      <th>Volume</th>\n",
              "    </tr>\n",
              "  </thead>\n",
              "  <tbody>\n",
              "    <tr>\n",
              "      <th>0</th>\n",
              "      <td>1/3/17</td>\n",
              "      <td>778.81</td>\n",
              "      <td>789.63</td>\n",
              "      <td>775.80</td>\n",
              "      <td>786.14</td>\n",
              "      <td>1657300.0</td>\n",
              "    </tr>\n",
              "    <tr>\n",
              "      <th>1</th>\n",
              "      <td>1/4/17</td>\n",
              "      <td>788.36</td>\n",
              "      <td>791.34</td>\n",
              "      <td>783.16</td>\n",
              "      <td>786.90</td>\n",
              "      <td>1073000.0</td>\n",
              "    </tr>\n",
              "    <tr>\n",
              "      <th>2</th>\n",
              "      <td>1/5/17</td>\n",
              "      <td>786.08</td>\n",
              "      <td>794.48</td>\n",
              "      <td>785.02</td>\n",
              "      <td>794.02</td>\n",
              "      <td>1335200.0</td>\n",
              "    </tr>\n",
              "    <tr>\n",
              "      <th>3</th>\n",
              "      <td>1/6/17</td>\n",
              "      <td>795.26</td>\n",
              "      <td>807.90</td>\n",
              "      <td>792.20</td>\n",
              "      <td>806.15</td>\n",
              "      <td>1640200.0</td>\n",
              "    </tr>\n",
              "    <tr>\n",
              "      <th>4</th>\n",
              "      <td>1/9/17</td>\n",
              "      <td>806.40</td>\n",
              "      <td>809.97</td>\n",
              "      <td>802.83</td>\n",
              "      <td>806.65</td>\n",
              "      <td>1272400.0</td>\n",
              "    </tr>\n",
              "  </tbody>\n",
              "</table>\n",
              "</div>"
            ],
            "text/plain": [
              "     Date    Open    High     Low   Close     Volume\n",
              "0  1/3/17  778.81  789.63  775.80  786.14  1657300.0\n",
              "1  1/4/17  788.36  791.34  783.16  786.90  1073000.0\n",
              "2  1/5/17  786.08  794.48  785.02  794.02  1335200.0\n",
              "3  1/6/17  795.26  807.90  792.20  806.15  1640200.0\n",
              "4  1/9/17  806.40  809.97  802.83  806.65  1272400.0"
            ]
          },
          "metadata": {
            "tags": []
          },
          "execution_count": 13
        }
      ]
    },
    {
      "cell_type": "code",
      "metadata": {
        "id": "sXDbAPLyvefS",
        "colab_type": "code",
        "outputId": "4adff033-9053-4e9b-8233-321948142dbf",
        "colab": {
          "base_uri": "https://localhost:8080/",
          "height": 288
        }
      },
      "source": [
        "df_train.describe()"
      ],
      "execution_count": 0,
      "outputs": [
        {
          "output_type": "execute_result",
          "data": {
            "text/html": [
              "<div>\n",
              "<style scoped>\n",
              "    .dataframe tbody tr th:only-of-type {\n",
              "        vertical-align: middle;\n",
              "    }\n",
              "\n",
              "    .dataframe tbody tr th {\n",
              "        vertical-align: top;\n",
              "    }\n",
              "\n",
              "    .dataframe thead th {\n",
              "        text-align: right;\n",
              "    }\n",
              "</style>\n",
              "<table border=\"1\" class=\"dataframe\">\n",
              "  <thead>\n",
              "    <tr style=\"text-align: right;\">\n",
              "      <th></th>\n",
              "      <th>Open</th>\n",
              "      <th>High</th>\n",
              "      <th>Low</th>\n",
              "      <th>Close</th>\n",
              "      <th>Volume</th>\n",
              "    </tr>\n",
              "  </thead>\n",
              "  <tbody>\n",
              "    <tr>\n",
              "      <th>count</th>\n",
              "      <td>1258.000000</td>\n",
              "      <td>1258.000000</td>\n",
              "      <td>1258.000000</td>\n",
              "      <td>1258.000000</td>\n",
              "      <td>1.258000e+03</td>\n",
              "    </tr>\n",
              "    <tr>\n",
              "      <th>mean</th>\n",
              "      <td>533.709833</td>\n",
              "      <td>537.880223</td>\n",
              "      <td>529.007409</td>\n",
              "      <td>712.669666</td>\n",
              "      <td>3.158107e+06</td>\n",
              "    </tr>\n",
              "    <tr>\n",
              "      <th>std</th>\n",
              "      <td>151.904442</td>\n",
              "      <td>153.008811</td>\n",
              "      <td>150.552807</td>\n",
              "      <td>164.752591</td>\n",
              "      <td>2.273726e+06</td>\n",
              "    </tr>\n",
              "    <tr>\n",
              "      <th>min</th>\n",
              "      <td>279.120000</td>\n",
              "      <td>281.210000</td>\n",
              "      <td>277.220000</td>\n",
              "      <td>491.200000</td>\n",
              "      <td>7.900000e+03</td>\n",
              "    </tr>\n",
              "    <tr>\n",
              "      <th>25%</th>\n",
              "      <td>404.115000</td>\n",
              "      <td>406.765000</td>\n",
              "      <td>401.765000</td>\n",
              "      <td>576.740000</td>\n",
              "      <td>1.621700e+06</td>\n",
              "    </tr>\n",
              "    <tr>\n",
              "      <th>50%</th>\n",
              "      <td>537.470000</td>\n",
              "      <td>540.750000</td>\n",
              "      <td>532.990000</td>\n",
              "      <td>695.675000</td>\n",
              "      <td>2.566150e+06</td>\n",
              "    </tr>\n",
              "    <tr>\n",
              "      <th>75%</th>\n",
              "      <td>654.922500</td>\n",
              "      <td>662.587500</td>\n",
              "      <td>644.800000</td>\n",
              "      <td>782.105000</td>\n",
              "      <td>4.122500e+06</td>\n",
              "    </tr>\n",
              "    <tr>\n",
              "      <th>max</th>\n",
              "      <td>816.680000</td>\n",
              "      <td>816.680000</td>\n",
              "      <td>805.140000</td>\n",
              "      <td>1216.830000</td>\n",
              "      <td>2.497790e+07</td>\n",
              "    </tr>\n",
              "  </tbody>\n",
              "</table>\n",
              "</div>"
            ],
            "text/plain": [
              "              Open         High          Low        Close        Volume\n",
              "count  1258.000000  1258.000000  1258.000000  1258.000000  1.258000e+03\n",
              "mean    533.709833   537.880223   529.007409   712.669666  3.158107e+06\n",
              "std     151.904442   153.008811   150.552807   164.752591  2.273726e+06\n",
              "min     279.120000   281.210000   277.220000   491.200000  7.900000e+03\n",
              "25%     404.115000   406.765000   401.765000   576.740000  1.621700e+06\n",
              "50%     537.470000   540.750000   532.990000   695.675000  2.566150e+06\n",
              "75%     654.922500   662.587500   644.800000   782.105000  4.122500e+06\n",
              "max     816.680000   816.680000   805.140000  1216.830000  2.497790e+07"
            ]
          },
          "metadata": {
            "tags": []
          },
          "execution_count": 14
        }
      ]
    },
    {
      "cell_type": "code",
      "metadata": {
        "id": "H3V-0lXg6E4R",
        "colab_type": "code",
        "outputId": "83b3097c-df67-4bfc-f90b-465d6a08dcbc",
        "colab": {
          "base_uri": "https://localhost:8080/",
          "height": 288
        }
      },
      "source": [
        "df_test.describe()"
      ],
      "execution_count": 0,
      "outputs": [
        {
          "output_type": "execute_result",
          "data": {
            "text/html": [
              "<div>\n",
              "<style scoped>\n",
              "    .dataframe tbody tr th:only-of-type {\n",
              "        vertical-align: middle;\n",
              "    }\n",
              "\n",
              "    .dataframe tbody tr th {\n",
              "        vertical-align: top;\n",
              "    }\n",
              "\n",
              "    .dataframe thead th {\n",
              "        text-align: right;\n",
              "    }\n",
              "</style>\n",
              "<table border=\"1\" class=\"dataframe\">\n",
              "  <thead>\n",
              "    <tr style=\"text-align: right;\">\n",
              "      <th></th>\n",
              "      <th>Open</th>\n",
              "      <th>High</th>\n",
              "      <th>Low</th>\n",
              "      <th>Close</th>\n",
              "      <th>Volume</th>\n",
              "    </tr>\n",
              "  </thead>\n",
              "  <tbody>\n",
              "    <tr>\n",
              "      <th>count</th>\n",
              "      <td>20.000000</td>\n",
              "      <td>20.000000</td>\n",
              "      <td>20.000000</td>\n",
              "      <td>20.000000</td>\n",
              "      <td>2.000000e+01</td>\n",
              "    </tr>\n",
              "    <tr>\n",
              "      <th>mean</th>\n",
              "      <td>807.526000</td>\n",
              "      <td>811.926500</td>\n",
              "      <td>801.949500</td>\n",
              "      <td>807.904500</td>\n",
              "      <td>1.659895e+06</td>\n",
              "    </tr>\n",
              "    <tr>\n",
              "      <th>std</th>\n",
              "      <td>15.125428</td>\n",
              "      <td>14.381198</td>\n",
              "      <td>13.278607</td>\n",
              "      <td>13.210088</td>\n",
              "      <td>6.774747e+05</td>\n",
              "    </tr>\n",
              "    <tr>\n",
              "      <th>min</th>\n",
              "      <td>778.810000</td>\n",
              "      <td>789.630000</td>\n",
              "      <td>775.800000</td>\n",
              "      <td>786.140000</td>\n",
              "      <td>9.193000e+05</td>\n",
              "    </tr>\n",
              "    <tr>\n",
              "      <th>25%</th>\n",
              "      <td>802.965000</td>\n",
              "      <td>806.735000</td>\n",
              "      <td>797.427500</td>\n",
              "      <td>802.282500</td>\n",
              "      <td>1.248500e+06</td>\n",
              "    </tr>\n",
              "    <tr>\n",
              "      <th>50%</th>\n",
              "      <td>806.995000</td>\n",
              "      <td>808.640000</td>\n",
              "      <td>801.530000</td>\n",
              "      <td>806.110000</td>\n",
              "      <td>1.418050e+06</td>\n",
              "    </tr>\n",
              "    <tr>\n",
              "      <th>75%</th>\n",
              "      <td>809.560000</td>\n",
              "      <td>817.097500</td>\n",
              "      <td>804.477500</td>\n",
              "      <td>810.760000</td>\n",
              "      <td>1.743400e+06</td>\n",
              "    </tr>\n",
              "    <tr>\n",
              "      <th>max</th>\n",
              "      <td>837.810000</td>\n",
              "      <td>841.950000</td>\n",
              "      <td>827.010000</td>\n",
              "      <td>835.670000</td>\n",
              "      <td>3.246600e+06</td>\n",
              "    </tr>\n",
              "  </tbody>\n",
              "</table>\n",
              "</div>"
            ],
            "text/plain": [
              "             Open        High         Low       Close        Volume\n",
              "count   20.000000   20.000000   20.000000   20.000000  2.000000e+01\n",
              "mean   807.526000  811.926500  801.949500  807.904500  1.659895e+06\n",
              "std     15.125428   14.381198   13.278607   13.210088  6.774747e+05\n",
              "min    778.810000  789.630000  775.800000  786.140000  9.193000e+05\n",
              "25%    802.965000  806.735000  797.427500  802.282500  1.248500e+06\n",
              "50%    806.995000  808.640000  801.530000  806.110000  1.418050e+06\n",
              "75%    809.560000  817.097500  804.477500  810.760000  1.743400e+06\n",
              "max    837.810000  841.950000  827.010000  835.670000  3.246600e+06"
            ]
          },
          "metadata": {
            "tags": []
          },
          "execution_count": 15
        }
      ]
    },
    {
      "cell_type": "code",
      "metadata": {
        "id": "65bU4Qv56R-k",
        "colab_type": "code",
        "colab": {}
      },
      "source": [
        "frames = [df_train,df_test]\n",
        "df = pd.concat(frames,ignore_index=True)"
      ],
      "execution_count": 0,
      "outputs": []
    },
    {
      "cell_type": "code",
      "metadata": {
        "id": "y9bahAHu6uYB",
        "colab_type": "code",
        "outputId": "d0e40eb8-acca-4cf2-943c-aea6740c276a",
        "colab": {
          "base_uri": "https://localhost:8080/",
          "height": 288
        }
      },
      "source": [
        "df.describe()"
      ],
      "execution_count": 0,
      "outputs": [
        {
          "output_type": "execute_result",
          "data": {
            "text/html": [
              "<div>\n",
              "<style scoped>\n",
              "    .dataframe tbody tr th:only-of-type {\n",
              "        vertical-align: middle;\n",
              "    }\n",
              "\n",
              "    .dataframe tbody tr th {\n",
              "        vertical-align: top;\n",
              "    }\n",
              "\n",
              "    .dataframe thead th {\n",
              "        text-align: right;\n",
              "    }\n",
              "</style>\n",
              "<table border=\"1\" class=\"dataframe\">\n",
              "  <thead>\n",
              "    <tr style=\"text-align: right;\">\n",
              "      <th></th>\n",
              "      <th>Open</th>\n",
              "      <th>High</th>\n",
              "      <th>Low</th>\n",
              "      <th>Close</th>\n",
              "      <th>Volume</th>\n",
              "    </tr>\n",
              "  </thead>\n",
              "  <tbody>\n",
              "    <tr>\n",
              "      <th>count</th>\n",
              "      <td>1278.000000</td>\n",
              "      <td>1278.000000</td>\n",
              "      <td>1278.000000</td>\n",
              "      <td>1278.000000</td>\n",
              "      <td>1.278000e+03</td>\n",
              "    </tr>\n",
              "    <tr>\n",
              "      <th>mean</th>\n",
              "      <td>537.994906</td>\n",
              "      <td>542.168897</td>\n",
              "      <td>533.278803</td>\n",
              "      <td>714.160039</td>\n",
              "      <td>3.134661e+06</td>\n",
              "    </tr>\n",
              "    <tr>\n",
              "      <th>std</th>\n",
              "      <td>154.508365</td>\n",
              "      <td>155.582501</td>\n",
              "      <td>153.174011</td>\n",
              "      <td>163.892416</td>\n",
              "      <td>2.265015e+06</td>\n",
              "    </tr>\n",
              "    <tr>\n",
              "      <th>min</th>\n",
              "      <td>279.120000</td>\n",
              "      <td>281.210000</td>\n",
              "      <td>277.220000</td>\n",
              "      <td>491.200000</td>\n",
              "      <td>7.900000e+03</td>\n",
              "    </tr>\n",
              "    <tr>\n",
              "      <th>25%</th>\n",
              "      <td>406.037500</td>\n",
              "      <td>408.230000</td>\n",
              "      <td>403.335000</td>\n",
              "      <td>578.412500</td>\n",
              "      <td>1.608700e+06</td>\n",
              "    </tr>\n",
              "    <tr>\n",
              "      <th>50%</th>\n",
              "      <td>538.395000</td>\n",
              "      <td>542.330000</td>\n",
              "      <td>534.355000</td>\n",
              "      <td>698.150000</td>\n",
              "      <td>2.528700e+06</td>\n",
              "    </tr>\n",
              "    <tr>\n",
              "      <th>75%</th>\n",
              "      <td>668.862500</td>\n",
              "      <td>677.705000</td>\n",
              "      <td>662.190000</td>\n",
              "      <td>785.572500</td>\n",
              "      <td>4.106200e+06</td>\n",
              "    </tr>\n",
              "    <tr>\n",
              "      <th>max</th>\n",
              "      <td>837.810000</td>\n",
              "      <td>841.950000</td>\n",
              "      <td>827.010000</td>\n",
              "      <td>1216.830000</td>\n",
              "      <td>2.497790e+07</td>\n",
              "    </tr>\n",
              "  </tbody>\n",
              "</table>\n",
              "</div>"
            ],
            "text/plain": [
              "              Open         High          Low        Close        Volume\n",
              "count  1278.000000  1278.000000  1278.000000  1278.000000  1.278000e+03\n",
              "mean    537.994906   542.168897   533.278803   714.160039  3.134661e+06\n",
              "std     154.508365   155.582501   153.174011   163.892416  2.265015e+06\n",
              "min     279.120000   281.210000   277.220000   491.200000  7.900000e+03\n",
              "25%     406.037500   408.230000   403.335000   578.412500  1.608700e+06\n",
              "50%     538.395000   542.330000   534.355000   698.150000  2.528700e+06\n",
              "75%     668.862500   677.705000   662.190000   785.572500  4.106200e+06\n",
              "max     837.810000   841.950000   827.010000  1216.830000  2.497790e+07"
            ]
          },
          "metadata": {
            "tags": []
          },
          "execution_count": 8
        }
      ]
    },
    {
      "cell_type": "code",
      "metadata": {
        "id": "UoMY2KalqEld",
        "colab_type": "code",
        "outputId": "10453c3d-db95-4224-cd02-7ea33feb2a3e",
        "colab": {
          "base_uri": "https://localhost:8080/",
          "height": 295
        }
      },
      "source": [
        "from matplotlib import pyplot as plt\n",
        "plt.figure()\n",
        "plt.plot(df[\"Open\"])\n",
        "plt.plot(df[\"High\"])\n",
        "plt.plot(df[\"Low\"])\n",
        "plt.plot(df[\"Close\"])\n",
        "plt.title('stock price history')\n",
        "plt.ylabel('Price (USD)')\n",
        "plt.xlabel('Days')\n",
        "plt.legend(['Open','High','Low','Close'], loc='upper left')\n",
        "plt.show()"
      ],
      "execution_count": 0,
      "outputs": [
        {
          "output_type": "display_data",
          "data": {
            "image/png": "[encoded data removed]",
            "text/plain": [
              "<Figure size 432x288 with 1 Axes>"
            ]
          },
          "metadata": {
            "tags": [],
            "needs_background": "light"
          }
        }
      ]
    },
    {
      "cell_type": "code",
      "metadata": {
        "id": "arnPudNZqXdw",
        "colab_type": "code",
        "outputId": "a74b9c24-5ac2-4721-84bc-a51059601fbf",
        "colab": {
          "base_uri": "https://localhost:8080/",
          "height": 295
        }
      },
      "source": [
        "plt.figure()\n",
        "plt.plot(df[\"Volume\"])\n",
        "\n",
        "plt.title('stock volume history')\n",
        "plt.ylabel('Volume')\n",
        "plt.xlabel('Days')\n",
        "plt.show()"
      ],
      "execution_count": 0,
      "outputs": [
        {
          "output_type": "display_data",
          "data": {
            "image/png": "[encoded data removed]",
            "text/plain": [
              "<Figure size 432x288 with 1 Axes>"
            ]
          },
          "metadata": {
            "tags": [],
            "needs_background": "light"
          }
        }
      ]
    },
    {
      "cell_type": "code",
      "metadata": {
        "id": "HEDx_q7OrOgt",
        "colab_type": "code",
        "outputId": "a6a90b1d-5526-43df-a2aa-b780567b7dee",
        "colab": {
          "base_uri": "https://localhost:8080/",
          "height": 155
        }
      },
      "source": [
        "print(\"checking if any null values are present\\n\", df.isna().sum())"
      ],
      "execution_count": 0,
      "outputs": [
        {
          "output_type": "stream",
          "text": [
            "checking if any null values are present\n",
            " Date      0\n",
            "Open      0\n",
            "High      0\n",
            "Low       0\n",
            "Close     0\n",
            "Volume    0\n",
            "dtype: int64\n"
          ],
          "name": "stdout"
        }
      ]
    },
    {
      "cell_type": "code",
      "metadata": {
        "id": "hiJzEI9grjb2",
        "colab_type": "code",
        "outputId": "c3dcc73d-8b3a-4351-cf6c-b65c8dbbfe95",
        "colab": {
          "base_uri": "https://localhost:8080/",
          "height": 35
        }
      },
      "source": [
        "from sklearn.preprocessing import MinMaxScaler\n",
        "from sklearn.model_selection import train_test_split\n",
        "\n",
        "df_train = df.loc[0:1257]\n",
        "\n",
        "train_cols = [\"Open\",\"High\",\"Low\",\"Close\",\"Volume\"]\n",
        "df_train, df_test = train_test_split(df, train_size=0.8, test_size=0.2, shuffle=False)\n",
        "\n",
        "\n",
        "# scale the feature MinMax, build array\n",
        "x = df_train.loc[:,train_cols].values\n",
        "min_max_scaler = MinMaxScaler()\n",
        "x_train = min_max_scaler.fit_transform(x)\n",
        "x_val = min_max_scaler.transform(df_test.loc[:,train_cols])\n",
        "x_test = min_max_scaler.transform(df.loc[18:,train_cols])\n",
        "\n",
        "print(\"Train Val, and  Test size\", len(x_train), len(x_val),len(x_test))"
      ],
      "execution_count": 0,
      "outputs": [
        {
          "output_type": "stream",
          "text": [
            "Train Val, and  Test size 1022 256 1260\n"
          ],
          "name": "stdout"
        }
      ]
    },
    {
      "cell_type": "code",
      "metadata": {
        "id": "iMxm24_qrzSD",
        "colab_type": "code",
        "colab": {}
      },
      "source": [
        "def build_timeseries(mat, y_col_index):\n",
        "    # y_col_index is the index of column that would act as output column\n",
        "    # total number of time-series samples would be len(mat) - TIME_STEPS\n",
        "    dim_0 = mat.shape[0] - TIME_STEPS\n",
        "    dim_1 = mat.shape[1]\n",
        "    x = np.zeros((dim_0, TIME_STEPS, dim_1))\n",
        "    y = np.zeros((dim_0,))\n",
        "    \n",
        "    for i in tqdm_notebook(range(dim_0)):\n",
        "        x[i] = mat[i:TIME_STEPS+i]\n",
        "        y[i] = mat[TIME_STEPS+i, y_col_index]\n",
        "    print(\"length of time-series i/o\",x.shape,y.shape)\n",
        "    return x, y"
      ],
      "execution_count": 0,
      "outputs": []
    },
    {
      "cell_type": "code",
      "metadata": {
        "id": "pLbLuybMxXCK",
        "colab_type": "code",
        "colab": {}
      },
      "source": [
        "def trim_dataset(mat, batch_size):\n",
        "    \"\"\"\n",
        "    trims dataset to a size that's divisible by BATCH_SIZE\n",
        "    \"\"\"\n",
        "    no_of_rows_drop = mat.shape[0]%batch_size\n",
        "    if(no_of_rows_drop > 0):\n",
        "        return mat[:-no_of_rows_drop]\n",
        "    else:\n",
        "        return mat"
      ],
      "execution_count": 0,
      "outputs": []
    },
    {
      "cell_type": "code",
      "metadata": {
        "id": "wuwklgACyDP6",
        "colab_type": "code",
        "outputId": "1b5176c5-cf75-46ba-b06b-1cde68bea6a7",
        "colab": {
          "base_uri": "https://localhost:8080/",
          "height": 216,
          "referenced_widgets": [
            "92fcfb280aeb4b3bbd0aac5221c26a8e",
            "9aced09e3aee42babd96a3e2f3cb4d6d",
            "c0ed9247b7b44a9da4b49b02c4cf50f9",
            "d044f2637fa74674a0855a7376a11bf8",
            "b1c9034d54e84891af2c54125da2e6b7",
            "eb4cf02147204785af8d3d5aa6510543",
            "aaf75488ae95401d9c823373a6d934d4",
            "4c3e9af8501c4e41b2aae946e879d968",
            "ca095083e29246429f1619d3a21f8ef5",
            "06651e06fed749389388268bcefc196b",
            "f3bfc350427f427aba2cc4bbd4fcbbfc",
            "a253a78b700847a9ad57874e211f78c3",
            "186443af046845f1a8777a121790ef14",
            "4934df8c343a43f4b67e7ec091b88f30",
            "56e884cea633409da1559af2a9ed88d9",
            "daa8088754a64da6a31fa62389db75f4",
            "e4ac2dd4073e46eeb67d3033cbbf01d5",
            "808569775fca4e60b38363eab2ab4547",
            "dd975c4b836249a58dd0e8f860fee34f",
            "ba55b8a5216247f998fc36ed0ba8b48a",
            "841933a40c514950886c9943e7cc9ed0",
            "b7646a8ad2ea4564af98c4687c756cca",
            "940d55e73b02479ca99ea5197b87dec3",
            "91c77134b4ba4796aec833b454a4c61c"
          ]
        }
      },
      "source": [
        "x_t, y_t = build_timeseries(x_train, 3)\n",
        "x_t = trim_dataset(x_t, BATCH_SIZE)\n",
        "y_t = trim_dataset(y_t, BATCH_SIZE)\n",
        "x_temp, y_temp = build_timeseries(x_val, 3)\n",
        "x_val = trim_dataset(x_temp, BATCH_SIZE)\n",
        "y_val = trim_dataset(y_temp, BATCH_SIZE)\n",
        "x_test, y_test = build_timeseries(x_test, 3)\n",
        "x_test = trim_dataset(x_test, BATCH_SIZE)\n",
        "y_test = trim_dataset(y_test, BATCH_SIZE)"
      ],
      "execution_count": 0,
      "outputs": [
        {
          "output_type": "display_data",
          "data": {
            "application/vnd.jupyter.widget-view+json": {
              "model_id": "92fcfb280aeb4b3bbd0aac5221c26a8e",
              "version_minor": 0,
              "version_major": 2
            },
            "text/plain": [
              "HBox(children=(IntProgress(value=0, max=962), HTML(value='')))"
            ]
          },
          "metadata": {
            "tags": []
          }
        },
        {
          "output_type": "stream",
          "text": [
            "\n",
            "length of time-series i/o (962, 60, 5) (962,)\n"
          ],
          "name": "stdout"
        },
        {
          "output_type": "display_data",
          "data": {
            "application/vnd.jupyter.widget-view+json": {
              "model_id": "ca095083e29246429f1619d3a21f8ef5",
              "version_minor": 0,
              "version_major": 2
            },
            "text/plain": [
              "HBox(children=(IntProgress(value=0, max=196), HTML(value='')))"
            ]
          },
          "metadata": {
            "tags": []
          }
        },
        {
          "output_type": "stream",
          "text": [
            "\n",
            "length of time-series i/o (196, 60, 5) (196,)\n"
          ],
          "name": "stdout"
        },
        {
          "output_type": "display_data",
          "data": {
            "application/vnd.jupyter.widget-view+json": {
              "model_id": "e4ac2dd4073e46eeb67d3033cbbf01d5",
              "version_minor": 0,
              "version_major": 2
            },
            "text/plain": [
              "HBox(children=(IntProgress(value=0, max=1200), HTML(value='')))"
            ]
          },
          "metadata": {
            "tags": []
          }
        },
        {
          "output_type": "stream",
          "text": [
            "\n",
            "length of time-series i/o (1200, 60, 5) (1200,)\n"
          ],
          "name": "stdout"
        }
      ]
    },
    {
      "cell_type": "code",
      "metadata": {
        "id": "kyf6SBVUy9Mi",
        "colab_type": "code",
        "colab": {}
      },
      "source": [
        "def create_model(l1,l2,l3,l4):\n",
        "    lstm_model = Sequential()\n",
        "    \n",
        "    lstm_model.add(LSTM(l1, batch_input_shape=(BATCH_SIZE, TIME_STEPS, x_t.shape[2]),\n",
        "                        dropout=0.0, recurrent_dropout=0.0, stateful=True, return_sequences=True,\n",
        "                        kernel_initializer='random_uniform'))\n",
        "    lstm_model.add(Dropout(0.4))\n",
        "    lstm_model.add(LSTM(l2, dropout=0.0,stateful=True, return_sequences=True))\n",
        "    lstm_model.add(Dropout(0.4))\n",
        "    lstm_model.add(LSTM(l3, dropout=0.0,stateful=True, return_sequences=True))\n",
        "    lstm_model.add(Dropout(0.4))\n",
        "    lstm_model.add(LSTM(l4, dropout=0.0))\n",
        "    lstm_model.add(Dense(1,activation='sigmoid'))\n",
        "    optimizer = optimizers.RMSprop(lr=LR)\n",
        "    lstm_model.compile(loss='mean_squared_error', optimizer=optimizer)\n",
        "    return lstm_model"
      ],
      "execution_count": 0,
      "outputs": []
    },
    {
      "cell_type": "code",
      "metadata": {
        "id": "fsRzID9q0nQc",
        "colab_type": "code",
        "outputId": "d720adb7-df40-480f-c8ed-dd2cdb9e32b9",
        "colab": {
          "base_uri": "https://localhost:8080/",
          "height": 35
        }
      },
      "source": [
        "model = None\n",
        "try:\n",
        "    model = pickle.load(open(LSTM_model, 'rb'))\n",
        "    print(\"Loaded saved model...\")\n",
        "except FileNotFoundError:\n",
        "    print(\"Model not found\")"
      ],
      "execution_count": 0,
      "outputs": [
        {
          "output_type": "stream",
          "text": [
            "Model not found\n"
          ],
          "name": "stdout"
        }
      ]
    },
    {
      "cell_type": "code",
      "metadata": {
        "id": "U2iiZhi831jt",
        "colab_type": "code",
        "colab": {}
      },
      "source": [
        "EPOCHS = 300\n",
        "LR = 0.002"
      ],
      "execution_count": 0,
      "outputs": []
    },
    {
      "cell_type": "code",
      "metadata": {
        "id": "es1ZWrclzpxA",
        "colab_type": "code",
        "outputId": "84e95dd1-212b-49ec-80a0-e0992d017f51",
        "colab": {
          "base_uri": "https://localhost:8080/",
          "height": 1000
        }
      },
      "source": [
        "is_update_model = True\n",
        "if model is None or is_update_model:\n",
        "    from keras import backend as K\n",
        "    print(\"Building model...\")\n",
        " \n",
        "    model = create_model()\n",
        "    model.summary()\n",
        "    \n",
        "    es = EarlyStopping(monitor='val_loss', mode='min', verbose=1,\n",
        "                       patience=40, min_delta=0.0001)\n",
        "    \n",
        "    mcp = ModelCheckpoint(os.path.join(OUTPUT_PATH,\n",
        "                          \"best_model.h5\"), monitor='val_loss', verbose=1,\n",
        "                          save_best_only=True, save_weights_only=False, mode='min', period=1)\n",
        "\n",
        "    # Not used here. But leaving it here as a reminder for future\n",
        "    r_lr_plat = ReduceLROnPlateau(monitor='val_loss', factor=0.1, patience=30, \n",
        "                                  verbose=0, mode='auto', min_delta=0.0001, cooldown=0, min_lr=0)\n",
        "    \n",
        "    csv_logger = CSVLogger(os.path.join(OUTPUT_PATH, 'training_log_' + time.ctime().replace(\" \",\"_\") + '.log'), append=True)\n",
        "    \n",
        "    history = model.fit(x_t, y_t, epochs=EPOCHS, verbose=2, batch_size=BATCH_SIZE,\n",
        "                        shuffle=False, validation_data=(x_val,y_val), callbacks=[es, mcp, csv_logger])\n",
        "    \n",
        "    print(\"saving model...\")\n",
        "    pickle.dump(model, open(os.path.join(OUTPUT_PATH, 'lstm_model'), \"wb\"))"
      ],
      "execution_count": 0,
      "outputs": [
        {
          "output_type": "stream",
          "text": [
            "Building model...\n",
            "Model: \"sequential_4\"\n",
            "_________________________________________________________________\n",
            "Layer (type)                 Output Shape              Param #   \n",
            "=================================================================\n",
            "lstm_13 (LSTM)               (20, 60, 100)             42400     \n",
            "_________________________________________________________________\n",
            "dropout_10 (Dropout)         (20, 60, 100)             0         \n",
            "_________________________________________________________________\n",
            "lstm_14 (LSTM)               (20, 60, 60)              38640     \n",
            "_________________________________________________________________\n",
            "dropout_11 (Dropout)         (20, 60, 60)              0         \n",
            "_________________________________________________________________\n",
            "lstm_15 (LSTM)               (20, 60, 60)              29040     \n",
            "_________________________________________________________________\n",
            "dropout_12 (Dropout)         (20, 60, 60)              0         \n",
            "_________________________________________________________________\n",
            "lstm_16 (LSTM)               (20, 20)                  6480      \n",
            "_________________________________________________________________\n",
            "dense_4 (Dense)              (20, 1)                   21        \n",
            "=================================================================\n",
            "Total params: 116,581\n",
            "Trainable params: 116,581\n",
            "Non-trainable params: 0\n",
            "_________________________________________________________________\n",
            "Train on 960 samples, validate on 180 samples\n",
            "Epoch 1/300\n",
            " - 6s - loss: 0.0408 - val_loss: 0.0023\n",
            "\n",
            "Epoch 00001: val_loss improved from inf to 0.00230, saving model to /content/drive/My Drive/stock/model/lstm_0/best_model.h5\n",
            "Epoch 2/300\n",
            " - 5s - loss: 0.0408 - val_loss: 0.0036\n",
            "\n",
            "Epoch 00002: val_loss did not improve from 0.00230\n",
            "Epoch 3/300\n",
            " - 5s - loss: 0.0476 - val_loss: 0.0036\n",
            "\n",
            "Epoch 00003: val_loss did not improve from 0.00230\n",
            "Epoch 4/300\n",
            " - 5s - loss: 0.0425 - val_loss: 0.0035\n",
            "\n",
            "Epoch 00004: val_loss did not improve from 0.00230\n",
            "Epoch 5/300\n",
            " - 5s - loss: 0.0486 - val_loss: 0.0055\n",
            "\n",
            "Epoch 00005: val_loss did not improve from 0.00230\n",
            "Epoch 6/300\n",
            " - 5s - loss: 0.0416 - val_loss: 0.0067\n",
            "\n",
            "Epoch 00006: val_loss did not improve from 0.00230\n",
            "Epoch 7/300\n",
            " - 5s - loss: 0.0407 - val_loss: 0.0042\n",
            "\n",
            "Epoch 00007: val_loss did not improve from 0.00230\n",
            "Epoch 8/300\n",
            " - 5s - loss: 0.0357 - val_loss: 0.0051\n",
            "\n",
            "Epoch 00008: val_loss did not improve from 0.00230\n",
            "Epoch 9/300\n",
            " - 5s - loss: 0.0428 - val_loss: 0.0040\n",
            "\n",
            "Epoch 00009: val_loss did not improve from 0.00230\n",
            "Epoch 10/300\n",
            " - 5s - loss: 0.0496 - val_loss: 0.0058\n",
            "\n",
            "Epoch 00010: val_loss did not improve from 0.00230\n",
            "Epoch 11/300\n",
            " - 5s - loss: 0.0314 - val_loss: 0.0105\n",
            "\n",
            "Epoch 00011: val_loss did not improve from 0.00230\n",
            "Epoch 12/300\n",
            " - 5s - loss: 0.0483 - val_loss: 0.0045\n",
            "\n",
            "Epoch 00012: val_loss did not improve from 0.00230\n",
            "Epoch 13/300\n",
            " - 5s - loss: 0.0254 - val_loss: 0.0032\n",
            "\n",
            "Epoch 00013: val_loss did not improve from 0.00230\n",
            "Epoch 14/300\n",
            " - 5s - loss: 0.0239 - val_loss: 0.0034\n",
            "\n",
            "Epoch 00014: val_loss did not improve from 0.00230\n",
            "Epoch 15/300\n",
            " - 5s - loss: 0.0231 - val_loss: 0.0041\n",
            "\n",
            "Epoch 00015: val_loss did not improve from 0.00230\n",
            "Epoch 16/300\n",
            " - 5s - loss: 0.0494 - val_loss: 0.0098\n",
            "\n",
            "Epoch 00016: val_loss did not improve from 0.00230\n",
            "Epoch 17/300\n",
            " - 6s - loss: 0.0446 - val_loss: 0.0113\n",
            "\n",
            "Epoch 00017: val_loss did not improve from 0.00230\n",
            "Epoch 18/300\n",
            " - 9s - loss: 0.0579 - val_loss: 0.0190\n",
            "\n",
            "Epoch 00018: val_loss did not improve from 0.00230\n",
            "Epoch 19/300\n",
            " - 6s - loss: 0.0460 - val_loss: 0.0135\n",
            "\n",
            "Epoch 00019: val_loss did not improve from 0.00230\n",
            "Epoch 20/300\n",
            " - 5s - loss: 0.0465 - val_loss: 0.0047\n",
            "\n",
            "Epoch 00020: val_loss did not improve from 0.00230\n",
            "Epoch 21/300\n",
            " - 5s - loss: 0.0470 - val_loss: 0.0052\n",
            "\n",
            "Epoch 00021: val_loss did not improve from 0.00230\n",
            "Epoch 22/300\n",
            " - 5s - loss: 0.0457 - val_loss: 0.0154\n",
            "\n",
            "Epoch 00022: val_loss did not improve from 0.00230\n",
            "Epoch 23/300\n",
            " - 5s - loss: 0.0438 - val_loss: 0.0116\n",
            "\n",
            "Epoch 00023: val_loss did not improve from 0.00230\n",
            "Epoch 24/300\n",
            " - 5s - loss: 0.0446 - val_loss: 0.0273\n",
            "\n",
            "Epoch 00024: val_loss did not improve from 0.00230\n",
            "Epoch 25/300\n",
            " - 5s - loss: 0.0415 - val_loss: 0.0189\n",
            "\n",
            "Epoch 00025: val_loss did not improve from 0.00230\n",
            "Epoch 26/300\n",
            " - 5s - loss: 0.0391 - val_loss: 0.0212\n",
            "\n",
            "Epoch 00026: val_loss did not improve from 0.00230\n",
            "Epoch 27/300\n",
            " - 5s - loss: 0.0477 - val_loss: 0.0275\n",
            "\n",
            "Epoch 00027: val_loss did not improve from 0.00230\n",
            "Epoch 28/300\n",
            " - 5s - loss: 0.0402 - val_loss: 0.0285\n",
            "\n",
            "Epoch 00028: val_loss did not improve from 0.00230\n",
            "Epoch 29/300\n",
            " - 5s - loss: 0.0281 - val_loss: 0.0245\n",
            "\n",
            "Epoch 00029: val_loss did not improve from 0.00230\n",
            "Epoch 30/300\n",
            " - 5s - loss: 0.0437 - val_loss: 0.0197\n",
            "\n",
            "Epoch 00030: val_loss did not improve from 0.00230\n",
            "Epoch 31/300\n",
            " - 5s - loss: 0.0246 - val_loss: 0.0110\n",
            "\n",
            "Epoch 00031: val_loss did not improve from 0.00230\n",
            "Epoch 32/300\n",
            " - 5s - loss: 0.0348 - val_loss: 0.0154\n",
            "\n",
            "Epoch 00032: val_loss did not improve from 0.00230\n",
            "Epoch 33/300\n",
            " - 5s - loss: 0.0503 - val_loss: 0.0132\n",
            "\n",
            "Epoch 00033: val_loss did not improve from 0.00230\n",
            "Epoch 34/300\n",
            " - 5s - loss: 0.0508 - val_loss: 0.0177\n",
            "\n",
            "Epoch 00034: val_loss did not improve from 0.00230\n",
            "Epoch 35/300\n",
            " - 5s - loss: 0.0305 - val_loss: 0.0148\n",
            "\n",
            "Epoch 00035: val_loss did not improve from 0.00230\n",
            "Epoch 36/300\n",
            " - 5s - loss: 0.0473 - val_loss: 0.0069\n",
            "\n",
            "Epoch 00036: val_loss did not improve from 0.00230\n",
            "Epoch 37/300\n",
            " - 5s - loss: 0.0310 - val_loss: 0.0032\n",
            "\n",
            "Epoch 00037: val_loss did not improve from 0.00230\n",
            "Epoch 38/300\n",
            " - 5s - loss: 0.0363 - val_loss: 0.0099\n",
            "\n",
            "Epoch 00038: val_loss did not improve from 0.00230\n",
            "Epoch 39/300\n",
            " - 5s - loss: 0.0460 - val_loss: 0.0065\n",
            "\n",
            "Epoch 00039: val_loss did not improve from 0.00230\n",
            "Epoch 40/300\n",
            " - 5s - loss: 0.0457 - val_loss: 0.0274\n",
            "\n",
            "Epoch 00040: val_loss did not improve from 0.00230\n",
            "Epoch 41/300\n",
            " - 5s - loss: 0.0391 - val_loss: 0.0232\n",
            "\n",
            "Epoch 00041: val_loss did not improve from 0.00230\n",
            "Epoch 00041: early stopping\n",
            "saving model...\n"
          ],
          "name": "stdout"
        }
      ]
    },
    {
      "cell_type": "code",
      "metadata": {
        "id": "-GLJ6MhS4uXA",
        "colab_type": "code",
        "outputId": "cfc8c821-51ae-4c6e-9c6b-287ee98ca70b",
        "colab": {
          "base_uri": "https://localhost:8080/",
          "height": 295
        }
      },
      "source": [
        "from matplotlib import pyplot as plt\n",
        "plt.figure()\n",
        "plt.plot(history.history['loss'])\n",
        "plt.plot(history.history['val_loss'])\n",
        "plt.title('Model loss')\n",
        "plt.ylabel('Loss')\n",
        "plt.xlabel('Epoch')\n",
        "plt.legend(['Train', 'Test'], loc='upper left')\n",
        "#plt.show()\n",
        "plt.savefig(os.path.join(OUTPUT_PATH, 'train_vis_BS_'+str(BATCH_SIZE)+\"_\"+time.ctime()+'.png'))"
      ],
      "execution_count": 0,
      "outputs": [
        {
          "output_type": "display_data",
          "data": {
            "image/png": "[encoded data removed]",
            "text/plain": [
              "<Figure size 432x288 with 1 Axes>"
            ]
          },
          "metadata": {
            "tags": [],
            "needs_background": "light"
          }
        }
      ]
    },
    {
      "cell_type": "code",
      "metadata": {
        "id": "Er0Awu0U4wwC",
        "colab_type": "code",
        "outputId": "c468cae8-7e4e-4999-a4b4-bf6fa38b0e3f",
        "colab": {
          "base_uri": "https://localhost:8080/",
          "height": 35
        }
      },
      "source": [
        "saved_model = load_model(os.path.join(OUTPUT_PATH, 'best_model.h5')) \n",
        "print(saved_model)"
      ],
      "execution_count": 0,
      "outputs": [
        {
          "output_type": "stream",
          "text": [
            "<keras.engine.sequential.Sequential object at 0x7fd426a13978>\n"
          ],
          "name": "stdout"
        }
      ]
    },
    {
      "cell_type": "code",
      "metadata": {
        "id": "Y7XdoFaHJGGr",
        "colab_type": "code",
        "colab": {}
      },
      "source": [
        "y_train_pred = saved_model.predict(x_t,batch_size= 20)"
      ],
      "execution_count": 0,
      "outputs": []
    },
    {
      "cell_type": "code",
      "metadata": {
        "id": "0Cv15qPdKhP9",
        "colab_type": "code",
        "colab": {}
      },
      "source": [
        "y_train_pred = (y_train_pred * min_max_scaler.data_range_[3]) + min_max_scaler.data_min_[3]\n",
        "y_t_org =(y_t * min_max_scaler.data_range_[3]) + min_max_scaler.data_min_[3]"
      ],
      "execution_count": 0,
      "outputs": []
    },
    {
      "cell_type": "code",
      "metadata": {
        "id": "mK0wM6BHLIeB",
        "colab_type": "code",
        "outputId": "dd311d7e-af0c-458c-97a8-81deb2ed7b45",
        "colab": {
          "base_uri": "https://localhost:8080/",
          "height": 295
        }
      },
      "source": [
        "from matplotlib import pyplot as plt\n",
        "plt.figure()\n",
        "plt.plot(y_train_pred)\n",
        "plt.plot(y_t_org)\n",
        "plt.title('Prediction vs Real Stock Price for training set')\n",
        "plt.ylabel('Price')\n",
        "plt.xlabel('Days')\n",
        "plt.legend(['Prediction', 'Real'], loc='upper left')\n",
        "#plt.show()\n",
        "plt.savefig(os.path.join(OUTPUT_PATH, 'pred_vs_real_BS'+str(BATCH_SIZE)+\"_\"+time.ctime()+'.png'))"
      ],
      "execution_count": 0,
      "outputs": [
        {
          "output_type": "display_data",
          "data": {
            "image/png": "[encoded data removed]",
            "text/plain": [
              "<Figure size 432x288 with 1 Axes>"
            ]
          },
          "metadata": {
            "tags": [],
            "needs_background": "light"
          }
        }
      ]
    },
    {
      "cell_type": "code",
      "metadata": {
        "id": "Fo40oT3W43cj",
        "colab_type": "code",
        "colab": {}
      },
      "source": [
        "y_val_pred = saved_model.predict(x_val,batch_size= 20)\n",
        "y_val_pred = (y_val_pred * min_max_scaler.data_range_[3]) + min_max_scaler.data_min_[3]\n",
        "y_val_org =(y_val * min_max_scaler.data_range_[3]) + min_max_scaler.data_min_[3]\n"
      ],
      "execution_count": 0,
      "outputs": []
    },
    {
      "cell_type": "code",
      "metadata": {
        "id": "wCrvtblx46dB",
        "colab_type": "code",
        "outputId": "3a5de211-d1ad-49ee-8c9d-c3432a7a726c",
        "colab": {
          "base_uri": "https://localhost:8080/",
          "height": 312
        }
      },
      "source": [
        "from matplotlib import pyplot as plt\n",
        "plt.figure()\n",
        "plt.plot(y_val_pred)\n",
        "plt.plot(y_val_org)\n",
        "plt.title('Prediction vs Real Stock Price for training set')\n",
        "plt.ylabel('Price')\n",
        "plt.xlabel('Days')\n",
        "plt.legend(['Prediction', 'Real'], loc='upper left')"
      ],
      "execution_count": 0,
      "outputs": [
        {
          "output_type": "execute_result",
          "data": {
            "text/plain": [
              "<matplotlib.legend.Legend at 0x7fd426371860>"
            ]
          },
          "metadata": {
            "tags": []
          },
          "execution_count": 22
        },
        {
          "output_type": "display_data",
          "data": {
            "image/png": "[encoded data removed]",
            "text/plain": [
              "<Figure size 432x288 with 1 Axes>"
            ]
          },
          "metadata": {
            "tags": [],
            "needs_background": "light"
          }
        }
      ]
    },
    {
      "cell_type": "code",
      "metadata": {
        "id": "YJfHf2HM49JS",
        "colab_type": "code",
        "colab": {}
      },
      "source": [
        "y_test_pred = saved_model.predict(x_test,batch_size= 20)\n",
        "y_test_pred = (y_test_pred * min_max_scaler.data_range_[3]) + min_max_scaler.data_min_[3]\n",
        "y_test_org =(y_test * min_max_scaler.data_range_[3]) + min_max_scaler.data_min_[3]"
      ],
      "execution_count": 0,
      "outputs": []
    },
    {
      "cell_type": "code",
      "metadata": {
        "id": "-f4td5bfnEST",
        "colab_type": "code",
        "outputId": "48bbf487-2f19-48c8-a208-4b0a499dc186",
        "colab": {
          "base_uri": "https://localhost:8080/",
          "height": 295
        }
      },
      "source": [
        "from matplotlib import pyplot as plt\n",
        "plt.figure()\n",
        "plt.plot(y_test_pred[-20:])\n",
        "plt.plot(y_test_org[-20:])\n",
        "plt.title('Prediction vs Real Stock Price for test set')\n",
        "plt.ylabel('Price')\n",
        "plt.xlabel('Days')\n",
        "plt.legend(['Prediction', 'Real'], loc='upper left')\n",
        "#plt.show()\n",
        "plt.savefig(os.path.join(OUTPUT_PATH, 'pred_vs_real_test'+str(BATCH_SIZE)+\"_\"+time.ctime()+'.png'))\n"
      ],
      "execution_count": 0,
      "outputs": [
        {
          "output_type": "display_data",
          "data": {
            "image/png": "[encoded data removed]",
            "text/plain": [
              "<Figure size 432x288 with 1 Axes>"
            ]
          },
          "metadata": {
            "tags": [],
            "needs_background": "light"
          }
        }
      ]
    },
    {
      "cell_type": "code",
      "metadata": {
        "id": "UuoiBb6sEnC8",
        "colab_type": "code",
        "colab": {}
      },
      "source": [
        "y=df_test.loc[:,\"Close\"].values"
      ],
      "execution_count": 0,
      "outputs": []
    },
    {
      "cell_type": "code",
      "metadata": {
        "id": "k6Xt9DDrFB4v",
        "colab_type": "code",
        "outputId": "ae23b60c-bdeb-4e39-edbf-0ecacaf8ac83",
        "colab": {
          "base_uri": "https://localhost:8080/",
          "height": 69
        }
      },
      "source": [
        "y"
      ],
      "execution_count": 0,
      "outputs": [
        {
          "output_type": "execute_result",
          "data": {
            "text/plain": [
              "array([786.14, 786.9 , 794.02, 806.15, 806.65, 804.79, 807.91, 806.36,\n",
              "       807.88, 804.61, 806.07, 802.17, 805.02, 819.31, 823.87, 835.67,\n",
              "       832.15, 823.31, 802.32, 796.79])"
            ]
          },
          "metadata": {
            "tags": []
          },
          "execution_count": 14
        }
      ]
    },
    {
      "cell_type": "code",
      "metadata": {
        "id": "bH4K2s38nGpA",
        "colab_type": "code",
        "outputId": "d7211f2e-3dbd-4114-dc50-e890bbfdfc1c",
        "colab": {
          "base_uri": "https://localhost:8080/",
          "height": 295
        }
      },
      "source": [
        "from matplotlib import pyplot as plt\n",
        "plt.figure()\n",
        "plt.plot(y)\n",
        "plt.title('Prediction vs Real Stock Price for test set')\n",
        "plt.ylabel('Price')\n",
        "plt.xlabel('Days')\n",
        "plt.legend(['Prediction', 'Real'], loc='upper left')\n",
        "#plt.show()\n",
        "plt.savefig(os.path.join(OUTPUT_PATH, 'pred_vs_real_test'+str(BATCH_SIZE)+\"_\"+time.ctime()+'.png'))\n"
      ],
      "execution_count": 0,
      "outputs": [
        {
          "output_type": "display_data",
          "data": {
            "image/png": "[encoded data removed]",
            "text/plain": [
              "<Figure size 432x288 with 1 Axes>"
            ]
          },
          "metadata": {
            "tags": [],
            "needs_background": "light"
          }
        }
      ]
    },
    {
      "cell_type": "code",
      "metadata": {
        "id": "a3GsymuzESWC",
        "colab_type": "code",
        "colab": {}
      },
      "source": [
        ""
      ],
      "execution_count": 0,
      "outputs": []
    }
  ]
}