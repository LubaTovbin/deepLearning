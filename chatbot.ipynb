{
  "nbformat": 4,
  "nbformat_minor": 0,
  "metadata": {
    "colab": {
      "name": "chatbot.ipynb",
      "provenance": [],
      "collapsed_sections": [],
      "authorship_tag": "ABX9TyPBGfBsHUQeOEt1ATmaF/tj"
    },
    "kernelspec": {
      "name": "python3",
      "display_name": "Python 3"
    },
    "accelerator": "GPU"
  },
  "cells": [
    {
      "cell_type": "markdown",
      "metadata": {
        "id": "IuvWdn3XSMtO",
        "colab_type": "text"
      },
      "source": [
        "reference: https://medium.com/tensorflow/a-transformer-chatbot-tutorial-with-tensorflow-2-0-88bf59e66fe2"
      ]
    },
    {
      "cell_type": "code",
      "metadata": {
        "id": "4O005nxgSw7D",
        "colab_type": "code",
        "colab": {}
      },
      "source": [
        "import tensorflow_datasets as tfds\n",
        "import tensorflow as tf\n",
        "import os\n",
        "import re\n",
        "import numpy as np\n",
        "\n",
        "import matplotlib.pyplot as plt"
      ],
      "execution_count": 0,
      "outputs": []
    },
    {
      "cell_type": "code",
      "metadata": {
        "id": "RO2l8MdtG4EM",
        "colab_type": "code",
        "outputId": "c4b07907-2d69-462d-b5f1-603659f8762b",
        "colab": {
          "base_uri": "https://localhost:8080/",
          "height": 124
        }
      },
      "source": [
        "from google.colab import drive\n",
        "drive.mount('/content/drive')"
      ],
      "execution_count": 0,
      "outputs": [
        {
          "output_type": "stream",
          "text": [
            "Go to this URL in a browser: https://accounts.google.com/o/oauth2/auth?client_id=947318989803-6bn6qk8qdgf4n4g3pfee6491hc0brc4i.apps.googleusercontent.com&redirect_uri=urn%3aietf%3awg%3aoauth%3a2.0%3aoob&response_type=code&scope=email%20https%3a%2f%2fwww.googleapis.com%2fauth%2fdocs.test%20https%3a%2f%2fwww.googleapis.com%2fauth%2fdrive%20https%3a%2f%2fwww.googleapis.com%2fauth%2fdrive.photos.readonly%20https%3a%2f%2fwww.googleapis.com%2fauth%2fpeopleapi.readonly\n",
            "\n",
            "Enter your authorization code:\n",
            "··········\n",
            "Mounted at /content/drive\n"
          ],
          "name": "stdout"
        }
      ]
    },
    {
      "cell_type": "code",
      "metadata": {
        "id": "jyA63AybecRJ",
        "colab_type": "code",
        "colab": {}
      },
      "source": [
        "path_to_dataset = '/content/drive/My Drive/chatbot/'\n",
        "path_to_movie_lines = os.path.join(path_to_dataset, 'movie_lines.txt')\n",
        "path_to_movie_conversations = os.path.join(path_to_dataset,\n",
        "                                           'movie_conversations.txt')"
      ],
      "execution_count": 0,
      "outputs": []
    },
    {
      "cell_type": "code",
      "metadata": {
        "id": "qmSmSjdyKbgY",
        "colab_type": "code",
        "colab": {}
      },
      "source": [
        "def preprocess_sentence(sentence):\n",
        "  sentence = sentence.lower().strip()\n",
        "  sentence = re.sub(r\"([?.!,])\", r\" \\1 \", sentence)\n",
        "  sentence = re.sub(r'[\" \"]+', \" \", sentence)\n",
        "\n",
        "  sentence = re.sub(r\"i'm\", \"i am\", sentence)\n",
        "  sentence = re.sub(r\"he's\", \"he is\", sentence)\n",
        "  sentence = re.sub(r\"she's\", \"she is\", sentence)\n",
        "  sentence = re.sub(r\"it's\", \"it is\", sentence)\n",
        "  sentence = re.sub(r\"that's\", \"that is\", sentence)\n",
        "  sentence = re.sub(r\"what's\", \"what is\", sentence)\n",
        "  sentence = re.sub(r\"where's\", \"where is\", sentence)\n",
        "  sentence = re.sub(r\"how's\", \"how is\", sentence)\n",
        "  sentence = re.sub(r\"\\'ll\", \" will\", sentence)\n",
        "  sentence = re.sub(r\"\\'ve\", \" have\", sentence)\n",
        "  sentence = re.sub(r\"\\'re\", \" are\", sentence)\n",
        "  sentence = re.sub(r\"\\'d\", \" would\", sentence)\n",
        "  sentence = re.sub(r\"can't\", \"can not\", sentence)\n",
        "  sentence = re.sub(r\"n't\", \" not\", sentence)\n",
        "  sentence = re.sub(r\"won't\", \"will not\", sentence)\n",
        "  sentence = re.sub(r\"can't\", \"cannot\", sentence)\n",
        "  sentence = re.sub(r\"[^a-zA-Z?.!,]+\", \" \", sentence)\n",
        "  sentence = sentence.strip()\n",
        "  return sentence"
      ],
      "execution_count": 0,
      "outputs": []
    },
    {
      "cell_type": "code",
      "metadata": {
        "id": "29ECpX6fTSll",
        "colab_type": "code",
        "colab": {}
      },
      "source": [
        "def load_conversations():\n",
        "  # dictionary of line id to text\n",
        "  id2line = {}\n",
        "  with open(path_to_movie_lines, errors='ignore') as file:\n",
        "    lines = file.readlines()\n",
        "  for line in lines:\n",
        "    parts = line.replace('\\n', '').split(' +++$+++ ')\n",
        "    id2line[parts[0]] = parts[4]\n",
        "\n",
        "  inputs, outputs = [], []\n",
        "  with open(path_to_movie_conversations, 'r') as file:\n",
        "    lines = file.readlines()\n",
        "  for line in lines:\n",
        "    parts = line.replace('\\n', '').split(' +++$+++ ')\n",
        "    # get conversation in a list of line ID\n",
        "    conversation = [line[1:-1] for line in parts[3][1:-1].split(', ')]\n",
        "    for i in range(len(conversation) - 1):\n",
        "      inputs.append(preprocess_sentence(id2line[conversation[i]]))\n",
        "      outputs.append(preprocess_sentence(id2line[conversation[i + 1]]))\n",
        "      ##if len(inputs) >= MAX_SAMPLES:\n",
        "      ##  return inputs, outputs\n",
        "      \n",
        "  return inputs, outputs\n",
        "\n",
        "\n",
        "questions, answers = load_conversations()"
      ],
      "execution_count": 0,
      "outputs": []
    },
    {
      "cell_type": "code",
      "metadata": {
        "id": "nRRBXYpuTnFg",
        "colab_type": "code",
        "outputId": "252ce687-2fa4-45b4-f06d-4a507a791cff",
        "colab": {
          "base_uri": "https://localhost:8080/",
          "height": 52
        }
      },
      "source": [
        "print('Sample question: {}'.format(questions[20]))\n",
        "print('Sample answer: {}'.format(answers[20]))"
      ],
      "execution_count": 0,
      "outputs": [
        {
          "output_type": "stream",
          "text": [
            "Sample question: i really , really , really wanna go , but i can not . not unless my sister goes .\n",
            "Sample answer: i am workin on it . but she does not seem to be goin for him .\n"
          ],
          "name": "stdout"
        }
      ]
    },
    {
      "cell_type": "code",
      "metadata": {
        "id": "uUvL6tAhT3t1",
        "colab_type": "code",
        "colab": {}
      },
      "source": [
        "# Build tokenizer using tfds for both questions and answers\n",
        "tokenizer = tfds.features.text.SubwordTextEncoder.build_from_corpus(\n",
        "    questions + answers, target_vocab_size=2**14)\n",
        "\n",
        "# Define start and end token to indicate the start and end of a sentence\n",
        "START_TOKEN, END_TOKEN = [tokenizer.vocab_size], [tokenizer.vocab_size + 1]\n",
        "\n",
        "# Vocabulary size plus start and end token\n",
        "VOCAB_SIZE = tokenizer.vocab_size + 2"
      ],
      "execution_count": 0,
      "outputs": []
    },
    {
      "cell_type": "code",
      "metadata": {
        "id": "807MBXHnT62N",
        "colab_type": "code",
        "outputId": "7794a721-7020-4754-de7b-215991032590",
        "colab": {
          "base_uri": "https://localhost:8080/",
          "height": 35
        }
      },
      "source": [
        "print('Tokenized sample question: {}'.format(tokenizer.encode(questions[20])))"
      ],
      "execution_count": 0,
      "outputs": [
        {
          "output_type": "stream",
          "text": [
            "Tokenized sample question: [4, 286, 2, 286, 2, 144, 382, 194, 2, 42, 4, 38, 104, 3, 11, 798, 31, 1170, 2214, 1]\n"
          ],
          "name": "stdout"
        }
      ]
    },
    {
      "cell_type": "code",
      "metadata": {
        "id": "a5qs2j6aUD6f",
        "colab_type": "code",
        "colab": {}
      },
      "source": [
        "# Maximum sentence length\n",
        "MAX_LENGTH = 40\n",
        "\n",
        "\n",
        "# Tokenize, filter and pad sentences\n",
        "def tokenize_and_filter(inputs, outputs):\n",
        "  tokenized_inputs, tokenized_outputs = [], []\n",
        "  \n",
        "  for (sentence1, sentence2) in zip(inputs, outputs):\n",
        "    # tokenize sentence\n",
        "    sentence1 = START_TOKEN + tokenizer.encode(sentence1) + END_TOKEN\n",
        "    sentence2 = START_TOKEN + tokenizer.encode(sentence2) + END_TOKEN\n",
        "    # check tokenized sentence max length\n",
        "    if len(sentence1) <= MAX_LENGTH and len(sentence2) <= MAX_LENGTH:\n",
        "      tokenized_inputs.append(sentence1)\n",
        "      tokenized_outputs.append(sentence2)\n",
        "  \n",
        "  # pad tokenized sentences\n",
        "  tokenized_inputs = tf.keras.preprocessing.sequence.pad_sequences(\n",
        "      tokenized_inputs, maxlen=MAX_LENGTH, padding='post')\n",
        "  tokenized_outputs = tf.keras.preprocessing.sequence.pad_sequences(\n",
        "      tokenized_outputs, maxlen=MAX_LENGTH, padding='post')\n",
        "  \n",
        "  return tokenized_inputs, tokenized_outputs\n",
        "\n",
        "\n",
        "questions, answers = tokenize_and_filter(questions, answers)"
      ],
      "execution_count": 0,
      "outputs": []
    },
    {
      "cell_type": "code",
      "metadata": {
        "id": "Nf2gD6N-UFAZ",
        "colab_type": "code",
        "outputId": "a6fc19c8-b8bc-47bd-c54c-a8b7481aecb7",
        "colab": {
          "base_uri": "https://localhost:8080/",
          "height": 52
        }
      },
      "source": [
        "print('Vocab size: {}'.format(VOCAB_SIZE))\n",
        "print('Number of samples: {}'.format(len(questions)))"
      ],
      "execution_count": 0,
      "outputs": [
        {
          "output_type": "stream",
          "text": [
            "Vocab size: 16554\n",
            "Number of samples: 197329\n"
          ],
          "name": "stdout"
        }
      ]
    },
    {
      "cell_type": "code",
      "metadata": {
        "id": "ogBagaY2UIfV",
        "colab_type": "code",
        "colab": {}
      },
      "source": [
        "BATCH_SIZE = 256\n",
        "BUFFER_SIZE = 40000\n",
        "\n",
        "# decoder inputs use the previous target as input\n",
        "# remove START_TOKEN from targets\n",
        "dataset = tf.data.Dataset.from_tensor_slices((\n",
        "    {\n",
        "        'inputs': questions,\n",
        "        'dec_inputs': answers[:, :-1]\n",
        "    },\n",
        "    {\n",
        "        'outputs': answers[:, 1:]\n",
        "    },\n",
        "))\n",
        "\n",
        "dataset = dataset.cache()\n",
        "dataset = dataset.shuffle(BUFFER_SIZE)\n",
        "dataset = dataset.batch(BATCH_SIZE)\n",
        "dataset = dataset.prefetch(tf.data.experimental.AUTOTUNE)"
      ],
      "execution_count": 0,
      "outputs": []
    },
    {
      "cell_type": "code",
      "metadata": {
        "id": "Hsxs0O3cUMqJ",
        "colab_type": "code",
        "outputId": "0f76b0e4-44ad-4634-c296-dda07877d4f7",
        "colab": {
          "base_uri": "https://localhost:8080/",
          "height": 35
        }
      },
      "source": [
        "print(dataset)"
      ],
      "execution_count": 0,
      "outputs": [
        {
          "output_type": "stream",
          "text": [
            "<PrefetchDataset shapes: ({inputs: (None, 40), dec_inputs: (None, 39)}, {outputs: (None, 39)}), types: ({inputs: tf.int32, dec_inputs: tf.int32}, {outputs: tf.int32})>\n"
          ],
          "name": "stdout"
        }
      ]
    },
    {
      "cell_type": "code",
      "metadata": {
        "id": "tq8PkbpzUVcE",
        "colab_type": "code",
        "colab": {}
      },
      "source": [
        "def scaled_dot_product_attention(query, key, value, mask):\n",
        "  \"\"\"Calculate the attention weights. \"\"\"\n",
        "  matmul_qk = tf.matmul(query, key, transpose_b=True)\n",
        "\n",
        "  # scale matmul_qk\n",
        "  depth = tf.cast(tf.shape(key)[-1], tf.float32)\n",
        "  logits = matmul_qk / tf.math.sqrt(depth)\n",
        "\n",
        "  # add the mask to zero out padding tokens\n",
        "  if mask is not None:\n",
        "    logits += (mask * -1e9)\n",
        "\n",
        "  # softmax is normalized on the last axis (seq_len_k)\n",
        "  attention_weights = tf.nn.softmax(logits, axis=-1)\n",
        "\n",
        "  output = tf.matmul(attention_weights, value)\n",
        "\n",
        "  return output"
      ],
      "execution_count": 0,
      "outputs": []
    },
    {
      "cell_type": "code",
      "metadata": {
        "id": "Bp39LlDNUhE5",
        "colab_type": "code",
        "colab": {}
      },
      "source": [
        "class MultiHeadAttention(tf.keras.layers.Layer):\n",
        "\n",
        "  def __init__(self, d_model, num_heads, name=\"multi_head_attention\"):\n",
        "    super(MultiHeadAttention, self).__init__(name=name)\n",
        "    self.num_heads = num_heads\n",
        "    self.d_model = d_model\n",
        "\n",
        "    assert d_model % self.num_heads == 0\n",
        "\n",
        "    self.depth = d_model // self.num_heads\n",
        "\n",
        "    self.query_dense = tf.keras.layers.Dense(units=d_model)\n",
        "    self.key_dense = tf.keras.layers.Dense(units=d_model)\n",
        "    self.value_dense = tf.keras.layers.Dense(units=d_model)\n",
        "\n",
        "    self.dense = tf.keras.layers.Dense(units=d_model)\n",
        "\n",
        "  def split_heads(self, inputs, batch_size):\n",
        "    inputs = tf.reshape(\n",
        "        inputs, shape=(batch_size, -1, self.num_heads, self.depth))\n",
        "    return tf.transpose(inputs, perm=[0, 2, 1, 3])\n",
        "\n",
        "  def call(self, inputs):\n",
        "    query, key, value, mask = inputs['query'], inputs['key'], inputs[\n",
        "        'value'], inputs['mask']\n",
        "    batch_size = tf.shape(query)[0]\n",
        "\n",
        "    # linear layers\n",
        "    query = self.query_dense(query)\n",
        "    key = self.key_dense(key)\n",
        "    value = self.value_dense(value)\n",
        "\n",
        "    # split heads\n",
        "    query = self.split_heads(query, batch_size)\n",
        "    key = self.split_heads(key, batch_size)\n",
        "    value = self.split_heads(value, batch_size)\n",
        "\n",
        "    # scaled dot-product attention\n",
        "    scaled_attention = scaled_dot_product_attention(query, key, value, mask)\n",
        "\n",
        "    scaled_attention = tf.transpose(scaled_attention, perm=[0, 2, 1, 3])\n",
        "\n",
        "    # concatenation of heads\n",
        "    concat_attention = tf.reshape(scaled_attention,\n",
        "                                  (batch_size, -1, self.d_model))\n",
        "\n",
        "    # final linear layer\n",
        "    outputs = self.dense(concat_attention)\n",
        "\n",
        "    return outputs"
      ],
      "execution_count": 0,
      "outputs": []
    },
    {
      "cell_type": "code",
      "metadata": {
        "id": "aFNkUNGCUk9O",
        "colab_type": "code",
        "colab": {}
      },
      "source": [
        "def create_padding_mask(x):\n",
        "  mask = tf.cast(tf.math.equal(x, 0), tf.float32)\n",
        "  # (batch_size, 1, 1, sequence length)\n",
        "  return mask[:, tf.newaxis, tf.newaxis, :]"
      ],
      "execution_count": 0,
      "outputs": []
    },
    {
      "cell_type": "code",
      "metadata": {
        "id": "ObuxpyVOUpHh",
        "colab_type": "code",
        "colab": {}
      },
      "source": [
        "def create_look_ahead_mask(x):\n",
        "  seq_len = tf.shape(x)[1]\n",
        "  look_ahead_mask = 1 - tf.linalg.band_part(tf.ones((seq_len, seq_len)), -1, 0)\n",
        "  padding_mask = create_padding_mask(x)\n",
        "  return tf.maximum(look_ahead_mask, padding_mask)"
      ],
      "execution_count": 0,
      "outputs": []
    },
    {
      "cell_type": "code",
      "metadata": {
        "id": "BOlLW0CCp5rt",
        "colab_type": "code",
        "colab": {}
      },
      "source": [
        "class PositionalEncoding(tf.keras.layers.Layer):\n",
        "\n",
        "  def __init__(self, position, d_model):\n",
        "    super(PositionalEncoding, self).__init__()\n",
        "    self.pos_encoding = self.positional_encoding(position, d_model)\n",
        "\n",
        "  def get_angles(self, position, i, d_model):\n",
        "    angles = 1 / tf.pow(10000, (2 * (i // 2)) / tf.cast(d_model, tf.float32))\n",
        "    return position * angles\n",
        "\n",
        "  def positional_encoding(self, position, d_model):\n",
        "    angle_rads = self.get_angles(\n",
        "        position=tf.range(position, dtype=tf.float32)[:, tf.newaxis],\n",
        "        i=tf.range(d_model, dtype=tf.float32)[tf.newaxis, :],\n",
        "        d_model=d_model)\n",
        "    # apply sin to even index in the array\n",
        "    sines = tf.math.sin(angle_rads[:, 0::2])\n",
        "    # apply cos to odd index in the array\n",
        "    cosines = tf.math.cos(angle_rads[:, 1::2])\n",
        "\n",
        "    pos_encoding = tf.concat([sines, cosines], axis=-1)\n",
        "    pos_encoding = pos_encoding[tf.newaxis, ...]\n",
        "    return tf.cast(pos_encoding, tf.float32)\n",
        "\n",
        "  def call(self, inputs):\n",
        "    return inputs + self.pos_encoding[:, :tf.shape(inputs)[1], :]"
      ],
      "execution_count": 0,
      "outputs": []
    },
    {
      "cell_type": "code",
      "metadata": {
        "id": "KsptDGC_Uzg9",
        "colab_type": "code",
        "colab": {}
      },
      "source": [
        "def encoder_layer(units, d_model, num_heads, dropout, name=\"encoder_layer\"):\n",
        "  inputs = tf.keras.Input(shape=(None, d_model), name=\"inputs\")\n",
        "  padding_mask = tf.keras.Input(shape=(1, 1, None), name=\"padding_mask\")\n",
        "\n",
        "  attention = MultiHeadAttention(\n",
        "      d_model, num_heads, name=\"attention\")({\n",
        "          'query': inputs,\n",
        "          'key': inputs,\n",
        "          'value': inputs,\n",
        "          'mask': padding_mask\n",
        "      })\n",
        "  attention = tf.keras.layers.Dropout(rate=dropout)(attention)\n",
        "  attention = tf.keras.layers.LayerNormalization(\n",
        "      epsilon=1e-6)(inputs + attention)\n",
        "\n",
        "  outputs = tf.keras.layers.Dense(units=units, activation='relu')(attention)\n",
        "  outputs = tf.keras.layers.Dense(units=d_model)(outputs)\n",
        "  outputs = tf.keras.layers.Dropout(rate=dropout)(outputs)\n",
        "  outputs = tf.keras.layers.LayerNormalization(\n",
        "      epsilon=1e-6)(attention + outputs)\n",
        "\n",
        "  return tf.keras.Model(\n",
        "      inputs=[inputs, padding_mask], outputs=outputs, name=name)"
      ],
      "execution_count": 0,
      "outputs": []
    },
    {
      "cell_type": "code",
      "metadata": {
        "id": "AI5avt0qU4iy",
        "colab_type": "code",
        "colab": {}
      },
      "source": [
        "def encoder(vocab_size,\n",
        "            num_layers,\n",
        "            units,\n",
        "            d_model,\n",
        "            num_heads,\n",
        "            dropout,\n",
        "            name=\"encoder\"):\n",
        "  inputs = tf.keras.Input(shape=(None,), name=\"inputs\")\n",
        "  padding_mask = tf.keras.Input(shape=(1, 1, None), name=\"padding_mask\")\n",
        "\n",
        "  embeddings = tf.keras.layers.Embedding(vocab_size, d_model)(inputs)\n",
        "  embeddings *= tf.math.sqrt(tf.cast(d_model, tf.float32))\n",
        "  embeddings = PositionalEncoding(vocab_size, d_model)(embeddings)\n",
        "\n",
        "  outputs = tf.keras.layers.Dropout(rate=dropout)(embeddings)\n",
        "\n",
        "  for i in range(num_layers):\n",
        "    outputs = encoder_layer(\n",
        "        units=units,\n",
        "        d_model=d_model,\n",
        "        num_heads=num_heads,\n",
        "        dropout=dropout,\n",
        "        name=\"encoder_layer_{}\".format(i),\n",
        "    )([outputs, padding_mask])\n",
        "\n",
        "  return tf.keras.Model(\n",
        "      inputs=[inputs, padding_mask], outputs=outputs, name=name)"
      ],
      "execution_count": 0,
      "outputs": []
    },
    {
      "cell_type": "code",
      "metadata": {
        "id": "pr9WwJSSp_RX",
        "colab_type": "code",
        "colab": {}
      },
      "source": [
        "def decoder_layer(units, d_model, num_heads, dropout, name=\"decoder_layer\"):\n",
        "  inputs = tf.keras.Input(shape=(None, d_model), name=\"inputs\")\n",
        "  enc_outputs = tf.keras.Input(shape=(None, d_model), name=\"encoder_outputs\")\n",
        "  look_ahead_mask = tf.keras.Input(\n",
        "      shape=(1, None, None), name=\"look_ahead_mask\")\n",
        "  padding_mask = tf.keras.Input(shape=(1, 1, None), name='padding_mask')\n",
        "\n",
        "  attention1 = MultiHeadAttention(\n",
        "      d_model, num_heads, name=\"attention_1\")(inputs={\n",
        "          'query': inputs,\n",
        "          'key': inputs,\n",
        "          'value': inputs,\n",
        "          'mask': look_ahead_mask\n",
        "      })\n",
        "  attention1 = tf.keras.layers.LayerNormalization(\n",
        "      epsilon=1e-6)(attention1 + inputs)\n",
        "\n",
        "  attention2 = MultiHeadAttention(\n",
        "      d_model, num_heads, name=\"attention_2\")(inputs={\n",
        "          'query': attention1,\n",
        "          'key': enc_outputs,\n",
        "          'value': enc_outputs,\n",
        "          'mask': padding_mask\n",
        "      })\n",
        "  attention2 = tf.keras.layers.Dropout(rate=dropout)(attention2)\n",
        "  attention2 = tf.keras.layers.LayerNormalization(\n",
        "      epsilon=1e-6)(attention2 + attention1)\n",
        "\n",
        "  outputs = tf.keras.layers.Dense(units=units, activation='relu')(attention2)\n",
        "  outputs = tf.keras.layers.Dense(units=d_model)(outputs)\n",
        "  outputs = tf.keras.layers.Dropout(rate=dropout)(outputs)\n",
        "  outputs = tf.keras.layers.LayerNormalization(\n",
        "      epsilon=1e-6)(outputs + attention2)\n",
        "\n",
        "  return tf.keras.Model(\n",
        "      inputs=[inputs, enc_outputs, look_ahead_mask, padding_mask],\n",
        "      outputs=outputs,\n",
        "      name=name)"
      ],
      "execution_count": 0,
      "outputs": []
    },
    {
      "cell_type": "code",
      "metadata": {
        "id": "cuJ5HcqQpmzj",
        "colab_type": "code",
        "colab": {}
      },
      "source": [
        "\n",
        "def decoder(vocab_size,\n",
        "            num_layers,\n",
        "            units,\n",
        "            d_model,\n",
        "            num_heads,\n",
        "            dropout,\n",
        "            name='decoder'):\n",
        "  inputs = tf.keras.Input(shape=(None,), name='inputs')\n",
        "  enc_outputs = tf.keras.Input(shape=(None, d_model), name='encoder_outputs')\n",
        "  look_ahead_mask = tf.keras.Input(\n",
        "      shape=(1, None, None), name='look_ahead_mask')\n",
        "  padding_mask = tf.keras.Input(shape=(1, 1, None), name='padding_mask')\n",
        "  \n",
        "  embeddings = tf.keras.layers.Embedding(vocab_size, d_model)(inputs)\n",
        "  embeddings *= tf.math.sqrt(tf.cast(d_model, tf.float32))\n",
        "  embeddings = PositionalEncoding(vocab_size, d_model)(embeddings)\n",
        "\n",
        "  outputs = tf.keras.layers.Dropout(rate=dropout)(embeddings)\n",
        "\n",
        "  for i in range(num_layers):\n",
        "    outputs = decoder_layer(\n",
        "        units=units,\n",
        "        d_model=d_model,\n",
        "        num_heads=num_heads,\n",
        "        dropout=dropout,\n",
        "        name='decoder_layer_{}'.format(i),\n",
        "    )(inputs=[outputs, enc_outputs, look_ahead_mask, padding_mask])\n",
        "\n",
        "  return tf.keras.Model(\n",
        "      inputs=[inputs, enc_outputs, look_ahead_mask, padding_mask],\n",
        "      outputs=outputs,\n",
        "      name=name)"
      ],
      "execution_count": 0,
      "outputs": []
    },
    {
      "cell_type": "code",
      "metadata": {
        "id": "KsUBq07vqI9I",
        "colab_type": "code",
        "colab": {}
      },
      "source": [
        "def transformer(vocab_size,\n",
        "                num_layers,\n",
        "                units,\n",
        "                d_model,\n",
        "                num_heads,\n",
        "                dropout,\n",
        "                name=\"transformer\"):\n",
        "  inputs = tf.keras.Input(shape=(None,), name=\"inputs\")\n",
        "  dec_inputs = tf.keras.Input(shape=(None,), name=\"dec_inputs\")\n",
        "\n",
        "  enc_padding_mask = tf.keras.layers.Lambda(\n",
        "      create_padding_mask, output_shape=(1, 1, None),\n",
        "      name='enc_padding_mask')(inputs)\n",
        "  # mask the future tokens for decoder inputs at the 1st attention block\n",
        "  look_ahead_mask = tf.keras.layers.Lambda(\n",
        "      create_look_ahead_mask,\n",
        "      output_shape=(1, None, None),\n",
        "      name='look_ahead_mask')(dec_inputs)\n",
        "  # mask the encoder outputs for the 2nd attention block\n",
        "  dec_padding_mask = tf.keras.layers.Lambda(\n",
        "      create_padding_mask, output_shape=(1, 1, None),\n",
        "      name='dec_padding_mask')(inputs)\n",
        "\n",
        "  enc_outputs = encoder(\n",
        "      vocab_size=vocab_size,\n",
        "      num_layers=num_layers,\n",
        "      units=units,\n",
        "      d_model=d_model,\n",
        "      num_heads=num_heads,\n",
        "      dropout=dropout,\n",
        "  )(inputs=[inputs, enc_padding_mask])\n",
        "\n",
        "  dec_outputs = decoder(\n",
        "      vocab_size=vocab_size,\n",
        "      num_layers=num_layers,\n",
        "      units=units,\n",
        "      d_model=d_model,\n",
        "      num_heads=num_heads,\n",
        "      dropout=dropout,\n",
        "  )(inputs=[dec_inputs, enc_outputs, look_ahead_mask, dec_padding_mask])\n",
        "\n",
        "  outputs = tf.keras.layers.Dense(units=vocab_size, name=\"outputs\")(dec_outputs)\n",
        "\n",
        "  return tf.keras.Model(inputs=[inputs, dec_inputs], outputs=outputs, name=name)"
      ],
      "execution_count": 0,
      "outputs": []
    },
    {
      "cell_type": "code",
      "metadata": {
        "id": "RZkMp_K_qUyd",
        "colab_type": "code",
        "outputId": "575968bc-6953-4960-ef84-61743a2c6c09",
        "colab": {
          "base_uri": "https://localhost:8080/",
          "height": 533
        }
      },
      "source": [
        "tf.keras.backend.clear_session()\n",
        "\n",
        "# Hyper-parameters\n",
        "NUM_LAYERS = 2\n",
        "D_MODEL = 256\n",
        "NUM_HEADS = 8\n",
        "UNITS = 2048\n",
        "DROPOUT = 0.1\n",
        "\n",
        "model = transformer(\n",
        "    vocab_size=VOCAB_SIZE,\n",
        "    num_layers=NUM_LAYERS,\n",
        "    units=UNITS,\n",
        "    d_model=D_MODEL,\n",
        "    num_heads=NUM_HEADS,\n",
        "    dropout=DROPOUT)\n",
        "\n",
        "tf.keras.utils.plot_model(\n",
        "    model, to_file='transformer.png', show_shapes=True)"
      ],
      "execution_count": 0,
      "outputs": [
        {
          "output_type": "execute_result",
          "data": {
            "image/png": "[encoded data removed]",
            "text/plain": [
              "<IPython.core.display.Image object>"
            ]
          },
          "metadata": {
            "tags": []
          },
          "execution_count": 23
        }
      ]
    },
    {
      "cell_type": "code",
      "metadata": {
        "id": "86NO_3pxqbET",
        "colab_type": "code",
        "colab": {}
      },
      "source": [
        "def loss_function(y_true, y_pred):\n",
        "  y_true = tf.reshape(y_true, shape=(-1, MAX_LENGTH - 1))\n",
        "  \n",
        "  loss = tf.keras.losses.SparseCategoricalCrossentropy(\n",
        "      from_logits=True, reduction='none')(y_true, y_pred)\n",
        "\n",
        "  mask = tf.cast(tf.not_equal(y_true, 0), tf.float32)\n",
        "  loss = tf.multiply(loss, mask)\n",
        "\n",
        "  return tf.reduce_mean(loss)"
      ],
      "execution_count": 0,
      "outputs": []
    },
    {
      "cell_type": "code",
      "metadata": {
        "id": "7yzdt0CPqdaw",
        "colab_type": "code",
        "colab": {}
      },
      "source": [
        "class CustomSchedule(tf.keras.optimizers.schedules.LearningRateSchedule):\n",
        "\n",
        "  def __init__(self, d_model, warmup_steps=7000):\n",
        "    super(CustomSchedule, self).__init__()\n",
        "\n",
        "    self.d_model = d_model\n",
        "    self.d_model = tf.cast(self.d_model, tf.float32)\n",
        "\n",
        "    self.warmup_steps = warmup_steps\n",
        "\n",
        "  def __call__(self, step):\n",
        "    arg1 = tf.math.rsqrt(step)\n",
        "    arg2 = step * (self.warmup_steps**-1.4)\n",
        "\n",
        "    return tf.math.rsqrt(self.d_model) * tf.math.minimum(arg1, arg2)\n",
        "  \n",
        "  def get_config(self):\n",
        "    config = {'d_model': self.d_model,'warmup_steps': self.warmup_steps}\n",
        "    return config"
      ],
      "execution_count": 0,
      "outputs": []
    },
    {
      "cell_type": "code",
      "metadata": {
        "id": "vslAWhFEqggA",
        "colab_type": "code",
        "outputId": "3d37c8aa-1f1f-4ece-ef5e-ab5c8e17b1ae",
        "colab": {
          "base_uri": "https://localhost:8080/",
          "height": 296
        }
      },
      "source": [
        "sample_learning_rate = CustomSchedule(d_model=256)\n",
        "\n",
        "plt.plot(sample_learning_rate(tf.range(40000, dtype=tf.float32)))\n",
        "plt.ylabel(\"Learning Rate\")\n",
        "plt.xlabel(\"Train Step\")"
      ],
      "execution_count": 0,
      "outputs": [
        {
          "output_type": "execute_result",
          "data": {
            "text/plain": [
              "Text(0.5, 0, 'Train Step')"
            ]
          },
          "metadata": {
            "tags": []
          },
          "execution_count": 26
        },
        {
          "output_type": "display_data",
          "data": {
            "image/png": "[encoded data removed]",
            "text/plain": [
              "<Figure size 432x288 with 1 Axes>"
            ]
          },
          "metadata": {
            "tags": [],
            "needs_background": "light"
          }
        }
      ]
    },
    {
      "cell_type": "code",
      "metadata": {
        "id": "k074LJcyrng9",
        "colab_type": "code",
        "colab": {}
      },
      "source": [
        "folderpath='/content/drive/My Drive/chatbot/'\n",
        "filepath=folderpath+'model6-{epoch:02d}.hdf5'\n",
        "cp_callback = tf.keras.callbacks.ModelCheckpoint(filepath=filepath,\n",
        "                                                 save_weights_only=True,\n",
        "                                                 verbose=1)"
      ],
      "execution_count": 0,
      "outputs": []
    },
    {
      "cell_type": "code",
      "metadata": {
        "id": "Nzt-Khljqi-0",
        "colab_type": "code",
        "colab": {}
      },
      "source": [
        "learning_rate = CustomSchedule(D_MODEL)\n",
        "\n",
        "optimizer = tf.keras.optimizers.Adam(\n",
        "    learning_rate, beta_1=0.9, beta_2=0.98, epsilon=1e-9)\n",
        "\n",
        "def accuracy(y_true, y_pred):\n",
        "  # ensure labels have shape (batch_size, MAX_LENGTH - 1)\n",
        "  y_true = tf.reshape(y_true, shape=(-1, MAX_LENGTH - 1))\n",
        "  return tf.keras.metrics.sparse_categorical_accuracy(y_true, y_pred)\n",
        "\n",
        "history = model.compile(optimizer=optimizer, loss=loss_function, metrics=[accuracy])"
      ],
      "execution_count": 0,
      "outputs": []
    },
    {
      "cell_type": "code",
      "metadata": {
        "id": "cFcrgYpyD2sO",
        "colab_type": "code",
        "outputId": "3e1dfba7-1475-4d29-ad18-1156147e5706",
        "colab": {
          "base_uri": "https://localhost:8080/",
          "height": 1000
        }
      },
      "source": [
        "EPOCHS = 50\n",
        "ini_epochs= 0\n",
        "\n",
        "model.fit(dataset, epochs=EPOCHS,initial_epoch = ini_epochs,callbacks=[cp_callback])"
      ],
      "execution_count": 0,
      "outputs": [
        {
          "output_type": "stream",
          "text": [
            "Epoch 1/50\n",
            "771/771 [==============================] - ETA: 0s - loss: 2.0605 - accuracy: 0.0503\n",
            "Epoch 00001: saving model to /content/drive/My Drive/chatbot/model6-01.hdf5\n",
            "771/771 [==============================] - 472s 613ms/step - loss: 2.0605 - accuracy: 0.0503\n",
            "Epoch 2/50\n",
            "771/771 [==============================] - ETA: 0s - loss: 1.4017 - accuracy: 0.0847\n",
            "Epoch 00002: saving model to /content/drive/My Drive/chatbot/model6-02.hdf5\n",
            "771/771 [==============================] - 475s 616ms/step - loss: 1.4017 - accuracy: 0.0847\n",
            "Epoch 3/50\n",
            "771/771 [==============================] - ETA: 0s - loss: 1.3152 - accuracy: 0.0909\n",
            "Epoch 00003: saving model to /content/drive/My Drive/chatbot/model6-03.hdf5\n",
            "771/771 [==============================] - 470s 609ms/step - loss: 1.3152 - accuracy: 0.0909\n",
            "Epoch 4/50\n",
            "771/771 [==============================] - ETA: 0s - loss: 1.2610 - accuracy: 0.0950\n",
            "Epoch 00004: saving model to /content/drive/My Drive/chatbot/model6-04.hdf5\n",
            "771/771 [==============================] - 470s 610ms/step - loss: 1.2610 - accuracy: 0.0950\n",
            "Epoch 5/50\n",
            "771/771 [==============================] - ETA: 0s - loss: 1.2157 - accuracy: 0.0985\n",
            "Epoch 00005: saving model to /content/drive/My Drive/chatbot/model6-05.hdf5\n",
            "771/771 [==============================] - 470s 609ms/step - loss: 1.2157 - accuracy: 0.0985\n",
            "Epoch 6/50\n",
            "771/771 [==============================] - ETA: 0s - loss: 1.1724 - accuracy: 0.1017\n",
            "Epoch 00006: saving model to /content/drive/My Drive/chatbot/model6-06.hdf5\n",
            "771/771 [==============================] - 473s 614ms/step - loss: 1.1724 - accuracy: 0.1017\n",
            "Epoch 7/50\n",
            "771/771 [==============================] - ETA: 0s - loss: 1.1227 - accuracy: 0.1057\n",
            "Epoch 00007: saving model to /content/drive/My Drive/chatbot/model6-07.hdf5\n",
            "771/771 [==============================] - 472s 612ms/step - loss: 1.1227 - accuracy: 0.1057\n",
            "Epoch 8/50\n",
            "771/771 [==============================] - ETA: 0s - loss: 1.0790 - accuracy: 0.1094\n",
            "Epoch 00008: saving model to /content/drive/My Drive/chatbot/model6-08.hdf5\n",
            "771/771 [==============================] - 470s 609ms/step - loss: 1.0790 - accuracy: 0.1094\n",
            "Epoch 9/50\n",
            "771/771 [==============================] - ETA: 0s - loss: 1.0403 - accuracy: 0.1132\n",
            "Epoch 00009: saving model to /content/drive/My Drive/chatbot/model6-09.hdf5\n",
            "771/771 [==============================] - 469s 608ms/step - loss: 1.0403 - accuracy: 0.1132\n",
            "Epoch 10/50\n",
            "771/771 [==============================] - ETA: 0s - loss: 1.0052 - accuracy: 0.1166\n",
            "Epoch 00010: saving model to /content/drive/My Drive/chatbot/model6-10.hdf5\n",
            "771/771 [==============================] - 470s 609ms/step - loss: 1.0052 - accuracy: 0.1166\n",
            "Epoch 11/50\n",
            "771/771 [==============================] - ETA: 0s - loss: 0.9741 - accuracy: 0.1198\n",
            "Epoch 00011: saving model to /content/drive/My Drive/chatbot/model6-11.hdf5\n",
            "771/771 [==============================] - 470s 609ms/step - loss: 0.9741 - accuracy: 0.1198\n",
            "Epoch 12/50\n",
            "771/771 [==============================] - ETA: 0s - loss: 0.9452 - accuracy: 0.1231\n",
            "Epoch 00012: saving model to /content/drive/My Drive/chatbot/model6-12.hdf5\n",
            "771/771 [==============================] - 469s 608ms/step - loss: 0.9452 - accuracy: 0.1231\n",
            "Epoch 13/50\n",
            "771/771 [==============================] - ETA: 0s - loss: 0.9193 - accuracy: 0.1261\n",
            "Epoch 00013: saving model to /content/drive/My Drive/chatbot/model6-13.hdf5\n",
            "771/771 [==============================] - 469s 608ms/step - loss: 0.9193 - accuracy: 0.1261\n",
            "Epoch 14/50\n",
            "771/771 [==============================] - ETA: 0s - loss: 0.8957 - accuracy: 0.1290\n",
            "Epoch 00014: saving model to /content/drive/My Drive/chatbot/model6-14.hdf5\n",
            "771/771 [==============================] - 470s 609ms/step - loss: 0.8957 - accuracy: 0.1290\n",
            "Epoch 15/50\n",
            "771/771 [==============================] - ETA: 0s - loss: 0.8743 - accuracy: 0.1317\n",
            "Epoch 00015: saving model to /content/drive/My Drive/chatbot/model6-15.hdf5\n",
            "771/771 [==============================] - 472s 613ms/step - loss: 0.8743 - accuracy: 0.1317\n",
            "Epoch 16/50\n",
            "771/771 [==============================] - ETA: 0s - loss: 0.8548 - accuracy: 0.1344\n",
            "Epoch 00016: saving model to /content/drive/My Drive/chatbot/model6-16.hdf5\n",
            "771/771 [==============================] - 474s 615ms/step - loss: 0.8548 - accuracy: 0.1344\n",
            "Epoch 17/50\n",
            "771/771 [==============================] - ETA: 0s - loss: 0.8368 - accuracy: 0.1367\n",
            "Epoch 00017: saving model to /content/drive/My Drive/chatbot/model6-17.hdf5\n",
            "771/771 [==============================] - 470s 609ms/step - loss: 0.8368 - accuracy: 0.1367\n",
            "Epoch 18/50\n",
            "771/771 [==============================] - ETA: 0s - loss: 0.8202 - accuracy: 0.1389\n",
            "Epoch 00018: saving model to /content/drive/My Drive/chatbot/model6-18.hdf5\n",
            "771/771 [==============================] - 470s 609ms/step - loss: 0.8202 - accuracy: 0.1389\n",
            "Epoch 19/50\n",
            "771/771 [==============================] - ETA: 0s - loss: 0.8047 - accuracy: 0.1412\n",
            "Epoch 00019: saving model to /content/drive/My Drive/chatbot/model6-19.hdf5\n",
            "771/771 [==============================] - 470s 609ms/step - loss: 0.8047 - accuracy: 0.1412\n",
            "Epoch 20/50\n",
            "771/771 [==============================] - ETA: 0s - loss: 0.7907 - accuracy: 0.1431\n",
            "Epoch 00020: saving model to /content/drive/My Drive/chatbot/model6-20.hdf5\n",
            "771/771 [==============================] - 470s 609ms/step - loss: 0.7907 - accuracy: 0.1431\n",
            "Epoch 21/50\n",
            "771/771 [==============================] - ETA: 0s - loss: 0.7773 - accuracy: 0.1451\n",
            "Epoch 00021: saving model to /content/drive/My Drive/chatbot/model6-21.hdf5\n",
            "771/771 [==============================] - 472s 612ms/step - loss: 0.7773 - accuracy: 0.1451\n",
            "Epoch 22/50\n",
            "771/771 [==============================] - ETA: 0s - loss: 0.7648 - accuracy: 0.1469\n",
            "Epoch 00022: saving model to /content/drive/My Drive/chatbot/model6-22.hdf5\n",
            "771/771 [==============================] - 470s 610ms/step - loss: 0.7648 - accuracy: 0.1469\n",
            "Epoch 23/50\n",
            "771/771 [==============================] - ETA: 0s - loss: 0.7529 - accuracy: 0.1488\n",
            "Epoch 00023: saving model to /content/drive/My Drive/chatbot/model6-23.hdf5\n",
            "771/771 [==============================] - 469s 608ms/step - loss: 0.7529 - accuracy: 0.1488\n",
            "Epoch 24/50\n",
            "771/771 [==============================] - ETA: 0s - loss: 0.7423 - accuracy: 0.1504\n",
            "Epoch 00024: saving model to /content/drive/My Drive/chatbot/model6-24.hdf5\n",
            "771/771 [==============================] - 468s 607ms/step - loss: 0.7423 - accuracy: 0.1504\n",
            "Epoch 25/50\n",
            "771/771 [==============================] - ETA: 0s - loss: 0.7320 - accuracy: 0.1519\n",
            "Epoch 00025: saving model to /content/drive/My Drive/chatbot/model6-25.hdf5\n",
            "771/771 [==============================] - 469s 608ms/step - loss: 0.7320 - accuracy: 0.1519\n",
            "Epoch 26/50\n",
            "771/771 [==============================] - ETA: 0s - loss: 0.7220 - accuracy: 0.1536\n",
            "Epoch 00026: saving model to /content/drive/My Drive/chatbot/model6-26.hdf5\n",
            "771/771 [==============================] - 470s 609ms/step - loss: 0.7220 - accuracy: 0.1536\n",
            "Epoch 27/50\n",
            "771/771 [==============================] - ETA: 0s - loss: 0.7133 - accuracy: 0.1548\n",
            "Epoch 00027: saving model to /content/drive/My Drive/chatbot/model6-27.hdf5\n",
            "771/771 [==============================] - 469s 609ms/step - loss: 0.7133 - accuracy: 0.1548\n",
            "Epoch 28/50\n",
            "771/771 [==============================] - ETA: 0s - loss: 0.7046 - accuracy: 0.1564\n",
            "Epoch 00028: saving model to /content/drive/My Drive/chatbot/model6-28.hdf5\n",
            "771/771 [==============================] - 469s 609ms/step - loss: 0.7046 - accuracy: 0.1564\n",
            "Epoch 29/50\n",
            "771/771 [==============================] - ETA: 0s - loss: 0.6962 - accuracy: 0.1576\n",
            "Epoch 00029: saving model to /content/drive/My Drive/chatbot/model6-29.hdf5\n",
            "771/771 [==============================] - 473s 614ms/step - loss: 0.6962 - accuracy: 0.1576\n",
            "Epoch 30/50\n",
            "771/771 [==============================] - ETA: 0s - loss: 0.6882 - accuracy: 0.1590\n",
            "Epoch 00030: saving model to /content/drive/My Drive/chatbot/model6-30.hdf5\n",
            "771/771 [==============================] - 473s 613ms/step - loss: 0.6882 - accuracy: 0.1590\n",
            "Epoch 31/50\n",
            "771/771 [==============================] - ETA: 0s - loss: 0.6806 - accuracy: 0.1601\n",
            "Epoch 00031: saving model to /content/drive/My Drive/chatbot/model6-31.hdf5\n",
            "771/771 [==============================] - 470s 610ms/step - loss: 0.6806 - accuracy: 0.1601\n",
            "Epoch 32/50\n",
            "771/771 [==============================] - ETA: 0s - loss: 0.6737 - accuracy: 0.1613\n",
            "Epoch 00032: saving model to /content/drive/My Drive/chatbot/model6-32.hdf5\n",
            "771/771 [==============================] - 469s 608ms/step - loss: 0.6737 - accuracy: 0.1613\n",
            "Epoch 33/50\n",
            "771/771 [==============================] - ETA: 0s - loss: 0.6669 - accuracy: 0.1625\n",
            "Epoch 00033: saving model to /content/drive/My Drive/chatbot/model6-33.hdf5\n",
            "771/771 [==============================] - 470s 609ms/step - loss: 0.6669 - accuracy: 0.1625\n",
            "Epoch 34/50\n",
            "771/771 [==============================] - ETA: 0s - loss: 0.6603 - accuracy: 0.1636\n",
            "Epoch 00034: saving model to /content/drive/My Drive/chatbot/model6-34.hdf5\n",
            "771/771 [==============================] - 470s 609ms/step - loss: 0.6603 - accuracy: 0.1636\n",
            "Epoch 35/50\n",
            "771/771 [==============================] - ETA: 0s - loss: 0.6540 - accuracy: 0.1648\n",
            "Epoch 00035: saving model to /content/drive/My Drive/chatbot/model6-35.hdf5\n",
            "771/771 [==============================] - 470s 609ms/step - loss: 0.6540 - accuracy: 0.1648\n",
            "Epoch 36/50\n",
            "771/771 [==============================] - ETA: 0s - loss: 0.6481 - accuracy: 0.1657\n",
            "Epoch 00036: saving model to /content/drive/My Drive/chatbot/model6-36.hdf5\n",
            "771/771 [==============================] - 469s 609ms/step - loss: 0.6481 - accuracy: 0.1657\n",
            "Epoch 37/50\n",
            "771/771 [==============================] - ETA: 0s - loss: 0.6423 - accuracy: 0.1667\n",
            "Epoch 00037: saving model to /content/drive/My Drive/chatbot/model6-37.hdf5\n",
            "771/771 [==============================] - 467s 606ms/step - loss: 0.6423 - accuracy: 0.1667\n",
            "Epoch 38/50\n",
            "771/771 [==============================] - ETA: 0s - loss: 0.6369 - accuracy: 0.1676\n",
            "Epoch 00038: saving model to /content/drive/My Drive/chatbot/model6-38.hdf5\n",
            "771/771 [==============================] - 468s 606ms/step - loss: 0.6369 - accuracy: 0.1676\n",
            "Epoch 39/50\n",
            "771/771 [==============================] - ETA: 0s - loss: 0.6314 - accuracy: 0.1686\n",
            "Epoch 00039: saving model to /content/drive/My Drive/chatbot/model6-39.hdf5\n",
            "771/771 [==============================] - 468s 606ms/step - loss: 0.6314 - accuracy: 0.1686\n",
            "Epoch 40/50\n",
            "771/771 [==============================] - ETA: 0s - loss: 0.6261 - accuracy: 0.1696\n",
            "Epoch 00040: saving model to /content/drive/My Drive/chatbot/model6-40.hdf5\n",
            "771/771 [==============================] - 467s 606ms/step - loss: 0.6261 - accuracy: 0.1696\n",
            "Epoch 41/50\n",
            "771/771 [==============================] - ETA: 0s - loss: 0.6219 - accuracy: 0.1702\n",
            "Epoch 00041: saving model to /content/drive/My Drive/chatbot/model6-41.hdf5\n",
            "771/771 [==============================] - 466s 605ms/step - loss: 0.6219 - accuracy: 0.1702\n",
            "Epoch 42/50\n",
            "771/771 [==============================] - ETA: 0s - loss: 0.6163 - accuracy: 0.1713\n",
            "Epoch 00042: saving model to /content/drive/My Drive/chatbot/model6-42.hdf5\n",
            "771/771 [==============================] - 464s 601ms/step - loss: 0.6163 - accuracy: 0.1713\n",
            "Epoch 43/50\n",
            "771/771 [==============================] - ETA: 0s - loss: 0.6116 - accuracy: 0.1719\n",
            "Epoch 00043: saving model to /content/drive/My Drive/chatbot/model6-43.hdf5\n",
            "771/771 [==============================] - 464s 602ms/step - loss: 0.6116 - accuracy: 0.1719\n",
            "Epoch 44/50\n",
            "771/771 [==============================] - ETA: 0s - loss: 0.6071 - accuracy: 0.1729\n",
            "Epoch 00044: saving model to /content/drive/My Drive/chatbot/model6-44.hdf5\n",
            "771/771 [==============================] - 469s 608ms/step - loss: 0.6071 - accuracy: 0.1729\n",
            "Epoch 45/50\n",
            "771/771 [==============================] - ETA: 0s - loss: 0.6027 - accuracy: 0.1737\n",
            "Epoch 00045: saving model to /content/drive/My Drive/chatbot/model6-45.hdf5\n",
            "771/771 [==============================] - 478s 620ms/step - loss: 0.6027 - accuracy: 0.1737\n",
            "Epoch 46/50\n",
            "771/771 [==============================] - ETA: 0s - loss: 0.5988 - accuracy: 0.1743\n",
            "Epoch 00046: saving model to /content/drive/My Drive/chatbot/model6-46.hdf5\n",
            "771/771 [==============================] - 469s 608ms/step - loss: 0.5988 - accuracy: 0.1743\n",
            "Epoch 47/50\n",
            "771/771 [==============================] - ETA: 0s - loss: 0.5948 - accuracy: 0.1751\n",
            "Epoch 00047: saving model to /content/drive/My Drive/chatbot/model6-47.hdf5\n",
            "771/771 [==============================] - 465s 603ms/step - loss: 0.5948 - accuracy: 0.1751\n",
            "Epoch 48/50\n",
            "771/771 [==============================] - ETA: 0s - loss: 0.5903 - accuracy: 0.1759\n",
            "Epoch 00048: saving model to /content/drive/My Drive/chatbot/model6-48.hdf5\n",
            "771/771 [==============================] - 467s 605ms/step - loss: 0.5903 - accuracy: 0.1759\n",
            "Epoch 49/50\n",
            "771/771 [==============================] - ETA: 0s - loss: 0.5867 - accuracy: 0.1766\n",
            "Epoch 00049: saving model to /content/drive/My Drive/chatbot/model6-49.hdf5\n",
            "771/771 [==============================] - 467s 606ms/step - loss: 0.5867 - accuracy: 0.1766\n",
            "Epoch 50/50\n",
            "771/771 [==============================] - ETA: 0s - loss: 0.5829 - accuracy: 0.1772\n",
            "Epoch 00050: saving model to /content/drive/My Drive/chatbot/model6-50.hdf5\n",
            "771/771 [==============================] - 467s 605ms/step - loss: 0.5829 - accuracy: 0.1772\n"
          ],
          "name": "stdout"
        },
        {
          "output_type": "execute_result",
          "data": {
            "text/plain": [
              "<tensorflow.python.keras.callbacks.History at 0x7f68276d7128>"
            ]
          },
          "metadata": {
            "tags": []
          },
          "execution_count": 37
        }
      ]
    },
    {
      "cell_type": "code",
      "metadata": {
        "id": "9NDUB3NO33mm",
        "colab_type": "code",
        "colab": {}
      },
      "source": [
        "model.load_weights('/content/drive/My Drive/chatbot/model6-50.hdf5')"
      ],
      "execution_count": 0,
      "outputs": []
    },
    {
      "cell_type": "code",
      "metadata": {
        "id": "EX-shBG97Ztc",
        "colab_type": "code",
        "colab": {}
      },
      "source": [
        "def evaluate(sentence):\n",
        "  sentence = preprocess_sentence(sentence)\n",
        "\n",
        "  sentence = tf.expand_dims(\n",
        "      START_TOKEN + tokenizer.encode(sentence) + END_TOKEN, axis=0)\n",
        "\n",
        "  output = tf.expand_dims(START_TOKEN, 0)\n",
        "\n",
        "  for i in range(MAX_LENGTH):\n",
        "    predictions = model(inputs=[sentence, output], training=False)\n",
        "\n",
        "    # select the last word from the seq_len dimension\n",
        "    predictions = predictions[:, -1:, :]\n",
        "    predicted_id = tf.cast(tf.argmax(predictions, axis=-1), tf.int32)\n",
        "\n",
        "    # return the result if the predicted_id is equal to the end token\n",
        "    if tf.equal(predicted_id, END_TOKEN[0]):\n",
        "      break\n",
        "\n",
        "    # concatenated the predicted_id to the output which is given to the decoder\n",
        "    # as its input.\n",
        "    output = tf.concat([output, predicted_id], axis=-1)\n",
        "\n",
        "  return tf.squeeze(output, axis=0)\n",
        "\n",
        "\n",
        "def predict(sentence):\n",
        "  prediction = evaluate(sentence)\n",
        "\n",
        "  predicted_sentence = tokenizer.decode(\n",
        "      [i for i in prediction if i < tokenizer.vocab_size])\n",
        "\n",
        "  print('Input: {}'.format(sentence))\n",
        "  print('Output: {}'.format(predicted_sentence))\n",
        "\n",
        "  return predicted_sentence"
      ],
      "execution_count": 0,
      "outputs": []
    },
    {
      "cell_type": "code",
      "metadata": {
        "id": "OpfMSjxho2wT",
        "colab_type": "code",
        "outputId": "45610a30-6fde-486e-ab68-ae42f363272f",
        "colab": {
          "base_uri": "https://localhost:8080/",
          "height": 52
        }
      },
      "source": [
        "output = predict('Where have you been?')"
      ],
      "execution_count": 0,
      "outputs": [
        {
          "output_type": "stream",
          "text": [
            "Input: Where have you been?\n",
            "Output: i am sorry . i was just thinking . . .\n"
          ],
          "name": "stdout"
        }
      ]
    },
    {
      "cell_type": "code",
      "metadata": {
        "id": "45QSvNqWo5S0",
        "colab_type": "code",
        "outputId": "c49d41bc-c8a9-4226-8608-1778039a0344",
        "colab": {
          "base_uri": "https://localhost:8080/",
          "height": 52
        }
      },
      "source": [
        "output = predict(\"It's a trap\")"
      ],
      "execution_count": 0,
      "outputs": [
        {
          "output_type": "stream",
          "text": [
            "Input: It's a trap\n",
            "Output: i am sorry , but i am not the judge to miss . i am so excited about it . i am not even sure why .\n"
          ],
          "name": "stdout"
        }
      ]
    },
    {
      "cell_type": "code",
      "metadata": {
        "id": "1wIwlG9Ho8hX",
        "colab_type": "code",
        "outputId": "f7060f9f-028e-4791-e1d1-f85140369f0a",
        "colab": {
          "base_uri": "https://localhost:8080/",
          "height": 276
        }
      },
      "source": [
        "# feed the model with its previous output\n",
        "sentence = 'how are you?'\n",
        "for _ in range(5):\n",
        "  sentence = predict(sentence)\n",
        "  print('')"
      ],
      "execution_count": 0,
      "outputs": [
        {
          "output_type": "stream",
          "text": [
            "Input: how are you?\n",
            "Output: fine . i am just taking the train out for a time and i would like to get to the office .\n",
            "\n",
            "Input: fine . i am just taking the train out for a time and i would like to get to the office .\n",
            "Output: okay .\n",
            "\n",
            "Input: okay .\n",
            "Output: i am sorry .\n",
            "\n",
            "Input: i am sorry .\n",
            "Output: i am sorry . i am sorry .\n",
            "\n",
            "Input: i am sorry . i am sorry .\n",
            "Output: i am sorry . i am sorry .\n",
            "\n"
          ],
          "name": "stdout"
        }
      ]
    },
    {
      "cell_type": "code",
      "metadata": {
        "id": "O9PLxJZw73UM",
        "colab_type": "code",
        "colab": {}
      },
      "source": [
        "import random\n",
        "def beam_search(sentence,beam_size = 3,k=8):\n",
        "  sentence = preprocess_sentence(sentence)\n",
        "\n",
        "  sentence = tf.expand_dims(\n",
        "      START_TOKEN + tokenizer.encode(sentence) + END_TOKEN, axis=0)\n",
        "  output = tf.expand_dims(START_TOKEN, 0)\n",
        "\n",
        "  sequences = [[output, 1.0, False]]\n",
        "  for j in range(MAX_LENGTH):\n",
        "   all_candidates = list()\n",
        "   for i in range(min(k,len(sequences))):\n",
        "     seq, score,done = sequences[i]\n",
        "     if not done:\n",
        "       predictions = model(inputs=[sentence, seq], training=False)\n",
        "       predictions = predictions[:, -1:, :]\n",
        "       predictions =tf.nn.softmax(predictions, axis=-1, name=None)\n",
        "       for _ in range(beam_size):\n",
        "        prob = tf.squeeze(tf.math.reduce_max(predictions, axis=-1, keepdims=False, name=None))\n",
        "        predicted_id = tf.cast(tf.argmax(predictions, axis=-1), tf.int32)\n",
        "        output = tf.concat([seq, predicted_id], axis=-1)\n",
        "        mask = tf.greater_equal(predictions,prob )\n",
        "        zeros = tf.zeros_like(predictions)\n",
        "        predictions = tf.where(mask, zeros, predictions)\n",
        "        penalty = ((5.0 + j) / 6.0) ** 0.6\n",
        "        score *= penalty\n",
        "        beam_score = score + -tf.math.log(prob)\n",
        "        if tf.equal(predicted_id, END_TOKEN[0]):\n",
        "          done=True\n",
        "          \n",
        "        penalty = ((5.0 + (j + 1)) / 6.0) ** 0.6\n",
        "        beam_score /=penalty\n",
        "        candidate = [output, beam_score,done]\n",
        "        all_candidates.append(candidate)\n",
        "     else:\n",
        "       all_candidates.append(sequences[i])\n",
        "     \n",
        "\n",
        "   ordered = sorted(all_candidates, key=lambda tup:tup[1])\n",
        "   sequences = ordered\n",
        "\n",
        "  #i = random.randrange(k)\n",
        "  for seq in sequences:\n",
        "    res,_,_ = seq\n",
        "    prediction = tf.squeeze(res)\n",
        "    predicted_sentence = tokenizer.decode(\n",
        "        [i for i in prediction if i < tokenizer.vocab_size])\n",
        "    print('search beam: {}'.format(predicted_sentence))\n",
        "    \n",
        "  return predicted_sentence"
      ],
      "execution_count": 0,
      "outputs": []
    },
    {
      "cell_type": "code",
      "metadata": {
        "id": "nY9ZLlSIBjo9",
        "colab_type": "code",
        "outputId": "c439562b-f646-43a9-a567-2a941d7983c6",
        "colab": {
          "base_uri": "https://localhost:8080/",
          "height": 173
        }
      },
      "source": [
        "beam_search('Where have you been?')"
      ],
      "execution_count": 0,
      "outputs": [
        {
          "output_type": "stream",
          "text": [
            "search beam: what the fuck is going on ?\n",
            "search beam: what is going on ?\n",
            "search beam: what the hell do you think happened ?\n",
            "search beam: i am sorry . i was just thinking . . .\n",
            "search beam: i am sorry , i am just looking . . .\n",
            "search beam: i do not know . i just thought i would check in on karl and see what i have done .\n",
            "search beam: i had a long night . i was thinking about how i thought you might know .\n",
            "search beam: oh , i was just checking the . . . i went to see how you could know . i been here so long , i just knew that i was not sure i would not be doin .\n"
          ],
          "name": "stdout"
        },
        {
          "output_type": "execute_result",
          "data": {
            "text/plain": [
              "'oh , i was just checking the . . . i went to see how you could know . i been here so long , i just knew that i was not sure i would not be doin .'"
            ]
          },
          "metadata": {
            "tags": []
          },
          "execution_count": 68
        }
      ]
    },
    {
      "cell_type": "code",
      "metadata": {
        "id": "9FWGGXqQ4bnv",
        "colab_type": "code",
        "outputId": "7494a39d-0177-4cdf-97e9-7f7d44de363b",
        "colab": {
          "base_uri": "https://localhost:8080/",
          "height": 173
        }
      },
      "source": [
        "beam_search(\"It's a trap\")"
      ],
      "execution_count": 0,
      "outputs": [
        {
          "output_type": "stream",
          "text": [
            "search beam: that is not the way it looks .\n",
            "search beam: that is ridiculous . i am not even here anymore .\n",
            "search beam: that is what i am doing . i am not a spy , you know ?\n",
            "search beam: that is what i am doing . i am sorry . i did not mean to sound so . . . i am sorry .\n",
            "search beam: i am sorry , but i am not the judge to miss . i am so excited about it . i am not even sure why .\n",
            "search beam: i do not think so . i am sorry . i am sorry . i did not mean to pry . i just did . i just did not think it was the chance to be necessary .\n",
            "search beam: that is what i am telling you , which i am telling you , which i am not going to do with my wanting to pay me .\n",
            "search beam: i do not think so , but i am not sure i do not think it is a little too late . i am a good idea to be honest i am not even sure to .\n"
          ],
          "name": "stdout"
        },
        {
          "output_type": "execute_result",
          "data": {
            "text/plain": [
              "'i do not think so , but i am not sure i do not think it is a little too late . i am a good idea to be honest i am not even sure to .'"
            ]
          },
          "metadata": {
            "tags": []
          },
          "execution_count": 69
        }
      ]
    },
    {
      "cell_type": "code",
      "metadata": {
        "id": "w2fWykQHUh-y",
        "colab_type": "code",
        "outputId": "a68217fe-fc0f-4e5e-bdfe-c26206104209",
        "colab": {
          "base_uri": "https://localhost:8080/",
          "height": 173
        }
      },
      "source": [
        "beam_search(\"i love you\")"
      ],
      "execution_count": 0,
      "outputs": [
        {
          "output_type": "stream",
          "text": [
            "search beam: i love you too .\n",
            "search beam: do you love me ?\n",
            "search beam: i love you , too .\n",
            "search beam: i love you .\n",
            "search beam: i do not know what you are saying .\n",
            "search beam: do not say my name .\n",
            "search beam: i love you too , dad .\n",
            "search beam: i am sorry about your mother . i am so sorry about your mother .\n"
          ],
          "name": "stdout"
        },
        {
          "output_type": "execute_result",
          "data": {
            "text/plain": [
              "'i am sorry about your mother . i am so sorry about your mother .'"
            ]
          },
          "metadata": {
            "tags": []
          },
          "execution_count": 70
        }
      ]
    },
    {
      "cell_type": "code",
      "metadata": {
        "id": "-59GMG1yLOMc",
        "colab_type": "code",
        "outputId": "db30cddf-e0b0-4ed3-8aab-af1a65023975",
        "colab": {
          "base_uri": "https://localhost:8080/",
          "height": 173
        }
      },
      "source": [
        "beam_search(\"Let's go outside.\")"
      ],
      "execution_count": 0,
      "outputs": [
        {
          "output_type": "stream",
          "text": [
            "search beam: why ?\n",
            "search beam: you ai not goin to jail , are you ?\n",
            "search beam: you ai not goin anywhere .\n",
            "search beam: why , you gotta be kidding me . everybody s gonna kick your ass .\n",
            "search beam: why , ai not you the truth ?\n",
            "search beam: well , i ai not goin to miss . i just do not know what is going on .\n",
            "search beam: you are not gonna see your movie bout the theorems of sister ?\n",
            "search beam: well , you gotta be jokin , man . you are a bunch of stupid guys are timid . so , you are probably gonna have to run this store to the pole .\n"
          ],
          "name": "stdout"
        },
        {
          "output_type": "execute_result",
          "data": {
            "text/plain": [
              "'well , you gotta be jokin , man . you are a bunch of stupid guys are timid . so , you are probably gonna have to run this store to the pole .'"
            ]
          },
          "metadata": {
            "tags": []
          },
          "execution_count": 71
        }
      ]
    },
    {
      "cell_type": "code",
      "metadata": {
        "id": "LZbJ4N2eEiht",
        "colab_type": "code",
        "outputId": "27df2099-29c0-42cd-ef11-f174755efae4",
        "colab": {
          "base_uri": "https://localhost:8080/",
          "height": 173
        }
      },
      "source": [
        "beam_search(\"hello.\")"
      ],
      "execution_count": 0,
      "outputs": [
        {
          "output_type": "stream",
          "text": [
            "search beam: hi .\n",
            "search beam: hello .\n",
            "search beam: hello , mom .\n",
            "search beam: hello . i am jimmy .\n",
            "search beam: hi . i was talking about the other day .\n",
            "search beam: hello , mom . i am erica .\n",
            "search beam: i am sorry . i am sorry . i am sorry . i am sorry i am late .\n",
            "search beam: i thought you might want to see my wife and one of them is going to be here before she plays the brain . she is not in the hospital . . .\n"
          ],
          "name": "stdout"
        },
        {
          "output_type": "execute_result",
          "data": {
            "text/plain": [
              "'i thought you might want to see my wife and one of them is going to be here before she plays the brain . she is not in the hospital . . .'"
            ]
          },
          "metadata": {
            "tags": []
          },
          "execution_count": 72
        }
      ]
    },
    {
      "cell_type": "code",
      "metadata": {
        "id": "a8LSi_1-M8ZH",
        "colab_type": "code",
        "outputId": "381efb2b-1d21-41f1-e180-63692956e026",
        "colab": {
          "base_uri": "https://localhost:8080/",
          "height": 173
        }
      },
      "source": [
        "beam_search(\"what's your name?\")"
      ],
      "execution_count": 0,
      "outputs": [
        {
          "output_type": "stream",
          "text": [
            "search beam: my name is sir robin of camelot !\n",
            "search beam: claire .\n",
            "search beam: jeremy . . .\n",
            "search beam: jeremy .\n",
            "search beam: my name s sir robin of camelot !\n",
            "search beam: my name is sir launcelot .\n",
            "search beam: claire . . .\n",
            "search beam: my name is gregory .\n"
          ],
          "name": "stdout"
        },
        {
          "output_type": "execute_result",
          "data": {
            "text/plain": [
              "'my name is gregory .'"
            ]
          },
          "metadata": {
            "tags": []
          },
          "execution_count": 73
        }
      ]
    },
    {
      "cell_type": "code",
      "metadata": {
        "id": "YYBH35tyMhRk",
        "colab_type": "code",
        "outputId": "e54ecde9-b717-44cb-c6c6-d12dc4a4882c",
        "colab": {
          "base_uri": "https://localhost:8080/",
          "height": 173
        }
      },
      "source": [
        "beam_search(\"how come you never say it?\")"
      ],
      "execution_count": 0,
      "outputs": [
        {
          "output_type": "stream",
          "text": [
            "search beam: because i do not know you .\n",
            "search beam: i told you .\n",
            "search beam: because it is the criminal one .\n",
            "search beam: i am just saying that because i love you .\n",
            "search beam: because i do not know you . i just want to know what it is .\n",
            "search beam: i do not . i just hate the thought of you and your friends were crazy about me .\n",
            "search beam: because i am a professional liar . i spend most of my life talking with every girl i have ever wanted to do anything about it .\n",
            "search beam: i do not know . i just hate the idea of being in the way it is , i do not know . i feel like i have been doing a lot of things .\n"
          ],
          "name": "stdout"
        },
        {
          "output_type": "execute_result",
          "data": {
            "text/plain": [
              "'i do not know . i just hate the idea of being in the way it is , i do not know . i feel like i have been doing a lot of things .'"
            ]
          },
          "metadata": {
            "tags": []
          },
          "execution_count": 74
        }
      ]
    },
    {
      "cell_type": "code",
      "metadata": {
        "id": "lf1ARJRFNZXk",
        "colab_type": "code",
        "outputId": "468d02ba-15fa-4520-e088-c7cf2c450c37",
        "colab": {
          "base_uri": "https://localhost:8080/",
          "height": 173
        }
      },
      "source": [
        "beam_search(\"how much time do you have here?\")"
      ],
      "execution_count": 0,
      "outputs": [
        {
          "output_type": "stream",
          "text": [
            "search beam: about thirty minutes .\n",
            "search beam: about forty minutes .\n",
            "search beam: two minutes .\n",
            "search beam: about four hundred and twenty thousand dollars .\n",
            "search beam: i do not know . maybe about four hours a day .\n",
            "search beam: two minutes . that is the last thing i have got . that is the last thing i have got .\n",
            "search beam: i am not sure yet . it is very nice , but i am very happy for you .\n",
            "search beam: i do not know , i am not sure . it is a long date , i can not tell you what i mean .\n"
          ],
          "name": "stdout"
        },
        {
          "output_type": "execute_result",
          "data": {
            "text/plain": [
              "'i do not know , i am not sure . it is a long date , i can not tell you what i mean .'"
            ]
          },
          "metadata": {
            "tags": []
          },
          "execution_count": 75
        }
      ]
    },
    {
      "cell_type": "code",
      "metadata": {
        "id": "IPXUQ_JsOAvO",
        "colab_type": "code",
        "outputId": "0840fb87-b100-49e4-c168-f7ff5b2b7aae",
        "colab": {
          "base_uri": "https://localhost:8080/",
          "height": 173
        }
      },
      "source": [
        "beam_search(\"can you help me?\")"
      ],
      "execution_count": 0,
      "outputs": [
        {
          "output_type": "stream",
          "text": [
            "search beam: what are you doing ?\n",
            "search beam: what do you want ?\n",
            "search beam: yes .\n",
            "search beam: i can handle it .\n",
            "search beam: i am sorry . i am looking for a phone .\n",
            "search beam: i think i can handle this work .\n",
            "search beam: i am looking for a phone . i am a busy man . i am a writer myself , and i am very grateful for the help of the help . i am a little girl .\n",
            "search beam: yes , i am looking for a phone , i am sorry i am here . i am sorry . i am looking for a kind of a very lucky way of feeling nothing .\n"
          ],
          "name": "stdout"
        },
        {
          "output_type": "execute_result",
          "data": {
            "text/plain": [
              "'yes , i am looking for a phone , i am sorry i am here . i am sorry . i am looking for a kind of a very lucky way of feeling nothing .'"
            ]
          },
          "metadata": {
            "tags": []
          },
          "execution_count": 76
        }
      ]
    },
    {
      "cell_type": "code",
      "metadata": {
        "id": "pSlOBoczOY0u",
        "colab_type": "code",
        "colab": {}
      },
      "source": [
        ""
      ],
      "execution_count": 0,
      "outputs": []
    }
  ]
}