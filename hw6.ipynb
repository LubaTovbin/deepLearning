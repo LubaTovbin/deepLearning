{
  "nbformat": 4,
  "nbformat_minor": 0,
  "metadata": {
    "kernelspec": {
      "display_name": "Python 3",
      "language": "python",
      "name": "python3"
    },
    "language_info": {
      "codemirror_mode": {
        "name": "ipython",
        "version": 3
      },
      "file_extension": ".py",
      "mimetype": "text/x-python",
      "name": "python",
      "nbconvert_exporter": "python",
      "pygments_lexer": "ipython3",
      "version": "3.7.7"
    },
    "colab": {
      "name": "hw6.ipynb",
      "provenance": [],
      "collapsed_sections": []
    }
  },
  "cells": [
    {
      "cell_type": "code",
      "metadata": {
        "id": "A4xh14vP_EsF",
        "colab_type": "code",
        "colab": {}
      },
      "source": [
        "import sklearn\n",
        "import numpy as np"
      ],
      "execution_count": 0,
      "outputs": []
    },
    {
      "cell_type": "code",
      "metadata": {
        "id": "UGbOPKao_EsJ",
        "colab_type": "code",
        "outputId": "c61ac5a2-befb-41c6-c5e3-53b93cd18536",
        "colab": {
          "base_uri": "https://localhost:8080/",
          "height": 34
        }
      },
      "source": [
        "from keras.datasets import imdb\n",
        "(training_data, training_targets), (testing_data, testing_targets) = imdb.load_data(num_words=10000)"
      ],
      "execution_count": 0,
      "outputs": [
        {
          "output_type": "stream",
          "text": [
            "Using TensorFlow backend.\n"
          ],
          "name": "stderr"
        }
      ]
    },
    {
      "cell_type": "code",
      "metadata": {
        "id": "FkZNfWpU_EsN",
        "colab_type": "code",
        "colab": {}
      },
      "source": [
        "dataset = np.concatenate((training_data, testing_data), axis=0)\n",
        "targets = np.concatenate((training_targets, testing_targets), axis=0)"
      ],
      "execution_count": 0,
      "outputs": []
    },
    {
      "cell_type": "code",
      "metadata": {
        "id": "RWg1sRbU_EsY",
        "colab_type": "code",
        "outputId": "4f22f152-4a5a-4124-c768-21d4f8d2102d",
        "colab": {
          "base_uri": "https://localhost:8080/",
          "height": 54
        }
      },
      "source": [
        "index = imdb.get_word_index()\n",
        "reverse_index = dict([(value, key) for (key, value) in index.items()]) \n",
        "decoded = \" \".join( [reverse_index.get(i - 3, \" \") for i in dataset[0]] )\n",
        "print(decoded)"
      ],
      "execution_count": 0,
      "outputs": [
        {
          "output_type": "stream",
          "text": [
            "  this film was just brilliant casting location scenery story direction everyone's really suited the part they played and you could just imagine being there robert   is an amazing actor and now the same being director   father came from the same scottish island as myself so i loved the fact there was a real connection with this film the witty remarks throughout the film were great it was just brilliant so much that i bought the film as soon as it was released for   and would recommend it to everyone to watch and the fly fishing was amazing really cried at the end it was so sad and you know what they say if you cry at a film it must have been good and this definitely was also   to the two little boy's that played the   of norman and paul they were just brilliant children are often left out of the   list i think because the stars that play them all grown up are such a big profile for the whole film but these children are amazing and should be praised for what they have done don't you think the whole story was so lovely because it was true and was someone's life after all that was shared with us all\n"
          ],
          "name": "stdout"
        }
      ]
    },
    {
      "cell_type": "code",
      "metadata": {
        "id": "4MgFpJkv_Esd",
        "colab_type": "code",
        "colab": {}
      },
      "source": [
        "\n",
        "targets = np.array(targets).astype(\"float32\")"
      ],
      "execution_count": 0,
      "outputs": []
    },
    {
      "cell_type": "code",
      "metadata": {
        "id": "MrrvBYi0HJ3-",
        "colab_type": "code",
        "colab": {}
      },
      "source": [
        "word_data = []\n",
        "for index in range(10000):\n",
        "    decoded = \" \".join( [reverse_index.get(i-3 , \"\") for i in dataset[index]] )\n",
        "    word_data.append(decoded)"
      ],
      "execution_count": 0,
      "outputs": []
    },
    {
      "cell_type": "markdown",
      "metadata": {
        "id": "grEEAhILF0Z2",
        "colab_type": "text"
      },
      "source": [
        "# Generate word2vec using sklearn CountVectorizer (2 pts)\n"
      ]
    },
    {
      "cell_type": "code",
      "metadata": {
        "id": "3RkQDU-EF7qF",
        "colab_type": "code",
        "colab": {}
      },
      "source": [
        "from sklearn.feature_extraction.text import CountVectorizer"
      ],
      "execution_count": 0,
      "outputs": []
    },
    {
      "cell_type": "code",
      "metadata": {
        "id": "_mpWbbQeGH16",
        "colab_type": "code",
        "colab": {}
      },
      "source": [
        "vectorizer = CountVectorizer()"
      ],
      "execution_count": 0,
      "outputs": []
    },
    {
      "cell_type": "code",
      "metadata": {
        "id": "Wa6IG4nXGK2X",
        "colab_type": "code",
        "colab": {}
      },
      "source": [
        "countX = vectorizer.fit_transform(word_data)"
      ],
      "execution_count": 0,
      "outputs": []
    },
    {
      "cell_type": "code",
      "metadata": {
        "id": "NIlIoU-HHsIp",
        "colab_type": "code",
        "colab": {}
      },
      "source": [
        "countX=countX.toarray()"
      ],
      "execution_count": 0,
      "outputs": []
    },
    {
      "cell_type": "code",
      "metadata": {
        "id": "aK3rADexH0he",
        "colab_type": "code",
        "outputId": "7ff663a0-3b2d-4155-b2b1-5c0f0979b5f7",
        "colab": {
          "base_uri": "https://localhost:8080/",
          "height": 34
        }
      },
      "source": [
        "countX.shape"
      ],
      "execution_count": 0,
      "outputs": [
        {
          "output_type": "execute_result",
          "data": {
            "text/plain": [
              "(10000, 9769)"
            ]
          },
          "metadata": {
            "tags": []
          },
          "execution_count": 12
        }
      ]
    },
    {
      "cell_type": "markdown",
      "metadata": {
        "id": "c1mljkFIIEGj",
        "colab_type": "text"
      },
      "source": [
        "# Generate word2vec using sklearn TfidfVectorizer (2 pts)\n"
      ]
    },
    {
      "cell_type": "code",
      "metadata": {
        "id": "u_z3U-3-IIIy",
        "colab_type": "code",
        "colab": {}
      },
      "source": [
        "from sklearn.feature_extraction.text import TfidfTransformer\n",
        "import nltk"
      ],
      "execution_count": 0,
      "outputs": []
    },
    {
      "cell_type": "code",
      "metadata": {
        "id": "Xbrc7nDSLxQb",
        "colab_type": "code",
        "colab": {}
      },
      "source": [
        "transformer = TfidfTransformer()  "
      ],
      "execution_count": 0,
      "outputs": []
    },
    {
      "cell_type": "code",
      "metadata": {
        "id": "Nwq5knE8LysH",
        "colab_type": "code",
        "colab": {}
      },
      "source": [
        "tfidfX = transformer.fit_transform(countX)"
      ],
      "execution_count": 0,
      "outputs": []
    },
    {
      "cell_type": "code",
      "metadata": {
        "id": "F4FuwUDDL8Y-",
        "colab_type": "code",
        "colab": {}
      },
      "source": [
        "tfidfX = tfidfX.toarray()"
      ],
      "execution_count": 0,
      "outputs": []
    },
    {
      "cell_type": "code",
      "metadata": {
        "id": "QEhkhHWtMBtI",
        "colab_type": "code",
        "outputId": "cbe7bea6-cd4e-4af6-8058-941c5a7c2452",
        "colab": {
          "base_uri": "https://localhost:8080/",
          "height": 34
        }
      },
      "source": [
        "tfidfX.shape"
      ],
      "execution_count": 0,
      "outputs": [
        {
          "output_type": "execute_result",
          "data": {
            "text/plain": [
              "(10000, 9769)"
            ]
          },
          "metadata": {
            "tags": []
          },
          "execution_count": 17
        }
      ]
    },
    {
      "cell_type": "markdown",
      "metadata": {
        "id": "XrzKVygm_Esl",
        "colab_type": "text"
      },
      "source": [
        "### Generate embeddings using gensim Doc2Vec. Use the following source code if reference is required"
      ]
    },
    {
      "cell_type": "markdown",
      "metadata": {
        "id": "RXzywFYmD0p2",
        "colab_type": "text"
      },
      "source": [
        "https://medium.com/@mishra.thedeepak/doc2vec-simple-implementation-example-df2afbbfbad5"
      ]
    },
    {
      "cell_type": "code",
      "metadata": {
        "id": "S8FOMIvD_Esl",
        "colab_type": "code",
        "colab": {}
      },
      "source": [
        "import gensim\n",
        "from gensim.models.doc2vec import Doc2Vec,TaggedDocument"
      ],
      "execution_count": 0,
      "outputs": []
    },
    {
      "cell_type": "code",
      "metadata": {
        "id": "nha1zAmEzrmC",
        "colab_type": "code",
        "colab": {}
      },
      "source": [
        "tagged_data = [TaggedDocument(words=gensim.utils.simple_preprocess(_d), tags=[str(i)]) for i, _d in enumerate(word_data)]"
      ],
      "execution_count": 0,
      "outputs": []
    },
    {
      "cell_type": "code",
      "metadata": {
        "id": "RzwRMJM302_R",
        "colab_type": "code",
        "outputId": "6d9a6ae3-47a5-4695-8e77-ef46ac494272",
        "colab": {
          "base_uri": "https://localhost:8080/",
          "height": 54
        }
      },
      "source": [
        "tagged_data[0]"
      ],
      "execution_count": 0,
      "outputs": [
        {
          "output_type": "execute_result",
          "data": {
            "text/plain": [
              "TaggedDocument(words=['this', 'film', 'was', 'just', 'brilliant', 'casting', 'location', 'scenery', 'story', 'direction', 'everyone', 'really', 'suited', 'the', 'part', 'they', 'played', 'and', 'you', 'could', 'just', 'imagine', 'being', 'there', 'robert', 'is', 'an', 'amazing', 'actor', 'and', 'now', 'the', 'same', 'being', 'director', 'father', 'came', 'from', 'the', 'same', 'scottish', 'island', 'as', 'myself', 'so', 'loved', 'the', 'fact', 'there', 'was', 'real', 'connection', 'with', 'this', 'film', 'the', 'witty', 'remarks', 'throughout', 'the', 'film', 'were', 'great', 'it', 'was', 'just', 'brilliant', 'so', 'much', 'that', 'bought', 'the', 'film', 'as', 'soon', 'as', 'it', 'was', 'released', 'for', 'and', 'would', 'recommend', 'it', 'to', 'everyone', 'to', 'watch', 'and', 'the', 'fly', 'fishing', 'was', 'amazing', 'really', 'cried', 'at', 'the', 'end', 'it', 'was', 'so', 'sad', 'and', 'you', 'know', 'what', 'they', 'say', 'if', 'you', 'cry', 'at', 'film', 'it', 'must', 'have', 'been', 'good', 'and', 'this', 'definitely', 'was', 'also', 'to', 'the', 'two', 'little', 'boy', 'that', 'played', 'the', 'of', 'norman', 'and', 'paul', 'they', 'were', 'just', 'brilliant', 'children', 'are', 'often', 'left', 'out', 'of', 'the', 'list', 'think', 'because', 'the', 'stars', 'that', 'play', 'them', 'all', 'grown', 'up', 'are', 'such', 'big', 'profile', 'for', 'the', 'whole', 'film', 'but', 'these', 'children', 'are', 'amazing', 'and', 'should', 'be', 'praised', 'for', 'what', 'they', 'have', 'done', 'don', 'you', 'think', 'the', 'whole', 'story', 'was', 'so', 'lovely', 'because', 'it', 'was', 'true', 'and', 'was', 'someone', 'life', 'after', 'all', 'that', 'was', 'shared', 'with', 'us', 'all'], tags=['0'])"
            ]
          },
          "metadata": {
            "tags": []
          },
          "execution_count": 20
        }
      ]
    },
    {
      "cell_type": "code",
      "metadata": {
        "id": "kspEhxHy_Est",
        "colab_type": "code",
        "colab": {}
      },
      "source": [
        "d2vmodel = Doc2Vec(min_count=1, window=10, vector_size=100, sample=1e-4, negative=5, workers=7)\n",
        "d2vmodel.build_vocab(tagged_data)"
      ],
      "execution_count": 0,
      "outputs": []
    },
    {
      "cell_type": "code",
      "metadata": {
        "id": "uDdGQXfH_Esw",
        "colab_type": "code",
        "outputId": "6b920c26-3a78-490d-9421-19f0a7396f4a",
        "colab": {
          "base_uri": "https://localhost:8080/",
          "height": 187
        }
      },
      "source": [
        "for epoch in range(10):\n",
        "    print('iteration {0}'.format(epoch))\n",
        "    d2vmodel.train(tagged_data, total_examples=d2vmodel.corpus_count,epochs=d2vmodel.epochs)\n",
        "    "
      ],
      "execution_count": 0,
      "outputs": [
        {
          "output_type": "stream",
          "text": [
            "iteration 0\n",
            "iteration 1\n",
            "iteration 2\n",
            "iteration 3\n",
            "iteration 4\n",
            "iteration 5\n",
            "iteration 6\n",
            "iteration 7\n",
            "iteration 8\n",
            "iteration 9\n"
          ],
          "name": "stdout"
        }
      ]
    },
    {
      "cell_type": "code",
      "metadata": {
        "id": "Oflu8PPK_Esy",
        "colab_type": "code",
        "outputId": "f9ac262f-0546-43f0-aaec-d96712e3409e",
        "colab": {
          "base_uri": "https://localhost:8080/",
          "height": 275
        }
      },
      "source": [
        "d2vmodel.most_similar(\"good\")"
      ],
      "execution_count": 0,
      "outputs": [
        {
          "output_type": "stream",
          "text": [
            "/usr/local/lib/python3.6/dist-packages/ipykernel_launcher.py:1: DeprecationWarning: Call to deprecated `most_similar` (Method will be removed in 4.0.0, use self.wv.most_similar() instead).\n",
            "  \"\"\"Entry point for launching an IPython kernel.\n",
            "/usr/local/lib/python3.6/dist-packages/gensim/matutils.py:737: FutureWarning: Conversion of the second argument of issubdtype from `int` to `np.signedinteger` is deprecated. In future, it will be treated as `np.int64 == np.dtype(int).type`.\n",
            "  if np.issubdtype(vec.dtype, np.int):\n"
          ],
          "name": "stderr"
        },
        {
          "output_type": "execute_result",
          "data": {
            "text/plain": [
              "[('bad', 0.5624381303787231),\n",
              " ('great', 0.5276666879653931),\n",
              " ('alright', 0.520176112651825),\n",
              " ('ok', 0.5007370710372925),\n",
              " ('decent', 0.4961194097995758),\n",
              " ('nice', 0.49572622776031494),\n",
              " ('fine', 0.4692153036594391),\n",
              " ('strong', 0.45244741439819336),\n",
              " ('solid', 0.4508292078971863),\n",
              " ('excellent', 0.42213255167007446)]"
            ]
          },
          "metadata": {
            "tags": []
          },
          "execution_count": 24
        }
      ]
    },
    {
      "cell_type": "code",
      "metadata": {
        "id": "B1XBMcoz_Es1",
        "colab_type": "code",
        "colab": {}
      },
      "source": [
        "d2vX= np.zeros((10000, 100))\n",
        "\n",
        "for i in range (10000):\n",
        "  d2vX[i]=d2vmodel[str(i)]"
      ],
      "execution_count": 0,
      "outputs": []
    },
    {
      "cell_type": "markdown",
      "metadata": {
        "id": "nU8S-hd1RB93",
        "colab_type": "text"
      },
      "source": [
        "\n",
        "# Generate embeddings using gensim Doc2Vec. Use the following source code if reference is required"
      ]
    },
    {
      "cell_type": "code",
      "metadata": {
        "id": "rdPAsLglUcVF",
        "colab_type": "code",
        "colab": {}
      },
      "source": [
        "import tensorflow as tf\n",
        "from tensorflow import keras"
      ],
      "execution_count": 0,
      "outputs": []
    },
    {
      "cell_type": "code",
      "metadata": {
        "id": "4fabriKslQwt",
        "colab_type": "code",
        "outputId": "65f04f22-5afc-443b-9fd5-7a55b227586e",
        "colab": {
          "base_uri": "https://localhost:8080/",
          "height": 85
        }
      },
      "source": [
        "model1 = keras.Sequential([\n",
        "    keras.layers.Dense(256, activation='relu', input_dim=9769),\n",
        "    keras.layers.Dense(1,activation='sigmoid')\n",
        "])\n",
        "\n",
        "model1.compile(optimizer='adam',\n",
        "              loss=tf.keras.losses.BinaryCrossentropy(from_logits=True),\n",
        "              metrics=['accuracy'])\n",
        "\n",
        "history = model1.fit(x=countX, y=targets,validation_split=0.1,epochs=2)"
      ],
      "execution_count": 0,
      "outputs": [
        {
          "output_type": "stream",
          "text": [
            "Epoch 1/2\n",
            "282/282 [==============================] - 5s 19ms/step - loss: 0.5980 - accuracy: 0.7884 - val_loss: 0.5636 - val_accuracy: 0.8490\n",
            "Epoch 2/2\n",
            "282/282 [==============================] - 5s 19ms/step - loss: 0.5437 - accuracy: 0.9130 - val_loss: 0.5625 - val_accuracy: 0.8580\n"
          ],
          "name": "stdout"
        }
      ]
    },
    {
      "cell_type": "code",
      "metadata": {
        "id": "2HP3GtOEZDlU",
        "colab_type": "code",
        "outputId": "aef18e29-5607-4d53-e633-15cf89cf8fe7",
        "colab": {
          "base_uri": "https://localhost:8080/",
          "height": 85
        }
      },
      "source": [
        "model2 = keras.Sequential([\n",
        "    keras.layers.Dense(256, activation='relu', input_dim=9769),\n",
        "    keras.layers.Dense(1,activation='sigmoid')\n",
        "])\n",
        "\n",
        "model2.compile(optimizer='adam',\n",
        "              loss=tf.keras.losses.BinaryCrossentropy(from_logits=True),\n",
        "              metrics=['accuracy'])\n",
        "\n",
        "history = model2.fit(x=tfidfX, y=targets,validation_split=0.1,epochs=2)"
      ],
      "execution_count": 0,
      "outputs": [
        {
          "output_type": "stream",
          "text": [
            "Epoch 1/2\n",
            "282/282 [==============================] - 5s 19ms/step - loss: 0.6208 - accuracy: 0.7417 - val_loss: 0.5651 - val_accuracy: 0.8790\n",
            "Epoch 2/2\n",
            "282/282 [==============================] - 5s 19ms/step - loss: 0.5414 - accuracy: 0.9328 - val_loss: 0.5601 - val_accuracy: 0.8700\n"
          ],
          "name": "stdout"
        }
      ]
    },
    {
      "cell_type": "code",
      "metadata": {
        "id": "6xRVdzxW8gIQ",
        "colab_type": "code",
        "outputId": "6351feda-c731-41f6-dfcb-996e4f74c054",
        "colab": {
          "base_uri": "https://localhost:8080/",
          "height": 85
        }
      },
      "source": [
        "model3 = keras.Sequential([\n",
        "    keras.layers.Dense(128, activation='relu', input_dim=100),\n",
        "    keras.layers.Dense(1,activation='sigmoid')\n",
        "])\n",
        "\n",
        "model3.compile(optimizer='adam',\n",
        "              loss=tf.keras.losses.BinaryCrossentropy(from_logits=True),\n",
        "              metrics=['accuracy'])\n",
        "\n",
        "history = model3.fit(x=d2vX, y=targets,validation_split=0.1,epochs=2)"
      ],
      "execution_count": 0,
      "outputs": [
        {
          "output_type": "stream",
          "text": [
            "Epoch 1/2\n",
            "282/282 [==============================] - 1s 2ms/step - loss: 0.6045 - accuracy: 0.7848 - val_loss: 0.5746 - val_accuracy: 0.8500\n",
            "Epoch 2/2\n",
            "282/282 [==============================] - 0s 2ms/step - loss: 0.5721 - accuracy: 0.8529 - val_loss: 0.5702 - val_accuracy: 0.8520\n"
          ],
          "name": "stdout"
        }
      ]
    },
    {
      "cell_type": "code",
      "metadata": {
        "id": "Er4kmlRATZHF",
        "colab_type": "code",
        "colab": {}
      },
      "source": [
        "def predict(i):\n",
        "  predict1=model1.predict_classes((countX[i].reshape(1,9769)))[0][0]\n",
        "  predict2=model2.predict_classes((tfidfX[i].reshape(1,9769)))[0][0]\n",
        "  predict3=model3.predict_classes((d2vX[i].reshape(1,100)))[0][0]\n",
        "  print(\"review:\",word_data[i])\n",
        "  print(\"CountVectorizer prediction:\",predict1)\n",
        "  print(\"TfidfVectorizer prediction:\",predict2)\n",
        "  print(\"Doc2Vec prediction:\",predict3)\n",
        "  print(\"true lable:\",targets[i])"
      ],
      "execution_count": 0,
      "outputs": []
    },
    {
      "cell_type": "code",
      "metadata": {
        "id": "hGzPJr5qkJcX",
        "colab_type": "code",
        "outputId": "90cfb4d9-c3ff-4db2-a6ce-06bdb9dc88e4",
        "colab": {
          "base_uri": "https://localhost:8080/",
          "height": 173
        }
      },
      "source": [
        "\n",
        "predict(1)"
      ],
      "execution_count": 0,
      "outputs": [
        {
          "output_type": "stream",
          "text": [
            "WARNING:tensorflow:From <ipython-input-35-ccef84afe2e7>:2: Sequential.predict_classes (from tensorflow.python.keras.engine.sequential) is deprecated and will be removed after 2021-01-01.\n",
            "Instructions for updating:\n",
            "Please use instead:* `np.argmax(model.predict(x), axis=-1)`,   if your model does multi-class classification   (e.g. if it uses a `softmax` last-layer activation).* `(model.predict(x) > 0.5).astype(\"int32\")`,   if your model does binary classification   (e.g. if it uses a `sigmoid` last-layer activation).\n",
            "review:  big hair big boobs bad music and a giant safety pin these are the words to best describe this terrible movie i love cheesy horror movies and i've seen hundreds but this had got to be on of the worst ever made the plot is paper thin and ridiculous the acting is an abomination the script is completely laughable the best is the end showdown with the cop and how he worked out who the killer is it's just so damn terribly written the clothes are sickening and funny in equal  the hair is big lots of boobs  men wear those cut  shirts that show off their  sickening that men actually wore them and the music is just  trash that plays over and over again in almost every scene there is trashy music boobs and  taking away bodies and the gym still doesn't close for  all joking aside this is a truly bad film whose only charm is to look back on the disaster that was the 80's and have a good old laugh at how bad everything was back then\n",
            "CountVectorizer prediction: 0\n",
            "TfidfVectorizer prediction: 0\n",
            "Doc2Vec prediction: 0\n",
            "true lable: 0.0\n"
          ],
          "name": "stdout"
        }
      ]
    },
    {
      "cell_type": "code",
      "metadata": {
        "id": "k_AVs_JM9ZJD",
        "colab_type": "code",
        "outputId": "9d21a587-2dfa-4247-b443-aeb7c2443086",
        "colab": {
          "base_uri": "https://localhost:8080/",
          "height": 122
        }
      },
      "source": [
        "predict(1111)"
      ],
      "execution_count": 0,
      "outputs": [
        {
          "output_type": "stream",
          "text": [
            "review:  after citizen kane in 1941 hollywood executives turned their   backs on the great orson welles with the exception of kane welles lost all creative control on magnificent  journey into fear and many other films to come welles was an innovative and creative genius the most unconventional of filmmakers when hollywood was in need of a few more the lady from shanghai is yet another example of the misunderstood view of welles' films at the time a movie that seems a bit choppy and non  it has a conventional 1940's premise told in a most unconventional way and i am sure some scenes ended up on the cutting room floor it is now legend that columbia  harry  stood up during its initial screening and asked what it was about in  many old  that ran the studios back then had not one clue as to the cinematic techniques and master story telling of orson welles and the lady from shanghai is only nearly great because of their  br br beside being arguably the greatest director of all time welles was also quite a performer as an actor at 25 we all know what he did as charles foster kane perhaps the most famous character in film history here he  a rare character of dim wit and not much intelligence something unfamiliar to those familiar with welles other great work instead of a slick wise tongue he speaks with a rough irish  rita hayworth his  married wife at the time plays an  married wife of a lawyer who puts welles in a spell and is able to draw him into a job that will take him to the limits of deception and  he is a large  who may have even murdered a man but the real mystery lies in the relationship between hayworth with stunning blonde hair and crippled  everett sloane mr  from citizen kane a creepy partner of  is along for the  around the country to set off a number of peculiar events that has welles' michael o'hara head spinning welles  the picture as o'hara but things are still unclear throughout see for yourself and realize that it takes at least 2 viewings to fully know exactly what's up br br an  strange courtroom sequence centers around o'hara with sloane defending him it is an oddly comedic scene with some quirky courtroom methods including sloane cross  himself i didn't really laugh here because the film  at this point after a first portion that never gets to take off anyway up to this point the cinematography is great some scenes are shot with craft and skill  love scene but there is no distinct line drawing the elements and us the audience in reportedly the court scene was re shot against welles'  10 closeups of hayworth were ordered and a  song sung by the  was thrown in at   a  score  welles who once again was left out of the editing process thank welles himself for saving the film entirely with a tour de force ending that will always be  the so called hall of mirrors scene brings buffs back time and time again rightfully so br br it must be seen to be believed and it does a good job of  up some confusing ideas presented the crash of the mirrors represents   and the crazy house itself is a masterpiece of art and set decoration it seems more like a state of mind than an actual place and is indeed crazy twisted and turned like a  painting this is a great ending to a flawed picture that if left alone would probably have made the  top 100 then again 3 or 4 more of orson welles films may have made all collective best of lists if he had been left alone to create his own magic br br note look for the  players that are so prominent in welles pictures they pop up all over rating 8 of 10\n",
            "CountVectorizer prediction: 1\n",
            "TfidfVectorizer prediction: 1\n",
            "Doc2Vec prediction: 1\n",
            "true lable: 1.0\n"
          ],
          "name": "stdout"
        }
      ]
    },
    {
      "cell_type": "code",
      "metadata": {
        "id": "0IAmF7C_-D_Y",
        "colab_type": "code",
        "outputId": "f51e4ead-d8db-4653-e8e7-d840c5fc6a64",
        "colab": {
          "base_uri": "https://localhost:8080/",
          "height": 122
        }
      },
      "source": [
        "predict(899)"
      ],
      "execution_count": 0,
      "outputs": [
        {
          "output_type": "stream",
          "text": [
            "review:  a truly adorable heroine who at turns is surprised and terrified by   with  runs full on into closed doors just a few of the moments that  in my memory of 'the naked  i loved what i caught of this show   plots and some good supporting characters provided the setting for the diamond of the show tea  as   cute  and wonderfully accident prone how refreshing to see an actress who can clown it's no wonder  doesn't seem to know how to cast her but where oh where are the dvd releases the amount of  they release it's incredible me that this little gem continues to remain buried someone please correct me if i'm wrong\n",
            "CountVectorizer prediction: 1\n",
            "TfidfVectorizer prediction: 1\n",
            "Doc2Vec prediction: 1\n",
            "true lable: 1.0\n"
          ],
          "name": "stdout"
        }
      ]
    },
    {
      "cell_type": "code",
      "metadata": {
        "id": "O8Vpo0CN-2zU",
        "colab_type": "code",
        "outputId": "117cd66f-9b98-42fa-9887-fb4444303e92",
        "colab": {
          "base_uri": "https://localhost:8080/",
          "height": 122
        }
      },
      "source": [
        "predict(9865)"
      ],
      "execution_count": 0,
      "outputs": [
        {
          "output_type": "stream",
          "text": [
            "review:  don't drink the water is an unbelievably bad film it's based on a 1966 broadway play by woody allen it stars jackie  the comic genius behind the  the director howard morris has appeared in several mel brooks comedies life stinks high anxiety silent movie and has made a mark in animation characters he has voiced include  from    and beetle  what went wrong br br i think the problem is that the premise is played out too seriously to work effectively allen's original play was tongue in cheek which is why it worked on broadway and in allen's 1994 remake the screenplay by r s allen and harvey  beats the premise to death and makes too many changes from the original play making  wife an  in this version when she was a  woman in the original is just one example of why this doesn't work br br the acting isn't much better  does the best he can with the material but he can't save this  was a comic genius but also a fine actor as he demonstrated in the hustler and soldier in the rain his  personality could have worked here but the lousy script doesn't even give him a chance too bad    wife will drive you nuts after 20 minutes see how soon it'll take for you to want to  her that is also a shame because she is also a fine actress having turned in two exceptional performances in bonnie and clyde and rachel rachel none of the other actors do particularly well either br br woody allen hated this film so much that he remade the film in 1994 with himself and julie   simpson in the leads they manage to hit all the right notes and the film itself is a comic masterpiece it's finally on video after a long battle over rights do go out and find that version all the 1969 original is good for is  out  guests who  their welcome br br 1 2 out of 4 stars\n",
            "CountVectorizer prediction: 0\n",
            "TfidfVectorizer prediction: 0\n",
            "Doc2Vec prediction: 0\n",
            "true lable: 0.0\n"
          ],
          "name": "stdout"
        }
      ]
    },
    {
      "cell_type": "code",
      "metadata": {
        "id": "7wN6oiLFBFyP",
        "colab_type": "code",
        "outputId": "2d62e15e-2bb9-45ec-fdae-3b815665900d",
        "colab": {
          "base_uri": "https://localhost:8080/",
          "height": 122
        }
      },
      "source": [
        "predict(965)"
      ],
      "execution_count": 0,
      "outputs": [
        {
          "output_type": "stream",
          "text": [
            "review:  bad stuff this movie is real crap bad stunts for one thing they looked so fake i thought this was the twilight zone the flashbacks are pretty much useless one part of the movie he thinks taking his anger out on a window will make his life better i wanna know the casting director and if he was high because the acting even from the adults was horrid a kissing scene in this movie even sucked this movie killed the book the book was great i highly do not recommend this movie not even for educational purposes br br good stuff i don't know what i can say really there is some suspense parts that get you going but they are quickly shot down by the bad stunt work and acting br br my verdict do not watch\n",
            "CountVectorizer prediction: 0\n",
            "TfidfVectorizer prediction: 0\n",
            "Doc2Vec prediction: 0\n",
            "true lable: 0.0\n"
          ],
          "name": "stdout"
        }
      ]
    },
    {
      "cell_type": "code",
      "metadata": {
        "id": "jxHCyq0KM397",
        "colab_type": "code",
        "colab": {}
      },
      "source": [
        ""
      ],
      "execution_count": 0,
      "outputs": []
    }
  ]
}