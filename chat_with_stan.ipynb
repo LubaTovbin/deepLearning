{
  "nbformat": 4,
  "nbformat_minor": 0,
  "metadata": {
    "colab": {
      "name": "chat with stan.ipynb",
      "provenance": [],
      "collapsed_sections": [],
      "authorship_tag": "ABX9TyOVzBiBjaHRyjRghE+Bxlni"
    },
    "kernelspec": {
      "name": "python3",
      "display_name": "Python 3"
    },
    "accelerator": "GPU"
  },
  "cells": [
    {
      "cell_type": "markdown",
      "metadata": {
        "id": "IuvWdn3XSMtO",
        "colab_type": "text"
      },
      "source": [
        "reference: https://medium.com/tensorflow/a-transformer-chatbot-tutorial-with-tensorflow-2-0-88bf59e66fe2"
      ]
    },
    {
      "cell_type": "code",
      "metadata": {
        "id": "4O005nxgSw7D",
        "colab_type": "code",
        "colab": {}
      },
      "source": [
        "import tensorflow_datasets as tfds\n",
        "import tensorflow as tf\n",
        "import os\n",
        "import re\n",
        "import numpy as np\n",
        "\n",
        "import pandas as pd\n",
        "import matplotlib.pyplot as plt"
      ],
      "execution_count": 0,
      "outputs": []
    },
    {
      "cell_type": "code",
      "metadata": {
        "id": "RO2l8MdtG4EM",
        "colab_type": "code",
        "outputId": "aa41887f-c73e-4a6f-8d82-30a99a66011c",
        "colab": {
          "base_uri": "https://localhost:8080/",
          "height": 124
        }
      },
      "source": [
        "from google.colab import drive\n",
        "drive.mount('/content/drive')"
      ],
      "execution_count": 2,
      "outputs": [
        {
          "output_type": "stream",
          "text": [
            "Go to this URL in a browser: https://accounts.google.com/o/oauth2/auth?client_id=947318989803-6bn6qk8qdgf4n4g3pfee6491hc0brc4i.apps.googleusercontent.com&redirect_uri=urn%3aietf%3awg%3aoauth%3a2.0%3aoob&response_type=code&scope=email%20https%3a%2f%2fwww.googleapis.com%2fauth%2fdocs.test%20https%3a%2f%2fwww.googleapis.com%2fauth%2fdrive%20https%3a%2f%2fwww.googleapis.com%2fauth%2fdrive.photos.readonly%20https%3a%2f%2fwww.googleapis.com%2fauth%2fpeopleapi.readonly\n",
            "\n",
            "Enter your authorization code:\n",
            "··········\n",
            "Mounted at /content/drive\n"
          ],
          "name": "stdout"
        }
      ]
    },
    {
      "cell_type": "code",
      "metadata": {
        "id": "jyA63AybecRJ",
        "colab_type": "code",
        "colab": {}
      },
      "source": [
        "path_to_dataset = '/content/drive/My Drive/chatbot/'\n",
        "path_to_movie_conversations = os.path.join(path_to_dataset,\n",
        "                                           'All-seasons.csv')"
      ],
      "execution_count": 0,
      "outputs": []
    },
    {
      "cell_type": "code",
      "metadata": {
        "id": "qmSmSjdyKbgY",
        "colab_type": "code",
        "colab": {}
      },
      "source": [
        "def preprocess_sentence(sentence):\n",
        "  sentence = sentence.lower().strip()\n",
        "  sentence = re.sub(r\"([?.!,])\", r\" \\1 \", sentence)\n",
        "  sentence = re.sub(r'[\" \"]+', \" \", sentence)\n",
        "\n",
        "  sentence = re.sub(r\"i'm\", \"i am\", sentence)\n",
        "  sentence = re.sub(r\"he's\", \"he is\", sentence)\n",
        "  sentence = re.sub(r\"she's\", \"she is\", sentence)\n",
        "  sentence = re.sub(r\"it's\", \"it is\", sentence)\n",
        "  sentence = re.sub(r\"that's\", \"that is\", sentence)\n",
        "  sentence = re.sub(r\"what's\", \"what is\", sentence)\n",
        "  sentence = re.sub(r\"where's\", \"where is\", sentence)\n",
        "  sentence = re.sub(r\"how's\", \"how is\", sentence)\n",
        "  sentence = re.sub(r\"\\'ll\", \" will\", sentence)\n",
        "  sentence = re.sub(r\"\\'ve\", \" have\", sentence)\n",
        "  sentence = re.sub(r\"\\'re\", \" are\", sentence)\n",
        "  sentence = re.sub(r\"\\'d\", \" would\", sentence)\n",
        "  sentence = re.sub(r\"can't\", \"can not\", sentence)\n",
        "  sentence = re.sub(r\"n't\", \" not\", sentence)\n",
        "  sentence = re.sub(r\"won't\", \"will not\", sentence)\n",
        "  sentence = re.sub(r\"can't\", \"cannot\", sentence)\n",
        "  sentence = re.sub(r\"[^a-zA-Z?.!,]+\", \" \", sentence)\n",
        "  sentence = sentence.strip()\n",
        "  return sentence"
      ],
      "execution_count": 0,
      "outputs": []
    },
    {
      "cell_type": "code",
      "metadata": {
        "id": "29ECpX6fTSll",
        "colab_type": "code",
        "colab": {}
      },
      "source": [
        "def load_conversations():\n",
        "  # dictionary of line id to text\n",
        "  questions = []\n",
        "  answers = []\n",
        "  data = pd.read_csv(path_to_movie_conversations)\n",
        "\n",
        "  for i in range(0, data.shape[0] - 1):\n",
        "    if data.iloc[i + 1][2] == 'Stan':\n",
        "        questions.append(preprocess_sentence(data.iloc[i][3]))\n",
        "        answers.append(preprocess_sentence(data.iloc[i + 1][3]))\n",
        "      \n",
        "  return questions, answers\n",
        "\n",
        "\n",
        "questions, answers = load_conversations()"
      ],
      "execution_count": 0,
      "outputs": []
    },
    {
      "cell_type": "code",
      "metadata": {
        "id": "nRRBXYpuTnFg",
        "colab_type": "code",
        "outputId": "9292f738-4e5b-45c8-ee11-c7d273edf27b",
        "colab": {
          "base_uri": "https://localhost:8080/",
          "height": 52
        }
      },
      "source": [
        "print('Sample question: {}'.format(questions[20]))\n",
        "print('Sample answer: {}'.format(answers[20]))"
      ],
      "execution_count": 9,
      "outputs": [
        {
          "output_type": "stream",
          "text": [
            "Sample question: ha ! i knew it !\n",
            "Sample answer: knew what ?\n"
          ],
          "name": "stdout"
        }
      ]
    },
    {
      "cell_type": "code",
      "metadata": {
        "id": "uUvL6tAhT3t1",
        "colab_type": "code",
        "colab": {}
      },
      "source": [
        "# Build tokenizer using tfds for both questions and answers\n",
        "tokenizer = tfds.features.text.SubwordTextEncoder.build_from_corpus(\n",
        "    questions + answers, target_vocab_size=2**13)\n",
        "\n",
        "# Define start and end token to indicate the start and end of a sentence\n",
        "START_TOKEN, END_TOKEN = [tokenizer.vocab_size], [tokenizer.vocab_size + 1]\n",
        "\n",
        "# Vocabulary size plus start and end token\n",
        "VOCAB_SIZE = tokenizer.vocab_size + 2"
      ],
      "execution_count": 0,
      "outputs": []
    },
    {
      "cell_type": "code",
      "metadata": {
        "id": "807MBXHnT62N",
        "colab_type": "code",
        "outputId": "7794a721-7020-4754-de7b-215991032590",
        "colab": {
          "base_uri": "https://localhost:8080/",
          "height": 35
        }
      },
      "source": [
        "print('Tokenized sample question: {}'.format(tokenizer.encode(questions[20])))"
      ],
      "execution_count": 0,
      "outputs": [
        {
          "output_type": "stream",
          "text": [
            "Tokenized sample question: [4, 286, 2, 286, 2, 144, 382, 194, 2, 42, 4, 38, 104, 3, 11, 798, 31, 1170, 2214, 1]\n"
          ],
          "name": "stdout"
        }
      ]
    },
    {
      "cell_type": "code",
      "metadata": {
        "id": "a5qs2j6aUD6f",
        "colab_type": "code",
        "colab": {}
      },
      "source": [
        "# Maximum sentence length\n",
        "MAX_LENGTH = 30\n",
        "MIN_LENGTH = 1\n",
        "\n",
        "\n",
        "# Tokenize, filter and pad sentences\n",
        "def tokenize_and_filter(inputs, outputs):\n",
        "  tokenized_inputs, tokenized_outputs = [], []\n",
        "  \n",
        "  for (sentence1, sentence2) in zip(inputs, outputs):\n",
        "    # tokenize sentence\n",
        "    sentence1 = START_TOKEN + tokenizer.encode(sentence1) + END_TOKEN\n",
        "    sentence2 = START_TOKEN + tokenizer.encode(sentence2) + END_TOKEN\n",
        "    # check tokenized sentence max length\n",
        "    if len(sentence1) <= MAX_LENGTH and len(sentence2) <= MAX_LENGTH and len(sentence1) > MIN_LENGTH and len(sentence2) > MIN_LENGTH:\n",
        "      tokenized_inputs.append(sentence1)\n",
        "      tokenized_outputs.append(sentence2)\n",
        "  \n",
        "  # pad tokenized sentences\n",
        "  tokenized_inputs = tf.keras.preprocessing.sequence.pad_sequences(\n",
        "      tokenized_inputs, maxlen=MAX_LENGTH, padding='post')\n",
        "  tokenized_outputs = tf.keras.preprocessing.sequence.pad_sequences(\n",
        "      tokenized_outputs, maxlen=MAX_LENGTH, padding='post')\n",
        "  \n",
        "  return tokenized_inputs, tokenized_outputs\n",
        "\n",
        "\n",
        "questions, answers = tokenize_and_filter(questions, answers)"
      ],
      "execution_count": 0,
      "outputs": []
    },
    {
      "cell_type": "code",
      "metadata": {
        "id": "Nf2gD6N-UFAZ",
        "colab_type": "code",
        "outputId": "8659641e-070c-492b-e9ee-4461a85938fd",
        "colab": {
          "base_uri": "https://localhost:8080/",
          "height": 52
        }
      },
      "source": [
        "print('Vocab size: {}'.format(VOCAB_SIZE))\n",
        "print('Number of samples: {}'.format(len(questions)))"
      ],
      "execution_count": 12,
      "outputs": [
        {
          "output_type": "stream",
          "text": [
            "Vocab size: 7288\n",
            "Number of samples: 6164\n"
          ],
          "name": "stdout"
        }
      ]
    },
    {
      "cell_type": "code",
      "metadata": {
        "id": "ogBagaY2UIfV",
        "colab_type": "code",
        "colab": {}
      },
      "source": [
        "BATCH_SIZE = 64\n",
        "BUFFER_SIZE = 20000\n",
        "\n",
        "# decoder inputs use the previous target as input\n",
        "# remove START_TOKEN from targets\n",
        "dataset = tf.data.Dataset.from_tensor_slices((\n",
        "    {\n",
        "        'inputs': questions,\n",
        "        'dec_inputs': answers[:, :-1]\n",
        "    },\n",
        "    {\n",
        "        'outputs': answers[:, 1:]\n",
        "    },\n",
        "))\n",
        "\n",
        "dataset = dataset.cache()\n",
        "dataset = dataset.shuffle(BUFFER_SIZE)\n",
        "dataset = dataset.batch(BATCH_SIZE)\n",
        "dataset = dataset.prefetch(tf.data.experimental.AUTOTUNE)"
      ],
      "execution_count": 0,
      "outputs": []
    },
    {
      "cell_type": "code",
      "metadata": {
        "id": "Hsxs0O3cUMqJ",
        "colab_type": "code",
        "outputId": "dbfd9f49-6997-4fc5-c681-db27f36dc674",
        "colab": {
          "base_uri": "https://localhost:8080/",
          "height": 35
        }
      },
      "source": [
        "print(dataset)"
      ],
      "execution_count": 14,
      "outputs": [
        {
          "output_type": "stream",
          "text": [
            "<PrefetchDataset shapes: ({inputs: (None, 30), dec_inputs: (None, 29)}, {outputs: (None, 29)}), types: ({inputs: tf.int32, dec_inputs: tf.int32}, {outputs: tf.int32})>\n"
          ],
          "name": "stdout"
        }
      ]
    },
    {
      "cell_type": "code",
      "metadata": {
        "id": "tq8PkbpzUVcE",
        "colab_type": "code",
        "colab": {}
      },
      "source": [
        "def scaled_dot_product_attention(query, key, value, mask):\n",
        "  \"\"\"Calculate the attention weights. \"\"\"\n",
        "  matmul_qk = tf.matmul(query, key, transpose_b=True)\n",
        "\n",
        "  # scale matmul_qk\n",
        "  depth = tf.cast(tf.shape(key)[-1], tf.float32)\n",
        "  logits = matmul_qk / tf.math.sqrt(depth)\n",
        "\n",
        "  # add the mask to zero out padding tokens\n",
        "  if mask is not None:\n",
        "    logits += (mask * -1e9)\n",
        "\n",
        "  # softmax is normalized on the last axis (seq_len_k)\n",
        "  attention_weights = tf.nn.softmax(logits, axis=-1)\n",
        "\n",
        "  output = tf.matmul(attention_weights, value)\n",
        "\n",
        "  return output"
      ],
      "execution_count": 0,
      "outputs": []
    },
    {
      "cell_type": "code",
      "metadata": {
        "id": "Bp39LlDNUhE5",
        "colab_type": "code",
        "colab": {}
      },
      "source": [
        "class MultiHeadAttention(tf.keras.layers.Layer):\n",
        "\n",
        "  def __init__(self, d_model, num_heads, name=\"multi_head_attention\"):\n",
        "    super(MultiHeadAttention, self).__init__(name=name)\n",
        "    self.num_heads = num_heads\n",
        "    self.d_model = d_model\n",
        "\n",
        "    assert d_model % self.num_heads == 0\n",
        "\n",
        "    self.depth = d_model // self.num_heads\n",
        "\n",
        "    self.query_dense = tf.keras.layers.Dense(units=d_model)\n",
        "    self.key_dense = tf.keras.layers.Dense(units=d_model)\n",
        "    self.value_dense = tf.keras.layers.Dense(units=d_model)\n",
        "\n",
        "    self.dense = tf.keras.layers.Dense(units=d_model)\n",
        "\n",
        "  def split_heads(self, inputs, batch_size):\n",
        "    inputs = tf.reshape(\n",
        "        inputs, shape=(batch_size, -1, self.num_heads, self.depth))\n",
        "    return tf.transpose(inputs, perm=[0, 2, 1, 3])\n",
        "\n",
        "  def call(self, inputs):\n",
        "    query, key, value, mask = inputs['query'], inputs['key'], inputs[\n",
        "        'value'], inputs['mask']\n",
        "    batch_size = tf.shape(query)[0]\n",
        "\n",
        "    # linear layers\n",
        "    query = self.query_dense(query)\n",
        "    key = self.key_dense(key)\n",
        "    value = self.value_dense(value)\n",
        "\n",
        "    # split heads\n",
        "    query = self.split_heads(query, batch_size)\n",
        "    key = self.split_heads(key, batch_size)\n",
        "    value = self.split_heads(value, batch_size)\n",
        "\n",
        "    # scaled dot-product attention\n",
        "    scaled_attention = scaled_dot_product_attention(query, key, value, mask)\n",
        "\n",
        "    scaled_attention = tf.transpose(scaled_attention, perm=[0, 2, 1, 3])\n",
        "\n",
        "    # concatenation of heads\n",
        "    concat_attention = tf.reshape(scaled_attention,\n",
        "                                  (batch_size, -1, self.d_model))\n",
        "\n",
        "    # final linear layer\n",
        "    outputs = self.dense(concat_attention)\n",
        "\n",
        "    return outputs"
      ],
      "execution_count": 0,
      "outputs": []
    },
    {
      "cell_type": "code",
      "metadata": {
        "id": "aFNkUNGCUk9O",
        "colab_type": "code",
        "colab": {}
      },
      "source": [
        "def create_padding_mask(x):\n",
        "  mask = tf.cast(tf.math.equal(x, 0), tf.float32)\n",
        "  # (batch_size, 1, 1, sequence length)\n",
        "  return mask[:, tf.newaxis, tf.newaxis, :]"
      ],
      "execution_count": 0,
      "outputs": []
    },
    {
      "cell_type": "code",
      "metadata": {
        "id": "ObuxpyVOUpHh",
        "colab_type": "code",
        "colab": {}
      },
      "source": [
        "def create_look_ahead_mask(x):\n",
        "  seq_len = tf.shape(x)[1]\n",
        "  look_ahead_mask = 1 - tf.linalg.band_part(tf.ones((seq_len, seq_len)), -1, 0)\n",
        "  padding_mask = create_padding_mask(x)\n",
        "  return tf.maximum(look_ahead_mask, padding_mask)"
      ],
      "execution_count": 0,
      "outputs": []
    },
    {
      "cell_type": "code",
      "metadata": {
        "id": "BOlLW0CCp5rt",
        "colab_type": "code",
        "colab": {}
      },
      "source": [
        "class PositionalEncoding(tf.keras.layers.Layer):\n",
        "\n",
        "  def __init__(self, position, d_model):\n",
        "    super(PositionalEncoding, self).__init__()\n",
        "    self.pos_encoding = self.positional_encoding(position, d_model)\n",
        "\n",
        "  def get_angles(self, position, i, d_model):\n",
        "    angles = 1 / tf.pow(10000, (2 * (i // 2)) / tf.cast(d_model, tf.float32))\n",
        "    return position * angles\n",
        "\n",
        "  def positional_encoding(self, position, d_model):\n",
        "    angle_rads = self.get_angles(\n",
        "        position=tf.range(position, dtype=tf.float32)[:, tf.newaxis],\n",
        "        i=tf.range(d_model, dtype=tf.float32)[tf.newaxis, :],\n",
        "        d_model=d_model)\n",
        "    # apply sin to even index in the array\n",
        "    sines = tf.math.sin(angle_rads[:, 0::2])\n",
        "    # apply cos to odd index in the array\n",
        "    cosines = tf.math.cos(angle_rads[:, 1::2])\n",
        "\n",
        "    pos_encoding = tf.concat([sines, cosines], axis=-1)\n",
        "    pos_encoding = pos_encoding[tf.newaxis, ...]\n",
        "    return tf.cast(pos_encoding, tf.float32)\n",
        "\n",
        "  def call(self, inputs):\n",
        "    return inputs + self.pos_encoding[:, :tf.shape(inputs)[1], :]"
      ],
      "execution_count": 0,
      "outputs": []
    },
    {
      "cell_type": "code",
      "metadata": {
        "id": "KsptDGC_Uzg9",
        "colab_type": "code",
        "colab": {}
      },
      "source": [
        "def encoder_layer(units, d_model, num_heads, dropout, name=\"encoder_layer\"):\n",
        "  inputs = tf.keras.Input(shape=(None, d_model), name=\"inputs\")\n",
        "  padding_mask = tf.keras.Input(shape=(1, 1, None), name=\"padding_mask\")\n",
        "\n",
        "  attention = MultiHeadAttention(\n",
        "      d_model, num_heads, name=\"attention\")({\n",
        "          'query': inputs,\n",
        "          'key': inputs,\n",
        "          'value': inputs,\n",
        "          'mask': padding_mask\n",
        "      })\n",
        "  attention = tf.keras.layers.Dropout(rate=dropout)(attention)\n",
        "  attention = tf.keras.layers.LayerNormalization(\n",
        "      epsilon=1e-6)(inputs + attention)\n",
        "\n",
        "  outputs = tf.keras.layers.Dense(units=units, activation='relu')(attention)\n",
        "  outputs = tf.keras.layers.Dense(units=d_model)(outputs)\n",
        "  outputs = tf.keras.layers.Dropout(rate=dropout)(outputs)\n",
        "  outputs = tf.keras.layers.LayerNormalization(\n",
        "      epsilon=1e-6)(attention + outputs)\n",
        "\n",
        "  return tf.keras.Model(\n",
        "      inputs=[inputs, padding_mask], outputs=outputs, name=name)"
      ],
      "execution_count": 0,
      "outputs": []
    },
    {
      "cell_type": "code",
      "metadata": {
        "id": "AI5avt0qU4iy",
        "colab_type": "code",
        "colab": {}
      },
      "source": [
        "def encoder(vocab_size,\n",
        "            num_layers,\n",
        "            units,\n",
        "            d_model,\n",
        "            num_heads,\n",
        "            dropout,\n",
        "            name=\"encoder\"):\n",
        "  inputs = tf.keras.Input(shape=(None,), name=\"inputs\")\n",
        "  padding_mask = tf.keras.Input(shape=(1, 1, None), name=\"padding_mask\")\n",
        "\n",
        "  embeddings = tf.keras.layers.Embedding(vocab_size, d_model)(inputs)\n",
        "  embeddings *= tf.math.sqrt(tf.cast(d_model, tf.float32))\n",
        "  embeddings = PositionalEncoding(vocab_size, d_model)(embeddings)\n",
        "\n",
        "  outputs = tf.keras.layers.Dropout(rate=dropout)(embeddings)\n",
        "\n",
        "  for i in range(num_layers):\n",
        "    outputs = encoder_layer(\n",
        "        units=units,\n",
        "        d_model=d_model,\n",
        "        num_heads=num_heads,\n",
        "        dropout=dropout,\n",
        "        name=\"encoder_layer_{}\".format(i),\n",
        "    )([outputs, padding_mask])\n",
        "\n",
        "  return tf.keras.Model(\n",
        "      inputs=[inputs, padding_mask], outputs=outputs, name=name)"
      ],
      "execution_count": 0,
      "outputs": []
    },
    {
      "cell_type": "code",
      "metadata": {
        "id": "pr9WwJSSp_RX",
        "colab_type": "code",
        "colab": {}
      },
      "source": [
        "def decoder_layer(units, d_model, num_heads, dropout, name=\"decoder_layer\"):\n",
        "  inputs = tf.keras.Input(shape=(None, d_model), name=\"inputs\")\n",
        "  enc_outputs = tf.keras.Input(shape=(None, d_model), name=\"encoder_outputs\")\n",
        "  look_ahead_mask = tf.keras.Input(\n",
        "      shape=(1, None, None), name=\"look_ahead_mask\")\n",
        "  padding_mask = tf.keras.Input(shape=(1, 1, None), name='padding_mask')\n",
        "\n",
        "  attention1 = MultiHeadAttention(\n",
        "      d_model, num_heads, name=\"attention_1\")(inputs={\n",
        "          'query': inputs,\n",
        "          'key': inputs,\n",
        "          'value': inputs,\n",
        "          'mask': look_ahead_mask\n",
        "      })\n",
        "  attention1 = tf.keras.layers.LayerNormalization(\n",
        "      epsilon=1e-6)(attention1 + inputs)\n",
        "\n",
        "  attention2 = MultiHeadAttention(\n",
        "      d_model, num_heads, name=\"attention_2\")(inputs={\n",
        "          'query': attention1,\n",
        "          'key': enc_outputs,\n",
        "          'value': enc_outputs,\n",
        "          'mask': padding_mask\n",
        "      })\n",
        "  attention2 = tf.keras.layers.Dropout(rate=dropout)(attention2)\n",
        "  attention2 = tf.keras.layers.LayerNormalization(\n",
        "      epsilon=1e-6)(attention2 + attention1)\n",
        "\n",
        "  outputs = tf.keras.layers.Dense(units=units, activation='relu')(attention2)\n",
        "  outputs = tf.keras.layers.Dense(units=d_model)(outputs)\n",
        "  outputs = tf.keras.layers.Dropout(rate=dropout)(outputs)\n",
        "  outputs = tf.keras.layers.LayerNormalization(\n",
        "      epsilon=1e-6)(outputs + attention2)\n",
        "\n",
        "  return tf.keras.Model(\n",
        "      inputs=[inputs, enc_outputs, look_ahead_mask, padding_mask],\n",
        "      outputs=outputs,\n",
        "      name=name)"
      ],
      "execution_count": 0,
      "outputs": []
    },
    {
      "cell_type": "code",
      "metadata": {
        "id": "cuJ5HcqQpmzj",
        "colab_type": "code",
        "colab": {}
      },
      "source": [
        "\n",
        "def decoder(vocab_size,\n",
        "            num_layers,\n",
        "            units,\n",
        "            d_model,\n",
        "            num_heads,\n",
        "            dropout,\n",
        "            name='decoder'):\n",
        "  inputs = tf.keras.Input(shape=(None,), name='inputs')\n",
        "  enc_outputs = tf.keras.Input(shape=(None, d_model), name='encoder_outputs')\n",
        "  look_ahead_mask = tf.keras.Input(\n",
        "      shape=(1, None, None), name='look_ahead_mask')\n",
        "  padding_mask = tf.keras.Input(shape=(1, 1, None), name='padding_mask')\n",
        "  \n",
        "  embeddings = tf.keras.layers.Embedding(vocab_size, d_model)(inputs)\n",
        "  embeddings *= tf.math.sqrt(tf.cast(d_model, tf.float32))\n",
        "  embeddings = PositionalEncoding(vocab_size, d_model)(embeddings)\n",
        "\n",
        "  outputs = tf.keras.layers.Dropout(rate=dropout)(embeddings)\n",
        "\n",
        "  for i in range(num_layers):\n",
        "    outputs = decoder_layer(\n",
        "        units=units,\n",
        "        d_model=d_model,\n",
        "        num_heads=num_heads,\n",
        "        dropout=dropout,\n",
        "        name='decoder_layer_{}'.format(i),\n",
        "    )(inputs=[outputs, enc_outputs, look_ahead_mask, padding_mask])\n",
        "\n",
        "  return tf.keras.Model(\n",
        "      inputs=[inputs, enc_outputs, look_ahead_mask, padding_mask],\n",
        "      outputs=outputs,\n",
        "      name=name)"
      ],
      "execution_count": 0,
      "outputs": []
    },
    {
      "cell_type": "code",
      "metadata": {
        "id": "KsUBq07vqI9I",
        "colab_type": "code",
        "colab": {}
      },
      "source": [
        "def transformer(vocab_size,\n",
        "                num_layers,\n",
        "                units,\n",
        "                d_model,\n",
        "                num_heads,\n",
        "                dropout,\n",
        "                name=\"transformer\"):\n",
        "  inputs = tf.keras.Input(shape=(None,), name=\"inputs\")\n",
        "  dec_inputs = tf.keras.Input(shape=(None,), name=\"dec_inputs\")\n",
        "\n",
        "  enc_padding_mask = tf.keras.layers.Lambda(\n",
        "      create_padding_mask, output_shape=(1, 1, None),\n",
        "      name='enc_padding_mask')(inputs)\n",
        "  # mask the future tokens for decoder inputs at the 1st attention block\n",
        "  look_ahead_mask = tf.keras.layers.Lambda(\n",
        "      create_look_ahead_mask,\n",
        "      output_shape=(1, None, None),\n",
        "      name='look_ahead_mask')(dec_inputs)\n",
        "  # mask the encoder outputs for the 2nd attention block\n",
        "  dec_padding_mask = tf.keras.layers.Lambda(\n",
        "      create_padding_mask, output_shape=(1, 1, None),\n",
        "      name='dec_padding_mask')(inputs)\n",
        "\n",
        "  enc_outputs = encoder(\n",
        "      vocab_size=vocab_size,\n",
        "      num_layers=num_layers,\n",
        "      units=units,\n",
        "      d_model=d_model,\n",
        "      num_heads=num_heads,\n",
        "      dropout=dropout,\n",
        "  )(inputs=[inputs, enc_padding_mask])\n",
        "\n",
        "  dec_outputs = decoder(\n",
        "      vocab_size=vocab_size,\n",
        "      num_layers=num_layers,\n",
        "      units=units,\n",
        "      d_model=d_model,\n",
        "      num_heads=num_heads,\n",
        "      dropout=dropout,\n",
        "  )(inputs=[dec_inputs, enc_outputs, look_ahead_mask, dec_padding_mask])\n",
        "\n",
        "  outputs = tf.keras.layers.Dense(units=vocab_size, name=\"outputs\")(dec_outputs)\n",
        "\n",
        "  return tf.keras.Model(inputs=[inputs, dec_inputs], outputs=outputs, name=name)"
      ],
      "execution_count": 0,
      "outputs": []
    },
    {
      "cell_type": "code",
      "metadata": {
        "id": "RZkMp_K_qUyd",
        "colab_type": "code",
        "outputId": "fafcdfbf-cae2-4a3e-eeec-b79c89994264",
        "colab": {
          "base_uri": "https://localhost:8080/",
          "height": 533
        }
      },
      "source": [
        "tf.keras.backend.clear_session()\n",
        "\n",
        "# Hyper-parameters\n",
        "NUM_LAYERS = 2\n",
        "D_MODEL = 256\n",
        "NUM_HEADS = 8\n",
        "UNITS = 2048\n",
        "DROPOUT = 0.1\n",
        "\n",
        "model = transformer(\n",
        "    vocab_size=VOCAB_SIZE,\n",
        "    num_layers=NUM_LAYERS,\n",
        "    units=UNITS,\n",
        "    d_model=D_MODEL,\n",
        "    num_heads=NUM_HEADS,\n",
        "    dropout=DROPOUT)\n",
        "\n",
        "tf.keras.utils.plot_model(\n",
        "    model, to_file='transformer.png', show_shapes=True)"
      ],
      "execution_count": 25,
      "outputs": [
        {
          "output_type": "execute_result",
          "data": {
            "image/png": "[encoded data removed]",
            "text/plain": [
              "<IPython.core.display.Image object>"
            ]
          },
          "metadata": {
            "tags": []
          },
          "execution_count": 25
        }
      ]
    },
    {
      "cell_type": "code",
      "metadata": {
        "id": "86NO_3pxqbET",
        "colab_type": "code",
        "colab": {}
      },
      "source": [
        "def loss_function(y_true, y_pred):\n",
        "  y_true = tf.reshape(y_true, shape=(-1, MAX_LENGTH - 1))\n",
        "  \n",
        "  loss = tf.keras.losses.SparseCategoricalCrossentropy(\n",
        "      from_logits=True, reduction='none')(y_true, y_pred)\n",
        "\n",
        "  mask = tf.cast(tf.not_equal(y_true, 0), tf.float32)\n",
        "  loss = tf.multiply(loss, mask)\n",
        "\n",
        "  return tf.reduce_mean(loss)"
      ],
      "execution_count": 0,
      "outputs": []
    },
    {
      "cell_type": "code",
      "metadata": {
        "id": "7yzdt0CPqdaw",
        "colab_type": "code",
        "colab": {}
      },
      "source": [
        "class CustomSchedule(tf.keras.optimizers.schedules.LearningRateSchedule):\n",
        "\n",
        "  def __init__(self, d_model, warmup_steps=4000):\n",
        "    super(CustomSchedule, self).__init__()\n",
        "\n",
        "    self.d_model = d_model\n",
        "    self.d_model = tf.cast(self.d_model, tf.float32)\n",
        "\n",
        "    self.warmup_steps = warmup_steps\n",
        "\n",
        "  def __call__(self, step):\n",
        "    arg1 = tf.math.rsqrt(step)\n",
        "    arg2 = step * (self.warmup_steps**-1.5)\n",
        "\n",
        "    return tf.math.rsqrt(self.d_model) * tf.math.minimum(arg1, arg2)\n",
        "  \n",
        "  def get_config(self):\n",
        "    config = {'d_model': self.d_model,'warmup_steps': self.warmup_steps}\n",
        "    return config"
      ],
      "execution_count": 0,
      "outputs": []
    },
    {
      "cell_type": "code",
      "metadata": {
        "id": "vslAWhFEqggA",
        "colab_type": "code",
        "outputId": "9cc794cd-4e10-4688-a87e-14bd7b7aa0eb",
        "colab": {
          "base_uri": "https://localhost:8080/",
          "height": 296
        }
      },
      "source": [
        "sample_learning_rate = CustomSchedule(d_model=256)\n",
        "\n",
        "plt.plot(sample_learning_rate(tf.range(20000, dtype=tf.float32)))\n",
        "plt.ylabel(\"Learning Rate\")\n",
        "plt.xlabel(\"Train Step\")"
      ],
      "execution_count": 30,
      "outputs": [
        {
          "output_type": "execute_result",
          "data": {
            "text/plain": [
              "Text(0.5, 0, 'Train Step')"
            ]
          },
          "metadata": {
            "tags": []
          },
          "execution_count": 30
        },
        {
          "output_type": "display_data",
          "data": {
            "image/png": "[encoded data removed]",
            "text/plain": [
              "<Figure size 432x288 with 1 Axes>"
            ]
          },
          "metadata": {
            "tags": [],
            "needs_background": "light"
          }
        }
      ]
    },
    {
      "cell_type": "code",
      "metadata": {
        "id": "k074LJcyrng9",
        "colab_type": "code",
        "colab": {}
      },
      "source": [
        "folderpath='/content/drive/My Drive/chatbot/'\n",
        "filepath=folderpath+'model7-{epoch:02d}.hdf5'\n",
        "cp_callback = tf.keras.callbacks.ModelCheckpoint(filepath=filepath,\n",
        "                                                 save_weights_only=True,\n",
        "                                                 verbose=1)"
      ],
      "execution_count": 0,
      "outputs": []
    },
    {
      "cell_type": "code",
      "metadata": {
        "id": "Nzt-Khljqi-0",
        "colab_type": "code",
        "colab": {}
      },
      "source": [
        "learning_rate = CustomSchedule(D_MODEL)\n",
        "\n",
        "optimizer = tf.keras.optimizers.Adam(\n",
        "    learning_rate, beta_1=0.9, beta_2=0.98, epsilon=1e-9)\n",
        "\n",
        "def accuracy(y_true, y_pred):\n",
        "  # ensure labels have shape (batch_size, MAX_LENGTH - 1)\n",
        "  y_true = tf.reshape(y_true, shape=(-1, MAX_LENGTH - 1))\n",
        "  return tf.keras.metrics.sparse_categorical_accuracy(y_true, y_pred)\n",
        "\n",
        "history = model.compile(optimizer=optimizer, loss=loss_function, metrics=[accuracy])"
      ],
      "execution_count": 0,
      "outputs": []
    },
    {
      "cell_type": "code",
      "metadata": {
        "id": "cFcrgYpyD2sO",
        "colab_type": "code",
        "outputId": "64a12914-2101-4baa-ff88-3415ebcf0c2b",
        "colab": {
          "base_uri": "https://localhost:8080/",
          "height": 1000
        }
      },
      "source": [
        "EPOCHS = 50\n",
        "ini_epochs= 0\n",
        "\n",
        "model.fit(dataset, epochs=EPOCHS,initial_epoch = ini_epochs,callbacks=[cp_callback])"
      ],
      "execution_count": 34,
      "outputs": [
        {
          "output_type": "stream",
          "text": [
            "Epoch 1/50\n",
            "97/97 [==============================] - ETA: 0s - loss: 3.3090 - accuracy: 0.0229\n",
            "Epoch 00001: saving model to /content/drive/My Drive/chatbot/model7-01.hdf5\n",
            "97/97 [==============================] - 10s 103ms/step - loss: 3.3090 - accuracy: 0.0229\n",
            "Epoch 2/50\n",
            "97/97 [==============================] - ETA: 0s - loss: 2.9904 - accuracy: 0.0366\n",
            "Epoch 00002: saving model to /content/drive/My Drive/chatbot/model7-02.hdf5\n",
            "97/97 [==============================] - 10s 103ms/step - loss: 2.9904 - accuracy: 0.0366\n",
            "Epoch 3/50\n",
            "97/97 [==============================] - ETA: 0s - loss: 2.5421 - accuracy: 0.0547\n",
            "Epoch 00003: saving model to /content/drive/My Drive/chatbot/model7-03.hdf5\n",
            "97/97 [==============================] - 10s 104ms/step - loss: 2.5421 - accuracy: 0.0547\n",
            "Epoch 4/50\n",
            "97/97 [==============================] - ETA: 0s - loss: 2.1919 - accuracy: 0.0660\n",
            "Epoch 00004: saving model to /content/drive/My Drive/chatbot/model7-04.hdf5\n",
            "97/97 [==============================] - 10s 104ms/step - loss: 2.1919 - accuracy: 0.0660\n",
            "Epoch 5/50\n",
            "97/97 [==============================] - ETA: 0s - loss: 1.9810 - accuracy: 0.0851\n",
            "Epoch 00005: saving model to /content/drive/My Drive/chatbot/model7-05.hdf5\n",
            "97/97 [==============================] - 10s 103ms/step - loss: 1.9810 - accuracy: 0.0851\n",
            "Epoch 6/50\n",
            "97/97 [==============================] - ETA: 0s - loss: 1.8217 - accuracy: 0.0954\n",
            "Epoch 00006: saving model to /content/drive/My Drive/chatbot/model7-06.hdf5\n",
            "97/97 [==============================] - 10s 103ms/step - loss: 1.8217 - accuracy: 0.0954\n",
            "Epoch 7/50\n",
            "97/97 [==============================] - ETA: 0s - loss: 1.7151 - accuracy: 0.1019\n",
            "Epoch 00007: saving model to /content/drive/My Drive/chatbot/model7-07.hdf5\n",
            "97/97 [==============================] - 10s 103ms/step - loss: 1.7151 - accuracy: 0.1019\n",
            "Epoch 8/50\n",
            "97/97 [==============================] - ETA: 0s - loss: 1.6344 - accuracy: 0.1084\n",
            "Epoch 00008: saving model to /content/drive/My Drive/chatbot/model7-08.hdf5\n",
            "97/97 [==============================] - 10s 104ms/step - loss: 1.6344 - accuracy: 0.1084\n",
            "Epoch 9/50\n",
            "97/97 [==============================] - ETA: 0s - loss: 1.5645 - accuracy: 0.1142\n",
            "Epoch 00009: saving model to /content/drive/My Drive/chatbot/model7-09.hdf5\n",
            "97/97 [==============================] - 10s 102ms/step - loss: 1.5645 - accuracy: 0.1142\n",
            "Epoch 10/50\n",
            "97/97 [==============================] - ETA: 0s - loss: 1.4999 - accuracy: 0.1207\n",
            "Epoch 00010: saving model to /content/drive/My Drive/chatbot/model7-10.hdf5\n",
            "97/97 [==============================] - 10s 102ms/step - loss: 1.4999 - accuracy: 0.1207\n",
            "Epoch 11/50\n",
            "97/97 [==============================] - ETA: 0s - loss: 1.4383 - accuracy: 0.1272\n",
            "Epoch 00011: saving model to /content/drive/My Drive/chatbot/model7-11.hdf5\n",
            "97/97 [==============================] - 10s 102ms/step - loss: 1.4383 - accuracy: 0.1272\n",
            "Epoch 12/50\n",
            "97/97 [==============================] - ETA: 0s - loss: 1.3760 - accuracy: 0.1343\n",
            "Epoch 00012: saving model to /content/drive/My Drive/chatbot/model7-12.hdf5\n",
            "97/97 [==============================] - 10s 103ms/step - loss: 1.3760 - accuracy: 0.1343\n",
            "Epoch 13/50\n",
            "97/97 [==============================] - ETA: 0s - loss: 1.3116 - accuracy: 0.1425\n",
            "Epoch 00013: saving model to /content/drive/My Drive/chatbot/model7-13.hdf5\n",
            "97/97 [==============================] - 10s 102ms/step - loss: 1.3116 - accuracy: 0.1425\n",
            "Epoch 14/50\n",
            "97/97 [==============================] - ETA: 0s - loss: 1.2495 - accuracy: 0.1506\n",
            "Epoch 00014: saving model to /content/drive/My Drive/chatbot/model7-14.hdf5\n",
            "97/97 [==============================] - 10s 102ms/step - loss: 1.2495 - accuracy: 0.1506\n",
            "Epoch 15/50\n",
            "97/97 [==============================] - ETA: 0s - loss: 1.1810 - accuracy: 0.1596\n",
            "Epoch 00015: saving model to /content/drive/My Drive/chatbot/model7-15.hdf5\n",
            "97/97 [==============================] - 10s 103ms/step - loss: 1.1810 - accuracy: 0.1596\n",
            "Epoch 16/50\n",
            "97/97 [==============================] - ETA: 0s - loss: 1.1136 - accuracy: 0.1691\n",
            "Epoch 00016: saving model to /content/drive/My Drive/chatbot/model7-16.hdf5\n",
            "97/97 [==============================] - 10s 102ms/step - loss: 1.1136 - accuracy: 0.1691\n",
            "Epoch 17/50\n",
            "97/97 [==============================] - ETA: 0s - loss: 1.0405 - accuracy: 0.1798\n",
            "Epoch 00017: saving model to /content/drive/My Drive/chatbot/model7-17.hdf5\n",
            "97/97 [==============================] - 10s 102ms/step - loss: 1.0405 - accuracy: 0.1798\n",
            "Epoch 18/50\n",
            "97/97 [==============================] - ETA: 0s - loss: 0.9647 - accuracy: 0.1914\n",
            "Epoch 00018: saving model to /content/drive/My Drive/chatbot/model7-18.hdf5\n",
            "97/97 [==============================] - 10s 102ms/step - loss: 0.9647 - accuracy: 0.1914\n",
            "Epoch 19/50\n",
            "97/97 [==============================] - ETA: 0s - loss: 0.8852 - accuracy: 0.2043\n",
            "Epoch 00019: saving model to /content/drive/My Drive/chatbot/model7-19.hdf5\n",
            "97/97 [==============================] - 10s 102ms/step - loss: 0.8852 - accuracy: 0.2043\n",
            "Epoch 20/50\n",
            "97/97 [==============================] - ETA: 0s - loss: 0.8065 - accuracy: 0.2172\n",
            "Epoch 00020: saving model to /content/drive/My Drive/chatbot/model7-20.hdf5\n",
            "97/97 [==============================] - 10s 102ms/step - loss: 0.8065 - accuracy: 0.2172\n",
            "Epoch 21/50\n",
            "97/97 [==============================] - ETA: 0s - loss: 0.7244 - accuracy: 0.2305\n",
            "Epoch 00021: saving model to /content/drive/My Drive/chatbot/model7-21.hdf5\n",
            "97/97 [==============================] - 10s 102ms/step - loss: 0.7244 - accuracy: 0.2305\n",
            "Epoch 22/50\n",
            "97/97 [==============================] - ETA: 0s - loss: 0.6441 - accuracy: 0.2460\n",
            "Epoch 00022: saving model to /content/drive/My Drive/chatbot/model7-22.hdf5\n",
            "97/97 [==============================] - 10s 102ms/step - loss: 0.6441 - accuracy: 0.2460\n",
            "Epoch 23/50\n",
            "97/97 [==============================] - ETA: 0s - loss: 0.5667 - accuracy: 0.2608\n",
            "Epoch 00023: saving model to /content/drive/My Drive/chatbot/model7-23.hdf5\n",
            "97/97 [==============================] - 10s 103ms/step - loss: 0.5667 - accuracy: 0.2608\n",
            "Epoch 24/50\n",
            "97/97 [==============================] - ETA: 0s - loss: 0.4894 - accuracy: 0.2766\n",
            "Epoch 00024: saving model to /content/drive/My Drive/chatbot/model7-24.hdf5\n",
            "97/97 [==============================] - 10s 103ms/step - loss: 0.4894 - accuracy: 0.2766\n",
            "Epoch 25/50\n",
            "97/97 [==============================] - ETA: 0s - loss: 0.4171 - accuracy: 0.2911\n",
            "Epoch 00025: saving model to /content/drive/My Drive/chatbot/model7-25.hdf5\n",
            "97/97 [==============================] - 10s 103ms/step - loss: 0.4171 - accuracy: 0.2911\n",
            "Epoch 26/50\n",
            "97/97 [==============================] - ETA: 0s - loss: 0.3530 - accuracy: 0.3055\n",
            "Epoch 00026: saving model to /content/drive/My Drive/chatbot/model7-26.hdf5\n",
            "97/97 [==============================] - 10s 101ms/step - loss: 0.3530 - accuracy: 0.3055\n",
            "Epoch 27/50\n",
            "97/97 [==============================] - ETA: 0s - loss: 0.2951 - accuracy: 0.3179\n",
            "Epoch 00027: saving model to /content/drive/My Drive/chatbot/model7-27.hdf5\n",
            "97/97 [==============================] - 10s 102ms/step - loss: 0.2951 - accuracy: 0.3179\n",
            "Epoch 28/50\n",
            "97/97 [==============================] - ETA: 0s - loss: 0.2529 - accuracy: 0.3256\n",
            "Epoch 00028: saving model to /content/drive/My Drive/chatbot/model7-28.hdf5\n",
            "97/97 [==============================] - 10s 102ms/step - loss: 0.2529 - accuracy: 0.3256\n",
            "Epoch 29/50\n",
            "97/97 [==============================] - ETA: 0s - loss: 0.2161 - accuracy: 0.3340\n",
            "Epoch 00029: saving model to /content/drive/My Drive/chatbot/model7-29.hdf5\n",
            "97/97 [==============================] - 10s 103ms/step - loss: 0.2161 - accuracy: 0.3340\n",
            "Epoch 30/50\n",
            "97/97 [==============================] - ETA: 0s - loss: 0.1927 - accuracy: 0.3378\n",
            "Epoch 00030: saving model to /content/drive/My Drive/chatbot/model7-30.hdf5\n",
            "97/97 [==============================] - 10s 102ms/step - loss: 0.1927 - accuracy: 0.3378\n",
            "Epoch 31/50\n",
            "97/97 [==============================] - ETA: 0s - loss: 0.1737 - accuracy: 0.3419\n",
            "Epoch 00031: saving model to /content/drive/My Drive/chatbot/model7-31.hdf5\n",
            "97/97 [==============================] - 10s 104ms/step - loss: 0.1737 - accuracy: 0.3419\n",
            "Epoch 32/50\n",
            "97/97 [==============================] - ETA: 0s - loss: 0.1589 - accuracy: 0.3454\n",
            "Epoch 00032: saving model to /content/drive/My Drive/chatbot/model7-32.hdf5\n",
            "97/97 [==============================] - 10s 102ms/step - loss: 0.1589 - accuracy: 0.3454\n",
            "Epoch 33/50\n",
            "97/97 [==============================] - ETA: 0s - loss: 0.1476 - accuracy: 0.3471\n",
            "Epoch 00033: saving model to /content/drive/My Drive/chatbot/model7-33.hdf5\n",
            "97/97 [==============================] - 10s 101ms/step - loss: 0.1476 - accuracy: 0.3471\n",
            "Epoch 34/50\n",
            "97/97 [==============================] - ETA: 0s - loss: 0.1419 - accuracy: 0.3490\n",
            "Epoch 00034: saving model to /content/drive/My Drive/chatbot/model7-34.hdf5\n",
            "97/97 [==============================] - 10s 102ms/step - loss: 0.1419 - accuracy: 0.3490\n",
            "Epoch 35/50\n",
            "97/97 [==============================] - ETA: 0s - loss: 0.1341 - accuracy: 0.3499\n",
            "Epoch 00035: saving model to /content/drive/My Drive/chatbot/model7-35.hdf5\n",
            "97/97 [==============================] - 10s 102ms/step - loss: 0.1341 - accuracy: 0.3499\n",
            "Epoch 36/50\n",
            "97/97 [==============================] - ETA: 0s - loss: 0.1261 - accuracy: 0.3515\n",
            "Epoch 00036: saving model to /content/drive/My Drive/chatbot/model7-36.hdf5\n",
            "97/97 [==============================] - 10s 102ms/step - loss: 0.1261 - accuracy: 0.3515\n",
            "Epoch 37/50\n",
            "97/97 [==============================] - ETA: 0s - loss: 0.1247 - accuracy: 0.3520\n",
            "Epoch 00037: saving model to /content/drive/My Drive/chatbot/model7-37.hdf5\n",
            "97/97 [==============================] - 10s 103ms/step - loss: 0.1247 - accuracy: 0.3520\n",
            "Epoch 38/50\n",
            "97/97 [==============================] - ETA: 0s - loss: 0.1204 - accuracy: 0.3531\n",
            "Epoch 00038: saving model to /content/drive/My Drive/chatbot/model7-38.hdf5\n",
            "97/97 [==============================] - 10s 102ms/step - loss: 0.1204 - accuracy: 0.3531\n",
            "Epoch 39/50\n",
            "97/97 [==============================] - ETA: 0s - loss: 0.1193 - accuracy: 0.3535\n",
            "Epoch 00039: saving model to /content/drive/My Drive/chatbot/model7-39.hdf5\n",
            "97/97 [==============================] - 10s 102ms/step - loss: 0.1193 - accuracy: 0.3535\n",
            "Epoch 40/50\n",
            "97/97 [==============================] - ETA: 0s - loss: 0.1181 - accuracy: 0.3535\n",
            "Epoch 00040: saving model to /content/drive/My Drive/chatbot/model7-40.hdf5\n",
            "97/97 [==============================] - 10s 102ms/step - loss: 0.1181 - accuracy: 0.3535\n",
            "Epoch 41/50\n",
            "97/97 [==============================] - ETA: 0s - loss: 0.1177 - accuracy: 0.3533\n",
            "Epoch 00041: saving model to /content/drive/My Drive/chatbot/model7-41.hdf5\n",
            "97/97 [==============================] - 10s 102ms/step - loss: 0.1177 - accuracy: 0.3533\n",
            "Epoch 42/50\n",
            "97/97 [==============================] - ETA: 0s - loss: 0.1109 - accuracy: 0.3554\n",
            "Epoch 00042: saving model to /content/drive/My Drive/chatbot/model7-42.hdf5\n",
            "97/97 [==============================] - 10s 102ms/step - loss: 0.1109 - accuracy: 0.3554\n",
            "Epoch 43/50\n",
            "97/97 [==============================] - ETA: 0s - loss: 0.1090 - accuracy: 0.3558\n",
            "Epoch 00043: saving model to /content/drive/My Drive/chatbot/model7-43.hdf5\n",
            "97/97 [==============================] - 10s 102ms/step - loss: 0.1090 - accuracy: 0.3558\n",
            "Epoch 44/50\n",
            "97/97 [==============================] - ETA: 0s - loss: 0.0990 - accuracy: 0.3583\n",
            "Epoch 00044: saving model to /content/drive/My Drive/chatbot/model7-44.hdf5\n",
            "97/97 [==============================] - 10s 102ms/step - loss: 0.0990 - accuracy: 0.3583\n",
            "Epoch 45/50\n",
            "97/97 [==============================] - ETA: 0s - loss: 0.0959 - accuracy: 0.3596\n",
            "Epoch 00045: saving model to /content/drive/My Drive/chatbot/model7-45.hdf5\n",
            "97/97 [==============================] - 10s 102ms/step - loss: 0.0959 - accuracy: 0.3596\n",
            "Epoch 46/50\n",
            "97/97 [==============================] - ETA: 0s - loss: 0.0875 - accuracy: 0.3616\n",
            "Epoch 00046: saving model to /content/drive/My Drive/chatbot/model7-46.hdf5\n",
            "97/97 [==============================] - 10s 102ms/step - loss: 0.0875 - accuracy: 0.3616\n",
            "Epoch 47/50\n",
            "97/97 [==============================] - ETA: 0s - loss: 0.0853 - accuracy: 0.3623\n",
            "Epoch 00047: saving model to /content/drive/My Drive/chatbot/model7-47.hdf5\n",
            "97/97 [==============================] - 10s 102ms/step - loss: 0.0853 - accuracy: 0.3623\n",
            "Epoch 48/50\n",
            "97/97 [==============================] - ETA: 0s - loss: 0.0809 - accuracy: 0.3637\n",
            "Epoch 00048: saving model to /content/drive/My Drive/chatbot/model7-48.hdf5\n",
            "97/97 [==============================] - 10s 103ms/step - loss: 0.0809 - accuracy: 0.3637\n",
            "Epoch 49/50\n",
            "97/97 [==============================] - ETA: 0s - loss: 0.0763 - accuracy: 0.3650\n",
            "Epoch 00049: saving model to /content/drive/My Drive/chatbot/model7-49.hdf5\n",
            "97/97 [==============================] - 10s 103ms/step - loss: 0.0763 - accuracy: 0.3650\n",
            "Epoch 50/50\n",
            "97/97 [==============================] - ETA: 0s - loss: 0.0732 - accuracy: 0.3662\n",
            "Epoch 00050: saving model to /content/drive/My Drive/chatbot/model7-50.hdf5\n",
            "97/97 [==============================] - 10s 102ms/step - loss: 0.0732 - accuracy: 0.3662\n"
          ],
          "name": "stdout"
        },
        {
          "output_type": "execute_result",
          "data": {
            "text/plain": [
              "<tensorflow.python.keras.callbacks.History at 0x7ff8a5f6c9b0>"
            ]
          },
          "metadata": {
            "tags": []
          },
          "execution_count": 34
        }
      ]
    },
    {
      "cell_type": "code",
      "metadata": {
        "id": "clmWGKrae3FM",
        "colab_type": "code",
        "colab": {
          "base_uri": "https://localhost:8080/",
          "height": 1000
        },
        "outputId": "0ce0fadf-44e2-4b91-b1fd-538312a3032d"
      },
      "source": [
        "EPOCHS = 100\n",
        "ini_epochs= 50\n",
        "\n",
        "model.fit(dataset, epochs=EPOCHS,initial_epoch = ini_epochs,callbacks=[cp_callback])"
      ],
      "execution_count": 55,
      "outputs": [
        {
          "output_type": "stream",
          "text": [
            "Epoch 51/100\n",
            "97/97 [==============================] - ETA: 0s - loss: 0.0718 - accuracy: 0.3661\n",
            "Epoch 00051: saving model to /content/drive/My Drive/chatbot/model7-51.hdf5\n",
            "97/97 [==============================] - 10s 102ms/step - loss: 0.0718 - accuracy: 0.3661\n",
            "Epoch 52/100\n",
            "97/97 [==============================] - ETA: 0s - loss: 0.0667 - accuracy: 0.3678\n",
            "Epoch 00052: saving model to /content/drive/My Drive/chatbot/model7-52.hdf5\n",
            "97/97 [==============================] - 10s 103ms/step - loss: 0.0667 - accuracy: 0.3678\n",
            "Epoch 53/100\n",
            "97/97 [==============================] - ETA: 0s - loss: 0.0644 - accuracy: 0.3684\n",
            "Epoch 00053: saving model to /content/drive/My Drive/chatbot/model7-53.hdf5\n",
            "97/97 [==============================] - 10s 103ms/step - loss: 0.0644 - accuracy: 0.3684\n",
            "Epoch 54/100\n",
            "97/97 [==============================] - ETA: 0s - loss: 0.0631 - accuracy: 0.3687\n",
            "Epoch 00054: saving model to /content/drive/My Drive/chatbot/model7-54.hdf5\n",
            "97/97 [==============================] - 10s 104ms/step - loss: 0.0631 - accuracy: 0.3687\n",
            "Epoch 55/100\n",
            "97/97 [==============================] - ETA: 0s - loss: 0.0583 - accuracy: 0.3703\n",
            "Epoch 00055: saving model to /content/drive/My Drive/chatbot/model7-55.hdf5\n",
            "97/97 [==============================] - 10s 103ms/step - loss: 0.0583 - accuracy: 0.3703\n",
            "Epoch 56/100\n",
            "97/97 [==============================] - ETA: 0s - loss: 0.0564 - accuracy: 0.3707\n",
            "Epoch 00056: saving model to /content/drive/My Drive/chatbot/model7-56.hdf5\n",
            "97/97 [==============================] - 10s 104ms/step - loss: 0.0564 - accuracy: 0.3707\n",
            "Epoch 57/100\n",
            "97/97 [==============================] - ETA: 0s - loss: 0.0560 - accuracy: 0.3707\n",
            "Epoch 00057: saving model to /content/drive/My Drive/chatbot/model7-57.hdf5\n",
            "97/97 [==============================] - 10s 103ms/step - loss: 0.0560 - accuracy: 0.3707\n",
            "Epoch 58/100\n",
            "97/97 [==============================] - ETA: 0s - loss: 0.0542 - accuracy: 0.3716\n",
            "Epoch 00058: saving model to /content/drive/My Drive/chatbot/model7-58.hdf5\n",
            "97/97 [==============================] - 10s 102ms/step - loss: 0.0542 - accuracy: 0.3716\n",
            "Epoch 59/100\n",
            "97/97 [==============================] - ETA: 0s - loss: 0.0527 - accuracy: 0.3718\n",
            "Epoch 00059: saving model to /content/drive/My Drive/chatbot/model7-59.hdf5\n",
            "97/97 [==============================] - 10s 104ms/step - loss: 0.0527 - accuracy: 0.3718\n",
            "Epoch 60/100\n",
            "97/97 [==============================] - ETA: 0s - loss: 0.0500 - accuracy: 0.3721\n",
            "Epoch 00060: saving model to /content/drive/My Drive/chatbot/model7-60.hdf5\n",
            "97/97 [==============================] - 10s 104ms/step - loss: 0.0500 - accuracy: 0.3721\n",
            "Epoch 61/100\n",
            "97/97 [==============================] - ETA: 0s - loss: 0.0486 - accuracy: 0.3726\n",
            "Epoch 00061: saving model to /content/drive/My Drive/chatbot/model7-61.hdf5\n",
            "97/97 [==============================] - 10s 104ms/step - loss: 0.0486 - accuracy: 0.3726\n",
            "Epoch 62/100\n",
            "97/97 [==============================] - ETA: 0s - loss: 0.0483 - accuracy: 0.3729\n",
            "Epoch 00062: saving model to /content/drive/My Drive/chatbot/model7-62.hdf5\n",
            "97/97 [==============================] - 10s 103ms/step - loss: 0.0483 - accuracy: 0.3729\n",
            "Epoch 63/100\n",
            "97/97 [==============================] - ETA: 0s - loss: 0.0458 - accuracy: 0.3732\n",
            "Epoch 00063: saving model to /content/drive/My Drive/chatbot/model7-63.hdf5\n",
            "97/97 [==============================] - 10s 103ms/step - loss: 0.0458 - accuracy: 0.3732\n",
            "Epoch 64/100\n",
            "97/97 [==============================] - ETA: 0s - loss: 0.0452 - accuracy: 0.3737\n",
            "Epoch 00064: saving model to /content/drive/My Drive/chatbot/model7-64.hdf5\n",
            "97/97 [==============================] - 10s 102ms/step - loss: 0.0452 - accuracy: 0.3737\n",
            "Epoch 65/100\n",
            "97/97 [==============================] - ETA: 0s - loss: 0.0428 - accuracy: 0.3744\n",
            "Epoch 00065: saving model to /content/drive/My Drive/chatbot/model7-65.hdf5\n",
            "97/97 [==============================] - 10s 102ms/step - loss: 0.0428 - accuracy: 0.3744\n",
            "Epoch 66/100\n",
            "97/97 [==============================] - ETA: 0s - loss: 0.0431 - accuracy: 0.3742\n",
            "Epoch 00066: saving model to /content/drive/My Drive/chatbot/model7-66.hdf5\n",
            "97/97 [==============================] - 10s 102ms/step - loss: 0.0431 - accuracy: 0.3742\n",
            "Epoch 67/100\n",
            "97/97 [==============================] - ETA: 0s - loss: 0.0401 - accuracy: 0.3752\n",
            "Epoch 00067: saving model to /content/drive/My Drive/chatbot/model7-67.hdf5\n",
            "97/97 [==============================] - 10s 102ms/step - loss: 0.0401 - accuracy: 0.3752\n",
            "Epoch 68/100\n",
            "97/97 [==============================] - ETA: 0s - loss: 0.0404 - accuracy: 0.3751\n",
            "Epoch 00068: saving model to /content/drive/My Drive/chatbot/model7-68.hdf5\n",
            "97/97 [==============================] - 10s 102ms/step - loss: 0.0404 - accuracy: 0.3751\n",
            "Epoch 69/100\n",
            "97/97 [==============================] - ETA: 0s - loss: 0.0392 - accuracy: 0.3750\n",
            "Epoch 00069: saving model to /content/drive/My Drive/chatbot/model7-69.hdf5\n",
            "97/97 [==============================] - 10s 103ms/step - loss: 0.0392 - accuracy: 0.3750\n",
            "Epoch 70/100\n",
            "97/97 [==============================] - ETA: 0s - loss: 0.0395 - accuracy: 0.3753\n",
            "Epoch 00070: saving model to /content/drive/My Drive/chatbot/model7-70.hdf5\n",
            "97/97 [==============================] - 10s 102ms/step - loss: 0.0395 - accuracy: 0.3753\n",
            "Epoch 71/100\n",
            "97/97 [==============================] - ETA: 0s - loss: 0.0377 - accuracy: 0.3757\n",
            "Epoch 00071: saving model to /content/drive/My Drive/chatbot/model7-71.hdf5\n",
            "97/97 [==============================] - 10s 102ms/step - loss: 0.0377 - accuracy: 0.3757\n",
            "Epoch 72/100\n",
            "97/97 [==============================] - ETA: 0s - loss: 0.0359 - accuracy: 0.3764\n",
            "Epoch 00072: saving model to /content/drive/My Drive/chatbot/model7-72.hdf5\n",
            "97/97 [==============================] - 10s 103ms/step - loss: 0.0359 - accuracy: 0.3764\n",
            "Epoch 73/100\n",
            "97/97 [==============================] - ETA: 0s - loss: 0.0355 - accuracy: 0.3764\n",
            "Epoch 00073: saving model to /content/drive/My Drive/chatbot/model7-73.hdf5\n",
            "97/97 [==============================] - 10s 102ms/step - loss: 0.0355 - accuracy: 0.3764\n",
            "Epoch 74/100\n",
            "97/97 [==============================] - ETA: 0s - loss: 0.0362 - accuracy: 0.3764\n",
            "Epoch 00074: saving model to /content/drive/My Drive/chatbot/model7-74.hdf5\n",
            "97/97 [==============================] - 10s 104ms/step - loss: 0.0362 - accuracy: 0.3764\n",
            "Epoch 75/100\n",
            "97/97 [==============================] - ETA: 0s - loss: 0.0353 - accuracy: 0.3764\n",
            "Epoch 00075: saving model to /content/drive/My Drive/chatbot/model7-75.hdf5\n",
            "97/97 [==============================] - 10s 102ms/step - loss: 0.0353 - accuracy: 0.3764\n",
            "Epoch 76/100\n",
            "97/97 [==============================] - ETA: 0s - loss: 0.0347 - accuracy: 0.3767\n",
            "Epoch 00076: saving model to /content/drive/My Drive/chatbot/model7-76.hdf5\n",
            "97/97 [==============================] - 10s 104ms/step - loss: 0.0347 - accuracy: 0.3767\n",
            "Epoch 77/100\n",
            "97/97 [==============================] - ETA: 0s - loss: 0.0334 - accuracy: 0.3769\n",
            "Epoch 00077: saving model to /content/drive/My Drive/chatbot/model7-77.hdf5\n",
            "97/97 [==============================] - 10s 103ms/step - loss: 0.0334 - accuracy: 0.3769\n",
            "Epoch 78/100\n",
            "97/97 [==============================] - ETA: 0s - loss: 0.0312 - accuracy: 0.3776\n",
            "Epoch 00078: saving model to /content/drive/My Drive/chatbot/model7-78.hdf5\n",
            "97/97 [==============================] - 10s 102ms/step - loss: 0.0312 - accuracy: 0.3776\n",
            "Epoch 79/100\n",
            "97/97 [==============================] - ETA: 0s - loss: 0.0324 - accuracy: 0.3773\n",
            "Epoch 00079: saving model to /content/drive/My Drive/chatbot/model7-79.hdf5\n",
            "97/97 [==============================] - 10s 102ms/step - loss: 0.0324 - accuracy: 0.3773\n",
            "Epoch 80/100\n",
            "97/97 [==============================] - ETA: 0s - loss: 0.0317 - accuracy: 0.3772\n",
            "Epoch 00080: saving model to /content/drive/My Drive/chatbot/model7-80.hdf5\n",
            "97/97 [==============================] - 10s 103ms/step - loss: 0.0317 - accuracy: 0.3772\n",
            "Epoch 81/100\n",
            "97/97 [==============================] - ETA: 0s - loss: 0.0320 - accuracy: 0.3775\n",
            "Epoch 00081: saving model to /content/drive/My Drive/chatbot/model7-81.hdf5\n",
            "97/97 [==============================] - 10s 101ms/step - loss: 0.0320 - accuracy: 0.3775\n",
            "Epoch 82/100\n",
            "97/97 [==============================] - ETA: 0s - loss: 0.0298 - accuracy: 0.3779\n",
            "Epoch 00082: saving model to /content/drive/My Drive/chatbot/model7-82.hdf5\n",
            "97/97 [==============================] - 10s 102ms/step - loss: 0.0298 - accuracy: 0.3779\n",
            "Epoch 83/100\n",
            "97/97 [==============================] - ETA: 0s - loss: 0.0296 - accuracy: 0.3782\n",
            "Epoch 00083: saving model to /content/drive/My Drive/chatbot/model7-83.hdf5\n",
            "97/97 [==============================] - 10s 102ms/step - loss: 0.0296 - accuracy: 0.3782\n",
            "Epoch 84/100\n",
            "97/97 [==============================] - ETA: 0s - loss: 0.0297 - accuracy: 0.3781\n",
            "Epoch 00084: saving model to /content/drive/My Drive/chatbot/model7-84.hdf5\n",
            "97/97 [==============================] - 10s 102ms/step - loss: 0.0297 - accuracy: 0.3781\n",
            "Epoch 85/100\n",
            "97/97 [==============================] - ETA: 0s - loss: 0.0286 - accuracy: 0.3781\n",
            "Epoch 00085: saving model to /content/drive/My Drive/chatbot/model7-85.hdf5\n",
            "97/97 [==============================] - 10s 102ms/step - loss: 0.0286 - accuracy: 0.3781\n",
            "Epoch 86/100\n",
            "97/97 [==============================] - ETA: 0s - loss: 0.0286 - accuracy: 0.3784\n",
            "Epoch 00086: saving model to /content/drive/My Drive/chatbot/model7-86.hdf5\n",
            "97/97 [==============================] - 10s 102ms/step - loss: 0.0286 - accuracy: 0.3784\n",
            "Epoch 87/100\n",
            "97/97 [==============================] - ETA: 0s - loss: 0.0286 - accuracy: 0.3781\n",
            "Epoch 00087: saving model to /content/drive/My Drive/chatbot/model7-87.hdf5\n",
            "97/97 [==============================] - 10s 101ms/step - loss: 0.0286 - accuracy: 0.3781\n",
            "Epoch 88/100\n",
            "97/97 [==============================] - ETA: 0s - loss: 0.0280 - accuracy: 0.3782\n",
            "Epoch 00088: saving model to /content/drive/My Drive/chatbot/model7-88.hdf5\n",
            "97/97 [==============================] - 10s 102ms/step - loss: 0.0280 - accuracy: 0.3782\n",
            "Epoch 89/100\n",
            "97/97 [==============================] - ETA: 0s - loss: 0.0270 - accuracy: 0.3786\n",
            "Epoch 00089: saving model to /content/drive/My Drive/chatbot/model7-89.hdf5\n",
            "97/97 [==============================] - 10s 102ms/step - loss: 0.0270 - accuracy: 0.3786\n",
            "Epoch 90/100\n",
            "97/97 [==============================] - ETA: 0s - loss: 0.0273 - accuracy: 0.3784\n",
            "Epoch 00090: saving model to /content/drive/My Drive/chatbot/model7-90.hdf5\n",
            "97/97 [==============================] - 10s 102ms/step - loss: 0.0273 - accuracy: 0.3784\n",
            "Epoch 91/100\n",
            "97/97 [==============================] - ETA: 0s - loss: 0.0257 - accuracy: 0.3789\n",
            "Epoch 00091: saving model to /content/drive/My Drive/chatbot/model7-91.hdf5\n",
            "97/97 [==============================] - 10s 101ms/step - loss: 0.0257 - accuracy: 0.3789\n",
            "Epoch 92/100\n",
            "97/97 [==============================] - ETA: 0s - loss: 0.0256 - accuracy: 0.3789\n",
            "Epoch 00092: saving model to /content/drive/My Drive/chatbot/model7-92.hdf5\n",
            "97/97 [==============================] - 10s 102ms/step - loss: 0.0256 - accuracy: 0.3789\n",
            "Epoch 93/100\n",
            "97/97 [==============================] - ETA: 0s - loss: 0.0261 - accuracy: 0.3787\n",
            "Epoch 00093: saving model to /content/drive/My Drive/chatbot/model7-93.hdf5\n",
            "97/97 [==============================] - 10s 101ms/step - loss: 0.0261 - accuracy: 0.3787\n",
            "Epoch 94/100\n",
            "97/97 [==============================] - ETA: 0s - loss: 0.0249 - accuracy: 0.3792\n",
            "Epoch 00094: saving model to /content/drive/My Drive/chatbot/model7-94.hdf5\n",
            "97/97 [==============================] - 10s 102ms/step - loss: 0.0249 - accuracy: 0.3792\n",
            "Epoch 95/100\n",
            "97/97 [==============================] - ETA: 0s - loss: 0.0246 - accuracy: 0.3794\n",
            "Epoch 00095: saving model to /content/drive/My Drive/chatbot/model7-95.hdf5\n",
            "97/97 [==============================] - 10s 102ms/step - loss: 0.0246 - accuracy: 0.3794\n",
            "Epoch 96/100\n",
            "97/97 [==============================] - ETA: 0s - loss: 0.0252 - accuracy: 0.3792\n",
            "Epoch 00096: saving model to /content/drive/My Drive/chatbot/model7-96.hdf5\n",
            "97/97 [==============================] - 10s 102ms/step - loss: 0.0252 - accuracy: 0.3792\n",
            "Epoch 97/100\n",
            "97/97 [==============================] - ETA: 0s - loss: 0.0235 - accuracy: 0.3795\n",
            "Epoch 00097: saving model to /content/drive/My Drive/chatbot/model7-97.hdf5\n",
            "97/97 [==============================] - 10s 102ms/step - loss: 0.0235 - accuracy: 0.3795\n",
            "Epoch 98/100\n",
            "97/97 [==============================] - ETA: 0s - loss: 0.0237 - accuracy: 0.3795\n",
            "Epoch 00098: saving model to /content/drive/My Drive/chatbot/model7-98.hdf5\n",
            "97/97 [==============================] - 10s 102ms/step - loss: 0.0237 - accuracy: 0.3795\n",
            "Epoch 99/100\n",
            "97/97 [==============================] - ETA: 0s - loss: 0.0242 - accuracy: 0.3793\n",
            "Epoch 00099: saving model to /content/drive/My Drive/chatbot/model7-99.hdf5\n",
            "97/97 [==============================] - 10s 101ms/step - loss: 0.0242 - accuracy: 0.3793\n",
            "Epoch 100/100\n",
            "97/97 [==============================] - ETA: 0s - loss: 0.0225 - accuracy: 0.3801\n",
            "Epoch 00100: saving model to /content/drive/My Drive/chatbot/model7-100.hdf5\n",
            "97/97 [==============================] - 10s 103ms/step - loss: 0.0225 - accuracy: 0.3801\n"
          ],
          "name": "stdout"
        },
        {
          "output_type": "execute_result",
          "data": {
            "text/plain": [
              "<tensorflow.python.keras.callbacks.History at 0x7ff87bfbdf60>"
            ]
          },
          "metadata": {
            "tags": []
          },
          "execution_count": 55
        }
      ]
    },
    {
      "cell_type": "code",
      "metadata": {
        "id": "9NDUB3NO33mm",
        "colab_type": "code",
        "colab": {}
      },
      "source": [
        "model.load_weights('/content/drive/My Drive/chatbot/model7-61.hdf5')"
      ],
      "execution_count": 0,
      "outputs": []
    },
    {
      "cell_type": "code",
      "metadata": {
        "id": "EX-shBG97Ztc",
        "colab_type": "code",
        "colab": {}
      },
      "source": [
        "def evaluate(sentence):\n",
        "  sentence = preprocess_sentence(sentence)\n",
        "\n",
        "  sentence = tf.expand_dims(\n",
        "      START_TOKEN + tokenizer.encode(sentence) + END_TOKEN, axis=0)\n",
        "\n",
        "  output = tf.expand_dims(START_TOKEN, 0)\n",
        "\n",
        "  for i in range(MAX_LENGTH):\n",
        "    predictions = model(inputs=[sentence, output], training=False)\n",
        "\n",
        "    # select the last word from the seq_len dimension\n",
        "    predictions = predictions[:, -1:, :]\n",
        "    predicted_id = tf.cast(tf.argmax(predictions, axis=-1), tf.int32)\n",
        "\n",
        "    # return the result if the predicted_id is equal to the end token\n",
        "    if tf.equal(predicted_id, END_TOKEN[0]):\n",
        "      break\n",
        "\n",
        "    # concatenated the predicted_id to the output which is given to the decoder\n",
        "    # as its input.\n",
        "    output = tf.concat([output, predicted_id], axis=-1)\n",
        "\n",
        "  return tf.squeeze(output, axis=0)\n",
        "\n",
        "\n",
        "def predict(sentence):\n",
        "  prediction = evaluate(sentence)\n",
        "\n",
        "  predicted_sentence = tokenizer.decode(\n",
        "      [i for i in prediction if i < tokenizer.vocab_size])\n",
        "\n",
        "  print('Input: {}'.format(sentence))\n",
        "  print('Output: {}'.format(predicted_sentence))\n",
        "\n",
        "  return predicted_sentence"
      ],
      "execution_count": 0,
      "outputs": []
    },
    {
      "cell_type": "code",
      "metadata": {
        "id": "5mwwBRs3ddBL",
        "colab_type": "code",
        "colab": {
          "base_uri": "https://localhost:8080/",
          "height": 52
        },
        "outputId": "83d2c041-8ac9-4651-d016-84a0f05654d0"
      },
      "source": [
        "output = predict('hi stan')"
      ],
      "execution_count": 141,
      "outputs": [
        {
          "output_type": "stream",
          "text": [
            "Input: hi stan\n",
            "Output: hey dad .\n"
          ],
          "name": "stdout"
        }
      ]
    },
    {
      "cell_type": "code",
      "metadata": {
        "id": "sR6yRDXOdtHz",
        "colab_type": "code",
        "colab": {
          "base_uri": "https://localhost:8080/",
          "height": 52
        },
        "outputId": "cab0b0a3-79d1-40d8-c075-48aa3102c39a"
      },
      "source": [
        "output = predict('What are you doing here?')"
      ],
      "execution_count": 142,
      "outputs": [
        {
          "output_type": "stream",
          "text": [
            "Input: What are you doing here?\n",
            "Output: please , ih ih , it wo not take long .\n"
          ],
          "name": "stdout"
        }
      ]
    },
    {
      "cell_type": "code",
      "metadata": {
        "id": "OpfMSjxho2wT",
        "colab_type": "code",
        "outputId": "398aa247-c6ad-4350-8a97-4998c327fc32",
        "colab": {
          "base_uri": "https://localhost:8080/",
          "height": 52
        }
      },
      "source": [
        "output = predict('Where have you been?')"
      ],
      "execution_count": 143,
      "outputs": [
        {
          "output_type": "stream",
          "text": [
            "Input: Where have you been?\n",
            "Output: dude , my mom s having her monthly visitor .\n"
          ],
          "name": "stdout"
        }
      ]
    },
    {
      "cell_type": "code",
      "metadata": {
        "id": "3kNH9qjjeyhZ",
        "colab_type": "code",
        "colab": {
          "base_uri": "https://localhost:8080/",
          "height": 52
        },
        "outputId": "c1024501-b5ae-4ecd-cc17-803b30fd84c8"
      },
      "source": [
        "output = predict(\"stan\")"
      ],
      "execution_count": 144,
      "outputs": [
        {
          "output_type": "stream",
          "text": [
            "Input: stan\n",
            "Output: kyle ? dude , you did make a deal ?\n"
          ],
          "name": "stdout"
        }
      ]
    },
    {
      "cell_type": "code",
      "metadata": {
        "id": "pYNdD80clwrV",
        "colab_type": "code",
        "colab": {
          "base_uri": "https://localhost:8080/",
          "height": 52
        },
        "outputId": "e369ffa2-0656-4bf4-b014-a93b7fb99c48"
      },
      "source": [
        "output = predict(\"tell me something about you.\")"
      ],
      "execution_count": 159,
      "outputs": [
        {
          "output_type": "stream",
          "text": [
            "Input: tell me something about you.\n",
            "Output: uh , sure , and we will also try to free hat .\n"
          ],
          "name": "stdout"
        }
      ]
    },
    {
      "cell_type": "code",
      "metadata": {
        "id": "u2f6PwHviw9g",
        "colab_type": "code",
        "colab": {
          "base_uri": "https://localhost:8080/",
          "height": 52
        },
        "outputId": "9076f50d-53d7-4b36-86d6-311f06a198e0"
      },
      "source": [
        "output = predict(\"how old are you?\")"
      ],
      "execution_count": 145,
      "outputs": [
        {
          "output_type": "stream",
          "text": [
            "Input: how old are you?\n",
            "Output: why does that matter ?\n"
          ],
          "name": "stdout"
        }
      ]
    },
    {
      "cell_type": "code",
      "metadata": {
        "id": "O9PLxJZw73UM",
        "colab_type": "code",
        "colab": {}
      },
      "source": [
        "import random\n",
        "def beam_search(sentence,beam_size = 3,k=6):\n",
        "  sentence = preprocess_sentence(sentence)\n",
        "\n",
        "  sentence = tf.expand_dims(\n",
        "      START_TOKEN + tokenizer.encode(sentence) + END_TOKEN, axis=0)\n",
        "  output = tf.expand_dims(START_TOKEN, 0)\n",
        "\n",
        "  sequences = [[output, 1.0, False]]\n",
        "  for j in range(MAX_LENGTH):\n",
        "   all_candidates = list()\n",
        "   for i in range(min(k,len(sequences))):\n",
        "     seq, score,done = sequences[i]\n",
        "     if not done:\n",
        "       predictions = model(inputs=[sentence, seq], training=False)\n",
        "       predictions = predictions[:, -1:, :]\n",
        "       predictions =tf.nn.softmax(predictions, axis=-1, name=None)\n",
        "       for _ in range(beam_size):\n",
        "        prob = tf.squeeze(tf.math.reduce_max(predictions, axis=-1, keepdims=False, name=None))\n",
        "        predicted_id = tf.cast(tf.argmax(predictions, axis=-1), tf.int32)\n",
        "        output = tf.concat([seq, predicted_id], axis=-1)\n",
        "        mask = tf.greater_equal(predictions,prob )\n",
        "        zeros = tf.zeros_like(predictions)\n",
        "        predictions = tf.where(mask, zeros, predictions)\n",
        "        penalty = ((5.0 + j) / 6.0) ** 0.4\n",
        "        score *= penalty\n",
        "        beam_score = score + -tf.math.log(prob)\n",
        "        if tf.equal(predicted_id, END_TOKEN[0]):\n",
        "          done=True\n",
        "          \n",
        "        penalty = ((5.0 + (j + 1)) / 6.0) ** 0.4\n",
        "        beam_score /=penalty\n",
        "        candidate = [output, beam_score,done]\n",
        "        all_candidates.append(candidate)\n",
        "     else:\n",
        "       all_candidates.append(sequences[i])\n",
        "     \n",
        "\n",
        "   ordered = sorted(all_candidates, key=lambda tup:tup[1])\n",
        "   sequences = ordered\n",
        "\n",
        "  \n",
        "  \n",
        "  res,_,_ = sequences[0]\n",
        "  prediction = tf.squeeze(res)\n",
        "  predicted_sentence = tokenizer.decode(\n",
        "      [i for i in prediction if i < tokenizer.vocab_size])\n",
        "  #print('search beam: {}'.format(predicted_sentence))\n",
        "    \n",
        "  return predicted_sentence"
      ],
      "execution_count": 0,
      "outputs": []
    },
    {
      "cell_type": "code",
      "metadata": {
        "id": "Gh7wg8pSeE0n",
        "colab_type": "code",
        "colab": {
          "base_uri": "https://localhost:8080/",
          "height": 35
        },
        "outputId": "83a21ec1-2d75-4616-928f-70e7c02a95a9"
      },
      "source": [
        "beam_search('hi stan')"
      ],
      "execution_count": 147,
      "outputs": [
        {
          "output_type": "execute_result",
          "data": {
            "text/plain": [
              "'hey dad .'"
            ]
          },
          "metadata": {
            "tags": []
          },
          "execution_count": 147
        }
      ]
    },
    {
      "cell_type": "code",
      "metadata": {
        "id": "nY9ZLlSIBjo9",
        "colab_type": "code",
        "outputId": "27b8489d-a78d-40a3-c5ed-999069a45ee0",
        "colab": {
          "base_uri": "https://localhost:8080/",
          "height": 35
        }
      },
      "source": [
        "beam_search('Where have you been?')"
      ],
      "execution_count": 148,
      "outputs": [
        {
          "output_type": "execute_result",
          "data": {
            "text/plain": [
              "'dude , my mom s having her monthly visitor .'"
            ]
          },
          "metadata": {
            "tags": []
          },
          "execution_count": 148
        }
      ]
    },
    {
      "cell_type": "code",
      "metadata": {
        "id": "9FWGGXqQ4bnv",
        "colab_type": "code",
        "outputId": "0bc79582-d809-4f14-ac91-c50417a672ec",
        "colab": {
          "base_uri": "https://localhost:8080/",
          "height": 35
        }
      },
      "source": [
        "beam_search(\"what are you doing here?\")"
      ],
      "execution_count": 149,
      "outputs": [
        {
          "output_type": "execute_result",
          "data": {
            "text/plain": [
              "'please , ih ih , it wo not take long .'"
            ]
          },
          "metadata": {
            "tags": []
          },
          "execution_count": 149
        }
      ]
    },
    {
      "cell_type": "code",
      "metadata": {
        "id": "vTbUMvCmeolU",
        "colab_type": "code",
        "colab": {
          "base_uri": "https://localhost:8080/",
          "height": 35
        },
        "outputId": "c5691a1a-1f66-4fbb-9bd5-7bee2643a70b"
      },
      "source": [
        "beam_search(\"how old are you?\")"
      ],
      "execution_count": 150,
      "outputs": [
        {
          "output_type": "execute_result",
          "data": {
            "text/plain": [
              "'why does that matter ?'"
            ]
          },
          "metadata": {
            "tags": []
          },
          "execution_count": 150
        }
      ]
    },
    {
      "cell_type": "code",
      "metadata": {
        "id": "-59GMG1yLOMc",
        "colab_type": "code",
        "outputId": "313bba97-e54e-4a43-c2d7-92b70065db6f",
        "colab": {
          "base_uri": "https://localhost:8080/",
          "height": 35
        }
      },
      "source": [
        "beam_search(\"i do not get it\")"
      ],
      "execution_count": 151,
      "outputs": [
        {
          "output_type": "execute_result",
          "data": {
            "text/plain": [
              "'me neither .'"
            ]
          },
          "metadata": {
            "tags": []
          },
          "execution_count": 151
        }
      ]
    },
    {
      "cell_type": "code",
      "metadata": {
        "id": "LZbJ4N2eEiht",
        "colab_type": "code",
        "outputId": "e16942a3-7f0f-4266-a1a0-d51a5a6ac994",
        "colab": {
          "base_uri": "https://localhost:8080/",
          "height": 35
        }
      },
      "source": [
        "beam_search(\"guys, can i talk to you\")"
      ],
      "execution_count": 152,
      "outputs": [
        {
          "output_type": "execute_result",
          "data": {
            "text/plain": [
              "'what is the matter ?'"
            ]
          },
          "metadata": {
            "tags": []
          },
          "execution_count": 152
        }
      ]
    },
    {
      "cell_type": "code",
      "metadata": {
        "id": "a8LSi_1-M8ZH",
        "colab_type": "code",
        "outputId": "3bef250c-abb4-4837-b25a-b4787d679238",
        "colab": {
          "base_uri": "https://localhost:8080/",
          "height": 35
        }
      },
      "source": [
        "beam_search(\"i am the vice president\")"
      ],
      "execution_count": 153,
      "outputs": [
        {
          "output_type": "execute_result",
          "data": {
            "text/plain": [
              "'i know .'"
            ]
          },
          "metadata": {
            "tags": []
          },
          "execution_count": 153
        }
      ]
    },
    {
      "cell_type": "code",
      "metadata": {
        "id": "IPXUQ_JsOAvO",
        "colab_type": "code",
        "outputId": "ab060a28-750d-4c9b-d941-ce4ead085a1e",
        "colab": {
          "base_uri": "https://localhost:8080/",
          "height": 35
        }
      },
      "source": [
        "beam_search(\"tell me something about you.\")"
      ],
      "execution_count": 157,
      "outputs": [
        {
          "output_type": "execute_result",
          "data": {
            "text/plain": [
              "'there s nothing about liberals or conservatives !'"
            ]
          },
          "metadata": {
            "tags": []
          },
          "execution_count": 157
        }
      ]
    },
    {
      "cell_type": "code",
      "metadata": {
        "id": "pSlOBoczOY0u",
        "colab_type": "code",
        "colab": {
          "base_uri": "https://localhost:8080/",
          "height": 35
        },
        "outputId": "f96409dd-b8df-41a0-f574-9527e1bbbde2"
      },
      "source": [
        "beam_search(\"stan\")"
      ],
      "execution_count": 156,
      "outputs": [
        {
          "output_type": "execute_result",
          "data": {
            "text/plain": [
              "'dude , you did make a deal . . .'"
            ]
          },
          "metadata": {
            "tags": []
          },
          "execution_count": 156
        }
      ]
    },
    {
      "cell_type": "code",
      "metadata": {
        "id": "6kq5kcgQk04y",
        "colab_type": "code",
        "colab": {}
      },
      "source": [
        ""
      ],
      "execution_count": 0,
      "outputs": []
    }
  ]
}