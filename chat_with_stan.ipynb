{
  "nbformat": 4,
  "nbformat_minor": 0,
  "metadata": {
    "colab": {
      "name": "chat with stan.ipynb",
      "provenance": [],
      "collapsed_sections": [],
      "authorship_tag": "ABX9TyPc4HU2NXaocg6D+VHwh3vX"
    },
    "kernelspec": {
      "name": "python3",
      "display_name": "Python 3"
    },
    "accelerator": "GPU"
  },
  "cells": [
    {
      "cell_type": "markdown",
      "metadata": {
        "id": "IuvWdn3XSMtO",
        "colab_type": "text"
      },
      "source": [
        "reference: https://medium.com/tensorflow/a-transformer-chatbot-tutorial-with-tensorflow-2-0-88bf59e66fe2"
      ]
    },
    {
      "cell_type": "code",
      "metadata": {
        "id": "4O005nxgSw7D",
        "colab_type": "code",
        "colab": {}
      },
      "source": [
        "import tensorflow_datasets as tfds\n",
        "import tensorflow as tf\n",
        "import os\n",
        "import re\n",
        "import numpy as np\n",
        "\n",
        "import pandas as pd\n",
        "import matplotlib.pyplot as plt"
      ],
      "execution_count": 0,
      "outputs": []
    },
    {
      "cell_type": "code",
      "metadata": {
        "id": "RO2l8MdtG4EM",
        "colab_type": "code",
        "outputId": "f9bdb39e-2b34-4a00-ef8e-44f7a8bd8c76",
        "colab": {
          "base_uri": "https://localhost:8080/",
          "height": 124
        }
      },
      "source": [
        "from google.colab import drive\n",
        "drive.mount('/content/drive')"
      ],
      "execution_count": 1,
      "outputs": [
        {
          "output_type": "stream",
          "text": [
            "Go to this URL in a browser: https://accounts.google.com/o/oauth2/auth?client_id=947318989803-6bn6qk8qdgf4n4g3pfee6491hc0brc4i.apps.googleusercontent.com&redirect_uri=urn%3aietf%3awg%3aoauth%3a2.0%3aoob&response_type=code&scope=email%20https%3a%2f%2fwww.googleapis.com%2fauth%2fdocs.test%20https%3a%2f%2fwww.googleapis.com%2fauth%2fdrive%20https%3a%2f%2fwww.googleapis.com%2fauth%2fdrive.photos.readonly%20https%3a%2f%2fwww.googleapis.com%2fauth%2fpeopleapi.readonly\n",
            "\n",
            "Enter your authorization code:\n",
            "··········\n",
            "Mounted at /content/drive\n"
          ],
          "name": "stdout"
        }
      ]
    },
    {
      "cell_type": "code",
      "metadata": {
        "id": "jyA63AybecRJ",
        "colab_type": "code",
        "colab": {}
      },
      "source": [
        "path_to_dataset = '/content/drive/My Drive/chatbot/'\n",
        "path_to_movie_conversations = os.path.join(path_to_dataset,\n",
        "                                           'All-seasons.csv')"
      ],
      "execution_count": 0,
      "outputs": []
    },
    {
      "cell_type": "code",
      "metadata": {
        "id": "qmSmSjdyKbgY",
        "colab_type": "code",
        "colab": {}
      },
      "source": [
        "def preprocess_sentence(sentence):\n",
        "  sentence = sentence.lower().strip()\n",
        "  sentence = re.sub(r\"([?.!,])\", r\" \\1 \", sentence)\n",
        "  sentence = re.sub(r'[\" \"]+', \" \", sentence)\n",
        "\n",
        "  sentence = re.sub(r\"i'm\", \"i am\", sentence)\n",
        "  sentence = re.sub(r\"he's\", \"he is\", sentence)\n",
        "  sentence = re.sub(r\"she's\", \"she is\", sentence)\n",
        "  sentence = re.sub(r\"it's\", \"it is\", sentence)\n",
        "  sentence = re.sub(r\"that's\", \"that is\", sentence)\n",
        "  sentence = re.sub(r\"what's\", \"what is\", sentence)\n",
        "  sentence = re.sub(r\"where's\", \"where is\", sentence)\n",
        "  sentence = re.sub(r\"how's\", \"how is\", sentence)\n",
        "  sentence = re.sub(r\"\\'ll\", \" will\", sentence)\n",
        "  sentence = re.sub(r\"\\'ve\", \" have\", sentence)\n",
        "  sentence = re.sub(r\"\\'re\", \" are\", sentence)\n",
        "  sentence = re.sub(r\"\\'d\", \" would\", sentence)\n",
        "  sentence = re.sub(r\"can't\", \"can not\", sentence)\n",
        "  sentence = re.sub(r\"won't\", \"will not\", sentence)\n",
        "  sentence = re.sub(r\"n't\", \" not\", sentence)\n",
        "  sentence = re.sub(r\"can't\", \"cannot\", sentence)\n",
        "  sentence = re.sub(r\"[^a-zA-Z?.!,]+\", \" \", sentence)\n",
        "  sentence = sentence.strip()\n",
        "  return sentence"
      ],
      "execution_count": 0,
      "outputs": []
    },
    {
      "cell_type": "code",
      "metadata": {
        "id": "29ECpX6fTSll",
        "colab_type": "code",
        "colab": {}
      },
      "source": [
        "def load_conversations():\n",
        "  # dictionary of line id to text\n",
        "  questions = []\n",
        "  answers = []\n",
        "  data = pd.read_csv(path_to_movie_conversations)\n",
        "\n",
        "  for i in range(0, data.shape[0] - 1):\n",
        "    if data.iloc[i + 1][2] == 'Stan':\n",
        "        questions.append(preprocess_sentence(data.iloc[i][3]))\n",
        "        answers.append(preprocess_sentence(data.iloc[i + 1][3]))\n",
        "      \n",
        "  return questions, answers\n",
        "\n",
        "\n",
        "questions, answers = load_conversations()"
      ],
      "execution_count": 0,
      "outputs": []
    },
    {
      "cell_type": "code",
      "metadata": {
        "id": "nRRBXYpuTnFg",
        "colab_type": "code",
        "outputId": "48e7c764-3aa4-4641-b3d9-c202218e4d66",
        "colab": {
          "base_uri": "https://localhost:8080/",
          "height": 52
        }
      },
      "source": [
        "print('Sample question: {}'.format(questions[20]))\n",
        "print('Sample answer: {}'.format(answers[20]))"
      ],
      "execution_count": 16,
      "outputs": [
        {
          "output_type": "stream",
          "text": [
            "Sample question: ha ! i knew it !\n",
            "Sample answer: knew what ?\n"
          ],
          "name": "stdout"
        }
      ]
    },
    {
      "cell_type": "code",
      "metadata": {
        "id": "uUvL6tAhT3t1",
        "colab_type": "code",
        "colab": {}
      },
      "source": [
        "# Build tokenizer using tfds for both questions and answers\n",
        "tokenizer = tfds.features.text.SubwordTextEncoder.build_from_corpus(\n",
        "    questions + answers, target_vocab_size=2**14)\n",
        "\n",
        "# Define start and end token to indicate the start and end of a sentence\n",
        "START_TOKEN, END_TOKEN = [tokenizer.vocab_size], [tokenizer.vocab_size + 1]\n",
        "\n",
        "# Vocabulary size plus start and end token\n",
        "VOCAB_SIZE = tokenizer.vocab_size + 2"
      ],
      "execution_count": 0,
      "outputs": []
    },
    {
      "cell_type": "code",
      "metadata": {
        "id": "807MBXHnT62N",
        "colab_type": "code",
        "outputId": "c76c3ad3-6af5-4f56-b080-9bb30abb53d1",
        "colab": {
          "base_uri": "https://localhost:8080/",
          "height": 35
        }
      },
      "source": [
        "print('Tokenized sample question: {}'.format(tokenizer.encode(questions[20])))"
      ],
      "execution_count": 18,
      "outputs": [
        {
          "output_type": "stream",
          "text": [
            "Tokenized sample question: [634, 10, 5, 409, 38, 8]\n"
          ],
          "name": "stdout"
        }
      ]
    },
    {
      "cell_type": "code",
      "metadata": {
        "id": "a5qs2j6aUD6f",
        "colab_type": "code",
        "colab": {}
      },
      "source": [
        "# Maximum sentence length\n",
        "MAX_LENGTH = 30\n",
        "MIN_LENGTH = 1\n",
        "\n",
        "\n",
        "# Tokenize, filter and pad sentences\n",
        "def tokenize_and_filter(inputs, outputs):\n",
        "  tokenized_inputs, tokenized_outputs = [], []\n",
        "  \n",
        "  for (sentence1, sentence2) in zip(inputs, outputs):\n",
        "    # tokenize sentence\n",
        "    sentence1 = START_TOKEN + tokenizer.encode(sentence1) + END_TOKEN\n",
        "    sentence2 = START_TOKEN + tokenizer.encode(sentence2) + END_TOKEN\n",
        "    # check tokenized sentence max length\n",
        "    if len(sentence1) <= MAX_LENGTH and len(sentence2) <= MAX_LENGTH and len(sentence1) > MIN_LENGTH and len(sentence2) > MIN_LENGTH:\n",
        "      tokenized_inputs.append(sentence1)\n",
        "      tokenized_outputs.append(sentence2)\n",
        "  \n",
        "  # pad tokenized sentences\n",
        "  tokenized_inputs = tf.keras.preprocessing.sequence.pad_sequences(\n",
        "      tokenized_inputs, maxlen=MAX_LENGTH, padding='post')\n",
        "  tokenized_outputs = tf.keras.preprocessing.sequence.pad_sequences(\n",
        "      tokenized_outputs, maxlen=MAX_LENGTH, padding='post')\n",
        "  \n",
        "  return tokenized_inputs, tokenized_outputs\n",
        "\n",
        "\n",
        "questions, answers = tokenize_and_filter(questions, answers)"
      ],
      "execution_count": 0,
      "outputs": []
    },
    {
      "cell_type": "code",
      "metadata": {
        "id": "Nf2gD6N-UFAZ",
        "colab_type": "code",
        "outputId": "7dc47876-0ae8-4d3c-ac68-69f7dc533f1a",
        "colab": {
          "base_uri": "https://localhost:8080/",
          "height": 52
        }
      },
      "source": [
        "print('Vocab size: {}'.format(VOCAB_SIZE))\n",
        "print('Number of samples: {}'.format(len(questions)))"
      ],
      "execution_count": 20,
      "outputs": [
        {
          "output_type": "stream",
          "text": [
            "Vocab size: 12798\n",
            "Number of samples: 6339\n"
          ],
          "name": "stdout"
        }
      ]
    },
    {
      "cell_type": "code",
      "metadata": {
        "id": "ogBagaY2UIfV",
        "colab_type": "code",
        "colab": {}
      },
      "source": [
        "BATCH_SIZE = 64\n",
        "BUFFER_SIZE = 20000\n",
        "\n",
        "# decoder inputs use the previous target as input\n",
        "# remove START_TOKEN from targets\n",
        "dataset = tf.data.Dataset.from_tensor_slices((\n",
        "    {\n",
        "        'inputs': questions,\n",
        "        'dec_inputs': answers[:, :-1]\n",
        "    },\n",
        "    {\n",
        "        'outputs': answers[:, 1:]\n",
        "    },\n",
        "))\n",
        "\n",
        "dataset = dataset.cache()\n",
        "dataset = dataset.shuffle(BUFFER_SIZE)\n",
        "dataset = dataset.batch(BATCH_SIZE)\n",
        "dataset = dataset.prefetch(tf.data.experimental.AUTOTUNE)"
      ],
      "execution_count": 0,
      "outputs": []
    },
    {
      "cell_type": "code",
      "metadata": {
        "id": "Hsxs0O3cUMqJ",
        "colab_type": "code",
        "outputId": "550ba0dd-cbbe-4033-de7a-633115ec2a49",
        "colab": {
          "base_uri": "https://localhost:8080/",
          "height": 35
        }
      },
      "source": [
        "print(dataset)"
      ],
      "execution_count": 22,
      "outputs": [
        {
          "output_type": "stream",
          "text": [
            "<PrefetchDataset shapes: ({inputs: (None, 30), dec_inputs: (None, 29)}, {outputs: (None, 29)}), types: ({inputs: tf.int32, dec_inputs: tf.int32}, {outputs: tf.int32})>\n"
          ],
          "name": "stdout"
        }
      ]
    },
    {
      "cell_type": "code",
      "metadata": {
        "id": "tq8PkbpzUVcE",
        "colab_type": "code",
        "colab": {}
      },
      "source": [
        "def scaled_dot_product_attention(query, key, value, mask):\n",
        "  \"\"\"Calculate the attention weights. \"\"\"\n",
        "  matmul_qk = tf.matmul(query, key, transpose_b=True)\n",
        "\n",
        "  # scale matmul_qk\n",
        "  depth = tf.cast(tf.shape(key)[-1], tf.float32)\n",
        "  logits = matmul_qk / tf.math.sqrt(depth)\n",
        "\n",
        "  # add the mask to zero out padding tokens\n",
        "  if mask is not None:\n",
        "    logits += (mask * -1e9)\n",
        "\n",
        "  # softmax is normalized on the last axis (seq_len_k)\n",
        "  attention_weights = tf.nn.softmax(logits, axis=-1)\n",
        "\n",
        "  output = tf.matmul(attention_weights, value)\n",
        "\n",
        "  return output"
      ],
      "execution_count": 0,
      "outputs": []
    },
    {
      "cell_type": "code",
      "metadata": {
        "id": "Bp39LlDNUhE5",
        "colab_type": "code",
        "colab": {}
      },
      "source": [
        "class MultiHeadAttention(tf.keras.layers.Layer):\n",
        "\n",
        "  def __init__(self, d_model, num_heads, name=\"multi_head_attention\"):\n",
        "    super(MultiHeadAttention, self).__init__(name=name)\n",
        "    self.num_heads = num_heads\n",
        "    self.d_model = d_model\n",
        "\n",
        "    assert d_model % self.num_heads == 0\n",
        "\n",
        "    self.depth = d_model // self.num_heads\n",
        "\n",
        "    self.query_dense = tf.keras.layers.Dense(units=d_model)\n",
        "    self.key_dense = tf.keras.layers.Dense(units=d_model)\n",
        "    self.value_dense = tf.keras.layers.Dense(units=d_model)\n",
        "\n",
        "    self.dense = tf.keras.layers.Dense(units=d_model)\n",
        "\n",
        "  def split_heads(self, inputs, batch_size):\n",
        "    inputs = tf.reshape(\n",
        "        inputs, shape=(batch_size, -1, self.num_heads, self.depth))\n",
        "    return tf.transpose(inputs, perm=[0, 2, 1, 3])\n",
        "\n",
        "  def call(self, inputs):\n",
        "    query, key, value, mask = inputs['query'], inputs['key'], inputs[\n",
        "        'value'], inputs['mask']\n",
        "    batch_size = tf.shape(query)[0]\n",
        "\n",
        "    # linear layers\n",
        "    query = self.query_dense(query)\n",
        "    key = self.key_dense(key)\n",
        "    value = self.value_dense(value)\n",
        "\n",
        "    # split heads\n",
        "    query = self.split_heads(query, batch_size)\n",
        "    key = self.split_heads(key, batch_size)\n",
        "    value = self.split_heads(value, batch_size)\n",
        "\n",
        "    # scaled dot-product attention\n",
        "    scaled_attention = scaled_dot_product_attention(query, key, value, mask)\n",
        "\n",
        "    scaled_attention = tf.transpose(scaled_attention, perm=[0, 2, 1, 3])\n",
        "\n",
        "    # concatenation of heads\n",
        "    concat_attention = tf.reshape(scaled_attention,\n",
        "                                  (batch_size, -1, self.d_model))\n",
        "\n",
        "    # final linear layer\n",
        "    outputs = self.dense(concat_attention)\n",
        "\n",
        "    return outputs"
      ],
      "execution_count": 0,
      "outputs": []
    },
    {
      "cell_type": "code",
      "metadata": {
        "id": "aFNkUNGCUk9O",
        "colab_type": "code",
        "colab": {}
      },
      "source": [
        "def create_padding_mask(x):\n",
        "  mask = tf.cast(tf.math.equal(x, 0), tf.float32)\n",
        "  # (batch_size, 1, 1, sequence length)\n",
        "  return mask[:, tf.newaxis, tf.newaxis, :]"
      ],
      "execution_count": 0,
      "outputs": []
    },
    {
      "cell_type": "code",
      "metadata": {
        "id": "ObuxpyVOUpHh",
        "colab_type": "code",
        "colab": {}
      },
      "source": [
        "def create_look_ahead_mask(x):\n",
        "  seq_len = tf.shape(x)[1]\n",
        "  look_ahead_mask = 1 - tf.linalg.band_part(tf.ones((seq_len, seq_len)), -1, 0)\n",
        "  padding_mask = create_padding_mask(x)\n",
        "  return tf.maximum(look_ahead_mask, padding_mask)"
      ],
      "execution_count": 0,
      "outputs": []
    },
    {
      "cell_type": "code",
      "metadata": {
        "id": "BOlLW0CCp5rt",
        "colab_type": "code",
        "colab": {}
      },
      "source": [
        "class PositionalEncoding(tf.keras.layers.Layer):\n",
        "\n",
        "  def __init__(self, position, d_model):\n",
        "    super(PositionalEncoding, self).__init__()\n",
        "    self.pos_encoding = self.positional_encoding(position, d_model)\n",
        "\n",
        "  def get_angles(self, position, i, d_model):\n",
        "    angles = 1 / tf.pow(10000, (2 * (i // 2)) / tf.cast(d_model, tf.float32))\n",
        "    return position * angles\n",
        "\n",
        "  def positional_encoding(self, position, d_model):\n",
        "    angle_rads = self.get_angles(\n",
        "        position=tf.range(position, dtype=tf.float32)[:, tf.newaxis],\n",
        "        i=tf.range(d_model, dtype=tf.float32)[tf.newaxis, :],\n",
        "        d_model=d_model)\n",
        "    # apply sin to even index in the array\n",
        "    sines = tf.math.sin(angle_rads[:, 0::2])\n",
        "    # apply cos to odd index in the array\n",
        "    cosines = tf.math.cos(angle_rads[:, 1::2])\n",
        "\n",
        "    pos_encoding = tf.concat([sines, cosines], axis=-1)\n",
        "    pos_encoding = pos_encoding[tf.newaxis, ...]\n",
        "    return tf.cast(pos_encoding, tf.float32)\n",
        "\n",
        "  def call(self, inputs):\n",
        "    return inputs + self.pos_encoding[:, :tf.shape(inputs)[1], :]"
      ],
      "execution_count": 0,
      "outputs": []
    },
    {
      "cell_type": "code",
      "metadata": {
        "id": "KsptDGC_Uzg9",
        "colab_type": "code",
        "colab": {}
      },
      "source": [
        "def encoder_layer(units, d_model, num_heads, dropout, name=\"encoder_layer\"):\n",
        "  inputs = tf.keras.Input(shape=(None, d_model), name=\"inputs\")\n",
        "  padding_mask = tf.keras.Input(shape=(1, 1, None), name=\"padding_mask\")\n",
        "\n",
        "  attention = MultiHeadAttention(\n",
        "      d_model, num_heads, name=\"attention\")({\n",
        "          'query': inputs,\n",
        "          'key': inputs,\n",
        "          'value': inputs,\n",
        "          'mask': padding_mask\n",
        "      })\n",
        "  attention = tf.keras.layers.Dropout(rate=dropout)(attention)\n",
        "  attention = tf.keras.layers.LayerNormalization(\n",
        "      epsilon=1e-6)(inputs + attention)\n",
        "\n",
        "  outputs = tf.keras.layers.Dense(units=units, activation='relu')(attention)\n",
        "  outputs = tf.keras.layers.Dense(units=d_model)(outputs)\n",
        "  outputs = tf.keras.layers.Dropout(rate=dropout)(outputs)\n",
        "  outputs = tf.keras.layers.LayerNormalization(\n",
        "      epsilon=1e-6)(attention + outputs)\n",
        "\n",
        "  return tf.keras.Model(\n",
        "      inputs=[inputs, padding_mask], outputs=outputs, name=name)"
      ],
      "execution_count": 0,
      "outputs": []
    },
    {
      "cell_type": "code",
      "metadata": {
        "id": "AI5avt0qU4iy",
        "colab_type": "code",
        "colab": {}
      },
      "source": [
        "def encoder(vocab_size,\n",
        "            num_layers,\n",
        "            units,\n",
        "            d_model,\n",
        "            num_heads,\n",
        "            dropout,\n",
        "            name=\"encoder\"):\n",
        "  inputs = tf.keras.Input(shape=(None,), name=\"inputs\")\n",
        "  padding_mask = tf.keras.Input(shape=(1, 1, None), name=\"padding_mask\")\n",
        "\n",
        "  embeddings = tf.keras.layers.Embedding(vocab_size, d_model)(inputs)\n",
        "  embeddings *= tf.math.sqrt(tf.cast(d_model, tf.float32))\n",
        "  embeddings = PositionalEncoding(vocab_size, d_model)(embeddings)\n",
        "\n",
        "  outputs = tf.keras.layers.Dropout(rate=dropout)(embeddings)\n",
        "\n",
        "  for i in range(num_layers):\n",
        "    outputs = encoder_layer(\n",
        "        units=units,\n",
        "        d_model=d_model,\n",
        "        num_heads=num_heads,\n",
        "        dropout=dropout,\n",
        "        name=\"encoder_layer_{}\".format(i),\n",
        "    )([outputs, padding_mask])\n",
        "\n",
        "  return tf.keras.Model(\n",
        "      inputs=[inputs, padding_mask], outputs=outputs, name=name)"
      ],
      "execution_count": 0,
      "outputs": []
    },
    {
      "cell_type": "code",
      "metadata": {
        "id": "pr9WwJSSp_RX",
        "colab_type": "code",
        "colab": {}
      },
      "source": [
        "def decoder_layer(units, d_model, num_heads, dropout, name=\"decoder_layer\"):\n",
        "  inputs = tf.keras.Input(shape=(None, d_model), name=\"inputs\")\n",
        "  enc_outputs = tf.keras.Input(shape=(None, d_model), name=\"encoder_outputs\")\n",
        "  look_ahead_mask = tf.keras.Input(\n",
        "      shape=(1, None, None), name=\"look_ahead_mask\")\n",
        "  padding_mask = tf.keras.Input(shape=(1, 1, None), name='padding_mask')\n",
        "\n",
        "  attention1 = MultiHeadAttention(\n",
        "      d_model, num_heads, name=\"attention_1\")(inputs={\n",
        "          'query': inputs,\n",
        "          'key': inputs,\n",
        "          'value': inputs,\n",
        "          'mask': look_ahead_mask\n",
        "      })\n",
        "  attention1 = tf.keras.layers.LayerNormalization(\n",
        "      epsilon=1e-6)(attention1 + inputs)\n",
        "\n",
        "  attention2 = MultiHeadAttention(\n",
        "      d_model, num_heads, name=\"attention_2\")(inputs={\n",
        "          'query': attention1,\n",
        "          'key': enc_outputs,\n",
        "          'value': enc_outputs,\n",
        "          'mask': padding_mask\n",
        "      })\n",
        "  attention2 = tf.keras.layers.Dropout(rate=dropout)(attention2)\n",
        "  attention2 = tf.keras.layers.LayerNormalization(\n",
        "      epsilon=1e-6)(attention2 + attention1)\n",
        "\n",
        "  outputs = tf.keras.layers.Dense(units=units, activation='relu')(attention2)\n",
        "  outputs = tf.keras.layers.Dense(units=d_model)(outputs)\n",
        "  outputs = tf.keras.layers.Dropout(rate=dropout)(outputs)\n",
        "  outputs = tf.keras.layers.LayerNormalization(\n",
        "      epsilon=1e-6)(outputs + attention2)\n",
        "\n",
        "  return tf.keras.Model(\n",
        "      inputs=[inputs, enc_outputs, look_ahead_mask, padding_mask],\n",
        "      outputs=outputs,\n",
        "      name=name)"
      ],
      "execution_count": 0,
      "outputs": []
    },
    {
      "cell_type": "code",
      "metadata": {
        "id": "cuJ5HcqQpmzj",
        "colab_type": "code",
        "colab": {}
      },
      "source": [
        "\n",
        "def decoder(vocab_size,\n",
        "            num_layers,\n",
        "            units,\n",
        "            d_model,\n",
        "            num_heads,\n",
        "            dropout,\n",
        "            name='decoder'):\n",
        "  inputs = tf.keras.Input(shape=(None,), name='inputs')\n",
        "  enc_outputs = tf.keras.Input(shape=(None, d_model), name='encoder_outputs')\n",
        "  look_ahead_mask = tf.keras.Input(\n",
        "      shape=(1, None, None), name='look_ahead_mask')\n",
        "  padding_mask = tf.keras.Input(shape=(1, 1, None), name='padding_mask')\n",
        "  \n",
        "  embeddings = tf.keras.layers.Embedding(vocab_size, d_model)(inputs)\n",
        "  embeddings *= tf.math.sqrt(tf.cast(d_model, tf.float32))\n",
        "  embeddings = PositionalEncoding(vocab_size, d_model)(embeddings)\n",
        "\n",
        "  outputs = tf.keras.layers.Dropout(rate=dropout)(embeddings)\n",
        "\n",
        "  for i in range(num_layers):\n",
        "    outputs = decoder_layer(\n",
        "        units=units,\n",
        "        d_model=d_model,\n",
        "        num_heads=num_heads,\n",
        "        dropout=dropout,\n",
        "        name='decoder_layer_{}'.format(i),\n",
        "    )(inputs=[outputs, enc_outputs, look_ahead_mask, padding_mask])\n",
        "\n",
        "  return tf.keras.Model(\n",
        "      inputs=[inputs, enc_outputs, look_ahead_mask, padding_mask],\n",
        "      outputs=outputs,\n",
        "      name=name)"
      ],
      "execution_count": 0,
      "outputs": []
    },
    {
      "cell_type": "code",
      "metadata": {
        "id": "KsUBq07vqI9I",
        "colab_type": "code",
        "colab": {}
      },
      "source": [
        "def transformer(vocab_size,\n",
        "                num_layers,\n",
        "                units,\n",
        "                d_model,\n",
        "                num_heads,\n",
        "                dropout,\n",
        "                name=\"transformer\"):\n",
        "  inputs = tf.keras.Input(shape=(None,), name=\"inputs\")\n",
        "  dec_inputs = tf.keras.Input(shape=(None,), name=\"dec_inputs\")\n",
        "\n",
        "  enc_padding_mask = tf.keras.layers.Lambda(\n",
        "      create_padding_mask, output_shape=(1, 1, None),\n",
        "      name='enc_padding_mask')(inputs)\n",
        "  # mask the future tokens for decoder inputs at the 1st attention block\n",
        "  look_ahead_mask = tf.keras.layers.Lambda(\n",
        "      create_look_ahead_mask,\n",
        "      output_shape=(1, None, None),\n",
        "      name='look_ahead_mask')(dec_inputs)\n",
        "  # mask the encoder outputs for the 2nd attention block\n",
        "  dec_padding_mask = tf.keras.layers.Lambda(\n",
        "      create_padding_mask, output_shape=(1, 1, None),\n",
        "      name='dec_padding_mask')(inputs)\n",
        "\n",
        "  enc_outputs = encoder(\n",
        "      vocab_size=vocab_size,\n",
        "      num_layers=num_layers,\n",
        "      units=units,\n",
        "      d_model=d_model,\n",
        "      num_heads=num_heads,\n",
        "      dropout=dropout,\n",
        "  )(inputs=[inputs, enc_padding_mask])\n",
        "\n",
        "  dec_outputs = decoder(\n",
        "      vocab_size=vocab_size,\n",
        "      num_layers=num_layers,\n",
        "      units=units,\n",
        "      d_model=d_model,\n",
        "      num_heads=num_heads,\n",
        "      dropout=dropout,\n",
        "  )(inputs=[dec_inputs, enc_outputs, look_ahead_mask, dec_padding_mask])\n",
        "\n",
        "  outputs = tf.keras.layers.Dense(units=vocab_size, name=\"outputs\")(dec_outputs)\n",
        "\n",
        "  return tf.keras.Model(inputs=[inputs, dec_inputs], outputs=outputs, name=name)"
      ],
      "execution_count": 0,
      "outputs": []
    },
    {
      "cell_type": "code",
      "metadata": {
        "id": "RZkMp_K_qUyd",
        "colab_type": "code",
        "outputId": "08639af7-1c71-449a-84ea-3bd4cce15eae",
        "colab": {
          "base_uri": "https://localhost:8080/",
          "height": 533
        }
      },
      "source": [
        "tf.keras.backend.clear_session()\n",
        "\n",
        "# Hyper-parameters\n",
        "NUM_LAYERS = 2\n",
        "D_MODEL = 256\n",
        "NUM_HEADS = 8\n",
        "UNITS = 2048\n",
        "DROPOUT = 0.1\n",
        "\n",
        "model = transformer(\n",
        "    vocab_size=VOCAB_SIZE,\n",
        "    num_layers=NUM_LAYERS,\n",
        "    units=UNITS,\n",
        "    d_model=D_MODEL,\n",
        "    num_heads=NUM_HEADS,\n",
        "    dropout=DROPOUT)\n",
        "\n",
        "tf.keras.utils.plot_model(\n",
        "    model, to_file='transformer.png', show_shapes=True)"
      ],
      "execution_count": 33,
      "outputs": [
        {
          "output_type": "execute_result",
          "data": {
            "image/png": "[encoded data removed]",
            "text/plain": [
              "<IPython.core.display.Image object>"
            ]
          },
          "metadata": {
            "tags": []
          },
          "execution_count": 33
        }
      ]
    },
    {
      "cell_type": "code",
      "metadata": {
        "id": "86NO_3pxqbET",
        "colab_type": "code",
        "colab": {}
      },
      "source": [
        "def loss_function(y_true, y_pred):\n",
        "  y_true = tf.reshape(y_true, shape=(-1, MAX_LENGTH - 1))\n",
        "  \n",
        "  loss = tf.keras.losses.SparseCategoricalCrossentropy(\n",
        "      from_logits=True, reduction='none')(y_true, y_pred)\n",
        "\n",
        "  mask = tf.cast(tf.not_equal(y_true, 0), tf.float32)\n",
        "  loss = tf.multiply(loss, mask)\n",
        "\n",
        "  return tf.reduce_mean(loss)"
      ],
      "execution_count": 0,
      "outputs": []
    },
    {
      "cell_type": "code",
      "metadata": {
        "id": "7yzdt0CPqdaw",
        "colab_type": "code",
        "colab": {}
      },
      "source": [
        "class CustomSchedule(tf.keras.optimizers.schedules.LearningRateSchedule):\n",
        "\n",
        "  def __init__(self, d_model, warmup_steps=4000):\n",
        "    super(CustomSchedule, self).__init__()\n",
        "\n",
        "    self.d_model = d_model\n",
        "    self.d_model = tf.cast(self.d_model, tf.float32)\n",
        "\n",
        "    self.warmup_steps = warmup_steps\n",
        "\n",
        "  def __call__(self, step):\n",
        "    arg1 = tf.math.rsqrt(step)\n",
        "    arg2 = step * (self.warmup_steps**-1.5)\n",
        "\n",
        "    return tf.math.rsqrt(self.d_model) * tf.math.minimum(arg1, arg2)\n",
        "  \n",
        "  def get_config(self):\n",
        "    config = {'d_model': self.d_model,'warmup_steps': self.warmup_steps}\n",
        "    return config"
      ],
      "execution_count": 0,
      "outputs": []
    },
    {
      "cell_type": "code",
      "metadata": {
        "id": "vslAWhFEqggA",
        "colab_type": "code",
        "outputId": "080104ee-d0bb-422e-ae97-fb8596bf83cf",
        "colab": {
          "base_uri": "https://localhost:8080/",
          "height": 296
        }
      },
      "source": [
        "sample_learning_rate = CustomSchedule(d_model=256)\n",
        "\n",
        "plt.plot(sample_learning_rate(tf.range(20000, dtype=tf.float32)))\n",
        "plt.ylabel(\"Learning Rate\")\n",
        "plt.xlabel(\"Train Step\")"
      ],
      "execution_count": 36,
      "outputs": [
        {
          "output_type": "execute_result",
          "data": {
            "text/plain": [
              "Text(0.5, 0, 'Train Step')"
            ]
          },
          "metadata": {
            "tags": []
          },
          "execution_count": 36
        },
        {
          "output_type": "display_data",
          "data": {
            "image/png": "[encoded data removed]",
            "text/plain": [
              "<Figure size 432x288 with 1 Axes>"
            ]
          },
          "metadata": {
            "tags": [],
            "needs_background": "light"
          }
        }
      ]
    },
    {
      "cell_type": "code",
      "metadata": {
        "id": "k074LJcyrng9",
        "colab_type": "code",
        "colab": {}
      },
      "source": [
        "folderpath='/content/drive/My Drive/chatbot/'\n",
        "filepath=folderpath+'model8-{epoch:02d}.hdf5'\n",
        "cp_callback = tf.keras.callbacks.ModelCheckpoint(filepath=filepath,\n",
        "                                                 save_weights_only=True,\n",
        "                                                 verbose=1)"
      ],
      "execution_count": 0,
      "outputs": []
    },
    {
      "cell_type": "code",
      "metadata": {
        "id": "Nzt-Khljqi-0",
        "colab_type": "code",
        "colab": {}
      },
      "source": [
        "learning_rate = CustomSchedule(D_MODEL)\n",
        "\n",
        "optimizer = tf.keras.optimizers.Adam(\n",
        "    learning_rate, beta_1=0.9, beta_2=0.98, epsilon=1e-9)\n",
        "\n",
        "def accuracy(y_true, y_pred):\n",
        "  # ensure labels have shape (batch_size, MAX_LENGTH - 1)\n",
        "  y_true = tf.reshape(y_true, shape=(-1, MAX_LENGTH - 1))\n",
        "  return tf.keras.metrics.sparse_categorical_accuracy(y_true, y_pred)\n",
        "\n",
        "history = model.compile(optimizer=optimizer, loss=loss_function, metrics=[accuracy])"
      ],
      "execution_count": 0,
      "outputs": []
    },
    {
      "cell_type": "code",
      "metadata": {
        "id": "cFcrgYpyD2sO",
        "colab_type": "code",
        "outputId": "64ebf5b5-eab8-4bea-b50f-eac3901b6e62",
        "colab": {
          "base_uri": "https://localhost:8080/",
          "height": 1000
        }
      },
      "source": [
        "EPOCHS = 50\n",
        "ini_epochs= 0\n",
        "\n",
        "model.fit(dataset, epochs=EPOCHS,initial_epoch = ini_epochs,callbacks=[cp_callback])"
      ],
      "execution_count": 40,
      "outputs": [
        {
          "output_type": "stream",
          "text": [
            "Epoch 1/50\n",
            "100/100 [==============================] - ETA: 0s - loss: 3.4772 - accuracy: 0.0197\n",
            "Epoch 00001: saving model to /content/drive/My Drive/chatbot/model8-01.hdf5\n",
            "100/100 [==============================] - 12s 117ms/step - loss: 3.4772 - accuracy: 0.0197\n",
            "Epoch 2/50\n",
            "100/100 [==============================] - ETA: 0s - loss: 3.1319 - accuracy: 0.0356\n",
            "Epoch 00002: saving model to /content/drive/My Drive/chatbot/model8-02.hdf5\n",
            "100/100 [==============================] - 12s 117ms/step - loss: 3.1319 - accuracy: 0.0356\n",
            "Epoch 3/50\n",
            "100/100 [==============================] - ETA: 0s - loss: 2.6118 - accuracy: 0.0543\n",
            "Epoch 00003: saving model to /content/drive/My Drive/chatbot/model8-03.hdf5\n",
            "100/100 [==============================] - 12s 116ms/step - loss: 2.6118 - accuracy: 0.0543\n",
            "Epoch 4/50\n",
            "100/100 [==============================] - ETA: 0s - loss: 2.1991 - accuracy: 0.0628\n",
            "Epoch 00004: saving model to /content/drive/My Drive/chatbot/model8-04.hdf5\n",
            "100/100 [==============================] - 12s 118ms/step - loss: 2.1991 - accuracy: 0.0628\n",
            "Epoch 5/50\n",
            "100/100 [==============================] - ETA: 0s - loss: 1.9838 - accuracy: 0.0785\n",
            "Epoch 00005: saving model to /content/drive/My Drive/chatbot/model8-05.hdf5\n",
            "100/100 [==============================] - 12s 116ms/step - loss: 1.9838 - accuracy: 0.0785\n",
            "Epoch 6/50\n",
            "100/100 [==============================] - ETA: 0s - loss: 1.8039 - accuracy: 0.0925\n",
            "Epoch 00006: saving model to /content/drive/My Drive/chatbot/model8-06.hdf5\n",
            "100/100 [==============================] - 12s 115ms/step - loss: 1.8039 - accuracy: 0.0925\n",
            "Epoch 7/50\n",
            "100/100 [==============================] - ETA: 0s - loss: 1.6775 - accuracy: 0.1005\n",
            "Epoch 00007: saving model to /content/drive/My Drive/chatbot/model8-07.hdf5\n",
            "100/100 [==============================] - 12s 116ms/step - loss: 1.6775 - accuracy: 0.1005\n",
            "Epoch 8/50\n",
            "100/100 [==============================] - ETA: 0s - loss: 1.5889 - accuracy: 0.1072\n",
            "Epoch 00008: saving model to /content/drive/My Drive/chatbot/model8-08.hdf5\n",
            "100/100 [==============================] - 12s 116ms/step - loss: 1.5889 - accuracy: 0.1072\n",
            "Epoch 9/50\n",
            "100/100 [==============================] - ETA: 0s - loss: 1.5164 - accuracy: 0.1137\n",
            "Epoch 00009: saving model to /content/drive/My Drive/chatbot/model8-09.hdf5\n",
            "100/100 [==============================] - 12s 116ms/step - loss: 1.5164 - accuracy: 0.1137\n",
            "Epoch 10/50\n",
            "100/100 [==============================] - ETA: 0s - loss: 1.4509 - accuracy: 0.1197\n",
            "Epoch 00010: saving model to /content/drive/My Drive/chatbot/model8-10.hdf5\n",
            "100/100 [==============================] - 12s 116ms/step - loss: 1.4509 - accuracy: 0.1197\n",
            "Epoch 11/50\n",
            "100/100 [==============================] - ETA: 0s - loss: 1.3881 - accuracy: 0.1268\n",
            "Epoch 00011: saving model to /content/drive/My Drive/chatbot/model8-11.hdf5\n",
            "100/100 [==============================] - 12s 116ms/step - loss: 1.3881 - accuracy: 0.1268\n",
            "Epoch 12/50\n",
            "100/100 [==============================] - ETA: 0s - loss: 1.3284 - accuracy: 0.1344\n",
            "Epoch 00012: saving model to /content/drive/My Drive/chatbot/model8-12.hdf5\n",
            "100/100 [==============================] - 12s 116ms/step - loss: 1.3284 - accuracy: 0.1344\n",
            "Epoch 13/50\n",
            "100/100 [==============================] - ETA: 0s - loss: 1.2674 - accuracy: 0.1421\n",
            "Epoch 00013: saving model to /content/drive/My Drive/chatbot/model8-13.hdf5\n",
            "100/100 [==============================] - 12s 116ms/step - loss: 1.2674 - accuracy: 0.1421\n",
            "Epoch 14/50\n",
            "100/100 [==============================] - ETA: 0s - loss: 1.2075 - accuracy: 0.1499\n",
            "Epoch 00014: saving model to /content/drive/My Drive/chatbot/model8-14.hdf5\n",
            "100/100 [==============================] - 12s 116ms/step - loss: 1.2075 - accuracy: 0.1499\n",
            "Epoch 15/50\n",
            "100/100 [==============================] - ETA: 0s - loss: 1.1435 - accuracy: 0.1580\n",
            "Epoch 00015: saving model to /content/drive/My Drive/chatbot/model8-15.hdf5\n",
            "100/100 [==============================] - 12s 116ms/step - loss: 1.1435 - accuracy: 0.1580\n",
            "Epoch 16/50\n",
            "100/100 [==============================] - ETA: 0s - loss: 1.0850 - accuracy: 0.1662\n",
            "Epoch 00016: saving model to /content/drive/My Drive/chatbot/model8-16.hdf5\n",
            "100/100 [==============================] - 12s 115ms/step - loss: 1.0850 - accuracy: 0.1662\n",
            "Epoch 17/50\n",
            "100/100 [==============================] - ETA: 0s - loss: 1.0126 - accuracy: 0.1759\n",
            "Epoch 00017: saving model to /content/drive/My Drive/chatbot/model8-17.hdf5\n",
            "100/100 [==============================] - 12s 115ms/step - loss: 1.0126 - accuracy: 0.1759\n",
            "Epoch 18/50\n",
            "100/100 [==============================] - ETA: 0s - loss: 0.9423 - accuracy: 0.1871\n",
            "Epoch 00018: saving model to /content/drive/My Drive/chatbot/model8-18.hdf5\n",
            "100/100 [==============================] - 11s 114ms/step - loss: 0.9423 - accuracy: 0.1871\n",
            "Epoch 19/50\n",
            "100/100 [==============================] - ETA: 0s - loss: 0.8719 - accuracy: 0.1978\n",
            "Epoch 00019: saving model to /content/drive/My Drive/chatbot/model8-19.hdf5\n",
            "100/100 [==============================] - 12s 115ms/step - loss: 0.8719 - accuracy: 0.1978\n",
            "Epoch 20/50\n",
            "100/100 [==============================] - ETA: 0s - loss: 0.7924 - accuracy: 0.2110\n",
            "Epoch 00020: saving model to /content/drive/My Drive/chatbot/model8-20.hdf5\n",
            "100/100 [==============================] - 12s 115ms/step - loss: 0.7924 - accuracy: 0.2110\n",
            "Epoch 21/50\n",
            "100/100 [==============================] - ETA: 0s - loss: 0.7174 - accuracy: 0.2241\n",
            "Epoch 00021: saving model to /content/drive/My Drive/chatbot/model8-21.hdf5\n",
            "100/100 [==============================] - 12s 115ms/step - loss: 0.7174 - accuracy: 0.2241\n",
            "Epoch 22/50\n",
            "100/100 [==============================] - ETA: 0s - loss: 0.6383 - accuracy: 0.2394\n",
            "Epoch 00022: saving model to /content/drive/My Drive/chatbot/model8-22.hdf5\n",
            "100/100 [==============================] - 12s 115ms/step - loss: 0.6383 - accuracy: 0.2394\n",
            "Epoch 23/50\n",
            "100/100 [==============================] - ETA: 0s - loss: 0.5640 - accuracy: 0.2516\n",
            "Epoch 00023: saving model to /content/drive/My Drive/chatbot/model8-23.hdf5\n",
            "100/100 [==============================] - 12s 115ms/step - loss: 0.5640 - accuracy: 0.2516\n",
            "Epoch 24/50\n",
            "100/100 [==============================] - ETA: 0s - loss: 0.4902 - accuracy: 0.2684\n",
            "Epoch 00024: saving model to /content/drive/My Drive/chatbot/model8-24.hdf5\n",
            "100/100 [==============================] - 11s 115ms/step - loss: 0.4902 - accuracy: 0.2684\n",
            "Epoch 25/50\n",
            "100/100 [==============================] - ETA: 0s - loss: 0.4234 - accuracy: 0.2815\n",
            "Epoch 00025: saving model to /content/drive/My Drive/chatbot/model8-25.hdf5\n",
            "100/100 [==============================] - 12s 116ms/step - loss: 0.4234 - accuracy: 0.2815\n",
            "Epoch 26/50\n",
            "100/100 [==============================] - ETA: 0s - loss: 0.3544 - accuracy: 0.2969\n",
            "Epoch 00026: saving model to /content/drive/My Drive/chatbot/model8-26.hdf5\n",
            "100/100 [==============================] - 11s 115ms/step - loss: 0.3544 - accuracy: 0.2969\n",
            "Epoch 27/50\n",
            "100/100 [==============================] - ETA: 0s - loss: 0.3000 - accuracy: 0.3080\n",
            "Epoch 00027: saving model to /content/drive/My Drive/chatbot/model8-27.hdf5\n",
            "100/100 [==============================] - 12s 115ms/step - loss: 0.3000 - accuracy: 0.3080\n",
            "Epoch 28/50\n",
            "100/100 [==============================] - ETA: 0s - loss: 0.2588 - accuracy: 0.3164\n",
            "Epoch 00028: saving model to /content/drive/My Drive/chatbot/model8-28.hdf5\n",
            "100/100 [==============================] - 11s 114ms/step - loss: 0.2588 - accuracy: 0.3164\n",
            "Epoch 29/50\n",
            "100/100 [==============================] - ETA: 0s - loss: 0.2235 - accuracy: 0.3237\n",
            "Epoch 00029: saving model to /content/drive/My Drive/chatbot/model8-29.hdf5\n",
            "100/100 [==============================] - 12s 115ms/step - loss: 0.2235 - accuracy: 0.3237\n",
            "Epoch 30/50\n",
            "100/100 [==============================] - ETA: 0s - loss: 0.1962 - accuracy: 0.3300\n",
            "Epoch 00030: saving model to /content/drive/My Drive/chatbot/model8-30.hdf5\n",
            "100/100 [==============================] - 12s 116ms/step - loss: 0.1962 - accuracy: 0.3300\n",
            "Epoch 31/50\n",
            "100/100 [==============================] - ETA: 0s - loss: 0.1755 - accuracy: 0.3334\n",
            "Epoch 00031: saving model to /content/drive/My Drive/chatbot/model8-31.hdf5\n",
            "100/100 [==============================] - 12s 116ms/step - loss: 0.1755 - accuracy: 0.3334\n",
            "Epoch 32/50\n",
            "100/100 [==============================] - ETA: 0s - loss: 0.1611 - accuracy: 0.3369\n",
            "Epoch 00032: saving model to /content/drive/My Drive/chatbot/model8-32.hdf5\n",
            "100/100 [==============================] - 11s 115ms/step - loss: 0.1611 - accuracy: 0.3369\n",
            "Epoch 33/50\n",
            "100/100 [==============================] - ETA: 0s - loss: 0.1559 - accuracy: 0.3377\n",
            "Epoch 00033: saving model to /content/drive/My Drive/chatbot/model8-33.hdf5\n",
            "100/100 [==============================] - 11s 115ms/step - loss: 0.1559 - accuracy: 0.3377\n",
            "Epoch 34/50\n",
            "100/100 [==============================] - ETA: 0s - loss: 0.1427 - accuracy: 0.3404\n",
            "Epoch 00034: saving model to /content/drive/My Drive/chatbot/model8-34.hdf5\n",
            "100/100 [==============================] - 12s 115ms/step - loss: 0.1427 - accuracy: 0.3404\n",
            "Epoch 35/50\n",
            "100/100 [==============================] - ETA: 0s - loss: 0.1427 - accuracy: 0.3402\n",
            "Epoch 00035: saving model to /content/drive/My Drive/chatbot/model8-35.hdf5\n",
            "100/100 [==============================] - 11s 115ms/step - loss: 0.1427 - accuracy: 0.3402\n",
            "Epoch 36/50\n",
            "100/100 [==============================] - ETA: 0s - loss: 0.1313 - accuracy: 0.3431\n",
            "Epoch 00036: saving model to /content/drive/My Drive/chatbot/model8-36.hdf5\n",
            "100/100 [==============================] - 12s 115ms/step - loss: 0.1313 - accuracy: 0.3431\n",
            "Epoch 37/50\n",
            "100/100 [==============================] - ETA: 0s - loss: 0.1299 - accuracy: 0.3427\n",
            "Epoch 00037: saving model to /content/drive/My Drive/chatbot/model8-37.hdf5\n",
            "100/100 [==============================] - 11s 114ms/step - loss: 0.1299 - accuracy: 0.3427\n",
            "Epoch 38/50\n",
            "100/100 [==============================] - ETA: 0s - loss: 0.1270 - accuracy: 0.3439\n",
            "Epoch 00038: saving model to /content/drive/My Drive/chatbot/model8-38.hdf5\n",
            "100/100 [==============================] - 11s 114ms/step - loss: 0.1270 - accuracy: 0.3439\n",
            "Epoch 39/50\n",
            "100/100 [==============================] - ETA: 0s - loss: 0.1240 - accuracy: 0.3446\n",
            "Epoch 00039: saving model to /content/drive/My Drive/chatbot/model8-39.hdf5\n",
            "100/100 [==============================] - 11s 115ms/step - loss: 0.1240 - accuracy: 0.3446\n",
            "Epoch 40/50\n",
            "100/100 [==============================] - ETA: 0s - loss: 0.1195 - accuracy: 0.3454\n",
            "Epoch 00040: saving model to /content/drive/My Drive/chatbot/model8-40.hdf5\n",
            "100/100 [==============================] - 11s 114ms/step - loss: 0.1195 - accuracy: 0.3454\n",
            "Epoch 41/50\n",
            "100/100 [==============================] - ETA: 0s - loss: 0.1209 - accuracy: 0.3449\n",
            "Epoch 00041: saving model to /content/drive/My Drive/chatbot/model8-41.hdf5\n",
            "100/100 [==============================] - 12s 115ms/step - loss: 0.1209 - accuracy: 0.3449\n",
            "Epoch 42/50\n",
            "100/100 [==============================] - ETA: 0s - loss: 0.1099 - accuracy: 0.3478\n",
            "Epoch 00042: saving model to /content/drive/My Drive/chatbot/model8-42.hdf5\n",
            "100/100 [==============================] - 11s 114ms/step - loss: 0.1099 - accuracy: 0.3478\n",
            "Epoch 43/50\n",
            "100/100 [==============================] - ETA: 0s - loss: 0.1015 - accuracy: 0.3503\n",
            "Epoch 00043: saving model to /content/drive/My Drive/chatbot/model8-43.hdf5\n",
            "100/100 [==============================] - 11s 114ms/step - loss: 0.1015 - accuracy: 0.3503\n",
            "Epoch 44/50\n",
            "100/100 [==============================] - ETA: 0s - loss: 0.0977 - accuracy: 0.3514\n",
            "Epoch 00044: saving model to /content/drive/My Drive/chatbot/model8-44.hdf5\n",
            "100/100 [==============================] - 12s 115ms/step - loss: 0.0977 - accuracy: 0.3514\n",
            "Epoch 45/50\n",
            "100/100 [==============================] - ETA: 0s - loss: 0.0891 - accuracy: 0.3536\n",
            "Epoch 00045: saving model to /content/drive/My Drive/chatbot/model8-45.hdf5\n",
            "100/100 [==============================] - 11s 115ms/step - loss: 0.0891 - accuracy: 0.3536\n",
            "Epoch 46/50\n",
            "100/100 [==============================] - ETA: 0s - loss: 0.0844 - accuracy: 0.3553\n",
            "Epoch 00046: saving model to /content/drive/My Drive/chatbot/model8-46.hdf5\n",
            "100/100 [==============================] - 12s 116ms/step - loss: 0.0844 - accuracy: 0.3553\n",
            "Epoch 47/50\n",
            "100/100 [==============================] - ETA: 0s - loss: 0.0824 - accuracy: 0.3554\n",
            "Epoch 00047: saving model to /content/drive/My Drive/chatbot/model8-47.hdf5\n",
            "100/100 [==============================] - 12s 115ms/step - loss: 0.0824 - accuracy: 0.3554\n",
            "Epoch 48/50\n",
            "100/100 [==============================] - ETA: 0s - loss: 0.0751 - accuracy: 0.3581\n",
            "Epoch 00048: saving model to /content/drive/My Drive/chatbot/model8-48.hdf5\n",
            "100/100 [==============================] - 12s 115ms/step - loss: 0.0751 - accuracy: 0.3581\n",
            "Epoch 49/50\n",
            "100/100 [==============================] - ETA: 0s - loss: 0.0768 - accuracy: 0.3576\n",
            "Epoch 00049: saving model to /content/drive/My Drive/chatbot/model8-49.hdf5\n",
            "100/100 [==============================] - 12s 116ms/step - loss: 0.0768 - accuracy: 0.3576\n",
            "Epoch 50/50\n",
            "100/100 [==============================] - ETA: 0s - loss: 0.0715 - accuracy: 0.3588\n",
            "Epoch 00050: saving model to /content/drive/My Drive/chatbot/model8-50.hdf5\n",
            "100/100 [==============================] - 12s 116ms/step - loss: 0.0715 - accuracy: 0.3588\n"
          ],
          "name": "stdout"
        },
        {
          "output_type": "execute_result",
          "data": {
            "text/plain": [
              "<tensorflow.python.keras.callbacks.History at 0x7fa0d25f9518>"
            ]
          },
          "metadata": {
            "tags": []
          },
          "execution_count": 40
        }
      ]
    },
    {
      "cell_type": "code",
      "metadata": {
        "id": "9NDUB3NO33mm",
        "colab_type": "code",
        "colab": {}
      },
      "source": [
        "model.load_weights('/content/drive/My Drive/chatbot/model8-43.hdf5')"
      ],
      "execution_count": 0,
      "outputs": []
    },
    {
      "cell_type": "code",
      "metadata": {
        "id": "EX-shBG97Ztc",
        "colab_type": "code",
        "colab": {}
      },
      "source": [
        "def evaluate(sentence):\n",
        "  sentence = preprocess_sentence(sentence)\n",
        "\n",
        "  sentence = tf.expand_dims(\n",
        "      START_TOKEN + tokenizer.encode(sentence) + END_TOKEN, axis=0)\n",
        "\n",
        "  output = tf.expand_dims(START_TOKEN, 0)\n",
        "\n",
        "  for i in range(MAX_LENGTH):\n",
        "    predictions = model(inputs=[sentence, output], training=False)\n",
        "\n",
        "    # select the last word from the seq_len dimension\n",
        "    predictions = predictions[:, -1:, :]\n",
        "    predicted_id = tf.cast(tf.argmax(predictions, axis=-1), tf.int32)\n",
        "\n",
        "    # return the result if the predicted_id is equal to the end token\n",
        "    if tf.equal(predicted_id, END_TOKEN[0]):\n",
        "      break\n",
        "\n",
        "    # concatenated the predicted_id to the output which is given to the decoder\n",
        "    # as its input.\n",
        "    output = tf.concat([output, predicted_id], axis=-1)\n",
        "\n",
        "  return tf.squeeze(output, axis=0)\n",
        "\n",
        "\n",
        "def predict(sentence):\n",
        "  prediction = evaluate(sentence)\n",
        "\n",
        "  predicted_sentence = tokenizer.decode(\n",
        "      [i for i in prediction if i < tokenizer.vocab_size])\n",
        "\n",
        "  print('Input: {}'.format(sentence))\n",
        "  print('Output: {}'.format(predicted_sentence))\n",
        "\n",
        "  return predicted_sentence"
      ],
      "execution_count": 0,
      "outputs": []
    },
    {
      "cell_type": "code",
      "metadata": {
        "id": "5mwwBRs3ddBL",
        "colab_type": "code",
        "outputId": "84b6b76f-5244-46ab-b056-30e3f9b48cb6",
        "colab": {
          "base_uri": "https://localhost:8080/",
          "height": 52
        }
      },
      "source": [
        "output = predict('hi stan')"
      ],
      "execution_count": 232,
      "outputs": [
        {
          "output_type": "stream",
          "text": [
            "Input: hi stan\n",
            "Output: hey dad , how come you never told me about joseph smith ?\n"
          ],
          "name": "stdout"
        }
      ]
    },
    {
      "cell_type": "code",
      "metadata": {
        "id": "sR6yRDXOdtHz",
        "colab_type": "code",
        "outputId": "e4f0f46b-ade3-4fce-92ec-ce47360af5f9",
        "colab": {
          "base_uri": "https://localhost:8080/",
          "height": 52
        }
      },
      "source": [
        "output = predict('What are you doing here?')"
      ],
      "execution_count": 233,
      "outputs": [
        {
          "output_type": "stream",
          "text": [
            "Input: What are you doing here?\n",
            "Output: please , ih ih , it will not take long .\n"
          ],
          "name": "stdout"
        }
      ]
    },
    {
      "cell_type": "code",
      "metadata": {
        "id": "OpfMSjxho2wT",
        "colab_type": "code",
        "outputId": "bb75e29d-5548-43e7-fac9-d7a55023770a",
        "colab": {
          "base_uri": "https://localhost:8080/",
          "height": 52
        }
      },
      "source": [
        "output = predict('Where have you been?')"
      ],
      "execution_count": 234,
      "outputs": [
        {
          "output_type": "stream",
          "text": [
            "Input: Where have you been?\n",
            "Output: dude , my mom s having her monthly visitor .\n"
          ],
          "name": "stdout"
        }
      ]
    },
    {
      "cell_type": "code",
      "metadata": {
        "id": "3kNH9qjjeyhZ",
        "colab_type": "code",
        "outputId": "64d5763c-2ff7-4ab5-cdf5-a67ec152c5c1",
        "colab": {
          "base_uri": "https://localhost:8080/",
          "height": 52
        }
      },
      "source": [
        "output = predict(\"stan\")"
      ],
      "execution_count": 235,
      "outputs": [
        {
          "output_type": "stream",
          "text": [
            "Input: stan\n",
            "Output: dude , you did make a deal . . .\n"
          ],
          "name": "stdout"
        }
      ]
    },
    {
      "cell_type": "code",
      "metadata": {
        "id": "pYNdD80clwrV",
        "colab_type": "code",
        "outputId": "9b4bbb62-b246-4df9-f41b-c1c395d659cf",
        "colab": {
          "base_uri": "https://localhost:8080/",
          "height": 52
        }
      },
      "source": [
        "output = predict(\"tell me something about you.\")"
      ],
      "execution_count": 236,
      "outputs": [
        {
          "output_type": "stream",
          "text": [
            "Input: tell me something about you.\n",
            "Output: look , we just want you to see what it is .\n"
          ],
          "name": "stdout"
        }
      ]
    },
    {
      "cell_type": "code",
      "metadata": {
        "id": "u2f6PwHviw9g",
        "colab_type": "code",
        "outputId": "bf62a249-da37-4453-c7bd-e72cf0a4894a",
        "colab": {
          "base_uri": "https://localhost:8080/",
          "height": 52
        }
      },
      "source": [
        "output = predict(\"how old are you?\")"
      ],
      "execution_count": 237,
      "outputs": [
        {
          "output_type": "stream",
          "text": [
            "Input: how old are you?\n",
            "Output: hey , cartman said he is big scary monster outside will be there .\n"
          ],
          "name": "stdout"
        }
      ]
    },
    {
      "cell_type": "code",
      "metadata": {
        "id": "O9PLxJZw73UM",
        "colab_type": "code",
        "colab": {}
      },
      "source": [
        "import random\n",
        "def beam_search(sentence,beam_size = 3,k=6):\n",
        "  sentence = preprocess_sentence(sentence)\n",
        "\n",
        "  sentence = tf.expand_dims(\n",
        "      START_TOKEN + tokenizer.encode(sentence) + END_TOKEN, axis=0)\n",
        "  output = tf.expand_dims(START_TOKEN, 0)\n",
        "\n",
        "  sequences = [[output, 1.0, False]]\n",
        "  for j in range(MAX_LENGTH):\n",
        "   all_candidates = list()\n",
        "   for i in range(min(k,len(sequences))):\n",
        "     seq, score,done = sequences[i]\n",
        "     if not done:\n",
        "       predictions = model(inputs=[sentence, seq], training=False)\n",
        "       predictions = predictions[:, -1:, :]\n",
        "       predictions =tf.nn.softmax(predictions, axis=-1, name=None)\n",
        "       for _ in range(beam_size):\n",
        "        prob = tf.squeeze(tf.math.reduce_max(predictions, axis=-1, keepdims=False, name=None))\n",
        "        predicted_id = tf.cast(tf.argmax(predictions, axis=-1), tf.int32)\n",
        "        output = tf.concat([seq, predicted_id], axis=-1)\n",
        "        mask = tf.greater_equal(predictions,prob )\n",
        "        zeros = tf.zeros_like(predictions)\n",
        "        predictions = tf.where(mask, zeros, predictions)\n",
        "        penalty = ((5.0 + j) / 6.0) ** 0.4\n",
        "        score *= penalty\n",
        "        beam_score = score + -tf.math.log(prob)\n",
        "        if tf.equal(predicted_id, END_TOKEN[0]):\n",
        "          done=True\n",
        "          \n",
        "        penalty = ((5.0 + (j + 1)) / 6.0) ** 0.4\n",
        "        beam_score /=penalty\n",
        "        candidate = [output, beam_score,done]\n",
        "        all_candidates.append(candidate)\n",
        "     else:\n",
        "       all_candidates.append(sequences[i])\n",
        "     \n",
        "\n",
        "   ordered = sorted(all_candidates, key=lambda tup:tup[1])\n",
        "   sequences = ordered\n",
        "\n",
        "  \n",
        "  \n",
        "  res,_,_ = sequences[0]\n",
        "  prediction = tf.squeeze(res)\n",
        "  predicted_sentence = tokenizer.decode(\n",
        "      [i for i in prediction if i < tokenizer.vocab_size])\n",
        "  #print('search beam: {}'.format(predicted_sentence))\n",
        "    \n",
        "  return predicted_sentence"
      ],
      "execution_count": 0,
      "outputs": []
    },
    {
      "cell_type": "code",
      "metadata": {
        "id": "Gh7wg8pSeE0n",
        "colab_type": "code",
        "outputId": "266f33ac-daa6-4c8b-822b-deb6b4d13e91",
        "colab": {
          "base_uri": "https://localhost:8080/",
          "height": 35
        }
      },
      "source": [
        "beam_search('hi')"
      ],
      "execution_count": 248,
      "outputs": [
        {
          "output_type": "execute_result",
          "data": {
            "text/plain": [
              "'oh , hi wendy . what is up ?'"
            ]
          },
          "metadata": {
            "tags": []
          },
          "execution_count": 248
        }
      ]
    },
    {
      "cell_type": "code",
      "metadata": {
        "id": "nY9ZLlSIBjo9",
        "colab_type": "code",
        "outputId": "9ca2d09d-8570-4db7-b2e0-a400db4fc67c",
        "colab": {
          "base_uri": "https://localhost:8080/",
          "height": 35
        }
      },
      "source": [
        "beam_search('Where have you been?')"
      ],
      "execution_count": 240,
      "outputs": [
        {
          "output_type": "execute_result",
          "data": {
            "text/plain": [
              "'dude , my mom s having her monthly visitor .'"
            ]
          },
          "metadata": {
            "tags": []
          },
          "execution_count": 240
        }
      ]
    },
    {
      "cell_type": "code",
      "metadata": {
        "id": "9FWGGXqQ4bnv",
        "colab_type": "code",
        "outputId": "3b3a0e1f-8a1e-4002-84e9-e17bc30c6fb1",
        "colab": {
          "base_uri": "https://localhost:8080/",
          "height": 35
        }
      },
      "source": [
        "beam_search(\"what are you doing here?\")"
      ],
      "execution_count": 241,
      "outputs": [
        {
          "output_type": "execute_result",
          "data": {
            "text/plain": [
              "'please , ih ih , it will not take long .'"
            ]
          },
          "metadata": {
            "tags": []
          },
          "execution_count": 241
        }
      ]
    },
    {
      "cell_type": "code",
      "metadata": {
        "id": "vTbUMvCmeolU",
        "colab_type": "code",
        "outputId": "0afb875c-0954-4eb2-aa08-f594d400c2ef",
        "colab": {
          "base_uri": "https://localhost:8080/",
          "height": 35
        }
      },
      "source": [
        "beam_search(\"how old are you?\")"
      ],
      "execution_count": 242,
      "outputs": [
        {
          "output_type": "execute_result",
          "data": {
            "text/plain": [
              "'hey , i have an idea .'"
            ]
          },
          "metadata": {
            "tags": []
          },
          "execution_count": 242
        }
      ]
    },
    {
      "cell_type": "code",
      "metadata": {
        "id": "-59GMG1yLOMc",
        "colab_type": "code",
        "outputId": "4bd74432-b4ad-4d12-b273-c708aeb99082",
        "colab": {
          "base_uri": "https://localhost:8080/",
          "height": 35
        }
      },
      "source": [
        "beam_search(\"i do not get it\")"
      ],
      "execution_count": 243,
      "outputs": [
        {
          "output_type": "execute_result",
          "data": {
            "text/plain": [
              "'me neither .'"
            ]
          },
          "metadata": {
            "tags": []
          },
          "execution_count": 243
        }
      ]
    },
    {
      "cell_type": "code",
      "metadata": {
        "id": "LZbJ4N2eEiht",
        "colab_type": "code",
        "outputId": "e0069848-f266-4c5d-ec0e-5b9a04f740ef",
        "colab": {
          "base_uri": "https://localhost:8080/",
          "height": 35
        }
      },
      "source": [
        "beam_search(\"guys, can i talk to you\")"
      ],
      "execution_count": 244,
      "outputs": [
        {
          "output_type": "execute_result",
          "data": {
            "text/plain": [
              "'sure dude .'"
            ]
          },
          "metadata": {
            "tags": []
          },
          "execution_count": 244
        }
      ]
    },
    {
      "cell_type": "code",
      "metadata": {
        "id": "a8LSi_1-M8ZH",
        "colab_type": "code",
        "outputId": "cf5800a4-a9bb-4b4a-d9e5-39ed3a993534",
        "colab": {
          "base_uri": "https://localhost:8080/",
          "height": 35
        }
      },
      "source": [
        "beam_search(\"i am the vice president\")"
      ],
      "execution_count": 245,
      "outputs": [
        {
          "output_type": "execute_result",
          "data": {
            "text/plain": [
              "'i know .'"
            ]
          },
          "metadata": {
            "tags": []
          },
          "execution_count": 245
        }
      ]
    },
    {
      "cell_type": "code",
      "metadata": {
        "id": "IPXUQ_JsOAvO",
        "colab_type": "code",
        "outputId": "758d79ea-0cfe-48b0-9e9e-c209fb724022",
        "colab": {
          "base_uri": "https://localhost:8080/",
          "height": 35
        }
      },
      "source": [
        "beam_search(\"tell me something about you.\")"
      ],
      "execution_count": 246,
      "outputs": [
        {
          "output_type": "execute_result",
          "data": {
            "text/plain": [
              "'hi , uh , my name is stan .'"
            ]
          },
          "metadata": {
            "tags": []
          },
          "execution_count": 246
        }
      ]
    },
    {
      "cell_type": "code",
      "metadata": {
        "id": "pSlOBoczOY0u",
        "colab_type": "code",
        "outputId": "679bd07e-9eee-4457-aa47-7ba23fc2ca4d",
        "colab": {
          "base_uri": "https://localhost:8080/",
          "height": 35
        }
      },
      "source": [
        "beam_search(\"stan\")"
      ],
      "execution_count": 247,
      "outputs": [
        {
          "output_type": "execute_result",
          "data": {
            "text/plain": [
              "'dude , you did make a deal . . .'"
            ]
          },
          "metadata": {
            "tags": []
          },
          "execution_count": 247
        }
      ]
    },
    {
      "cell_type": "code",
      "metadata": {
        "id": "6kq5kcgQk04y",
        "colab_type": "code",
        "colab": {}
      },
      "source": [
        ""
      ],
      "execution_count": 0,
      "outputs": []
    }
  ]
}