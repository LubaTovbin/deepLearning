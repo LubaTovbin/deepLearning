{
  "nbformat": 4,
  "nbformat_minor": 0,
  "metadata": {
    "kernelspec": {
      "name": "python3",
      "display_name": "Python 3"
    },
    "colab": {
      "name": "simple_cnn.ipynb",
      "provenance": [],
      "collapsed_sections": [
        "3saRoPgRWFwa"
      ],
      "include_colab_link": true
    }
  },
  "cells": [
    {
      "cell_type": "markdown",
      "metadata": {
        "id": "view-in-github",
        "colab_type": "text"
      },
      "source": [
        "<a href=\"https://colab.research.google.com/github/fionleung/deepLearning/blob/master/simple_cnn.ipynb\" target=\"_parent\"><img src=\"https://colab.research.google.com/assets/colab-badge.svg\" alt=\"Open In Colab\"/></a>"
      ]
    },
    {
      "cell_type": "code",
      "metadata": {
        "id": "5xeK0jcopKXQ",
        "colab_type": "code",
        "outputId": "c400c91a-5caf-4f1a-eaa3-1c76e832af1f",
        "colab": {
          "base_uri": "https://localhost:8080/",
          "height": 80
        }
      },
      "source": [
        "import warnings\n",
        "warnings.filterwarnings(\"ignore\")\n",
        "import tensorflow as tf\n",
        "import pandas as pd\n",
        "import numpy as np\n",
        "import matplotlib.pyplot as plt\n",
        "from keras import models\n",
        "from keras import layers\n",
        "from keras import optimizers\n",
        "import tensorflow as tf\n",
        "from keras.callbacks import ModelCheckpoint"
      ],
      "execution_count": 0,
      "outputs": [
        {
          "output_type": "display_data",
          "data": {
            "text/html": [
              "<p style=\"color: red;\">\n",
              "The default version of TensorFlow in Colab will soon switch to TensorFlow 2.x.<br>\n",
              "We recommend you <a href=\"https://www.tensorflow.org/guide/migrate\" target=\"_blank\">upgrade</a> now \n",
              "or ensure your notebook will continue to use TensorFlow 1.x via the <code>%tensorflow_version 1.x</code> magic:\n",
              "<a href=\"https://colab.research.google.com/notebooks/tensorflow_version.ipynb\" target=\"_blank\">more info</a>.</p>\n"
            ],
            "text/plain": [
              "<IPython.core.display.HTML object>"
            ]
          },
          "metadata": {
            "tags": []
          }
        },
        {
          "output_type": "stream",
          "text": [
            "Using TensorFlow backend.\n"
          ],
          "name": "stderr"
        }
      ]
    },
    {
      "cell_type": "code",
      "metadata": {
        "id": "VvtTJaPZpd2T",
        "colab_type": "code",
        "outputId": "ebeacae0-fb87-4144-fd5f-feba62b99c16",
        "colab": {
          "base_uri": "https://localhost:8080/",
          "height": 122
        }
      },
      "source": [
        "from google.colab import drive\n",
        "drive.mount('/content/drive')"
      ],
      "execution_count": 0,
      "outputs": [
        {
          "output_type": "stream",
          "text": [
            "Go to this URL in a browser: https://accounts.google.com/o/oauth2/auth?client_id=947318989803-6bn6qk8qdgf4n4g3pfee6491hc0brc4i.apps.googleusercontent.com&redirect_uri=urn%3aietf%3awg%3aoauth%3a2.0%3aoob&response_type=code&scope=email%20https%3a%2f%2fwww.googleapis.com%2fauth%2fdocs.test%20https%3a%2f%2fwww.googleapis.com%2fauth%2fdrive%20https%3a%2f%2fwww.googleapis.com%2fauth%2fdrive.photos.readonly%20https%3a%2f%2fwww.googleapis.com%2fauth%2fpeopleapi.readonly\n",
            "\n",
            "Enter your authorization code:\n",
            "··········\n",
            "Mounted at /content/drive\n"
          ],
          "name": "stdout"
        }
      ]
    },
    {
      "cell_type": "code",
      "metadata": {
        "id": "jGD64BZGpKXV",
        "colab_type": "code",
        "outputId": "55d45064-8b43-4aea-bf2f-f205ba4b26f9",
        "colab": {
          "base_uri": "https://localhost:8080/",
          "height": 34
        }
      },
      "source": [
        "data = pd.read_csv(\"/content/drive/My Drive/CIFAR_train_images.csv\").to_numpy().reshape(-1,3,32,32).transpose(0,2,3,1)\n",
        "data.shape"
      ],
      "execution_count": 0,
      "outputs": [
        {
          "output_type": "execute_result",
          "data": {
            "text/plain": [
              "(50000, 32, 32, 3)"
            ]
          },
          "metadata": {
            "tags": []
          },
          "execution_count": 3
        }
      ]
    },
    {
      "cell_type": "code",
      "metadata": {
        "id": "iz4aF-P8nZwu",
        "colab_type": "code",
        "outputId": "ecc7d5b9-2f9a-468a-b92a-8113c4391c06",
        "colab": {
          "base_uri": "https://localhost:8080/",
          "height": 857
        }
      },
      "source": [
        "import matplotlib.pyplot as plt\n",
        "import numpy as np\n",
        "from PIL import Image\n",
        "\n",
        "%matplotlib inline\n",
        "\n",
        "fig=plt.figure(figsize=(16, 16))\n",
        "\n",
        "for i in range(1,13):\n",
        "  fig.add_subplot(3, 4, i)\n",
        "  data1 = data[i-1].astype(np.uint8)\n",
        "  img = Image.fromarray(data1)\n",
        "  plt.imshow(img)\n",
        "\n",
        "plt.show()"
      ],
      "execution_count": 0,
      "outputs": [
        {
          "output_type": "display_data",
          "data": {
            "image/png": "[encoded data removed]",
            "text/plain": [
              "<Figure size 1152x1152 with 12 Axes>"
            ]
          },
          "metadata": {
            "tags": []
          }
        }
      ]
    },
    {
      "cell_type": "code",
      "metadata": {
        "id": "B7VqvTTipKXc",
        "colab_type": "code",
        "outputId": "04e56ef9-5e1a-4f99-dcb9-8f37f33b9624",
        "colab": {
          "base_uri": "https://localhost:8080/",
          "height": 34
        }
      },
      "source": [
        "label = pd.read_csv(\"/content/drive/My Drive/CIFAR_train_labels.csv\").values\n",
        "label.shape"
      ],
      "execution_count": 0,
      "outputs": [
        {
          "output_type": "execute_result",
          "data": {
            "text/plain": [
              "(50000, 1)"
            ]
          },
          "metadata": {
            "tags": []
          },
          "execution_count": 4
        }
      ]
    },
    {
      "cell_type": "code",
      "metadata": {
        "id": "FtZWkHULU-dd",
        "colab_type": "code",
        "colab": {}
      },
      "source": [
        "cony=label/100"
      ],
      "execution_count": 0,
      "outputs": []
    },
    {
      "cell_type": "code",
      "metadata": {
        "id": "0fW1FsqlpKXf",
        "colab_type": "code",
        "colab": {}
      },
      "source": [
        "from keras.utils import np_utils\n",
        "label=np_utils.to_categorical(label, 100)"
      ],
      "execution_count": 0,
      "outputs": []
    },
    {
      "cell_type": "code",
      "metadata": {
        "id": "oKRec6MGqIgu",
        "colab_type": "code",
        "colab": {}
      },
      "source": [
        "datagen=tf.keras.preprocessing.image.ImageDataGenerator(\n",
        "     rotation_range=45, \n",
        "     width_shift_range=0.1,\n",
        "     height_shift_range=0.1,\n",
        "     horizontal_flip=True,\n",
        "     rescale=1./255,\n",
        "     validation_split=0.2)"
      ],
      "execution_count": 0,
      "outputs": []
    },
    {
      "cell_type": "markdown",
      "metadata": {
        "id": "Wgf5sYe1mkWK",
        "colab_type": "text"
      },
      "source": [
        "# train model\n"
      ]
    },
    {
      "cell_type": "code",
      "metadata": {
        "id": "9tE_zdakqypM",
        "colab_type": "code",
        "colab": {}
      },
      "source": [
        "model = models.Sequential()\n",
        "model.add(layers.Conv2D(32, kernel_size=(3,3), strides=(1, 1), padding='SAME', activation='relu',input_shape=(32, 32, 3)))\n",
        "#model.add(layers.BatchNormalization())\n",
        "model.add(layers.Conv2D(64, kernel_size=(3,3), strides=(1, 1), padding='SAME', activation='relu'))\n",
        "#model.add(layers.BatchNormalization())\n",
        "model.add(layers.Dropout(0.3))\n",
        "model.add(layers.MaxPooling2D(pool_size=(2, 2), padding='SAME'))\n",
        "model.add(layers.Conv2D(128, kernel_size=(3,3), strides=(1, 1), padding='SAME', activation='relu'))\n",
        "#model.add(layers.BatchNormalization())\n",
        "model.add(layers.Conv2D(256, kernel_size=(3,3), strides=(1, 1), padding='SAME', activation='relu'))\n",
        "#model.add(layers.BatchNormalization())\n",
        "model.add(layers.Dropout(0.3))\n",
        "model.add(layers.MaxPooling2D(pool_size=(2, 2), padding='SAME'))\n",
        "model.add(layers.Flatten())\n",
        "model.add(layers.Dense(1024, activation='relu'))\n",
        "#model.add(layers.BatchNormalization())\n",
        "model.add(layers.Dropout(0.3))\n",
        "model.add(layers.Dense(100, activation='softmax'))\n",
        "\n",
        "\n",
        "model.compile(tf.train.AdamOptimizer(0.001), loss=tf.keras.losses.CategoricalCrossentropy(),metrics=['accuracy'])"
      ],
      "execution_count": 0,
      "outputs": []
    },
    {
      "cell_type": "code",
      "metadata": {
        "id": "9kcPyA0QtlQT",
        "colab_type": "code",
        "outputId": "cd30fcec-24f1-4bae-b032-9784cbc12b11",
        "colab": {
          "base_uri": "https://localhost:8080/",
          "height": 697
        }
      },
      "source": [
        "model.summary()"
      ],
      "execution_count": 0,
      "outputs": [
        {
          "output_type": "stream",
          "text": [
            "Model: \"sequential_3\"\n",
            "_________________________________________________________________\n",
            "Layer (type)                 Output Shape              Param #   \n",
            "=================================================================\n",
            "conv2d_9 (Conv2D)            (None, 32, 32, 32)        896       \n",
            "_________________________________________________________________\n",
            "conv2d_10 (Conv2D)           (None, 32, 32, 32)        9248      \n",
            "_________________________________________________________________\n",
            "dropout_7 (Dropout)          (None, 32, 32, 32)        0         \n",
            "_________________________________________________________________\n",
            "max_pooling2d_5 (MaxPooling2 (None, 16, 16, 32)        0         \n",
            "_________________________________________________________________\n",
            "conv2d_11 (Conv2D)           (None, 16, 16, 64)        18496     \n",
            "_________________________________________________________________\n",
            "conv2d_12 (Conv2D)           (None, 16, 16, 64)        36928     \n",
            "_________________________________________________________________\n",
            "dropout_8 (Dropout)          (None, 16, 16, 64)        0         \n",
            "_________________________________________________________________\n",
            "max_pooling2d_6 (MaxPooling2 (None, 8, 8, 64)          0         \n",
            "_________________________________________________________________\n",
            "conv2d_13 (Conv2D)           (None, 8, 8, 128)         73856     \n",
            "_________________________________________________________________\n",
            "conv2d_14 (Conv2D)           (None, 8, 8, 256)         295168    \n",
            "_________________________________________________________________\n",
            "dropout_9 (Dropout)          (None, 8, 8, 256)         0         \n",
            "_________________________________________________________________\n",
            "max_pooling2d_7 (MaxPooling2 (None, 4, 4, 256)         0         \n",
            "_________________________________________________________________\n",
            "flatten_3 (Flatten)          (None, 4096)              0         \n",
            "_________________________________________________________________\n",
            "dense_5 (Dense)              (None, 1024)              4195328   \n",
            "_________________________________________________________________\n",
            "dropout_10 (Dropout)         (None, 1024)              0         \n",
            "_________________________________________________________________\n",
            "dense_6 (Dense)              (None, 100)               102500    \n",
            "=================================================================\n",
            "Total params: 4,732,420\n",
            "Trainable params: 4,732,420\n",
            "Non-trainable params: 0\n",
            "_________________________________________________________________\n"
          ],
          "name": "stdout"
        }
      ]
    },
    {
      "cell_type": "code",
      "metadata": {
        "id": "k1mUxMDSVxym",
        "colab_type": "code",
        "outputId": "caf81605-171c-4f81-c1b0-17b6077e4310",
        "colab": {
          "base_uri": "https://localhost:8080/",
          "height": 34
        }
      },
      "source": [
        "model = tf.keras.models.load_model('/content/drive/My Drive/cifar/model4-03-0.26.hdf5')\n"
      ],
      "execution_count": 0,
      "outputs": [
        {
          "output_type": "stream",
          "text": [
            "WARNING:tensorflow:No training configuration found in save file: the model was *not* compiled. Compile it manually.\n"
          ],
          "name": "stdout"
        }
      ]
    },
    {
      "cell_type": "code",
      "metadata": {
        "id": "OUYXsoy7V40t",
        "colab_type": "code",
        "colab": {}
      },
      "source": [
        "model.compile(tf.keras.optimizers.Adam(0.001), loss=tf.keras.losses.CategoricalCrossentropy(),metrics=['accuracy'])"
      ],
      "execution_count": 0,
      "outputs": []
    },
    {
      "cell_type": "code",
      "metadata": {
        "id": "GgnBQMNJPg5a",
        "colab_type": "code",
        "colab": {}
      },
      "source": [
        "folderpath='/content/drive/My Drive/cifar/'\n",
        "filepath=folderpath+'model4-{epoch:02d}-{val_acc:.2f}.hdf5'\n",
        "checkpoint_callback = ModelCheckpoint(\n",
        "    filepath, monitor='val_acc', verbose=1,\n",
        "    save_best_only=True, save_weights_only=False)"
      ],
      "execution_count": 0,
      "outputs": []
    },
    {
      "cell_type": "code",
      "metadata": {
        "id": "adnz3lL6qhGq",
        "colab_type": "code",
        "colab": {}
      },
      "source": [
        "training_generator = datagen.flow(data, label, batch_size=100,subset='training',seed=7)\n",
        "validation_generator = datagen.flow(data, label, batch_size=100,subset='validation',seed=7)"
      ],
      "execution_count": 0,
      "outputs": []
    },
    {
      "cell_type": "code",
      "metadata": {
        "id": "oOIGYOL7xAzu",
        "colab_type": "code",
        "outputId": "6346eb63-d665-4b7e-a9d6-ab7b743f22ed",
        "colab": {
          "base_uri": "https://localhost:8080/",
          "height": 1000
        }
      },
      "source": [
        "ini_epochs =3\n",
        "fine_tune_epochs = 50\n",
        "total_epochs = fine_tune_epochs +ini_epochs\n",
        "\n",
        "history = model.fit(training_generator, epochs=total_epochs,initial_epoch = ini_epochs,validation_data=validation_generator,callbacks=[checkpoint_callback])"
      ],
      "execution_count": 0,
      "outputs": [
        {
          "output_type": "stream",
          "text": [
            "Epoch 4/53\n",
            "399/400 [============================>.] - ETA: 1s - loss: 2.8776 - acc: 0.2804Epoch 1/53\n",
            "100/400 [======>.......................] - ETA: 2:33 - loss: 2.9613 - acc: 0.2893\n",
            "Epoch 00004: val_acc improved from -inf to 0.28930, saving model to /content/drive/My Drive/cifar/model4-04-0.29.hdf5\n",
            "400/400 [==============================] - 810s 2s/step - loss: 2.8767 - acc: 0.2804 - val_loss: 2.9613 - val_acc: 0.2893\n",
            "Epoch 5/53\n",
            "399/400 [============================>.] - ETA: 1s - loss: 2.7341 - acc: 0.3055Epoch 1/53\n",
            "100/400 [======>.......................] - ETA: 2:33 - loss: 2.8775 - acc: 0.3094\n",
            "Epoch 00005: val_acc improved from 0.28930 to 0.30940, saving model to /content/drive/My Drive/cifar/model4-05-0.31.hdf5\n",
            "400/400 [==============================] - 810s 2s/step - loss: 2.7341 - acc: 0.3055 - val_loss: 2.8775 - val_acc: 0.3094\n",
            "Epoch 6/53\n",
            "399/400 [============================>.] - ETA: 1s - loss: 2.6325 - acc: 0.3288Epoch 1/53\n",
            "100/400 [======>.......................] - ETA: 2:32 - loss: 2.7478 - acc: 0.3241\n",
            "Epoch 00006: val_acc improved from 0.30940 to 0.32410, saving model to /content/drive/My Drive/cifar/model4-06-0.32.hdf5\n",
            "400/400 [==============================] - 808s 2s/step - loss: 2.6322 - acc: 0.3287 - val_loss: 2.7478 - val_acc: 0.3241\n",
            "Epoch 7/53\n",
            "399/400 [============================>.] - ETA: 1s - loss: 2.5380 - acc: 0.3460Epoch 1/53\n",
            "100/400 [======>.......................] - ETA: 2:32 - loss: 2.7286 - acc: 0.3287\n",
            "Epoch 00007: val_acc improved from 0.32410 to 0.32870, saving model to /content/drive/My Drive/cifar/model4-07-0.33.hdf5\n",
            "400/400 [==============================] - 808s 2s/step - loss: 2.5382 - acc: 0.3460 - val_loss: 2.7286 - val_acc: 0.3287\n",
            "Epoch 8/53\n",
            "399/400 [============================>.] - ETA: 1s - loss: 2.4776 - acc: 0.3593Epoch 1/53\n",
            "100/400 [======>.......................] - ETA: 2:32 - loss: 2.8237 - acc: 0.3124\n",
            "Epoch 00008: val_acc did not improve from 0.32870\n",
            "400/400 [==============================] - 804s 2s/step - loss: 2.4773 - acc: 0.3594 - val_loss: 2.8237 - val_acc: 0.3124\n",
            "Epoch 9/53\n",
            "399/400 [============================>.] - ETA: 1s - loss: 2.4011 - acc: 0.3743Epoch 1/53\n",
            "100/400 [======>.......................] - ETA: 2:32 - loss: 2.5455 - acc: 0.3610\n",
            "Epoch 00009: val_acc improved from 0.32870 to 0.36100, saving model to /content/drive/My Drive/cifar/model4-09-0.36.hdf5\n",
            "400/400 [==============================] - 803s 2s/step - loss: 2.4012 - acc: 0.3742 - val_loss: 2.5455 - val_acc: 0.3610\n",
            "Epoch 10/53\n",
            "399/400 [============================>.] - ETA: 1s - loss: 2.3505 - acc: 0.3857Epoch 1/53\n",
            "100/400 [======>.......................] - ETA: 2:33 - loss: 2.5095 - acc: 0.3730\n",
            "Epoch 00010: val_acc improved from 0.36100 to 0.37300, saving model to /content/drive/My Drive/cifar/model4-10-0.37.hdf5\n",
            "400/400 [==============================] - 808s 2s/step - loss: 2.3507 - acc: 0.3855 - val_loss: 2.5095 - val_acc: 0.3730\n",
            "Epoch 11/53\n",
            "399/400 [============================>.] - ETA: 1s - loss: 2.2974 - acc: 0.3964Epoch 1/53\n",
            "100/400 [======>.......................] - ETA: 2:33 - loss: 2.5128 - acc: 0.3687\n",
            "Epoch 00011: val_acc did not improve from 0.37300\n",
            "400/400 [==============================] - 807s 2s/step - loss: 2.2976 - acc: 0.3964 - val_loss: 2.5128 - val_acc: 0.3687\n",
            "Epoch 12/53\n",
            "399/400 [============================>.] - ETA: 1s - loss: 2.2379 - acc: 0.4079Epoch 1/53\n",
            "100/400 [======>.......................] - ETA: 2:32 - loss: 2.5510 - acc: 0.3756\n",
            "Epoch 00012: val_acc improved from 0.37300 to 0.37560, saving model to /content/drive/My Drive/cifar/model4-12-0.38.hdf5\n",
            "400/400 [==============================] - 808s 2s/step - loss: 2.2382 - acc: 0.4078 - val_loss: 2.5510 - val_acc: 0.3756\n",
            "Epoch 13/53\n",
            "399/400 [============================>.] - ETA: 1s - loss: 2.1922 - acc: 0.4207Epoch 1/53\n",
            "100/400 [======>.......................] - ETA: 2:32 - loss: 2.4386 - acc: 0.3815\n",
            "Epoch 00013: val_acc improved from 0.37560 to 0.38150, saving model to /content/drive/My Drive/cifar/model4-13-0.38.hdf5\n",
            "400/400 [==============================] - 809s 2s/step - loss: 2.1923 - acc: 0.4205 - val_loss: 2.4386 - val_acc: 0.3815\n",
            "Epoch 14/53\n",
            "399/400 [============================>.] - ETA: 1s - loss: 2.1515 - acc: 0.4313Epoch 1/53\n",
            "100/400 [======>.......................] - ETA: 2:33 - loss: 2.4851 - acc: 0.3719\n",
            "Epoch 00014: val_acc did not improve from 0.38150\n",
            "400/400 [==============================] - 808s 2s/step - loss: 2.1519 - acc: 0.4310 - val_loss: 2.4851 - val_acc: 0.3719\n",
            "Epoch 15/53\n",
            "399/400 [============================>.] - ETA: 1s - loss: 2.1272 - acc: 0.4344Epoch 1/53\n",
            "100/400 [======>.......................] - ETA: 2:32 - loss: 2.4188 - acc: 0.3912\n",
            "Epoch 00015: val_acc improved from 0.38150 to 0.39120, saving model to /content/drive/My Drive/cifar/model4-15-0.39.hdf5\n",
            "400/400 [==============================] - 805s 2s/step - loss: 2.1267 - acc: 0.4344 - val_loss: 2.4188 - val_acc: 0.3912\n",
            "Epoch 16/53\n",
            "399/400 [============================>.] - ETA: 1s - loss: 2.0911 - acc: 0.4418Epoch 1/53\n",
            "100/400 [======>.......................] - ETA: 2:33 - loss: 2.4000 - acc: 0.3954\n",
            "Epoch 00016: val_acc improved from 0.39120 to 0.39540, saving model to /content/drive/My Drive/cifar/model4-16-0.40.hdf5\n",
            "400/400 [==============================] - 808s 2s/step - loss: 2.0906 - acc: 0.4419 - val_loss: 2.4000 - val_acc: 0.3954\n",
            "Epoch 17/53\n",
            "399/400 [============================>.] - ETA: 1s - loss: 2.0548 - acc: 0.4517Epoch 1/53\n",
            "100/400 [======>.......................] - ETA: 2:34 - loss: 2.3731 - acc: 0.3964\n",
            "Epoch 00017: val_acc improved from 0.39540 to 0.39640, saving model to /content/drive/My Drive/cifar/model4-17-0.40.hdf5\n",
            "400/400 [==============================] - 808s 2s/step - loss: 2.0548 - acc: 0.4518 - val_loss: 2.3731 - val_acc: 0.3964\n",
            "Epoch 18/53\n",
            "399/400 [============================>.] - ETA: 1s - loss: 2.0182 - acc: 0.4568Epoch 1/53\n",
            "100/400 [======>.......................] - ETA: 2:36 - loss: 2.3417 - acc: 0.4038\n",
            "Epoch 00018: val_acc improved from 0.39640 to 0.40380, saving model to /content/drive/My Drive/cifar/model4-18-0.40.hdf5\n",
            "400/400 [==============================] - 808s 2s/step - loss: 2.0191 - acc: 0.4566 - val_loss: 2.3417 - val_acc: 0.4038\n",
            "Epoch 19/53\n",
            "399/400 [============================>.] - ETA: 1s - loss: 1.9979 - acc: 0.4593Epoch 1/53\n",
            "100/400 [======>.......................] - ETA: 2:34 - loss: 2.3044 - acc: 0.4084\n",
            "Epoch 00019: val_acc improved from 0.40380 to 0.40840, saving model to /content/drive/My Drive/cifar/model4-19-0.41.hdf5\n",
            "400/400 [==============================] - 809s 2s/step - loss: 1.9983 - acc: 0.4593 - val_loss: 2.3044 - val_acc: 0.4084\n",
            "Epoch 20/53\n",
            "399/400 [============================>.] - ETA: 1s - loss: 1.9642 - acc: 0.4725Epoch 1/53\n",
            "100/400 [======>.......................] - ETA: 2:34 - loss: 2.3072 - acc: 0.4099\n",
            "Epoch 00020: val_acc improved from 0.40840 to 0.40990, saving model to /content/drive/My Drive/cifar/model4-20-0.41.hdf5\n",
            "400/400 [==============================] - 810s 2s/step - loss: 1.9642 - acc: 0.4725 - val_loss: 2.3072 - val_acc: 0.4099\n",
            "Epoch 21/53\n",
            "399/400 [============================>.] - ETA: 1s - loss: 1.9343 - acc: 0.4750Epoch 1/53\n",
            "100/400 [======>.......................] - ETA: 2:35 - loss: 2.2995 - acc: 0.4137\n",
            "Epoch 00021: val_acc improved from 0.40990 to 0.41370, saving model to /content/drive/My Drive/cifar/model4-21-0.41.hdf5\n",
            "400/400 [==============================] - 808s 2s/step - loss: 1.9343 - acc: 0.4751 - val_loss: 2.2995 - val_acc: 0.4137\n",
            "Epoch 22/53\n",
            "399/400 [============================>.] - ETA: 1s - loss: 1.9236 - acc: 0.4809Epoch 1/53\n",
            "100/400 [======>.......................] - ETA: 2:35 - loss: 2.2524 - acc: 0.4191\n",
            "Epoch 00022: val_acc improved from 0.41370 to 0.41910, saving model to /content/drive/My Drive/cifar/model4-22-0.42.hdf5\n",
            "400/400 [==============================] - 804s 2s/step - loss: 1.9237 - acc: 0.4808 - val_loss: 2.2524 - val_acc: 0.4191\n",
            "Epoch 23/53\n",
            "399/400 [============================>.] - ETA: 1s - loss: 1.9014 - acc: 0.4846Epoch 1/53\n",
            "100/400 [======>.......................] - ETA: 2:35 - loss: 2.2498 - acc: 0.4238\n",
            "Epoch 00023: val_acc improved from 0.41910 to 0.42380, saving model to /content/drive/My Drive/cifar/model4-23-0.42.hdf5\n",
            "400/400 [==============================] - 805s 2s/step - loss: 1.9024 - acc: 0.4843 - val_loss: 2.2498 - val_acc: 0.4238\n",
            "Epoch 24/53\n",
            "399/400 [============================>.] - ETA: 1s - loss: 1.8722 - acc: 0.4907Epoch 1/53\n",
            "100/400 [======>.......................] - ETA: 2:35 - loss: 2.2608 - acc: 0.4264\n",
            "Epoch 00024: val_acc improved from 0.42380 to 0.42640, saving model to /content/drive/My Drive/cifar/model4-24-0.43.hdf5\n",
            "400/400 [==============================] - 808s 2s/step - loss: 1.8717 - acc: 0.4907 - val_loss: 2.2608 - val_acc: 0.4264\n",
            "Epoch 25/53\n",
            "399/400 [============================>.] - ETA: 1s - loss: 1.8445 - acc: 0.4945Epoch 1/53\n",
            "100/400 [======>.......................] - ETA: 2:35 - loss: 2.2055 - acc: 0.4297\n",
            "Epoch 00025: val_acc improved from 0.42640 to 0.42970, saving model to /content/drive/My Drive/cifar/model4-25-0.43.hdf5\n",
            "400/400 [==============================] - 810s 2s/step - loss: 1.8448 - acc: 0.4943 - val_loss: 2.2055 - val_acc: 0.4297\n",
            "Epoch 26/53\n",
            "399/400 [============================>.] - ETA: 1s - loss: 1.8253 - acc: 0.5018Epoch 1/53\n",
            "100/400 [======>.......................] - ETA: 2:35 - loss: 2.3105 - acc: 0.4142\n",
            "Epoch 00026: val_acc did not improve from 0.42970\n",
            "400/400 [==============================] - 809s 2s/step - loss: 1.8249 - acc: 0.5018 - val_loss: 2.3105 - val_acc: 0.4142\n",
            "Epoch 27/53\n",
            "399/400 [============================>.] - ETA: 1s - loss: 1.8016 - acc: 0.5058Epoch 1/53\n",
            "100/400 [======>.......................] - ETA: 2:36 - loss: 2.2496 - acc: 0.4243\n",
            "Epoch 00027: val_acc did not improve from 0.42970\n",
            "400/400 [==============================] - 806s 2s/step - loss: 1.8024 - acc: 0.5056 - val_loss: 2.2496 - val_acc: 0.4243\n",
            "Epoch 28/53\n",
            "399/400 [============================>.] - ETA: 1s - loss: 1.7959 - acc: 0.5084Epoch 1/53\n",
            "100/400 [======>.......................] - ETA: 2:36 - loss: 2.2334 - acc: 0.4279\n",
            "Epoch 00028: val_acc did not improve from 0.42970\n",
            "400/400 [==============================] - 803s 2s/step - loss: 1.7954 - acc: 0.5085 - val_loss: 2.2334 - val_acc: 0.4279\n",
            "Epoch 29/53\n",
            "399/400 [============================>.] - ETA: 1s - loss: 1.7752 - acc: 0.5140Epoch 1/53\n",
            "100/400 [======>.......................] - ETA: 2:34 - loss: 2.2571 - acc: 0.4229\n",
            "Epoch 00029: val_acc did not improve from 0.42970\n",
            "400/400 [==============================] - 803s 2s/step - loss: 1.7756 - acc: 0.5139 - val_loss: 2.2571 - val_acc: 0.4229\n",
            "Epoch 30/53\n",
            "399/400 [============================>.] - ETA: 1s - loss: 1.7533 - acc: 0.5173Epoch 1/53\n",
            "100/400 [======>.......................] - ETA: 2:36 - loss: 2.2447 - acc: 0.4253\n",
            "Epoch 00030: val_acc did not improve from 0.42970\n",
            "400/400 [==============================] - 803s 2s/step - loss: 1.7538 - acc: 0.5172 - val_loss: 2.2447 - val_acc: 0.4253\n",
            "Epoch 31/53\n",
            "399/400 [============================>.] - ETA: 1s - loss: 1.7370 - acc: 0.5214Epoch 1/53\n",
            "100/400 [======>.......................] - ETA: 2:36 - loss: 2.1917 - acc: 0.4250\n",
            "Epoch 00031: val_acc did not improve from 0.42970\n",
            "400/400 [==============================] - 804s 2s/step - loss: 1.7366 - acc: 0.5214 - val_loss: 2.1917 - val_acc: 0.4250\n",
            "Epoch 32/53\n",
            "399/400 [============================>.] - ETA: 1s - loss: 1.7283 - acc: 0.5255Epoch 1/53\n",
            "100/400 [======>.......................] - ETA: 2:35 - loss: 2.2102 - acc: 0.4286\n",
            "Epoch 00032: val_acc did not improve from 0.42970\n",
            "400/400 [==============================] - 807s 2s/step - loss: 1.7285 - acc: 0.5254 - val_loss: 2.2102 - val_acc: 0.4286\n",
            "Epoch 33/53\n",
            "399/400 [============================>.] - ETA: 1s - loss: 1.7157 - acc: 0.5254Epoch 1/53\n",
            "100/400 [======>.......................] - ETA: 2:35 - loss: 2.2097 - acc: 0.4319\n",
            "Epoch 00033: val_acc improved from 0.42970 to 0.43190, saving model to /content/drive/My Drive/cifar/model4-33-0.43.hdf5\n",
            "400/400 [==============================] - 807s 2s/step - loss: 1.7157 - acc: 0.5254 - val_loss: 2.2097 - val_acc: 0.4319\n",
            "Epoch 34/53\n",
            "399/400 [============================>.] - ETA: 1s - loss: 1.6957 - acc: 0.5293Epoch 1/53\n",
            "100/400 [======>.......................] - ETA: 2:35 - loss: 2.2026 - acc: 0.4295\n",
            "Epoch 00034: val_acc did not improve from 0.43190\n",
            "400/400 [==============================] - 806s 2s/step - loss: 1.6958 - acc: 0.5292 - val_loss: 2.2026 - val_acc: 0.4295\n",
            "Epoch 35/53\n",
            "399/400 [============================>.] - ETA: 1s - loss: 1.6837 - acc: 0.5351Epoch 1/53\n",
            "100/400 [======>.......................] - ETA: 2:36 - loss: 2.1878 - acc: 0.4339\n",
            "Epoch 00035: val_acc improved from 0.43190 to 0.43390, saving model to /content/drive/My Drive/cifar/model4-35-0.43.hdf5\n",
            "400/400 [==============================] - 807s 2s/step - loss: 1.6834 - acc: 0.5350 - val_loss: 2.1878 - val_acc: 0.4339\n",
            "Epoch 36/53\n",
            "399/400 [============================>.] - ETA: 1s - loss: 1.6630 - acc: 0.5393Epoch 1/53\n",
            "100/400 [======>.......................] - ETA: 2:35 - loss: 2.2285 - acc: 0.4298\n",
            "Epoch 00036: val_acc did not improve from 0.43390\n",
            "400/400 [==============================] - 806s 2s/step - loss: 1.6626 - acc: 0.5395 - val_loss: 2.2285 - val_acc: 0.4298\n",
            "Epoch 37/53\n",
            "399/400 [============================>.] - ETA: 1s - loss: 1.6505 - acc: 0.5430Epoch 1/53\n",
            "100/400 [======>.......................] - ETA: 2:36 - loss: 2.1932 - acc: 0.4289\n",
            "Epoch 00037: val_acc did not improve from 0.43390\n",
            "400/400 [==============================] - 809s 2s/step - loss: 1.6505 - acc: 0.5430 - val_loss: 2.1932 - val_acc: 0.4289\n",
            "Epoch 38/53\n",
            "399/400 [============================>.] - ETA: 1s - loss: 1.6337 - acc: 0.5440Epoch 1/53\n",
            "100/400 [======>.......................] - ETA: 2:36 - loss: 2.2194 - acc: 0.4301\n",
            "Epoch 00038: val_acc did not improve from 0.43390\n",
            "400/400 [==============================] - 809s 2s/step - loss: 1.6336 - acc: 0.5440 - val_loss: 2.2194 - val_acc: 0.4301\n",
            "Epoch 39/53\n",
            "399/400 [============================>.] - ETA: 1s - loss: 1.6281 - acc: 0.5483Epoch 1/53\n",
            "100/400 [======>.......................] - ETA: 2:36 - loss: 2.1924 - acc: 0.4298\n",
            "Epoch 00039: val_acc did not improve from 0.43390\n",
            "400/400 [==============================] - 812s 2s/step - loss: 1.6292 - acc: 0.5480 - val_loss: 2.1924 - val_acc: 0.4298\n",
            "Epoch 40/53\n",
            "399/400 [============================>.] - ETA: 1s - loss: 1.6152 - acc: 0.5503Epoch 1/53\n",
            "100/400 [======>.......................] - ETA: 2:36 - loss: 2.1955 - acc: 0.4335\n",
            "Epoch 00040: val_acc did not improve from 0.43390\n",
            "400/400 [==============================] - 809s 2s/step - loss: 1.6153 - acc: 0.5503 - val_loss: 2.1955 - val_acc: 0.4335\n",
            "Epoch 41/53\n",
            "399/400 [============================>.] - ETA: 1s - loss: 1.6069 - acc: 0.5520Epoch 1/53\n",
            "100/400 [======>.......................] - ETA: 2:35 - loss: 2.1894 - acc: 0.4329\n",
            "Epoch 00041: val_acc did not improve from 0.43390\n",
            "400/400 [==============================] - 802s 2s/step - loss: 1.6074 - acc: 0.5518 - val_loss: 2.1894 - val_acc: 0.4329\n",
            "Epoch 42/53\n",
            "399/400 [============================>.] - ETA: 1s - loss: 1.6108 - acc: 0.5526Epoch 1/53\n",
            "100/400 [======>.......................] - ETA: 2:35 - loss: 2.2243 - acc: 0.4259\n",
            "Epoch 00042: val_acc did not improve from 0.43390\n",
            "400/400 [==============================] - 803s 2s/step - loss: 1.6106 - acc: 0.5526 - val_loss: 2.2243 - val_acc: 0.4259\n",
            "Epoch 43/53\n",
            "399/400 [============================>.] - ETA: 1s - loss: 1.5901 - acc: 0.5545Epoch 1/53\n",
            "100/400 [======>.......................] - ETA: 2:36 - loss: 2.1799 - acc: 0.4357\n",
            "Epoch 00043: val_acc improved from 0.43390 to 0.43570, saving model to /content/drive/My Drive/cifar/model4-43-0.44.hdf5\n",
            "400/400 [==============================] - 807s 2s/step - loss: 1.5902 - acc: 0.5544 - val_loss: 2.1799 - val_acc: 0.4357\n",
            "Epoch 44/53\n",
            "399/400 [============================>.] - ETA: 1s - loss: 1.5730 - acc: 0.5585Epoch 1/53\n",
            "100/400 [======>.......................] - ETA: 2:36 - loss: 2.1471 - acc: 0.4454\n",
            "Epoch 00044: val_acc improved from 0.43570 to 0.44540, saving model to /content/drive/My Drive/cifar/model4-44-0.45.hdf5\n",
            "400/400 [==============================] - 810s 2s/step - loss: 1.5732 - acc: 0.5585 - val_loss: 2.1471 - val_acc: 0.4454\n",
            "Epoch 45/53\n",
            "399/400 [============================>.] - ETA: 1s - loss: 1.5727 - acc: 0.5600Epoch 1/53\n",
            "100/400 [======>.......................] - ETA: 2:36 - loss: 2.1931 - acc: 0.4325\n",
            "Epoch 00045: val_acc did not improve from 0.44540\n",
            "400/400 [==============================] - 812s 2s/step - loss: 1.5727 - acc: 0.5600 - val_loss: 2.1931 - val_acc: 0.4325\n",
            "Epoch 46/53\n",
            "399/400 [============================>.] - ETA: 1s - loss: 1.5443 - acc: 0.5660Epoch 1/53\n",
            "100/400 [======>.......................] - ETA: 2:36 - loss: 2.1691 - acc: 0.4405\n",
            "Epoch 00046: val_acc did not improve from 0.44540\n",
            "400/400 [==============================] - 814s 2s/step - loss: 1.5450 - acc: 0.5660 - val_loss: 2.1691 - val_acc: 0.4405\n",
            "Epoch 47/53\n",
            "399/400 [============================>.] - ETA: 1s - loss: 1.5402 - acc: 0.5676Epoch 1/53\n",
            "100/400 [======>.......................] - ETA: 2:34 - loss: 2.1423 - acc: 0.4400\n",
            "Epoch 00047: val_acc did not improve from 0.44540\n",
            "400/400 [==============================] - 808s 2s/step - loss: 1.5401 - acc: 0.5677 - val_loss: 2.1423 - val_acc: 0.4400\n",
            "Epoch 48/53\n",
            "399/400 [============================>.] - ETA: 1s - loss: 1.5302 - acc: 0.5702Epoch 1/53\n",
            "100/400 [======>.......................] - ETA: 2:34 - loss: 2.1577 - acc: 0.4401\n",
            "Epoch 00048: val_acc did not improve from 0.44540\n",
            "400/400 [==============================] - 806s 2s/step - loss: 1.5299 - acc: 0.5702 - val_loss: 2.1577 - val_acc: 0.4401\n",
            "Epoch 49/53\n",
            "399/400 [============================>.] - ETA: 1s - loss: 1.5309 - acc: 0.5663Epoch 1/53\n",
            "100/400 [======>.......................] - ETA: 2:35 - loss: 2.1413 - acc: 0.4414\n",
            "Epoch 00049: val_acc did not improve from 0.44540\n",
            "400/400 [==============================] - 808s 2s/step - loss: 1.5308 - acc: 0.5663 - val_loss: 2.1413 - val_acc: 0.4414\n",
            "Epoch 50/53\n",
            "399/400 [============================>.] - ETA: 1s - loss: 1.5242 - acc: 0.5704Epoch 1/53\n",
            "100/400 [======>.......................] - ETA: 2:33 - loss: 2.1619 - acc: 0.4445\n",
            "Epoch 00050: val_acc did not improve from 0.44540\n",
            "400/400 [==============================] - 808s 2s/step - loss: 1.5246 - acc: 0.5703 - val_loss: 2.1619 - val_acc: 0.4445\n",
            "Epoch 51/53\n",
            "119/400 [=======>......................] - ETA: 8:49 - loss: 1.4494 - acc: 0.5873"
          ],
          "name": "stdout"
        }
      ]
    },
    {
      "cell_type": "code",
      "metadata": {
        "id": "hGWC9SD2oKhH",
        "colab_type": "code",
        "outputId": "52ba7f29-0319-40d9-8055-6692d0c9b231",
        "colab": {
          "base_uri": "https://localhost:8080/",
          "height": 105
        }
      },
      "source": [
        "model = tf.keras.models.load_model('/content/drive/My Drive/cifar/model3-49-0.46.hdf5')"
      ],
      "execution_count": 0,
      "outputs": [
        {
          "output_type": "stream",
          "text": [
            "WARNING:tensorflow:From /tensorflow-1.15.0/python3.6/tensorflow_core/python/ops/resource_variable_ops.py:1630: calling BaseResourceVariable.__init__ (from tensorflow.python.ops.resource_variable_ops) with constraint is deprecated and will be removed in a future version.\n",
            "Instructions for updating:\n",
            "If using Keras pass *_constraint arguments to layers.\n",
            "WARNING:tensorflow:No training configuration found in save file: the model was *not* compiled. Compile it manually.\n"
          ],
          "name": "stdout"
        }
      ]
    },
    {
      "cell_type": "code",
      "metadata": {
        "id": "534bLIVgMjZY",
        "colab_type": "code",
        "outputId": "5c3fb6fa-09bf-486e-e2e7-37d49c56f610",
        "colab": {
          "base_uri": "https://localhost:8080/",
          "height": 232
        }
      },
      "source": [
        "acc = history.history['acc']\n",
        "val_acc = history.history['val_acc']\n",
        "\n",
        "loss = history.history['loss']\n",
        "val_loss = history.history['val_loss']\n",
        "\n",
        "plt.figure(figsize=(8, 8))\n",
        "plt.subplot(2, 1, 1)\n",
        "plt.plot(acc, label='Training Accuracy')\n",
        "plt.plot(val_acc, label='Validation Accuracy')\n",
        "plt.legend(loc='lower right')\n",
        "plt.ylabel('Accuracy')\n",
        "plt.ylim([min(plt.ylim()),1])\n",
        "plt.title('Training and Validation Accuracy')\n",
        "\n",
        "plt.subplot(2, 1, 2)\n",
        "plt.plot(loss, label='Training Loss')\n",
        "plt.plot(val_loss, label='Validation Loss')\n",
        "plt.legend(loc='upper right')\n",
        "plt.ylabel('Cross Entropy')\n",
        "#plt.ylim([0,1.0])\n",
        "plt.title('Training and Validation Loss')\n",
        "plt.xlabel('epoch')\n",
        "plt.show()"
      ],
      "execution_count": 0,
      "outputs": [
        {
          "output_type": "error",
          "ename": "NameError",
          "evalue": "ignored",
          "traceback": [
            "\u001b[0;31m---------------------------------------------------------------------------\u001b[0m",
            "\u001b[0;31mNameError\u001b[0m                                 Traceback (most recent call last)",
            "\u001b[0;32m<ipython-input-1-027059a7250d>\u001b[0m in \u001b[0;36m<module>\u001b[0;34m()\u001b[0m\n\u001b[0;32m----> 1\u001b[0;31m \u001b[0macc\u001b[0m \u001b[0;34m=\u001b[0m \u001b[0mhistory\u001b[0m\u001b[0;34m.\u001b[0m\u001b[0mhistory\u001b[0m\u001b[0;34m[\u001b[0m\u001b[0;34m'acc'\u001b[0m\u001b[0;34m]\u001b[0m\u001b[0;34m\u001b[0m\u001b[0;34m\u001b[0m\u001b[0m\n\u001b[0m\u001b[1;32m      2\u001b[0m \u001b[0mval_acc\u001b[0m \u001b[0;34m=\u001b[0m \u001b[0mhistory\u001b[0m\u001b[0;34m.\u001b[0m\u001b[0mhistory\u001b[0m\u001b[0;34m[\u001b[0m\u001b[0;34m'val_acc'\u001b[0m\u001b[0;34m]\u001b[0m\u001b[0;34m\u001b[0m\u001b[0;34m\u001b[0m\u001b[0m\n\u001b[1;32m      3\u001b[0m \u001b[0;34m\u001b[0m\u001b[0m\n\u001b[1;32m      4\u001b[0m \u001b[0mloss\u001b[0m \u001b[0;34m=\u001b[0m \u001b[0mhistory\u001b[0m\u001b[0;34m.\u001b[0m\u001b[0mhistory\u001b[0m\u001b[0;34m[\u001b[0m\u001b[0;34m'loss'\u001b[0m\u001b[0;34m]\u001b[0m\u001b[0;34m\u001b[0m\u001b[0;34m\u001b[0m\u001b[0m\n\u001b[1;32m      5\u001b[0m \u001b[0mval_loss\u001b[0m \u001b[0;34m=\u001b[0m \u001b[0mhistory\u001b[0m\u001b[0;34m.\u001b[0m\u001b[0mhistory\u001b[0m\u001b[0;34m[\u001b[0m\u001b[0;34m'val_loss'\u001b[0m\u001b[0;34m]\u001b[0m\u001b[0;34m\u001b[0m\u001b[0;34m\u001b[0m\u001b[0m\n",
            "\u001b[0;31mNameError\u001b[0m: name 'history' is not defined"
          ]
        }
      ]
    },
    {
      "cell_type": "markdown",
      "metadata": {
        "id": "OiqZvgKGWOF6",
        "colab_type": "text"
      },
      "source": [
        "# class to num\n"
      ]
    },
    {
      "cell_type": "code",
      "metadata": {
        "id": "sHsy5Ew1S2Xm",
        "colab_type": "code",
        "outputId": "78d4c739-066d-4c95-d1e3-730605dac4c5",
        "colab": {
          "base_uri": "https://localhost:8080/",
          "height": 139
        }
      },
      "source": [
        "model = tf.keras.models.load_model('/content/drive/My Drive/cifar/model3-50-0.47.hdf5')"
      ],
      "execution_count": 0,
      "outputs": [
        {
          "output_type": "stream",
          "text": [
            "WARNING:tensorflow:From /tensorflow-1.15.0/python3.6/tensorflow_core/python/ops/init_ops.py:97: calling VarianceScaling.__init__ (from tensorflow.python.ops.init_ops) with dtype is deprecated and will be removed in a future version.\n",
            "Instructions for updating:\n",
            "Call initializer instance with the dtype argument instead of passing it to the constructor\n",
            "WARNING:tensorflow:From /tensorflow-1.15.0/python3.6/tensorflow_core/python/ops/init_ops.py:97: calling Zeros.__init__ (from tensorflow.python.ops.init_ops) with dtype is deprecated and will be removed in a future version.\n",
            "Instructions for updating:\n",
            "Call initializer instance with the dtype argument instead of passing it to the constructor\n"
          ],
          "name": "stdout"
        }
      ]
    },
    {
      "cell_type": "code",
      "metadata": {
        "id": "exidS-VeTseq",
        "colab_type": "code",
        "colab": {}
      },
      "source": [
        "\n",
        "model.add(tf.keras.layers.Dense(100, activation='relu'))\n",
        "model.add(tf.keras.layers.Dense(1))"
      ],
      "execution_count": 0,
      "outputs": []
    },
    {
      "cell_type": "code",
      "metadata": {
        "id": "FRMy-m3_ycSs",
        "colab_type": "code",
        "outputId": "ea55ff44-d12a-4c1d-c649-6b8b9553888d",
        "colab": {
          "base_uri": "https://localhost:8080/",
          "height": 34
        }
      },
      "source": [
        "len(model.layers)"
      ],
      "execution_count": 0,
      "outputs": [
        {
          "output_type": "execute_result",
          "data": {
            "text/plain": [
              "14"
            ]
          },
          "metadata": {
            "tags": []
          },
          "execution_count": 16
        }
      ]
    },
    {
      "cell_type": "code",
      "metadata": {
        "id": "cgS8XaK5VVyW",
        "colab_type": "code",
        "outputId": "65d39b13-df0d-44db-9454-dc51782b7145",
        "colab": {
          "base_uri": "https://localhost:8080/",
          "height": 646
        }
      },
      "source": [
        "model.summary()"
      ],
      "execution_count": 0,
      "outputs": [
        {
          "output_type": "stream",
          "text": [
            "Model: \"sequential_4\"\n",
            "_________________________________________________________________\n",
            "Layer (type)                 Output Shape              Param #   \n",
            "=================================================================\n",
            "conv2d_13 (Conv2D)           (None, 32, 32, 32)        896       \n",
            "_________________________________________________________________\n",
            "conv2d_14 (Conv2D)           (None, 32, 32, 32)        9248      \n",
            "_________________________________________________________________\n",
            "dropout_9 (Dropout)          (None, 32, 32, 32)        0         \n",
            "_________________________________________________________________\n",
            "max_pooling2d_7 (MaxPooling2 (None, 16, 16, 32)        0         \n",
            "_________________________________________________________________\n",
            "conv2d_15 (Conv2D)           (None, 16, 16, 128)       36992     \n",
            "_________________________________________________________________\n",
            "conv2d_16 (Conv2D)           (None, 16, 16, 256)       295168    \n",
            "_________________________________________________________________\n",
            "dropout_10 (Dropout)         (None, 16, 16, 256)       0         \n",
            "_________________________________________________________________\n",
            "max_pooling2d_8 (MaxPooling2 (None, 8, 8, 256)         0         \n",
            "_________________________________________________________________\n",
            "flatten_4 (Flatten)          (None, 16384)             0         \n",
            "_________________________________________________________________\n",
            "dense_7 (Dense)              (None, 1024)              16778240  \n",
            "_________________________________________________________________\n",
            "dropout_11 (Dropout)         (None, 1024)              0         \n",
            "_________________________________________________________________\n",
            "dense_8 (Dense)              (None, 100)               102500    \n",
            "_________________________________________________________________\n",
            "dense (Dense)                (None, 100)               10100     \n",
            "_________________________________________________________________\n",
            "dense_1 (Dense)              (None, 1)                 101       \n",
            "=================================================================\n",
            "WARNING:tensorflow:Discrepancy between trainable weights and collected trainable weights, did you set `model.trainable` without calling `model.compile` after ?\n",
            "Total params: 17,223,044\n",
            "Trainable params: 17,223,044\n",
            "Non-trainable params: 0\n",
            "_________________________________________________________________\n"
          ],
          "name": "stdout"
        }
      ]
    },
    {
      "cell_type": "code",
      "metadata": {
        "id": "o6Hd58T7y11j",
        "colab_type": "code",
        "colab": {}
      },
      "source": [
        "fine_tune_at = 12\n",
        "\n",
        "# Freeze all the layers before the `fine_tune_at` layer\n",
        "for layer in model.layers[:fine_tune_at]:\n",
        "  layer.trainable =  False"
      ],
      "execution_count": 0,
      "outputs": []
    },
    {
      "cell_type": "code",
      "metadata": {
        "id": "AT499XF4U7Ix",
        "colab_type": "code",
        "colab": {}
      },
      "source": [
        "training_generator = datagen.flow(data, cony, batch_size=100,subset='training',seed=7)\n",
        "validation_generator = datagen.flow(data, cony, batch_size=100,subset='validation',seed=7)"
      ],
      "execution_count": 0,
      "outputs": []
    },
    {
      "cell_type": "code",
      "metadata": {
        "id": "FSEEZtkRVp_8",
        "colab_type": "code",
        "colab": {}
      },
      "source": [
        "folderpath='/content/drive/My Drive/cifar/'\n",
        "filepath=folderpath+'model3-{epoch:02d}-{val_mean_squared_error:.5f}.hdf5'\n",
        "checkpoint_callback = ModelCheckpoint(\n",
        "    filepath, monitor='val_mean_squared_error', verbose=1,\n",
        "    save_best_only=True, save_weights_only=False)"
      ],
      "execution_count": 0,
      "outputs": []
    },
    {
      "cell_type": "code",
      "metadata": {
        "id": "mZ73vZ8RVvUQ",
        "colab_type": "code",
        "colab": {}
      },
      "source": [
        "model.compile(tf.keras.optimizers.SGD(0.01), loss='mse',metrics=['mae', 'mse'])"
      ],
      "execution_count": 0,
      "outputs": []
    },
    {
      "cell_type": "code",
      "metadata": {
        "id": "TI5s5_zHWjov",
        "colab_type": "code",
        "outputId": "95a1bb55-f843-45e4-b0fb-29f56ef8c279",
        "colab": {
          "base_uri": "https://localhost:8080/",
          "height": 462
        }
      },
      "source": [
        "ini_epochs =0\n",
        "fine_tune_epochs = 5\n",
        "total_epochs = fine_tune_epochs+ini_epochs\n",
        "\n",
        "history = model.fit(training_generator, epochs=total_epochs,initial_epoch = ini_epochs,validation_data=validation_generator,callbacks=[checkpoint_callback])"
      ],
      "execution_count": 0,
      "outputs": [
        {
          "output_type": "stream",
          "text": [
            "Epoch 1/5\n",
            "399/400 [============================>.] - ETA: 0s - loss: 0.0933 - mean_absolute_error: 0.2590 - mean_squared_error: 0.0933Epoch 1/5\n",
            "100/400 [======>.......................] - ETA: 2:15 - loss: 0.0804 - mean_absolute_error: 0.2437 - mean_squared_error: 0.0804\n",
            "Epoch 00001: val_mean_squared_error improved from inf to 0.08041, saving model to /content/drive/My Drive/cifar/model3-01-0.08041.hdf5\n",
            "400/400 [==============================] - 259s 647ms/step - loss: 0.0933 - mean_absolute_error: 0.2590 - mean_squared_error: 0.0933 - val_loss: 0.0804 - val_mean_absolute_error: 0.2437 - val_mean_squared_error: 0.0804\n",
            "Epoch 2/5\n",
            "399/400 [============================>.] - ETA: 0s - loss: 0.0773 - mean_absolute_error: 0.2391 - mean_squared_error: 0.0773Epoch 1/5\n",
            "100/400 [======>.......................] - ETA: 2:14 - loss: 0.0767 - mean_absolute_error: 0.2371 - mean_squared_error: 0.0767\n",
            "Epoch 00002: val_mean_squared_error improved from 0.08041 to 0.07668, saving model to /content/drive/My Drive/cifar/model3-02-0.07668.hdf5\n",
            "400/400 [==============================] - 256s 640ms/step - loss: 0.0773 - mean_absolute_error: 0.2391 - mean_squared_error: 0.0773 - val_loss: 0.0767 - val_mean_absolute_error: 0.2371 - val_mean_squared_error: 0.0767\n",
            "Epoch 3/5\n",
            "399/400 [============================>.] - ETA: 0s - loss: 0.0714 - mean_absolute_error: 0.2290 - mean_squared_error: 0.0714Epoch 1/5\n",
            "100/400 [======>.......................] - ETA: 2:14 - loss: 0.0735 - mean_absolute_error: 0.2318 - mean_squared_error: 0.0735\n",
            "Epoch 00003: val_mean_squared_error improved from 0.07668 to 0.07351, saving model to /content/drive/My Drive/cifar/model3-03-0.07351.hdf5\n",
            "400/400 [==============================] - 256s 641ms/step - loss: 0.0714 - mean_absolute_error: 0.2290 - mean_squared_error: 0.0714 - val_loss: 0.0735 - val_mean_absolute_error: 0.2318 - val_mean_squared_error: 0.0735\n",
            "Epoch 4/5\n",
            "399/400 [============================>.] - ETA: 0s - loss: 0.0666 - mean_absolute_error: 0.2203 - mean_squared_error: 0.0666Epoch 1/5\n",
            "100/400 [======>.......................] - ETA: 2:14 - loss: 0.0712 - mean_absolute_error: 0.2271 - mean_squared_error: 0.0712\n",
            "Epoch 00004: val_mean_squared_error improved from 0.07351 to 0.07125, saving model to /content/drive/My Drive/cifar/model3-04-0.07125.hdf5\n",
            "400/400 [==============================] - 258s 645ms/step - loss: 0.0666 - mean_absolute_error: 0.2203 - mean_squared_error: 0.0666 - val_loss: 0.0712 - val_mean_absolute_error: 0.2271 - val_mean_squared_error: 0.0712\n",
            "Epoch 5/5\n",
            "399/400 [============================>.] - ETA: 0s - loss: 0.0621 - mean_absolute_error: 0.2114 - mean_squared_error: 0.0621Epoch 1/5\n",
            "100/400 [======>.......................] - ETA: 2:14 - loss: 0.0688 - mean_absolute_error: 0.2223 - mean_squared_error: 0.0688\n",
            "Epoch 00005: val_mean_squared_error improved from 0.07125 to 0.06876, saving model to /content/drive/My Drive/cifar/model3-05-0.06876.hdf5\n",
            "400/400 [==============================] - 255s 637ms/step - loss: 0.0621 - mean_absolute_error: 0.2114 - mean_squared_error: 0.0621 - val_loss: 0.0688 - val_mean_absolute_error: 0.2223 - val_mean_squared_error: 0.0688\n"
          ],
          "name": "stdout"
        }
      ]
    },
    {
      "cell_type": "code",
      "metadata": {
        "id": "6M5JBUDFKkAj",
        "colab_type": "code",
        "outputId": "e9b423c8-131b-442f-963c-a5e4e9af0fac",
        "colab": {
          "base_uri": "https://localhost:8080/",
          "height": 88
        }
      },
      "source": [
        "model = tf.keras.models.load_model('/content/drive/My Drive/cifar/model3-05-0.06876.hdf5')"
      ],
      "execution_count": 0,
      "outputs": [
        {
          "output_type": "stream",
          "text": [
            "WARNING:tensorflow:From /tensorflow-1.15.0/python3.6/tensorflow_core/python/ops/init_ops.py:97: calling GlorotUniform.__init__ (from tensorflow.python.ops.init_ops) with dtype is deprecated and will be removed in a future version.\n",
            "Instructions for updating:\n",
            "Call initializer instance with the dtype argument instead of passing it to the constructor\n"
          ],
          "name": "stdout"
        }
      ]
    },
    {
      "cell_type": "code",
      "metadata": {
        "colab_type": "code",
        "id": "En0B_-9UK7vG",
        "colab": {}
      },
      "source": [
        "fine_tune_at = 12\n",
        "\n",
        "# Freeze all the layers before the `fine_tune_at` layer\n",
        "for layer in model.layers[:fine_tune_at]:\n",
        "  layer.trainable =  True"
      ],
      "execution_count": 0,
      "outputs": []
    },
    {
      "cell_type": "code",
      "metadata": {
        "id": "SiaFf_TQLXUI",
        "colab_type": "code",
        "colab": {}
      },
      "source": [
        "model.compile(tf.keras.optimizers.SGD(0.01), loss='mse',metrics=['mae', 'mse'])"
      ],
      "execution_count": 0,
      "outputs": []
    },
    {
      "cell_type": "code",
      "metadata": {
        "id": "q0iL_caUGs1F",
        "colab_type": "code",
        "outputId": "ef883ec9-c0ff-44fc-ce5d-e8cf7da97f73",
        "colab": {
          "base_uri": "https://localhost:8080/",
          "height": 1000
        }
      },
      "source": [
        "ini_epochs =5\n",
        "fine_tune_epochs = 20\n",
        "total_epochs = fine_tune_epochs+ini_epochs\n",
        "\n",
        "history = model.fit(training_generator, epochs=total_epochs,initial_epoch = ini_epochs,validation_data=validation_generator,callbacks=[checkpoint_callback])"
      ],
      "execution_count": 0,
      "outputs": [
        {
          "output_type": "stream",
          "text": [
            "Epoch 6/25\n",
            "399/400 [============================>.] - ETA: 1s - loss: 0.0580 - mean_absolute_error: 0.2028 - mean_squared_error: 0.0580Epoch 1/25\n",
            "100/400 [======>.......................] - ETA: 2:13 - loss: 0.0666 - mean_absolute_error: 0.2172 - mean_squared_error: 0.0666\n",
            "Epoch 00006: val_mean_squared_error improved from 0.06876 to 0.06664, saving model to /content/drive/My Drive/cifar/model3-06-0.06664.hdf5\n",
            "400/400 [==============================] - 687s 2s/step - loss: 0.0580 - mean_absolute_error: 0.2027 - mean_squared_error: 0.0580 - val_loss: 0.0666 - val_mean_absolute_error: 0.2172 - val_mean_squared_error: 0.0666\n",
            "Epoch 7/25\n",
            "399/400 [============================>.] - ETA: 1s - loss: 0.0541 - mean_absolute_error: 0.1936 - mean_squared_error: 0.0541Epoch 1/25\n",
            "100/400 [======>.......................] - ETA: 2:13 - loss: 0.0643 - mean_absolute_error: 0.2116 - mean_squared_error: 0.0643\n",
            "Epoch 00007: val_mean_squared_error improved from 0.06664 to 0.06431, saving model to /content/drive/My Drive/cifar/model3-07-0.06431.hdf5\n",
            "400/400 [==============================] - 687s 2s/step - loss: 0.0541 - mean_absolute_error: 0.1936 - mean_squared_error: 0.0541 - val_loss: 0.0643 - val_mean_absolute_error: 0.2116 - val_mean_squared_error: 0.0643\n",
            "Epoch 8/25\n",
            "399/400 [============================>.] - ETA: 1s - loss: 0.0508 - mean_absolute_error: 0.1854 - mean_squared_error: 0.0508Epoch 1/25\n",
            "100/400 [======>.......................] - ETA: 2:13 - loss: 0.0626 - mean_absolute_error: 0.2073 - mean_squared_error: 0.0626\n",
            "Epoch 00008: val_mean_squared_error improved from 0.06431 to 0.06255, saving model to /content/drive/My Drive/cifar/model3-08-0.06255.hdf5\n",
            "400/400 [==============================] - 688s 2s/step - loss: 0.0508 - mean_absolute_error: 0.1854 - mean_squared_error: 0.0508 - val_loss: 0.0626 - val_mean_absolute_error: 0.2073 - val_mean_squared_error: 0.0626\n",
            "Epoch 9/25\n",
            "399/400 [============================>.] - ETA: 1s - loss: 0.0478 - mean_absolute_error: 0.1775 - mean_squared_error: 0.0478Epoch 1/25\n",
            "100/400 [======>.......................] - ETA: 2:13 - loss: 0.0616 - mean_absolute_error: 0.2032 - mean_squared_error: 0.0616\n",
            "Epoch 00009: val_mean_squared_error improved from 0.06255 to 0.06164, saving model to /content/drive/My Drive/cifar/model3-09-0.06164.hdf5\n",
            "400/400 [==============================] - 689s 2s/step - loss: 0.0478 - mean_absolute_error: 0.1776 - mean_squared_error: 0.0478 - val_loss: 0.0616 - val_mean_absolute_error: 0.2032 - val_mean_squared_error: 0.0616\n",
            "Epoch 10/25\n",
            "399/400 [============================>.] - ETA: 1s - loss: 0.0455 - mean_absolute_error: 0.1701 - mean_squared_error: 0.0455Epoch 1/25\n",
            "100/400 [======>.......................] - ETA: 2:14 - loss: 0.0603 - mean_absolute_error: 0.1990 - mean_squared_error: 0.0603\n",
            "Epoch 00010: val_mean_squared_error improved from 0.06164 to 0.06032, saving model to /content/drive/My Drive/cifar/model3-10-0.06032.hdf5\n",
            "400/400 [==============================] - 692s 2s/step - loss: 0.0455 - mean_absolute_error: 0.1701 - mean_squared_error: 0.0455 - val_loss: 0.0603 - val_mean_absolute_error: 0.1990 - val_mean_squared_error: 0.0603\n",
            "Epoch 11/25\n",
            "399/400 [============================>.] - ETA: 1s - loss: 0.0440 - mean_absolute_error: 0.1639 - mean_squared_error: 0.0440Epoch 1/25\n",
            "100/400 [======>.......................] - ETA: 2:13 - loss: 0.0590 - mean_absolute_error: 0.1951 - mean_squared_error: 0.0590\n",
            "Epoch 00011: val_mean_squared_error improved from 0.06032 to 0.05900, saving model to /content/drive/My Drive/cifar/model3-11-0.05900.hdf5\n",
            "400/400 [==============================] - 691s 2s/step - loss: 0.0440 - mean_absolute_error: 0.1640 - mean_squared_error: 0.0440 - val_loss: 0.0590 - val_mean_absolute_error: 0.1951 - val_mean_squared_error: 0.0590\n",
            "Epoch 12/25\n",
            "399/400 [============================>.] - ETA: 1s - loss: 0.0428 - mean_absolute_error: 0.1586 - mean_squared_error: 0.0428Epoch 1/25\n",
            "100/400 [======>.......................] - ETA: 2:14 - loss: 0.0582 - mean_absolute_error: 0.1921 - mean_squared_error: 0.0582\n",
            "Epoch 00012: val_mean_squared_error improved from 0.05900 to 0.05815, saving model to /content/drive/My Drive/cifar/model3-12-0.05815.hdf5\n",
            "400/400 [==============================] - 690s 2s/step - loss: 0.0428 - mean_absolute_error: 0.1586 - mean_squared_error: 0.0428 - val_loss: 0.0582 - val_mean_absolute_error: 0.1921 - val_mean_squared_error: 0.0582\n",
            "Epoch 13/25\n",
            "399/400 [============================>.] - ETA: 1s - loss: 0.0414 - mean_absolute_error: 0.1535 - mean_squared_error: 0.0414Epoch 1/25\n",
            "100/400 [======>.......................] - ETA: 2:14 - loss: 0.0588 - mean_absolute_error: 0.1912 - mean_squared_error: 0.0588\n",
            "Epoch 00013: val_mean_squared_error did not improve from 0.05815\n",
            "400/400 [==============================] - 693s 2s/step - loss: 0.0414 - mean_absolute_error: 0.1534 - mean_squared_error: 0.0414 - val_loss: 0.0588 - val_mean_absolute_error: 0.1912 - val_mean_squared_error: 0.0588\n",
            "Epoch 14/25\n",
            "399/400 [============================>.] - ETA: 1s - loss: 0.0402 - mean_absolute_error: 0.1486 - mean_squared_error: 0.0402Epoch 1/25\n",
            "100/400 [======>.......................] - ETA: 2:14 - loss: 0.0583 - mean_absolute_error: 0.1889 - mean_squared_error: 0.0583\n",
            "Epoch 00014: val_mean_squared_error did not improve from 0.05815\n",
            "400/400 [==============================] - 691s 2s/step - loss: 0.0402 - mean_absolute_error: 0.1486 - mean_squared_error: 0.0402 - val_loss: 0.0583 - val_mean_absolute_error: 0.1889 - val_mean_squared_error: 0.0583\n",
            "Epoch 15/25\n",
            "399/400 [============================>.] - ETA: 1s - loss: 0.0395 - mean_absolute_error: 0.1449 - mean_squared_error: 0.0395Epoch 1/25\n",
            "100/400 [======>.......................] - ETA: 2:14 - loss: 0.0588 - mean_absolute_error: 0.1887 - mean_squared_error: 0.0588\n",
            "Epoch 00015: val_mean_squared_error did not improve from 0.05815\n",
            "400/400 [==============================] - 687s 2s/step - loss: 0.0395 - mean_absolute_error: 0.1449 - mean_squared_error: 0.0395 - val_loss: 0.0588 - val_mean_absolute_error: 0.1887 - val_mean_squared_error: 0.0588\n",
            "Epoch 16/25\n",
            "399/400 [============================>.] - ETA: 1s - loss: 0.0393 - mean_absolute_error: 0.1422 - mean_squared_error: 0.0393Epoch 1/25\n",
            "100/400 [======>.......................] - ETA: 2:13 - loss: 0.0571 - mean_absolute_error: 0.1851 - mean_squared_error: 0.0571\n",
            "Epoch 00016: val_mean_squared_error improved from 0.05815 to 0.05711, saving model to /content/drive/My Drive/cifar/model3-16-0.05711.hdf5\n",
            "400/400 [==============================] - 686s 2s/step - loss: 0.0393 - mean_absolute_error: 0.1421 - mean_squared_error: 0.0393 - val_loss: 0.0571 - val_mean_absolute_error: 0.1851 - val_mean_squared_error: 0.0571\n",
            "Epoch 17/25\n",
            "399/400 [============================>.] - ETA: 1s - loss: 0.0389 - mean_absolute_error: 0.1392 - mean_squared_error: 0.0389Epoch 1/25\n",
            "100/400 [======>.......................] - ETA: 2:14 - loss: 0.0578 - mean_absolute_error: 0.1840 - mean_squared_error: 0.0578\n",
            "Epoch 00017: val_mean_squared_error did not improve from 0.05711\n",
            "400/400 [==============================] - 687s 2s/step - loss: 0.0389 - mean_absolute_error: 0.1392 - mean_squared_error: 0.0389 - val_loss: 0.0578 - val_mean_absolute_error: 0.1840 - val_mean_squared_error: 0.0578\n",
            "Epoch 18/25\n",
            "399/400 [============================>.] - ETA: 1s - loss: 0.0388 - mean_absolute_error: 0.1376 - mean_squared_error: 0.0388Epoch 1/25\n",
            "100/400 [======>.......................] - ETA: 2:14 - loss: 0.0573 - mean_absolute_error: 0.1832 - mean_squared_error: 0.0573\n",
            "Epoch 00018: val_mean_squared_error did not improve from 0.05711\n",
            "400/400 [==============================] - 687s 2s/step - loss: 0.0388 - mean_absolute_error: 0.1375 - mean_squared_error: 0.0388 - val_loss: 0.0573 - val_mean_absolute_error: 0.1832 - val_mean_squared_error: 0.0573\n",
            "Epoch 19/25\n",
            "399/400 [============================>.] - ETA: 1s - loss: 0.0386 - mean_absolute_error: 0.1356 - mean_squared_error: 0.0386Epoch 1/25\n",
            "100/400 [======>.......................] - ETA: 2:15 - loss: 0.0583 - mean_absolute_error: 0.1840 - mean_squared_error: 0.0583\n",
            "Epoch 00019: val_mean_squared_error did not improve from 0.05711\n",
            "400/400 [==============================] - 690s 2s/step - loss: 0.0386 - mean_absolute_error: 0.1356 - mean_squared_error: 0.0386 - val_loss: 0.0583 - val_mean_absolute_error: 0.1840 - val_mean_squared_error: 0.0583\n",
            "Epoch 20/25\n",
            "399/400 [============================>.] - ETA: 1s - loss: 0.0383 - mean_absolute_error: 0.1343 - mean_squared_error: 0.0383Epoch 1/25\n",
            "100/400 [======>.......................] - ETA: 2:14 - loss: 0.0580 - mean_absolute_error: 0.1829 - mean_squared_error: 0.0580\n",
            "Epoch 00020: val_mean_squared_error did not improve from 0.05711\n",
            "400/400 [==============================] - 688s 2s/step - loss: 0.0383 - mean_absolute_error: 0.1343 - mean_squared_error: 0.0383 - val_loss: 0.0580 - val_mean_absolute_error: 0.1829 - val_mean_squared_error: 0.0580\n",
            "Epoch 21/25\n",
            "399/400 [============================>.] - ETA: 1s - loss: 0.0377 - mean_absolute_error: 0.1319 - mean_squared_error: 0.0377Epoch 1/25\n",
            "100/400 [======>.......................] - ETA: 2:15 - loss: 0.0578 - mean_absolute_error: 0.1814 - mean_squared_error: 0.0578\n",
            "Epoch 00021: val_mean_squared_error did not improve from 0.05711\n",
            "400/400 [==============================] - 688s 2s/step - loss: 0.0377 - mean_absolute_error: 0.1319 - mean_squared_error: 0.0377 - val_loss: 0.0578 - val_mean_absolute_error: 0.1814 - val_mean_squared_error: 0.0578\n",
            "Epoch 22/25\n",
            "399/400 [============================>.] - ETA: 1s - loss: 0.0378 - mean_absolute_error: 0.1315 - mean_squared_error: 0.0378Epoch 1/25\n",
            "100/400 [======>.......................] - ETA: 2:14 - loss: 0.0572 - mean_absolute_error: 0.1801 - mean_squared_error: 0.0572\n",
            "Epoch 00022: val_mean_squared_error did not improve from 0.05711\n",
            "400/400 [==============================] - 685s 2s/step - loss: 0.0378 - mean_absolute_error: 0.1314 - mean_squared_error: 0.0378 - val_loss: 0.0572 - val_mean_absolute_error: 0.1801 - val_mean_squared_error: 0.0572\n",
            "Epoch 23/25\n",
            "399/400 [============================>.] - ETA: 1s - loss: 0.0373 - mean_absolute_error: 0.1292 - mean_squared_error: 0.0373Epoch 1/25\n",
            "100/400 [======>.......................] - ETA: 2:14 - loss: 0.0580 - mean_absolute_error: 0.1818 - mean_squared_error: 0.0580\n",
            "Epoch 00023: val_mean_squared_error did not improve from 0.05711\n",
            "400/400 [==============================] - 685s 2s/step - loss: 0.0373 - mean_absolute_error: 0.1292 - mean_squared_error: 0.0373 - val_loss: 0.0580 - val_mean_absolute_error: 0.1818 - val_mean_squared_error: 0.0580\n",
            "Epoch 24/25\n",
            "399/400 [============================>.] - ETA: 1s - loss: 0.0378 - mean_absolute_error: 0.1294 - mean_squared_error: 0.0378Epoch 1/25\n",
            "100/400 [======>.......................] - ETA: 2:15 - loss: 0.0572 - mean_absolute_error: 0.1800 - mean_squared_error: 0.0572\n",
            "Epoch 00024: val_mean_squared_error did not improve from 0.05711\n",
            "400/400 [==============================] - 685s 2s/step - loss: 0.0377 - mean_absolute_error: 0.1293 - mean_squared_error: 0.0377 - val_loss: 0.0572 - val_mean_absolute_error: 0.1800 - val_mean_squared_error: 0.0572\n",
            "Epoch 25/25\n",
            "399/400 [============================>.] - ETA: 1s - loss: 0.0374 - mean_absolute_error: 0.1285 - mean_squared_error: 0.0374Epoch 1/25\n",
            "100/400 [======>.......................] - ETA: 2:15 - loss: 0.0570 - mean_absolute_error: 0.1794 - mean_squared_error: 0.0570\n",
            "Epoch 00025: val_mean_squared_error improved from 0.05711 to 0.05698, saving model to /content/drive/My Drive/cifar/model3-25-0.05698.hdf5\n",
            "400/400 [==============================] - 687s 2s/step - loss: 0.0374 - mean_absolute_error: 0.1285 - mean_squared_error: 0.0374 - val_loss: 0.0570 - val_mean_absolute_error: 0.1794 - val_mean_squared_error: 0.0570\n"
          ],
          "name": "stdout"
        }
      ]
    },
    {
      "cell_type": "markdown",
      "metadata": {
        "id": "3saRoPgRWFwa",
        "colab_type": "text"
      },
      "source": [
        "# get prediction"
      ]
    },
    {
      "cell_type": "code",
      "metadata": {
        "id": "Yb0f3K6glzVR",
        "colab_type": "code",
        "colab": {}
      },
      "source": [
        "model = tf.keras.models.load_model('/content/drive/My Drive/cifar/model3-25-0.05698.hdf5')"
      ],
      "execution_count": 0,
      "outputs": []
    },
    {
      "cell_type": "code",
      "metadata": {
        "colab_type": "code",
        "outputId": "d9291630-8c49-4302-cb17-e7c0a7ca0245",
        "id": "MACwlVTkOpEJ",
        "colab": {
          "base_uri": "https://localhost:8080/",
          "height": 34
        }
      },
      "source": [
        "test = pd.read_csv(\"/content/drive/My Drive/CIFAR_test_images.csv\").values[:,1:]\n",
        "test=np.reshape(test,(-1,3,32,32)).transpose(0,2,3,1)\n",
        "test=test/255.0\n",
        "test.shape"
      ],
      "execution_count": 0,
      "outputs": [
        {
          "output_type": "execute_result",
          "data": {
            "text/plain": [
              "(10000, 32, 32, 3)"
            ]
          },
          "metadata": {
            "tags": []
          },
          "execution_count": 31
        }
      ]
    },
    {
      "cell_type": "code",
      "metadata": {
        "id": "fVPPPHUiavdL",
        "colab_type": "code",
        "colab": {}
      },
      "source": [
        "p=model.predict(test)"
      ],
      "execution_count": 0,
      "outputs": []
    },
    {
      "cell_type": "code",
      "metadata": {
        "id": "-kR4MKVPnF4p",
        "colab_type": "code",
        "outputId": "a8cf9244-1302-4081-8d08-f867c087a65b",
        "colab": {
          "base_uri": "https://localhost:8080/",
          "height": 136
        }
      },
      "source": [
        "p"
      ],
      "execution_count": 0,
      "outputs": [
        {
          "output_type": "execute_result",
          "data": {
            "text/plain": [
              "array([[0.53519857],\n",
              "       [0.5681497 ],\n",
              "       [0.31075692],\n",
              "       ...,\n",
              "       [0.51852393],\n",
              "       [0.53088236],\n",
              "       [0.6757841 ]], dtype=float32)"
            ]
          },
          "metadata": {
            "tags": []
          },
          "execution_count": 33
        }
      ]
    },
    {
      "cell_type": "code",
      "metadata": {
        "id": "Z-CGOzA3nBnp",
        "colab_type": "code",
        "colab": {}
      },
      "source": [
        "y=np.round(p*100).flatten().astype(int)"
      ],
      "execution_count": 0,
      "outputs": []
    },
    {
      "cell_type": "code",
      "metadata": {
        "id": "LuYLyD44nTCo",
        "colab_type": "code",
        "outputId": "c5e97cba-5c62-4e90-dbab-f548b686c58c",
        "colab": {
          "base_uri": "https://localhost:8080/",
          "height": 34
        }
      },
      "source": [
        "y"
      ],
      "execution_count": 0,
      "outputs": [
        {
          "output_type": "execute_result",
          "data": {
            "text/plain": [
              "array([54, 57, 31, ..., 52, 53, 68])"
            ]
          },
          "metadata": {
            "tags": []
          },
          "execution_count": 35
        }
      ]
    },
    {
      "cell_type": "code",
      "metadata": {
        "id": "dzNJfJAta5KX",
        "colab_type": "code",
        "colab": {}
      },
      "source": [
        "import csv\n",
        "with open('/content/drive/My Drive/cifar/model3-25-0.05698.csv', 'w', newline='') as file:\n",
        "    writer = csv.writer(file)\n",
        "    writer.writerow([\"index\", \"answer\"])\n",
        "    for i in range(10000):\n",
        "        writer.writerow([i, y[i]])"
      ],
      "execution_count": 0,
      "outputs": []
    }
  ]
}